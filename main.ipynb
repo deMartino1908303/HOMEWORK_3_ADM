{
 "cells": [
  {
   "cell_type": "code",
   "execution_count": 1,
   "id": "initial_id",
   "metadata": {
    "collapsed": true
   },
   "outputs": [],
   "source": [
    "# setting up the workplace\n",
    "import pandas as pd\n",
    "from bs4 import BeautifulSoup\n",
    "import re\n",
    "import nltk\n",
    "from nltk.stem import PorterStemmer\n",
    "from nltk.corpus import stopwords\n",
    "from functions import description_cleaner, vocabulary_creator, reverse_index_creator, querry_reciver\n",
    "# nltk.download('stopwords')\n",
    "\n",
    "restaurants_df = pd.read_csv(\"restaurants_i.tsv\", sep=\"\\t\", header = 0)"
   ]
  },
  {
   "cell_type": "code",
   "execution_count": 2,
   "id": "516daa23",
   "metadata": {},
   "outputs": [],
   "source": [
    "# Main preprocessing\n",
    "\n",
    "restournats_descriptions = restaurants_df.description\n",
    "\n",
    "parsed_descriptions = description_cleaner(restournats_descriptions)\n",
    "\n",
    "ID_descritpion, vocabulary, tot_n_of_words = vocabulary_creator(parsed_descriptions)\n",
    "\n",
    "reverse_index = reverse_index_creator(ID_descritpion)\n",
    "\n",
    "pd.Series(vocabulary).to_csv(\"vocabulary.csv\", index=True, encoding=\"utf-8\", header= False)\n",
    "\n"
   ]
  },
  {
   "cell_type": "code",
   "execution_count": 3,
   "id": "dea40826",
   "metadata": {},
   "outputs": [
    {
     "name": "stdout",
     "output_type": "stream",
     "text": [
      "We found 41 matches!\n",
      "\n",
      "╭─────────────────────────┬───────────────────────────┬─────────────────────────────────────────────────────────────────────────────────────────────────────────────────────────────────────────────────────────────────────────────────────────────────────────────────────────────────────────────────────────────────────────────────────────────────────────────────────────────────────────────────────────────────────────────────────────────────────────────────────────────────────────────────────────────────────────────────────────────────────────────────────────────────────────────────────────────────────────────────────────────────────────────────────────────────────────────────────────────────────────────────────────────────────────────────────────────────────────────────────────────────────────────────────────────────────────────────────────────────────────────────────────────────────────────────────────────────────────────────────────────────────────────────────────────────────────────────────────────────────────────────────┬────────────────────────────────────────────────╮\n",
      "│ Restaurant Name         │ Address                   │ Description                                                                                                                                                                                                                                                                                                                                                                                                                                                                                                                                                                                                                                                                                                                                                                                                                                                                                                                                                                                                         │ Website                                        │\n",
      "├─────────────────────────┼───────────────────────────┼─────────────────────────────────────────────────────────────────────────────────────────────────────────────────────────────────────────────────────────────────────────────────────────────────────────────────────────────────────────────────────────────────────────────────────────────────────────────────────────────────────────────────────────────────────────────────────────────────────────────────────────────────────────────────────────────────────────────────────────────────────────────────────────────────────────────────────────────────────────────────────────────────────────────────────────────────────────────────────────────────────────────────────────────────────────────────────────────────────────────────────────────────────────────────────────────────────────────────────────────────────────────────────────────────────────────────────────────────────────────────────────────────────────────────────────────────────────────────────────────────────────────────────┼────────────────────────────────────────────────┤\n",
      "│ Casin del Gamba         │ via Roccolo Pizzati 1     │ The journey to get here – a winding road through woods and hills – may be challenging at times but the warm welcome offered by the whole family Dal Lago at this delightful restaurant makes you feel completely at home and more than compensates for the effort. Owner-chef Antonio shares the honours and duties of his role with long-established sous-chef Biolo. Together, they prepare cuisine that is perfectly balanced between classic flavours and modern trends, using local ingredients that respect the passing seasons. Game features on the menu in winter, while dishes are often seasoned with wild aromatic herbs (for example, the local snails served with thyme and onion bread). For her part, Signora Daria determinedly takes on two roles: she not only prepares the desserts, but also skilfully supervises front of house, ably assisted by son Luca who is happy to advise guests on their choice of wine. The well-structured wine list also includes a good number of organic wines. │ https://www.casindelgamba.it/                  │\n",
      "├─────────────────────────┼───────────────────────────┼─────────────────────────────────────────────────────────────────────────────────────────────────────────────────────────────────────────────────────────────────────────────────────────────────────────────────────────────────────────────────────────────────────────────────────────────────────────────────────────────────────────────────────────────────────────────────────────────────────────────────────────────────────────────────────────────────────────────────────────────────────────────────────────────────────────────────────────────────────────────────────────────────────────────────────────────────────────────────────────────────────────────────────────────────────────────────────────────────────────────────────────────────────────────────────────────────────────────────────────────────────────────────────────────────────────────────────────────────────────────────────────────────────────────────────────────────────────────────────────────────────────────────────┼────────────────────────────────────────────────┤\n",
      "│ San Giorgio             │ viale Brigate Bisagno 69r │ Situated in the city albeit not right in the centre, San Giorgio is a typical Genovese restaurant – elegant and classic in style, with excellent cuisine served by the Scala family who have been in charge for decades. Young chef Samuele Di Mauro is at the helm, having started here as an apprentice and worked his way to the position of sous-chef and then head chef in 2022. Despite a focus on modern presentation and techniques, as demonstrated in dishes such as the raw bluefin tuna seasoned with an intense verbena mousse and served with caper cream and a “caviar” of dried and fried tuna, his cuisine is Mediterranean in style, with its roots in Ligurian aromas and flavours. The wine list is as impressive as the cuisine, with an entire section dedicated to French and Italian sparkling wines.                                                                                                                                                                                       │ https://www.ristorantesangiorgiogenova.it/     │\n",
      "├─────────────────────────┼───────────────────────────┼─────────────────────────────────────────────────────────────────────────────────────────────────────────────────────────────────────────────────────────────────────────────────────────────────────────────────────────────────────────────────────────────────────────────────────────────────────────────────────────────────────────────────────────────────────────────────────────────────────────────────────────────────────────────────────────────────────────────────────────────────────────────────────────────────────────────────────────────────────────────────────────────────────────────────────────────────────────────────────────────────────────────────────────────────────────────────────────────────────────────────────────────────────────────────────────────────────────────────────────────────────────────────────────────────────────────────────────────────────────────────────────────────────────────────────────────────────────────────────────────────────────────────────┼────────────────────────────────────────────────┤\n",
      "│ Saporium                │ località Palazzetto 110   │ Saporium is the new fine-dining restaurant at the superb Relais Borgo Santo Pietro, an old property where the internal decor demonstrates a rare elegance, especially in the evening when hundreds of candles provide soft lighting and a romantic ambience in the dining room. In fine weather, meals are served under an elegant 13C portico overlooking the garden, with the property’s 100ha grounds and the Valle Serena as a backdrop. Much of the produce used in the cuisine designed by executive chef Hagen and transformed by resident chef Luca Ottogalli into modern, delicate dishes comes from the hotel’s own olive groves, vineyards, orchards and vegetable gardens. The focus here is on seasonal ingredients from this extraordinary region, such as the Borgo’s walnuts which are used in some of the delicious desserts. A whole host of wine-pairing options are possible thanks to the 1 000 different labels on the wine list.                                                             │ http://www.saporium.com/it/borgo-santo.pietro/ │\n",
      "├─────────────────────────┼───────────────────────────┼─────────────────────────────────────────────────────────────────────────────────────────────────────────────────────────────────────────────────────────────────────────────────────────────────────────────────────────────────────────────────────────────────────────────────────────────────────────────────────────────────────────────────────────────────────────────────────────────────────────────────────────────────────────────────────────────────────────────────────────────────────────────────────────────────────────────────────────────────────────────────────────────────────────────────────────────────────────────────────────────────────────────────────────────────────────────────────────────────────────────────────────────────────────────────────────────────────────────────────────────────────────────────────────────────────────────────────────────────────────────────────────────────────────────────────────────────────────────────────────────────────────────────────┼────────────────────────────────────────────────┤\n",
      "│ Le Vie del Borgo        │ via alla Piazza 6         │ Le Vie del Borgo is situated in a restored rustic building situated in the historic centre of the picturesque village of Toceno in the Val Vigezzo. Here, a young couple with a real passion for cuisine serve recipes from the region and elsewhere, as well as dishes that demonstrate remarkable modern techniques, all made from top-quality seasonal ingredients and accompanied by an interesting selection of wines. The restaurant consists of several intimate dining rooms decorated in Alpine style, with an elegant feel and carefully chosen furnishings. The attractive outdoor space with just a few tables is popular in summer, so advance booking is recommended!                                                                                                                                                                                                                                                                                                                                 │ https://www.leviedelborgoguesthouse.it/        │\n",
      "├─────────────────────────┼───────────────────────────┼─────────────────────────────────────────────────────────────────────────────────────────────────────────────────────────────────────────────────────────────────────────────────────────────────────────────────────────────────────────────────────────────────────────────────────────────────────────────────────────────────────────────────────────────────────────────────────────────────────────────────────────────────────────────────────────────────────────────────────────────────────────────────────────────────────────────────────────────────────────────────────────────────────────────────────────────────────────────────────────────────────────────────────────────────────────────────────────────────────────────────────────────────────────────────────────────────────────────────────────────────────────────────────────────────────────────────────────────────────────────────────────────────────────────────────────────────────────────────────────────────────────────────────┼────────────────────────────────────────────────┤\n",
      "│ Osteria del Miglio 2.10 │ via Patrioti 2            │ Although the town may not be of major importance, the cuisine served at this modern restaurant (with a convenient car park) certainly is! Focusing on traditional local recipes and using seasonal ingredients, the carefully prepared dishes are both generous and full of flavour. Fair prices complete the picture and make this a restaurant a must.                                                                                                                                                                                                                                                                                                                                                                                                                                                                                                                                                                                                                                                            │ nan                                            │\n",
      "╰─────────────────────────┴───────────────────────────┴─────────────────────────────────────────────────────────────────────────────────────────────────────────────────────────────────────────────────────────────────────────────────────────────────────────────────────────────────────────────────────────────────────────────────────────────────────────────────────────────────────────────────────────────────────────────────────────────────────────────────────────────────────────────────────────────────────────────────────────────────────────────────────────────────────────────────────────────────────────────────────────────────────────────────────────────────────────────────────────────────────────────────────────────────────────────────────────────────────────────────────────────────────────────────────────────────────────────────────────────────────────────────────────────────────────────────────────────────────────────────────────────────────────────────────────────────────────────────────────────────────────────────────┴────────────────────────────────────────────────╯\n"
     ]
    }
   ],
   "source": [
    "# NON ranked serch engine\n",
    "done = False\n",
    "sample_input = \"modern seasonal cuisine\"\n",
    "while (not done):\n",
    "    # custom_input = input(\"what do you want to eat?\\n\")\n",
    "    done = querry_reciver(sample_input, restaurants_df, vocabulary, reverse_index)\n",
    "\n",
    "    "
   ]
  }
 ],
 "metadata": {
  "kernelspec": {
   "display_name": "base",
   "language": "python",
   "name": "python3"
  },
  "language_info": {
   "codemirror_mode": {
    "name": "ipython",
    "version": 3
   },
   "file_extension": ".py",
   "mimetype": "text/x-python",
   "name": "python",
   "nbconvert_exporter": "python",
   "pygments_lexer": "ipython3",
   "version": "3.12.2"
  }
 },
 "nbformat": 4,
 "nbformat_minor": 5
}
