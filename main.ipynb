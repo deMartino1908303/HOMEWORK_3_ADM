{
 "cells": [
  {
   "cell_type": "code",
   "execution_count": 1,
   "id": "initial_id",
   "metadata": {
    "collapsed": true
   },
   "outputs": [],
   "source": [
    "# Setting up the workplace\n",
    "import pandas as pd\n",
    "\n",
    "# Importing functions with updated names\n",
    "from functions import (\n",
    "    description_cleaner, \n",
    "    vocabulary_creator, \n",
    "    reverse_index_creator, \n",
    "    compute_TF, \n",
    "    compute_IDF, \n",
    "    compute_TF_IDF,\n",
    "    drop_down_menu,\n",
    "    extract_facilities\n",
    ")\n",
    "# Importing engines\n",
    "from engine import non_ranked_engine, ranked_engine, upgraded_ranked_engine\n",
    "from jupyter_ui_poll import ui_events\n",
    "import time\n",
    "restaurants_df = pd.read_csv(\"restaurants_i.tsv\", sep=\"\\t\", header = 0)"
   ]
  },
  {
   "cell_type": "markdown",
   "id": "e99a8d15",
   "metadata": {},
   "source": [
    "### ***Main preprocessing***"
   ]
  },
  {
   "cell_type": "code",
   "execution_count": 2,
   "id": "516daa23",
   "metadata": {},
   "outputs": [],
   "source": [
    "# Extract the 'description' column from the DataFrame, which contains restaurant descriptions\n",
    "restournats_descriptions = [description for description in restaurants_df.description]\n",
    "\n",
    "# Clean and preprocess the restaurant descriptions using the custom description_cleaner function\n",
    "parsed_descriptions = description_cleaner(restournats_descriptions)\n",
    "\n",
    "# Create a vocabulary and convert descriptions into numerical IDs using the vocabulary_creator function\n",
    "# The function returns a list of IDs for each description and a vocabulary dictionary\n",
    "ID_descritpion, vocabulary = vocabulary_creator(parsed_descriptions)\n",
    "\n",
    "# Create a reverse index from the numerical IDs of words to document IDs using reverse_index_creator\n",
    "reverse_index = reverse_index_creator(ID_descritpion)\n",
    "\n",
    "# Save the vocabulary (word-to-ID mapping) to a CSV file for future use\n",
    "pd.Series(vocabulary).to_csv(\"vocabulary.csv\", index=True, encoding=\"utf-8\", header=False)\n"
   ]
  },
  {
   "cell_type": "markdown",
   "id": "458b2fbf",
   "metadata": {},
   "source": [
    "### ***Not ranked serch engine***"
   ]
  },
  {
   "cell_type": "code",
   "execution_count": 3,
   "id": "dea40826",
   "metadata": {},
   "outputs": [
    {
     "name": "stdout",
     "output_type": "stream",
     "text": [
      "We found 41 matches!\n",
      "\n",
      "╭─────────────────────────┬─────────────────────────┬───────────────────────────┬───────────────────────────╮\n",
      "│ Restaurant Name         │ Address                 │ Description               │ Website                   │\n",
      "├─────────────────────────┼─────────────────────────┼───────────────────────────┼───────────────────────────┤\n",
      "│ Mima                    │ via Madonnelle 9        │ You’ll be won over by the │ http://www.domo20.com/res │\n",
      "│                         │                         │ seasonal Mediterranea...  │ taurant                   │\n",
      "├─────────────────────────┼─────────────────────────┼───────────────────────────┼───────────────────────────┤\n",
      "│ Materia | Spazio Cucina │ via Teatro Massimo 29   │ The entrance to this      │ https://www.materiaspazio │\n",
      "│                         │                         │ restaurant is typical of  │ cucina.it/                │\n",
      "│                         │                         │ a...                      │                           │\n",
      "├─────────────────────────┼─────────────────────────┼───────────────────────────┼───────────────────────────┤\n",
      "│ Secondo Tempo           │ via Vittorio Amedeo 55  │ Situated on the first     │ http://www.ristoranteseco │\n",
      "│                         │                         │ floor of a building       │ ndotempo.it               │\n",
      "│                         │                         │ (form...                  │                           │\n",
      "├─────────────────────────┼─────────────────────────┼───────────────────────────┼───────────────────────────┤\n",
      "│ Pipero Roma             │ corso Vittorio Emanuele │ Situated opposite the     │ https://www.piperoroma.it │\n",
      "│                         │ II 250                  │ church of Santa Maria in  │ /                         │\n",
      "│                         │                         │ ...                       │                           │\n",
      "├─────────────────────────┼─────────────────────────┼───────────────────────────┼───────────────────────────┤\n",
      "│ Il Luogo Aimo e Nadia   │ via Montecuccoli 6      │ This long-established     │ https://www.aimoenadia.co │\n",
      "│                         │                         │ restaurant has been part  │ m/il-luogo-aimo-e-nadia   │\n",
      "│                         │                         │ ...                       │                           │\n",
      "╰─────────────────────────┴─────────────────────────┴───────────────────────────┴───────────────────────────╯\n"
     ]
    }
   ],
   "source": [
    "# Initialize a flag (done) to control the while loop for searching\n",
    "done = False\n",
    "\n",
    "# Example query for testing the non-ranked search engine\n",
    "sample_input = \"modern seasonal cuisine\"\n",
    "top_k_to_print = 5\n",
    "\n",
    "# Loop for querying the search engine until the search is completed only usefull in case of custom serch\n",
    "while (not done):\n",
    "    # Uncomment the next line to enable user input\n",
    "    # sample_input = input(\"what do you want to eat?\\n\")\n",
    "    \n",
    "    # Call the non_ranked_engine function with the input query, the restaurant DataFrame,\n",
    "    # the vocabulary, and the reverse index to find matching restaurants\n",
    "    done = non_ranked_engine(sample_input, restaurants_df, vocabulary, reverse_index, top_k_to_print)"
   ]
  },
  {
   "cell_type": "markdown",
   "id": "cc806b9e",
   "metadata": {},
   "source": [
    "### ***Computing TF-IDF***"
   ]
  },
  {
   "cell_type": "markdown",
   "id": "346076bf",
   "metadata": {},
   "source": []
  },
  {
   "cell_type": "code",
   "execution_count": 4,
   "id": "c912f6de",
   "metadata": {},
   "outputs": [],
   "source": [
    "TF_by_restournats = compute_TF(ID_descritpion)\n",
    "total_documents = len(ID_descritpion)\n",
    "IDF_by_words = compute_IDF(reverse_index, total_documents)\n",
    "\n",
    "reverse_index_tf_idf = compute_TF_IDF(TF_by_restournats, IDF_by_words)\n"
   ]
  },
  {
   "cell_type": "markdown",
   "id": "a783d57a",
   "metadata": {},
   "source": [
    "### ***Ranked serch engine***"
   ]
  },
  {
   "cell_type": "code",
   "execution_count": 5,
   "id": "17fc15ff",
   "metadata": {},
   "outputs": [
    {
     "name": "stdout",
     "output_type": "stream",
     "text": [
      "╭─────────────────────────┬─────────────────────────┬───────────────────────────┬───────────────────────────┬──────────╮\n",
      "│ Restaurant Name         │ Address                 │ Description               │ Website                   │   Cosine │\n",
      "├─────────────────────────┼─────────────────────────┼───────────────────────────┼───────────────────────────┼──────────┤\n",
      "│ Saporium                │ località Palazzetto 110 │ Saporium is the new fine- │ http://www.saporium.com/i │        1 │\n",
      "│                         │                         │ dining restaurant at t... │ t/borgo-santo.pietro/     │          │\n",
      "├─────────────────────────┼─────────────────────────┼───────────────────────────┼───────────────────────────┼──────────┤\n",
      "│ Le Vie del Borgo        │ via alla Piazza 6       │ Le Vie del Borgo is       │ https://www.leviedelborgo │        1 │\n",
      "│                         │                         │ situated in a restored    │ guesthouse.it/            │          │\n",
      "│                         │                         │ rust...                   │                           │          │\n",
      "├─────────────────────────┼─────────────────────────┼───────────────────────────┼───────────────────────────┼──────────┤\n",
      "│ Osteria del Miglio 2.10 │ via Patrioti 2          │ Although the town may not │ nan                       │        1 │\n",
      "│                         │                         │ be of major importanc...  │                           │          │\n",
      "╰─────────────────────────┴─────────────────────────┴───────────────────────────┴───────────────────────────┴──────────╯\n"
     ]
    }
   ],
   "source": [
    "# Initialize a flag (done) to control the while loop for searching\n",
    "done = False\n",
    "\n",
    "# Example query for testing the non-ranked search engine\n",
    "sample_input = \"modern seasonal cuisine\"\n",
    "top_k_to_print = 3\n",
    "# Loop for querying the search engine until the search is completed, only usefull in case of custom serch\n",
    "while (done == False):\n",
    "    # Uncomment the next line to enable user input\n",
    "    # sample_input = input(\"what do you want to eat?\\n\")\n",
    "    top_rest = ranked_engine(sample_input, restaurants_df, vocabulary, reverse_index_tf_idf, IDF_by_words, top_k_to_print)\n",
    "    done = True\n",
    "\n"
   ]
  },
  {
   "cell_type": "markdown",
   "id": "fa4a011b",
   "metadata": {},
   "source": [
    "### ***Verifing cosine similarty computation***\n",
    "\n",
    "To verify if the cosine similarity is computed correctly we can querry the description of a restournat and it should return 1 as the cosine similarity with a huge gap to the second place"
   ]
  },
  {
   "cell_type": "markdown",
   "id": "64369cd1",
   "metadata": {},
   "source": [
    "##### description from restournat L'Acciuga :\n",
    "Anchovies, king prawns, cuttlefish and freshly caught fish are just some of the options available in this restaurant specialising in fish and seafood, where guests will be delighted by the fresh flavours of the ingredients. The small wine list, which also includes a few non-Italian labels, offers good value for money. The maritime-style decor evokes the interior of an old ship, while the warm welcome is typical of the region. All in all, an excellent choice!"
   ]
  },
  {
   "cell_type": "code",
   "execution_count": 6,
   "id": "3724e045",
   "metadata": {},
   "outputs": [
    {
     "name": "stdout",
     "output_type": "stream",
     "text": [
      "╭───────────────────┬───────────────────────────┬───────────────────────────┬───────────────────────────┬──────────╮\n",
      "│ Restaurant Name   │ Address                   │ Description               │ Website                   │   Cosine │\n",
      "├───────────────────┼───────────────────────────┼───────────────────────────┼───────────────────────────┼──────────┤\n",
      "│ L'Acciuga         │ viale Francesco Baracca   │ Anchovies, king prawns,   │ https://lacciugaosteria.e │ 1        │\n",
      "│                   │ 74                        │ cuttlefish and freshly    │ atbu.com/?lang=it         │          │\n",
      "│                   │                           │ ...                       │                           │          │\n",
      "├───────────────────┼───────────────────────────┼───────────────────────────┼───────────────────────────┼──────────┤\n",
      "│ Cetaria           │ piazza della Repubblica 9 │ This beautiful restaurant │ https://www.cetariaristor │ 0.400065 │\n",
      "│                   │                           │ inland from Salerno i...  │ ante.it/                  │          │\n",
      "├───────────────────┼───────────────────────────┼───────────────────────────┼───────────────────────────┼──────────┤\n",
      "│ Lorenzo           │ via Carducci 61           │ This gastronomic          │ https://www.ristorantelor │ 0.398841 │\n",
      "│                   │                           │ institution has been an   │ enzo.com/it/              │          │\n",
      "│                   │                           │ emblem...                 │                           │          │\n",
      "╰───────────────────┴───────────────────────────┴───────────────────────────┴───────────────────────────┴──────────╯\n"
     ]
    }
   ],
   "source": [
    "# Specifc querry for the ranked serch engine, since there are two l'Acciuga we specify the one to pick\n",
    "sample_input = restaurants_df[restaurants_df.restaurantName == \"L'Acciuga\"].description.iloc[0]\n",
    "# Loop for querying the search engine until the search is completed\n",
    "top_k_to_print = 3\n",
    "done = ranked_engine(sample_input, restaurants_df, vocabulary, reverse_index_tf_idf, IDF_by_words, top_k_to_print)"
   ]
  },
  {
   "cell_type": "markdown",
   "id": "0fc749dc",
   "metadata": {},
   "source": [
    "### ***Upgraded raked engine***"
   ]
  },
  {
   "cell_type": "code",
   "execution_count": 7,
   "id": "d122d8b0",
   "metadata": {},
   "outputs": [
    {
     "data": {
      "application/vnd.jupyter.widget-view+json": {
       "model_id": "505d1501509342a6b0537a0d24c57be2",
       "version_major": 2,
       "version_minor": 0
      },
      "text/plain": [
       "Text(value='modern seasonal cuisine', description='what do you want to eat?', placeholder='type something', st…"
      ]
     },
     "metadata": {},
     "output_type": "display_data"
    },
    {
     "data": {
      "application/vnd.jupyter.widget-view+json": {
       "model_id": "ea4f2e4805c74220bb5c3371ffeaafff",
       "version_major": 2,
       "version_minor": 0
      },
      "text/plain": [
       "BoundedIntText(value=5, description='How many restourants to display?', layout=Layout(width='45%'), style=Desc…"
      ]
     },
     "metadata": {},
     "output_type": "display_data"
    },
    {
     "data": {
      "application/vnd.jupyter.widget-view+json": {
       "model_id": "be0eb1b117d34783b667c14c0bbf91b7",
       "version_major": 2,
       "version_minor": 0
      },
      "text/plain": [
       "SelectionRangeSlider(description='Choose a price range:', index=(0, 3), layout=Layout(width='45%'), options=((…"
      ]
     },
     "metadata": {},
     "output_type": "display_data"
    },
    {
     "data": {
      "application/vnd.jupyter.widget-view+json": {
       "model_id": "56fae384aa0a4b48a508a27d7d89c12c",
       "version_major": 2,
       "version_minor": 0
      },
      "text/plain": [
       "Dropdown(description='Choose the cusine specialty: ', options=(\"don't care\", 'calabrian', 'country cooking', '…"
      ]
     },
     "metadata": {},
     "output_type": "display_data"
    },
    {
     "data": {
      "application/vnd.jupyter.widget-view+json": {
       "model_id": "255ea1a5d8f84a8f81ae799784aae14c",
       "version_major": 2,
       "version_minor": 0
      },
      "text/plain": [
       "VBox(children=(HBox(children=(Checkbox(value=False, description=\"don't care\", layout=Layout(max_width='auto', …"
      ]
     },
     "metadata": {},
     "output_type": "display_data"
    },
    {
     "data": {
      "application/vnd.jupyter.widget-view+json": {
       "model_id": "ff951daddf3145d3b4ea5750f0d90dee",
       "version_major": 2,
       "version_minor": 0
      },
      "text/plain": [
       "Button(description='Serch for some restournats', layout=Layout(width='250px'), style=ButtonStyle())"
      ]
     },
     "metadata": {},
     "output_type": "display_data"
    },
    {
     "name": "stdout",
     "output_type": "stream",
     "text": [
      "╭───────────────────┬──────────────────────────┬───────────────────────────┬───────────────────────────┬──────────╮\n",
      "│ Restaurant Name   │ Address                  │ Description               │ Website                   │   Cosine │\n",
      "├───────────────────┼──────────────────────────┼───────────────────────────┼───────────────────────────┼──────────┤\n",
      "│ Ca' Del Moro      │ località Erbin 31        │ Situated within the La    │ https://www.cadelmoro.win │  1.4     │\n",
      "│                   │                          │ Collina dei Ciliegi       │ e/it                      │          │\n",
      "│                   │                          │ wine...                   │                           │          │\n",
      "├───────────────────┼──────────────────────────┼───────────────────────────┼───────────────────────────┼──────────┤\n",
      "│ La Bandiera       │ contrada Pastini 4       │ Although it takes a while │ https://www.labandiera.it │  1.38629 │\n",
      "│                   │                          │ to reach this restaur...  │ /                         │          │\n",
      "├───────────────────┼──────────────────────────┼───────────────────────────┼───────────────────────────┼──────────┤\n",
      "│ Barbieri          │ via Italo Barbieri       │ Enjoy your meal in the    │ https://www.hotelbarbieri │  1.2543  │\n",
      "│                   │                          │ classic - style dining    │ .it                       │          │\n",
      "│                   │                          │ r...                      │                           │          │\n",
      "├───────────────────┼──────────────────────────┼───────────────────────────┼───────────────────────────┼──────────┤\n",
      "│ Cuculia           │ via dei Serragli 3r      │ This beautiful restaurant │ https://www.cuculia.it    │  1.2543  │\n",
      "│                   │                          │ with a smart and eleg...  │                           │          │\n",
      "├───────────────────┼──────────────────────────┼───────────────────────────┼───────────────────────────┼──────────┤\n",
      "│ Il Colmetto       │ via Finilnuovo 9         │ A true gourmet            │ https://www.ilcolmetto.it │  1.2543  │\n",
      "│                   │                          │ agriturismo, Il Colmetto  │                           │          │\n",
      "│                   │                          │ changes...                │                           │          │\n",
      "├───────────────────┼──────────────────────────┼───────────────────────────┼───────────────────────────┼──────────┤\n",
      "│ Regio Patio       │ via San Francesco        │ Situated just a stone’s   │ http://www.regiopatio.it  │  1.2543  │\n",
      "│                   │ d'Assisi 23              │ throw from the            │                           │          │\n",
      "│                   │                          │ lakefron...               │                           │          │\n",
      "├───────────────────┼──────────────────────────┼───────────────────────────┼───────────────────────────┼──────────┤\n",
      "│ Alto              │ via Circondariale San    │ The top floor of the      │ http://www.altoristorante │  1.2543  │\n",
      "│                   │ Francesco 2              │ renovated Executive Spa   │ .com                      │          │\n",
      "│                   │                          │ Ho...                     │                           │          │\n",
      "├───────────────────┼──────────────────────────┼───────────────────────────┼───────────────────────────┼──────────┤\n",
      "│ La Peca           │ via Alberto Giovanelli 2 │ When you arrive in the    │ https://lapeca.it/        │  1.2543  │\n",
      "│                   │                          │ upper part of Lonigo      │                           │          │\n",
      "│                   │                          │ and...                    │                           │          │\n",
      "╰───────────────────┴──────────────────────────┴───────────────────────────┴───────────────────────────┴──────────╯\n"
     ]
    },
    {
     "data": {
      "text/plain": [
       "['€€€', '€€€', '€€', '€€€', '€€€', '€€€€', '€€€', '€€€€']"
      ]
     },
     "execution_count": 7,
     "metadata": {},
     "output_type": "execute_result"
    }
   ],
   "source": [
    "\n",
    "facilities = extract_facilities(restaurants_df[\"facilitiesServices\"])\n",
    "cusine_types = extract_facilities(restaurants_df[\"cuisineType\"])\n",
    "\n",
    "\n",
    "top_result, restoraunt_cost = upgraded_ranked_engine(facilities, cusine_types, vocabulary, IDF_by_words, reverse_index_tf_idf, restaurants_df)\n",
    "restoraunt_cost"
   ]
  }
 ],
 "metadata": {
  "kernelspec": {
   "display_name": "base",
   "language": "python",
   "name": "python3"
  },
  "language_info": {
   "codemirror_mode": {
    "name": "ipython",
    "version": 3
   },
   "file_extension": ".py",
   "mimetype": "text/x-python",
   "name": "python",
   "nbconvert_exporter": "python",
   "pygments_lexer": "ipython3",
   "version": "3.12.2"
  }
 },
 "nbformat": 4,
 "nbformat_minor": 5
}
