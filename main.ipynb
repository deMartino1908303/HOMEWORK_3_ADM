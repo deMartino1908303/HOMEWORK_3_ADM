{
 "cells": [
  {
   "cell_type": "code",
   "execution_count": 144,
   "id": "initial_id",
   "metadata": {
    "collapsed": true
   },
   "outputs": [
    {
     "name": "stderr",
     "output_type": "stream",
     "text": [
      "[nltk_data] Downloading package stopwords to\n",
      "[nltk_data]     C:\\Users\\Xxqas\\AppData\\Roaming\\nltk_data...\n",
      "[nltk_data]   Package stopwords is already up-to-date!\n"
     ]
    }
   ],
   "source": [
    "import pandas as pd\n",
    "from bs4 import BeautifulSoup\n",
    "import re\n",
    "import nltk\n",
    "from nltk.stem import PorterStemmer\n",
    "from nltk.corpus import stopwords\n",
    "nltk.download('stopwords')\n",
    "\n",
    "restaurants_df = pd.read_csv(\"restaurants_i.tsv\", sep=\"\\t\", header = 0)"
   ]
  },
  {
   "cell_type": "code",
   "execution_count": 145,
   "id": "c3d10645",
   "metadata": {},
   "outputs": [],
   "source": [
    "def description_cleaner(descriptions):\n",
    "    result = []\n",
    "    stop_words = set(stopwords.words(\"english\"))\n",
    "    stemmer = PorterStemmer()\n",
    "    \n",
    "    for descript in descriptions:\n",
    "        descript = re.sub(r\"[^a-zA-Z0-9]\", \" \", descript)\n",
    "        descript = re.sub(r\" +\", \" \", descript)\n",
    "        descript = [word.strip() for word in descript.split(\" \") if word.lower() not in stop_words]\n",
    "        stemmed_words = [stemmer.stem(word) for word in descript]\n",
    "        result.append(stemmed_words)\n",
    "    return(result)"
   ]
  },
  {
   "cell_type": "code",
   "execution_count": 146,
   "id": "92bf2d43",
   "metadata": {},
   "outputs": [],
   "source": [
    "def vocabulary_creator(descriptions):\n",
    "    unique_words = set(descriptions[0])\n",
    "    \n",
    "    for descr in descriptions[1:]:\n",
    "        unique_words = unique_words | set(descr)\n",
    "\n",
    "    counter = 0\n",
    "    res = {}\n",
    "    for word in unique_words:\n",
    "        if word == \"\": continue\n",
    "        res[word] = counter\n",
    "        counter += 1\n",
    "    \n",
    "\n",
    "    return word_to_id(descriptions, res, counter)"
   ]
  },
  {
   "cell_type": "code",
   "execution_count": 147,
   "id": "d0fea2e0",
   "metadata": {},
   "outputs": [],
   "source": [
    "def word_to_id(descriptions, vocab, counter):\n",
    "    result = []\n",
    "    for one_description in descriptions:\n",
    "        mono_result = []\n",
    "        for word in one_description:\n",
    "            if word == \"\" : continue\n",
    "            mono_result.append(vocab[word])\n",
    "        result.append(mono_result)\n",
    "    \n",
    "    return [result, vocab, counter]\n"
   ]
  },
  {
   "cell_type": "code",
   "execution_count": 148,
   "id": "e297d01a",
   "metadata": {},
   "outputs": [],
   "source": [
    "def reverse_index_creator(ID_descriptions):\n",
    "    reverse_index = {}\n",
    "    for doc_id, word_ids in enumerate(ID_descriptions):\n",
    "        for word_id in word_ids:\n",
    "            if word_id not in reverse_index:\n",
    "                reverse_index[word_id] = []\n",
    "            reverse_index[word_id].append(doc_id)\n",
    "    \n",
    "    return reverse_index"
   ]
  },
  {
   "cell_type": "code",
   "execution_count": null,
   "id": "516daa23",
   "metadata": {},
   "outputs": [
    {
     "data": {
      "text/plain": [
       "59"
      ]
     },
     "execution_count": 149,
     "metadata": {},
     "output_type": "execute_result"
    }
   ],
   "source": [
    "restournats_descriptions = restaurants_df.description[0:2]\n",
    "\n",
    "parsed_descriptions = description_cleaner(restournats_descriptions)\n",
    "\n",
    "ID_descritpion, vocab, tot_n_of_words = vocabulary_creator(parsed_descriptions)\n",
    "\n",
    "reverse_index = reverse_index_creator(ID_descritpion)\n",
    "\n",
    "pd.Series(vocab).to_csv(\"vocabulary.csv\", index=True, encoding=\"utf-8\", header= False)\n",
    "\n"
   ]
  },
  {
   "cell_type": "markdown",
   "id": "dea40826",
   "metadata": {},
   "source": [
    "\n",
    "\n",
    "\n"
   ]
  },
  {
   "cell_type": "code",
   "execution_count": null,
   "id": "b41fdd09",
   "metadata": {},
   "outputs": [],
   "source": []
  }
 ],
 "metadata": {
  "kernelspec": {
   "display_name": "base",
   "language": "python",
   "name": "python3"
  },
  "language_info": {
   "codemirror_mode": {
    "name": "ipython",
    "version": 3
   },
   "file_extension": ".py",
   "mimetype": "text/x-python",
   "name": "python",
   "nbconvert_exporter": "python",
   "pygments_lexer": "ipython3",
   "version": "3.12.2"
  }
 },
 "nbformat": 4,
 "nbformat_minor": 5
}
