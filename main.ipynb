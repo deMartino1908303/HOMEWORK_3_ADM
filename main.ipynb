{
 "cells": [
  {
   "cell_type": "code",
   "execution_count": 1,
   "id": "initial_id",
   "metadata": {
    "collapsed": true
   },
   "outputs": [],
   "source": [
    "# setting up the workplace\n",
    "import pandas as pd\n",
    "\n",
    "from functions import description_cleaner, vocabulary_creator, reverse_index_creator, compute_TF, compute_IDF, compute_TF_IDF, reverse_TF_IDF\n",
    "\n",
    "from engine import non_ranked_engine, ranked_engine\n",
    "\n",
    "restaurants_df = pd.read_csv(\"restaurants_i.tsv\", sep=\"\\t\", header = 0)"
   ]
  },
  {
   "cell_type": "markdown",
   "id": "e99a8d15",
   "metadata": {},
   "source": [
    "### ***Main preprocessing***"
   ]
  },
  {
   "cell_type": "code",
   "execution_count": 2,
   "id": "516daa23",
   "metadata": {},
   "outputs": [],
   "source": [
    "# Extract the 'description' column from the DataFrame, which contains restaurant descriptions\n",
    "restournats_descriptions = restaurants_df.description\n",
    "\n",
    "# Clean and preprocess the restaurant descriptions using the custom description_cleaner function\n",
    "parsed_descriptions = description_cleaner(restournats_descriptions)\n",
    "\n",
    "# Create a vocabulary and convert descriptions into numerical IDs using the vocabulary_creator function\n",
    "# The function returns a list of IDs for each description and a vocabulary dictionary\n",
    "ID_descritpion, vocabulary = vocabulary_creator(parsed_descriptions)\n",
    "\n",
    "# Create a reverse index from the numerical IDs of words to document IDs using reverse_index_creator\n",
    "reverse_index = reverse_index_creator(ID_descritpion)\n",
    "\n",
    "# Save the vocabulary (word-to-ID mapping) to a CSV file for future use\n",
    "pd.Series(vocabulary).to_csv(\"vocabulary.csv\", index=True, encoding=\"utf-8\", header=False)\n"
   ]
  },
  {
   "cell_type": "markdown",
   "id": "458b2fbf",
   "metadata": {},
   "source": [
    "### ***Not ranked serch engine***"
   ]
  },
  {
   "cell_type": "code",
   "execution_count": 3,
   "id": "dea40826",
   "metadata": {},
   "outputs": [
    {
     "name": "stdout",
     "output_type": "stream",
     "text": [
      "We found 41 matches!\n",
      "\n",
      "╭─────────────────────────┬─────────────────────────┬───────────────────────────┬───────────────────────────╮\n",
      "│ Restaurant Name         │ Address                 │ Description               │ Website                   │\n",
      "├─────────────────────────┼─────────────────────────┼───────────────────────────┼───────────────────────────┤\n",
      "│ Mima                    │ via Madonnelle 9        │ You’ll be won over by the │ http://www.domo20.com/res │\n",
      "│                         │                         │ seasonal Mediterranea...  │ taurant                   │\n",
      "├─────────────────────────┼─────────────────────────┼───────────────────────────┼───────────────────────────┤\n",
      "│ Materia | Spazio Cucina │ via Teatro Massimo 29   │ The entrance to this      │ https://www.materiaspazio │\n",
      "│                         │                         │ restaurant is typical of  │ cucina.it/                │\n",
      "│                         │                         │ a...                      │                           │\n",
      "├─────────────────────────┼─────────────────────────┼───────────────────────────┼───────────────────────────┤\n",
      "│ Secondo Tempo           │ via Vittorio Amedeo 55  │ Situated on the first     │ http://www.ristoranteseco │\n",
      "│                         │                         │ floor of a building       │ ndotempo.it               │\n",
      "│                         │                         │ (form...                  │                           │\n",
      "├─────────────────────────┼─────────────────────────┼───────────────────────────┼───────────────────────────┤\n",
      "│ Pipero Roma             │ corso Vittorio Emanuele │ Situated opposite the     │ https://www.piperoroma.it │\n",
      "│                         │ II 250                  │ church of Santa Maria in  │ /                         │\n",
      "│                         │                         │ ...                       │                           │\n",
      "├─────────────────────────┼─────────────────────────┼───────────────────────────┼───────────────────────────┤\n",
      "│ Il Luogo Aimo e Nadia   │ via Montecuccoli 6      │ This long-established     │ https://www.aimoenadia.co │\n",
      "│                         │                         │ restaurant has been part  │ m/il-luogo-aimo-e-nadia   │\n",
      "│                         │                         │ ...                       │                           │\n",
      "╰─────────────────────────┴─────────────────────────┴───────────────────────────┴───────────────────────────╯\n"
     ]
    }
   ],
   "source": [
    "# Initialize a flag (done) to control the while loop for searching\n",
    "done = False\n",
    "\n",
    "# Example query for testing the non-ranked search engine\n",
    "sample_input = \"modern seasonal cuisine\"\n",
    "\n",
    "# Loop for querying the search engine until the search is completed\n",
    "while (not done):\n",
    "    # Uncomment the next line to enable user input\n",
    "    # sample_input = input(\"what do you want to eat?\\n\")\n",
    "    \n",
    "    # Call the non_ranked_engine function with the input query, the restaurant DataFrame,\n",
    "    # the vocabulary, and the reverse index to find matching restaurants\n",
    "    done = non_ranked_engine(sample_input, restaurants_df, vocabulary, reverse_index)"
   ]
  },
  {
   "cell_type": "markdown",
   "id": "cc806b9e",
   "metadata": {},
   "source": [
    "### ***Computing TF-IDF***"
   ]
  },
  {
   "cell_type": "code",
   "execution_count": 4,
   "id": "c912f6de",
   "metadata": {},
   "outputs": [],
   "source": [
    "TF_by_restournats = compute_TF(ID_descritpion)\n",
    "total_documents = len(ID_descritpion)\n",
    "IDF_by_words = compute_IDF(reverse_index, total_documents)\n",
    "\n",
    "reverse_index_tf_idf = compute_TF_IDF(TF_by_restournats, IDF_by_words)\n",
    "\n",
    "index_tf_idf = reverse_TF_IDF(reverse_index_tf_idf)"
   ]
  },
  {
   "cell_type": "markdown",
   "id": "a783d57a",
   "metadata": {},
   "source": [
    "### ***Ranked serch engine***"
   ]
  },
  {
   "cell_type": "code",
   "execution_count": null,
   "id": "17fc15ff",
   "metadata": {},
   "outputs": [
    {
     "name": "stdout",
     "output_type": "stream",
     "text": [
      "We found 15 matches!\n",
      "\n",
      "╭──────────────────────────┬───────────────────────────┬───────────────────────────┬───────────────────────────┬──────────╮\n",
      "│ Restaurant Name          │ Address                   │ Description               │ Website                   │   Cosine │\n",
      "├──────────────────────────┼───────────────────────────┼───────────────────────────┼───────────────────────────┼──────────┤\n",
      "│ Stube Hermitage          │ via Castelletto Inferiore │ Situated in a tranquil    │ https://stubehermitage.it │  0.33686 │\n",
      "│                          │ 69                        │ and secluded location,    │ /                         │          │\n",
      "│                          │                           │ t...                      │                           │          │\n",
      "├──────────────────────────┼───────────────────────────┼───────────────────────────┼───────────────────────────┼──────────┤\n",
      "│ Angiò-Macelleria di Mare │ viale Africa 28/h         │ The phrase “macellaria di │ https://albertoangiolucci │  0.33686 │\n",
      "│                          │                           │ mare” translates as “...  │ .it/                      │          │\n",
      "├──────────────────────────┼───────────────────────────┼───────────────────────────┼───────────────────────────┼──────────┤\n",
      "│ Terramira                │ piazza della Vittoria 13  │ Having gained valuable    │ https://terramira.it      │  0.33686 │\n",
      "│                          │                           │ experience elsewhere,     │                           │          │\n",
      "│                          │                           │ th...                     │                           │          │\n",
      "├──────────────────────────┼───────────────────────────┼───────────────────────────┼───────────────────────────┼──────────┤\n",
      "│ Terra The Magic Place    │ località Prati 21         │ At the end of the long    │ https://www.terra.place/  │  0.33686 │\n",
      "│                          │                           │ uphill road through the   │                           │          │\n",
      "│                          │                           │ ...                       │                           │          │\n",
      "├──────────────────────────┼───────────────────────────┼───────────────────────────┼───────────────────────────┼──────────┤\n",
      "│ Vintage 1997             │ piazza Solferino 16/h     │ The several tasting menus │ https://www.vintage1997.c │  0.33686 │\n",
      "│                          │                           │ at this restaurant in...  │ om/                       │          │\n",
      "╰──────────────────────────┴───────────────────────────┴───────────────────────────┴───────────────────────────┴──────────╯\n"
     ]
    }
   ],
   "source": [
    "# Initialize a flag (done) to control the while loop for searching\n",
    "done = False\n",
    "\n",
    "# Example query for testing the non-ranked search engine\n",
    "sample_input = \"modern seasonal cuisine\"\n",
    "\n",
    "# Loop for querying the search engine until the search is completed\n",
    "while (not done):\n",
    "    # Uncomment the next line to enable user input\n",
    "    # sample_input = input(\"what do you want to eat?\\n\")\n",
    "    \n",
    "    done = ranked_engine(sample_input, restaurants_df, vocabulary, reverse_index_tf_idf, IDF_by_words)\n",
    "\n",
    "# 658, 0.8248382438257549)\n",
    "## (6, 0.8248382438257549)"
   ]
  }
 ],
 "metadata": {
  "kernelspec": {
   "display_name": "base",
   "language": "python",
   "name": "python3"
  },
  "language_info": {
   "codemirror_mode": {
    "name": "ipython",
    "version": 3
   },
   "file_extension": ".py",
   "mimetype": "text/x-python",
   "name": "python",
   "nbconvert_exporter": "python",
   "pygments_lexer": "ipython3",
   "version": "3.12.2"
  }
 },
 "nbformat": 4,
 "nbformat_minor": 5
}
