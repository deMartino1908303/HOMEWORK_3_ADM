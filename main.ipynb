{
 "cells": [
  {
   "cell_type": "code",
   "execution_count": 1,
   "id": "initial_id",
   "metadata": {
    "collapsed": true
   },
   "outputs": [],
   "source": [
    "# setting up the workplace\n",
    "import pandas as pd\n",
    "from bs4 import BeautifulSoup\n",
    "import re\n",
    "import nltk\n",
    "from nltk.stem import PorterStemmer\n",
    "from nltk.corpus import stopwords\n",
    "# nltk.download('stopwords')\n",
    "from functions import description_cleaner, vocabulary_creator, reverse_index_creator\n",
    "from engine import non_ranked_engine\n",
    "\n",
    "restaurants_df = pd.read_csv(\"restaurants_i.tsv\", sep=\"\\t\", header = 0)"
   ]
  },
  {
   "cell_type": "code",
   "execution_count": 2,
   "id": "516daa23",
   "metadata": {},
   "outputs": [],
   "source": [
    "# Main preprocessing\n",
    "\n",
    "restournats_descriptions = restaurants_df.description\n",
    "\n",
    "parsed_descriptions = description_cleaner(restournats_descriptions)\n",
    "\n",
    "ID_descritpion, vocabulary, tot_n_of_words = vocabulary_creator(parsed_descriptions)\n",
    "\n",
    "reverse_index = reverse_index_creator(ID_descritpion)\n",
    "\n",
    "pd.Series(vocabulary).to_csv(\"vocabulary.csv\", index=True, encoding=\"utf-8\", header= False)\n",
    "\n"
   ]
  },
  {
   "cell_type": "code",
   "execution_count": 3,
   "id": "dea40826",
   "metadata": {},
   "outputs": [
    {
     "name": "stdout",
     "output_type": "stream",
     "text": [
      "We found 41 matches!\n",
      "\n",
      "╭─────────────────────────┬───────────────────────────┬───────────────────────────┬───────────────────────────╮\n",
      "│ Restaurant Name         │ Address                   │ Description               │ Website                   │\n",
      "├─────────────────────────┼───────────────────────────┼───────────────────────────┼───────────────────────────┤\n",
      "│ Casin del Gamba         │ via Roccolo Pizzati 1     │ The journey to get here – │ https://www.casindelgamba │\n",
      "│                         │                           │ a winding road throug...  │ .it/                      │\n",
      "├─────────────────────────┼───────────────────────────┼───────────────────────────┼───────────────────────────┤\n",
      "│ San Giorgio             │ viale Brigate Bisagno 69r │ Situated in the city      │ https://www.ristorantesan │\n",
      "│                         │                           │ albeit not right in the   │ giorgiogenova.it/         │\n",
      "│                         │                           │ ce...                     │                           │\n",
      "├─────────────────────────┼───────────────────────────┼───────────────────────────┼───────────────────────────┤\n",
      "│ Saporium                │ località Palazzetto 110   │ Saporium is the new fine- │ http://www.saporium.com/i │\n",
      "│                         │                           │ dining restaurant at t... │ t/borgo-santo.pietro/     │\n",
      "├─────────────────────────┼───────────────────────────┼───────────────────────────┼───────────────────────────┤\n",
      "│ Le Vie del Borgo        │ via alla Piazza 6         │ Le Vie del Borgo is       │ https://www.leviedelborgo │\n",
      "│                         │                           │ situated in a restored    │ guesthouse.it/            │\n",
      "│                         │                           │ rust...                   │                           │\n",
      "├─────────────────────────┼───────────────────────────┼───────────────────────────┼───────────────────────────┤\n",
      "│ Osteria del Miglio 2.10 │ via Patrioti 2            │ Although the town may not │ nan                       │\n",
      "│                         │                           │ be of major importanc...  │                           │\n",
      "╰─────────────────────────┴───────────────────────────┴───────────────────────────┴───────────────────────────╯\n"
     ]
    }
   ],
   "source": [
    "# NON ranked serch engine\n",
    "done = False\n",
    "sample_input = \"modern seasonal cuisine\"\n",
    "while (not done):\n",
    "    # sample_input = input(\"what do you want to eat?\\n\")\n",
    "    done = non_ranked_engine(sample_input, restaurants_df, vocabulary, reverse_index)\n",
    "\n",
    "    "
   ]
  }
 ],
 "metadata": {
  "kernelspec": {
   "display_name": "base",
   "language": "python",
   "name": "python3"
  },
  "language_info": {
   "codemirror_mode": {
    "name": "ipython",
    "version": 3
   },
   "file_extension": ".py",
   "mimetype": "text/x-python",
   "name": "python",
   "nbconvert_exporter": "python",
   "pygments_lexer": "ipython3",
   "version": "3.12.2"
  }
 },
 "nbformat": 4,
 "nbformat_minor": 5
}
