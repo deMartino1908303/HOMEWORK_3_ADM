{
 "cells": [
  {
   "cell_type": "code",
   "id": "initial_id",
   "metadata": {
    "collapsed": true,
    "ExecuteTime": {
     "end_time": "2024-11-13T15:43:46.805273Z",
     "start_time": "2024-11-13T15:43:44.412189Z"
    }
   },
   "source": [
    "# Setting up the workplace\n",
    "import pandas as pd\n",
    "\n",
    "# Importing functions with updated names\n",
    "from functions import (\n",
    "    description_cleaner, \n",
    "    vocabulary_creator, \n",
    "    reverse_index_creator, \n",
    "    compute_TF, \n",
    "    compute_IDF, \n",
    "    compute_TF_IDF,\n",
    "    drop_down_menu,\n",
    "    extract_facilities\n",
    ")\n",
    "# Importing engines\n",
    "from engine import non_ranked_engine, ranked_engine, upgraded_ranked_engine\n",
    "from jupyter_ui_poll import ui_events\n",
    "import time\n",
    "restaurants_df = pd.read_csv(\"restaurants_i.tsv\", sep=\"\\t\", header = 0)"
   ],
   "outputs": [],
   "execution_count": 3
  },
  {
   "cell_type": "markdown",
   "id": "e99a8d15",
   "metadata": {},
   "source": [
    "### ***Main preprocessing***"
   ]
  },
  {
   "cell_type": "code",
   "id": "516daa23",
   "metadata": {
    "ExecuteTime": {
     "end_time": "2024-11-13T15:57:07.240615Z",
     "start_time": "2024-11-13T15:57:04.686480Z"
    }
   },
   "source": [
    "# Extract the 'description' column from the DataFrame, which contains restaurant descriptions\n",
    "restournats_descriptions = [description for description in restaurants_df.description]\n",
    "\n",
    "# Clean and preprocess the restaurant descriptions using the custom description_cleaner function\n",
    "parsed_descriptions = description_cleaner(restournats_descriptions)\n",
    "\n",
    "# Create a vocabulary and convert descriptions into numerical IDs using the vocabulary_creator function\n",
    "# The function returns a list of IDs for each description and a vocabulary dictionary\n",
    "ID_descritpion, vocabulary = vocabulary_creator(parsed_descriptions)\n",
    "\n",
    "# Create a reverse index from the numerical IDs of words to document IDs using reverse_index_creator\n",
    "reverse_index = reverse_index_creator(ID_descritpion)\n",
    "\n",
    "# Save the vocabulary (word-to-ID mapping) to a CSV file for future use\n",
    "pd.Series(vocabulary).to_csv(\"vocabulary.csv\", index=True, encoding=\"utf-8\", header=False)\n"
   ],
   "outputs": [],
   "execution_count": 7
  },
  {
   "cell_type": "markdown",
   "id": "458b2fbf",
   "metadata": {},
   "source": "### ***Not ranked serch engine***"
  },
  {
   "metadata": {},
   "cell_type": "code",
   "outputs": [
    {
     "name": "stdout",
     "output_type": "stream",
     "text": [
      "We found 41 matches!\n",
      "\n",
      "╭─────────────────────────┬─────────────────────────┬───────────────────────────┬───────────────────────────╮\n",
      "│ Restaurant Name         │ Address                 │ Description               │ Website                   │\n",
      "├─────────────────────────┼─────────────────────────┼───────────────────────────┼───────────────────────────┤\n",
      "│ Mima                    │ via Madonnelle 9        │ You’ll be won over by the │ http://www.domo20.com/res │\n",
      "│                         │                         │ seasonal Mediterranea...  │ taurant                   │\n",
      "├─────────────────────────┼─────────────────────────┼───────────────────────────┼───────────────────────────┤\n",
      "│ Materia | Spazio Cucina │ via Teatro Massimo 29   │ The entrance to this      │ https://www.materiaspazio │\n",
      "│                         │                         │ restaurant is typical of  │ cucina.it/                │\n",
      "│                         │                         │ a...                      │                           │\n",
      "├─────────────────────────┼─────────────────────────┼───────────────────────────┼───────────────────────────┤\n",
      "│ Secondo Tempo           │ via Vittorio Amedeo 55  │ Situated on the first     │ http://www.ristoranteseco │\n",
      "│                         │                         │ floor of a building       │ ndotempo.it               │\n",
      "│                         │                         │ (form...                  │                           │\n",
      "├─────────────────────────┼─────────────────────────┼───────────────────────────┼───────────────────────────┤\n",
      "│ Pipero Roma             │ corso Vittorio Emanuele │ Situated opposite the     │ https://www.piperoroma.it │\n",
      "│                         │ II 250                  │ church of Santa Maria in  │ /                         │\n",
      "│                         │                         │ ...                       │                           │\n",
      "├─────────────────────────┼─────────────────────────┼───────────────────────────┼───────────────────────────┤\n",
      "│ Il Luogo Aimo e Nadia   │ via Montecuccoli 6      │ This long-established     │ https://www.aimoenadia.co │\n",
      "│                         │                         │ restaurant has been part  │ m/il-luogo-aimo-e-nadia   │\n",
      "│                         │                         │ ...                       │                           │\n",
      "╰─────────────────────────┴─────────────────────────┴───────────────────────────┴───────────────────────────╯\n"
     ]
    }
   ],
   "execution_count": 3,
   "source": [
    "# Initialize a flag (done) to control the while loop for searching\n",
    "done = False\n",
    "\n",
    "# Example query for testing the non-ranked search engine\n",
    "sample_input = \"modern seasonal cuisine\"\n",
    "top_k_to_print = 5\n",
    "\n",
    "# Loop for querying the search engine until the search is completed only usefull in case of custom serch\n",
    "while (not done):\n",
    "    # Uncomment the next line to enable user input\n",
    "    # sample_input = input(\"what do you want to eat?\\n\")\n",
    "    \n",
    "    # Call the non_ranked_engine function with the input query, the restaurant DataFrame,\n",
    "    # the vocabulary, and the reverse index to find matching restaurants\n",
    "    done = non_ranked_engine(sample_input, restaurants_df, vocabulary, reverse_index, top_k_to_print)"
   ],
   "id": "dade82129b52cd1e"
  },
  {
   "cell_type": "markdown",
   "id": "cc806b9e",
   "metadata": {},
   "source": [
    "### ***Computing TF-IDF***"
   ]
  },
  {
   "cell_type": "code",
   "id": "c912f6de",
   "metadata": {
    "ExecuteTime": {
     "end_time": "2024-11-13T15:57:23.934296Z",
     "start_time": "2024-11-13T15:57:21.008376Z"
    }
   },
   "source": [
    "TF_by_restournats = compute_TF(ID_descritpion)\n",
    "total_documents = len(ID_descritpion)\n",
    "IDF_by_words = compute_IDF(reverse_index, total_documents)\n",
    "\n",
    "reverse_index_tf_idf = compute_TF_IDF(TF_by_restournats, IDF_by_words)\n"
   ],
   "outputs": [],
   "execution_count": 9
  },
  {
   "cell_type": "markdown",
   "id": "a783d57a",
   "metadata": {},
   "source": [
    "### ***Ranked serch engine***"
   ]
  },
  {
   "cell_type": "code",
   "id": "17fc15ff",
   "metadata": {
    "ExecuteTime": {
     "end_time": "2024-11-13T15:57:26.141786Z",
     "start_time": "2024-11-13T15:57:26.088114Z"
    }
   },
   "source": [
    "# Initialize a flag (done) to control the while loop for searching\n",
    "done = False\n",
    "\n",
    "# Example query for testing the non-ranked search engine\n",
    "sample_input = \"modern seasonal cuisine\"\n",
    "top_k_to_print = 3\n",
    "# Loop for querying the search engine until the search is completed, only usefull in case of custom serch\n",
    "while (done == False):\n",
    "    # Uncomment the next line to enable user input\n",
    "    # sample_input = input(\"what do you want to eat?\\n\")\n",
    "    top_rest = ranked_engine(sample_input, restaurants_df, vocabulary, reverse_index_tf_idf, IDF_by_words, top_k_to_print)\n",
    "    done = True\n",
    "\n"
   ],
   "outputs": [
    {
     "name": "stdout",
     "output_type": "stream",
     "text": [
      "We found 1396 matches!\n",
      "\n",
      "╭─────────────────────┬──────────────────────┬───────────────────────────┬───────────────────────────┬──────────╮\n",
      "│ Restaurant Name     │ Address              │ Description               │ Website                   │   Cosine │\n",
      "├─────────────────────┼──────────────────────┼───────────────────────────┼───────────────────────────┼──────────┤\n",
      "│ Fracia              │ località Fracia      │ Park the car and walk up  │ https://www.ristorantefra │ 0.824838 │\n",
      "│                     │                      │ a short track (about 5... │ cia.it/                   │          │\n",
      "├─────────────────────┼──────────────────────┼───────────────────────────┼───────────────────────────┼──────────┤\n",
      "│ Amo Bistrot         │ Vicoletto Due Mori 5 │ Traditional features such │ http://www.amobistrot.it  │ 0.824838 │\n",
      "│                     │                      │ as exposed stone wall...  │                           │          │\n",
      "├─────────────────────┼──────────────────────┼───────────────────────────┼───────────────────────────┼──────────┤\n",
      "│ Sa Domu Sarda       │ via Sassari 51       │ Despite being an island,  │ https://www.osteriasadomu │ 0.824838 │\n",
      "│                     │                      │ Sardinia’s traditional... │ sarda.it/                 │          │\n",
      "├─────────────────────┼──────────────────────┼───────────────────────────┼───────────────────────────┼──────────┤\n",
      "│ LoRo                │ via Bruse 2          │ The cuisine served at     │ http://www.loroandco.com  │ 0.824838 │\n",
      "│                     │                      │ LoRo is imaginative both  │                           │          │\n",
      "│                     │                      │ ...                       │                           │          │\n",
      "├─────────────────────┼──────────────────────┼───────────────────────────┼───────────────────────────┼──────────┤\n",
      "│ La Trattoria Enrico │ Località Badiola     │ After a majestic picture- │ https://www.enricobartoli │ 0.824838 │\n",
      "│ Bartolini           │                      │ postcard approach via ... │ ni.net/ristorante-la-     │          │\n",
      "│                     │                      │                           │ trattoria-castiglione     │          │\n",
      "╰─────────────────────┴──────────────────────┴───────────────────────────┴───────────────────────────┴──────────╯\n"
     ]
    }
   ],
   "execution_count": 10
  },
  {
   "metadata": {},
   "cell_type": "markdown",
   "source": [
    "### ***Verifing cosine similarty computation***\n",
    "\n",
    "To verify if the cosine similarity is computed correctly we can querry the description of a restournat and it should return 1 as the cosine similarity with a huge gap to the second place"
   ],
   "id": "c52797a4639d931a"
  },
  {
   "metadata": {},
   "cell_type": "markdown",
   "source": [
    "##### description from restournat L'Acciuga :\n",
    "Anchovies, king prawns, cuttlefish and freshly caught fish are just some of the options available in this restaurant specialising in fish and seafood, where guests will be delighted by the fresh flavours of the ingredients. The small wine list, which also includes a few non-Italian labels, offers good value for money. The maritime-style decor evokes the interior of an old ship, while the warm welcome is typical of the region. All in all, an excellent choice!"
   ],
   "id": "692256bfb0c4e319"
  },
  {
   "metadata": {},
   "cell_type": "code",
   "outputs": [
    {
     "name": "stdout",
     "output_type": "stream",
     "text": [
      "╭───────────────────┬───────────────────────────┬───────────────────────────┬───────────────────────────┬──────────╮\n",
      "│ Restaurant Name   │ Address                   │ Description               │ Website                   │   Cosine │\n",
      "├───────────────────┼───────────────────────────┼───────────────────────────┼───────────────────────────┼──────────┤\n",
      "│ L'Acciuga         │ viale Francesco Baracca   │ Anchovies, king prawns,   │ https://lacciugaosteria.e │ 1        │\n",
      "│                   │ 74                        │ cuttlefish and freshly    │ atbu.com/?lang=it         │          │\n",
      "│                   │                           │ ...                       │                           │          │\n",
      "├───────────────────┼───────────────────────────┼───────────────────────────┼───────────────────────────┼──────────┤\n",
      "│ Cetaria           │ piazza della Repubblica 9 │ This beautiful restaurant │ https://www.cetariaristor │ 0.400065 │\n",
      "│                   │                           │ inland from Salerno i...  │ ante.it/                  │          │\n",
      "├───────────────────┼───────────────────────────┼───────────────────────────┼───────────────────────────┼──────────┤\n",
      "│ Lorenzo           │ via Carducci 61           │ This gastronomic          │ https://www.ristorantelor │ 0.398841 │\n",
      "│                   │                           │ institution has been an   │ enzo.com/it/              │          │\n",
      "│                   │                           │ emblem...                 │                           │          │\n",
      "╰───────────────────┴───────────────────────────┴───────────────────────────┴───────────────────────────┴──────────╯\n"
     ]
    }
   ],
   "execution_count": 6,
   "source": [
    "# Specifc querry for the ranked serch engine, since there are two l'Acciuga we specify the one to pick\n",
    "sample_input = restaurants_df[restaurants_df.restaurantName == \"L'Acciuga\"].description.iloc[0]\n",
    "# Loop for querying the search engine until the search is completed\n",
    "top_k_to_print = 3\n",
    "done = ranked_engine(sample_input, restaurants_df, vocabulary, reverse_index_tf_idf, IDF_by_words, top_k_to_print)"
   ],
   "id": "1cec9f1fd1d3ee27"
  },
  {
   "metadata": {},
   "cell_type": "markdown",
   "source": "### ***Upgraded raked engine***",
   "id": "719afe765e0972f"
  },
  {
   "metadata": {},
   "cell_type": "code",
   "outputs": [
    {
     "data": {
      "application/vnd.jupyter.widget-view+json": {
       "model_id": "505d1501509342a6b0537a0d24c57be2",
       "version_major": 2,
       "version_minor": 0
      },
      "text/plain": [
       "Text(value='modern seasonal cuisine', description='what do you want to eat?', placeholder='type something', st…"
      ]
     },
     "metadata": {},
     "output_type": "display_data"
    },
    {
     "data": {
      "application/vnd.jupyter.widget-view+json": {
       "model_id": "ea4f2e4805c74220bb5c3371ffeaafff",
       "version_major": 2,
       "version_minor": 0
      },
      "text/plain": [
       "BoundedIntText(value=5, description='How many restourants to display?', layout=Layout(width='45%'), style=Desc…"
      ]
     },
     "metadata": {},
     "output_type": "display_data"
    },
    {
     "data": {
      "application/vnd.jupyter.widget-view+json": {
       "model_id": "be0eb1b117d34783b667c14c0bbf91b7",
       "version_major": 2,
       "version_minor": 0
      },
      "text/plain": [
       "SelectionRangeSlider(description='Choose a price range:', index=(0, 3), layout=Layout(width='45%'), options=((…"
      ]
     },
     "metadata": {},
     "output_type": "display_data"
    },
    {
     "data": {
      "application/vnd.jupyter.widget-view+json": {
       "model_id": "56fae384aa0a4b48a508a27d7d89c12c",
       "version_major": 2,
       "version_minor": 0
      },
      "text/plain": [
       "Dropdown(description='Choose the cusine specialty: ', options=(\"don't care\", 'calabrian', 'country cooking', '…"
      ]
     },
     "metadata": {},
     "output_type": "display_data"
    },
    {
     "data": {
      "application/vnd.jupyter.widget-view+json": {
       "model_id": "255ea1a5d8f84a8f81ae799784aae14c",
       "version_major": 2,
       "version_minor": 0
      },
      "text/plain": [
       "VBox(children=(HBox(children=(Checkbox(value=False, description=\"don't care\", layout=Layout(max_width='auto', …"
      ]
     },
     "metadata": {},
     "output_type": "display_data"
    },
    {
     "data": {
      "application/vnd.jupyter.widget-view+json": {
       "model_id": "ff951daddf3145d3b4ea5750f0d90dee",
       "version_major": 2,
       "version_minor": 0
      },
      "text/plain": [
       "Button(description='Serch for some restournats', layout=Layout(width='250px'), style=ButtonStyle())"
      ]
     },
     "metadata": {},
     "output_type": "display_data"
    },
    {
     "name": "stdout",
     "output_type": "stream",
     "text": [
      "╭───────────────────┬──────────────────────────┬───────────────────────────┬───────────────────────────┬──────────╮\n",
      "│ Restaurant Name   │ Address                  │ Description               │ Website                   │   Cosine │\n",
      "├───────────────────┼──────────────────────────┼───────────────────────────┼───────────────────────────┼──────────┤\n",
      "│ Ca' Del Moro      │ località Erbin 31        │ Situated within the La    │ https://www.cadelmoro.win │  1.4     │\n",
      "│                   │                          │ Collina dei Ciliegi       │ e/it                      │          │\n",
      "│                   │                          │ wine...                   │                           │          │\n",
      "├───────────────────┼──────────────────────────┼───────────────────────────┼───────────────────────────┼──────────┤\n",
      "│ La Bandiera       │ contrada Pastini 4       │ Although it takes a while │ https://www.labandiera.it │  1.38629 │\n",
      "│                   │                          │ to reach this restaur...  │ /                         │          │\n",
      "├───────────────────┼──────────────────────────┼───────────────────────────┼───────────────────────────┼──────────┤\n",
      "│ Barbieri          │ via Italo Barbieri       │ Enjoy your meal in the    │ https://www.hotelbarbieri │  1.2543  │\n",
      "│                   │                          │ classic - style dining    │ .it                       │          │\n",
      "│                   │                          │ r...                      │                           │          │\n",
      "├───────────────────┼──────────────────────────┼───────────────────────────┼───────────────────────────┼──────────┤\n",
      "│ Cuculia           │ via dei Serragli 3r      │ This beautiful restaurant │ https://www.cuculia.it    │  1.2543  │\n",
      "│                   │                          │ with a smart and eleg...  │                           │          │\n",
      "├───────────────────┼──────────────────────────┼───────────────────────────┼───────────────────────────┼──────────┤\n",
      "│ Il Colmetto       │ via Finilnuovo 9         │ A true gourmet            │ https://www.ilcolmetto.it │  1.2543  │\n",
      "│                   │                          │ agriturismo, Il Colmetto  │                           │          │\n",
      "│                   │                          │ changes...                │                           │          │\n",
      "├───────────────────┼──────────────────────────┼───────────────────────────┼───────────────────────────┼──────────┤\n",
      "│ Regio Patio       │ via San Francesco        │ Situated just a stone’s   │ http://www.regiopatio.it  │  1.2543  │\n",
      "│                   │ d'Assisi 23              │ throw from the            │                           │          │\n",
      "│                   │                          │ lakefron...               │                           │          │\n",
      "├───────────────────┼──────────────────────────┼───────────────────────────┼───────────────────────────┼──────────┤\n",
      "│ Alto              │ via Circondariale San    │ The top floor of the      │ http://www.altoristorante │  1.2543  │\n",
      "│                   │ Francesco 2              │ renovated Executive Spa   │ .com                      │          │\n",
      "│                   │                          │ Ho...                     │                           │          │\n",
      "├───────────────────┼──────────────────────────┼───────────────────────────┼───────────────────────────┼──────────┤\n",
      "│ La Peca           │ via Alberto Giovanelli 2 │ When you arrive in the    │ https://lapeca.it/        │  1.2543  │\n",
      "│                   │                          │ upper part of Lonigo      │                           │          │\n",
      "│                   │                          │ and...                    │                           │          │\n",
      "╰───────────────────┴──────────────────────────┴───────────────────────────┴───────────────────────────┴──────────╯\n"
     ]
    },
    {
     "data": {
      "text/plain": [
       "['€€€', '€€€', '€€', '€€€', '€€€', '€€€€', '€€€', '€€€€']"
      ]
     },
     "execution_count": 7,
     "metadata": {},
     "output_type": "execute_result"
    }
   ],
   "execution_count": 7,
   "source": [
    "\n",
    "facilities = extract_facilities(restaurants_df[\"facilitiesServices\"])\n",
    "cusine_types = extract_facilities(restaurants_df[\"cuisineType\"])\n",
    "\n",
    "\n",
    "top_result, restoraunt_cost = upgraded_ranked_engine(facilities, cusine_types, vocabulary, IDF_by_words, reverse_index_tf_idf, restaurants_df)\n",
    "restoraunt_cost"
   ],
   "id": "af09d4aaa355f71"
  },
  {
   "metadata": {},
   "cell_type": "code",
   "outputs": [],
   "source": "",
   "id": "c83cad1b7622f850",
   "execution_count": null
  },
  {
   "metadata": {},
   "cell_type": "code",
   "outputs": [],
   "execution_count": null,
   "source": "",
   "id": "3b3dfd9984c1c779"
  },
  {
   "metadata": {},
   "cell_type": "markdown",
   "source": "### ***4. Visualizing the Most Relevant Restaurants***\n",
   "id": "da2d4d6a00127ce4"
  },
  {
   "metadata": {
    "ExecuteTime": {
     "end_time": "2024-11-14T21:34:10.277595Z",
     "start_time": "2024-11-14T21:34:09.162193Z"
    }
   },
   "cell_type": "code",
   "source": [
    "import pandas as pd\n",
    "import plotly.express as px\n",
    "from geocode_restaurants import get_region_and_coordinates\n",
    "\n",
    "pd.set_option('display.max_columns', None)\n",
    "pd.set_option('display.float_format', '{:.3f}'.format)"
   ],
   "id": "3cc8e317779309ae",
   "outputs": [],
   "execution_count": 60
  },
  {
   "metadata": {
    "ExecuteTime": {
     "end_time": "2024-11-14T21:34:10.604626Z",
     "start_time": "2024-11-14T21:34:10.294961Z"
    }
   },
   "cell_type": "code",
   "source": [
    "\n",
    "restaurants_df = pd.read_csv(\"restaurants_i.tsv\", sep=\"\\t\", header=0)\n",
    "restaurants_df[\"city\"] = restaurants_df[\"city\"].str.strip()\n",
    "\n",
    "data_restaurants = restaurants_df[[\"restaurantName\", \"city\", \"priceRange\"]]\n"
   ],
   "id": "2bd547c63c996ad3",
   "outputs": [],
   "execution_count": 61
  },
  {
   "metadata": {},
   "cell_type": "markdown",
   "source": [
    "### ***Geocode Locations***\n",
    "We used Google Geocoding API for finding region, latitude, longitude for each city.\n",
    "We created a python file, and through it we sent requests to the API, which contained the names of the cities of Italy.\n",
    "\n",
    "Structure of query\n",
    "https://maps.googleapis.com/maps/api/geocode/json?address={city},Italy&key={api_key}\n",
    "\n",
    "API KEY in .env file, which forbidden to upload to GitHub(To save my money! It costs 15 $ but I had free credits).\n",
    "\n",
    "```bash\n",
    "geocode_restaurants.py\n",
    "```\n",
    "\n"
   ],
   "id": "19530eb43fab5309"
  },
  {
   "metadata": {
    "ExecuteTime": {
     "end_time": "2024-11-14T17:35:47.274941Z",
     "start_time": "2024-11-14T17:32:29.823684Z"
    }
   },
   "cell_type": "code",
   "outputs": [
    {
     "name": "stdout",
     "output_type": "stream",
     "text": [
      "                city     region  latitude  longitude\n",
      "0        Ventimiglia    Liguria    43.791      7.608\n",
      "1         Acqualagna     Marche    43.619     12.673\n",
      "2             Teglio   Lombardy    46.172     10.067\n",
      "3            Suzzara  Lombardia    44.991     10.745\n",
      "4             Verona     Veneto    45.438     10.992\n",
      "...              ...        ...       ...        ...\n",
      "1201        L'Aquila    Abruzzo    42.351     13.400\n",
      "1202        Altamura     Apulia    40.824     16.553\n",
      "1203          Robbio   Lombardy    45.289      8.594\n",
      "1204  Isola Dovarese   Lombardy    45.175     10.312\n",
      "1205          Cecina    Tuscany    43.309     10.519\n",
      "\n",
      "[1206 rows x 4 columns]\n"
     ]
    }
   ],
   "execution_count": 43,
   "source": [
    "cities = data_restaurants[\"city\"].unique()\n",
    "\n",
    "city_region_coords_list = []\n",
    "\n",
    "for city in cities:\n",
    "    region, latitude, longitude = get_region_and_coordinates(city)\n",
    "    city_region_coords_list.append({\n",
    "        \"city\": city,\n",
    "        \"region\": region,\n",
    "        \"latitude\": latitude,\n",
    "        \"longitude\": longitude\n",
    "    })\n",
    "\n",
    "city_region_coords_df = pd.DataFrame(city_region_coords_list)\n",
    "#save to file\n",
    "city_region_coords_df.to_csv(\"italy_cities_regions.tsv\", index=False, encoding=\"utf-8\", sep=\"\\t\")\n",
    "print(city_region_coords_df)\n"
   ],
   "id": "6f04c4f4f22f961f"
  },
  {
   "metadata": {
    "ExecuteTime": {
     "end_time": "2024-11-14T21:34:25.229658Z",
     "start_time": "2024-11-14T21:34:25.208256Z"
    }
   },
   "cell_type": "code",
   "source": [
    "cities_region = pd.read_csv(\"italy_cities_regions.tsv\", sep=\"\\t\", header=0)\n",
    "cities_region"
   ],
   "id": "f4f640ca58e9a454",
   "outputs": [
    {
     "data": {
      "text/plain": [
       "                city     region  latitude  longitude\n",
       "0        Ventimiglia    Liguria    43.791      7.608\n",
       "1         Acqualagna     Marche    43.619     12.673\n",
       "2             Teglio   Lombardy    46.172     10.067\n",
       "3            Suzzara  Lombardia    44.991     10.745\n",
       "4             Verona     Veneto    45.438     10.992\n",
       "...              ...        ...       ...        ...\n",
       "1201        L'Aquila    Abruzzo    42.351     13.400\n",
       "1202        Altamura     Apulia    40.824     16.553\n",
       "1203          Robbio   Lombardy    45.289      8.594\n",
       "1204  Isola Dovarese   Lombardy    45.175     10.312\n",
       "1205          Cecina    Tuscany    43.309     10.519\n",
       "\n",
       "[1206 rows x 4 columns]"
      ],
      "text/html": [
       "<div>\n",
       "<style scoped>\n",
       "    .dataframe tbody tr th:only-of-type {\n",
       "        vertical-align: middle;\n",
       "    }\n",
       "\n",
       "    .dataframe tbody tr th {\n",
       "        vertical-align: top;\n",
       "    }\n",
       "\n",
       "    .dataframe thead th {\n",
       "        text-align: right;\n",
       "    }\n",
       "</style>\n",
       "<table border=\"1\" class=\"dataframe\">\n",
       "  <thead>\n",
       "    <tr style=\"text-align: right;\">\n",
       "      <th></th>\n",
       "      <th>city</th>\n",
       "      <th>region</th>\n",
       "      <th>latitude</th>\n",
       "      <th>longitude</th>\n",
       "    </tr>\n",
       "  </thead>\n",
       "  <tbody>\n",
       "    <tr>\n",
       "      <th>0</th>\n",
       "      <td>Ventimiglia</td>\n",
       "      <td>Liguria</td>\n",
       "      <td>43.791</td>\n",
       "      <td>7.608</td>\n",
       "    </tr>\n",
       "    <tr>\n",
       "      <th>1</th>\n",
       "      <td>Acqualagna</td>\n",
       "      <td>Marche</td>\n",
       "      <td>43.619</td>\n",
       "      <td>12.673</td>\n",
       "    </tr>\n",
       "    <tr>\n",
       "      <th>2</th>\n",
       "      <td>Teglio</td>\n",
       "      <td>Lombardy</td>\n",
       "      <td>46.172</td>\n",
       "      <td>10.067</td>\n",
       "    </tr>\n",
       "    <tr>\n",
       "      <th>3</th>\n",
       "      <td>Suzzara</td>\n",
       "      <td>Lombardia</td>\n",
       "      <td>44.991</td>\n",
       "      <td>10.745</td>\n",
       "    </tr>\n",
       "    <tr>\n",
       "      <th>4</th>\n",
       "      <td>Verona</td>\n",
       "      <td>Veneto</td>\n",
       "      <td>45.438</td>\n",
       "      <td>10.992</td>\n",
       "    </tr>\n",
       "    <tr>\n",
       "      <th>...</th>\n",
       "      <td>...</td>\n",
       "      <td>...</td>\n",
       "      <td>...</td>\n",
       "      <td>...</td>\n",
       "    </tr>\n",
       "    <tr>\n",
       "      <th>1201</th>\n",
       "      <td>L'Aquila</td>\n",
       "      <td>Abruzzo</td>\n",
       "      <td>42.351</td>\n",
       "      <td>13.400</td>\n",
       "    </tr>\n",
       "    <tr>\n",
       "      <th>1202</th>\n",
       "      <td>Altamura</td>\n",
       "      <td>Apulia</td>\n",
       "      <td>40.824</td>\n",
       "      <td>16.553</td>\n",
       "    </tr>\n",
       "    <tr>\n",
       "      <th>1203</th>\n",
       "      <td>Robbio</td>\n",
       "      <td>Lombardy</td>\n",
       "      <td>45.289</td>\n",
       "      <td>8.594</td>\n",
       "    </tr>\n",
       "    <tr>\n",
       "      <th>1204</th>\n",
       "      <td>Isola Dovarese</td>\n",
       "      <td>Lombardy</td>\n",
       "      <td>45.175</td>\n",
       "      <td>10.312</td>\n",
       "    </tr>\n",
       "    <tr>\n",
       "      <th>1205</th>\n",
       "      <td>Cecina</td>\n",
       "      <td>Tuscany</td>\n",
       "      <td>43.309</td>\n",
       "      <td>10.519</td>\n",
       "    </tr>\n",
       "  </tbody>\n",
       "</table>\n",
       "<p>1206 rows × 4 columns</p>\n",
       "</div>"
      ]
     },
     "execution_count": 63,
     "metadata": {},
     "output_type": "execute_result"
    }
   ],
   "execution_count": 63
  },
  {
   "metadata": {
    "ExecuteTime": {
     "end_time": "2024-11-14T21:34:14.738474Z",
     "start_time": "2024-11-14T21:34:14.674550Z"
    }
   },
   "cell_type": "code",
   "source": "data_restaurants",
   "id": "601e167ef19b3eca",
   "outputs": [
    {
     "data": {
      "text/plain": [
       "                restaurantName            city priceRange\n",
       "0        Il Giardino del Gusto     Ventimiglia        €€€\n",
       "1                  Anticofurlo      Acqualagna         €€\n",
       "2                       Fracia          Teglio          €\n",
       "3     Mangiare Bere Uomo Donna         Suzzara          €\n",
       "4                  Amo Bistrot          Verona         €€\n",
       "...                        ...             ...        ...\n",
       "1977       uovodiseppia Milano           Milan        €€€\n",
       "1978               Anto e Robi          Robbio         €€\n",
       "1979            Caffè La Crepa  Isola Dovarese         €€\n",
       "1980                Il Doretto          Cecina         €€\n",
       "1981          Osteria le Logge          Sienna         €€\n",
       "\n",
       "[1982 rows x 3 columns]"
      ],
      "text/html": [
       "<div>\n",
       "<style scoped>\n",
       "    .dataframe tbody tr th:only-of-type {\n",
       "        vertical-align: middle;\n",
       "    }\n",
       "\n",
       "    .dataframe tbody tr th {\n",
       "        vertical-align: top;\n",
       "    }\n",
       "\n",
       "    .dataframe thead th {\n",
       "        text-align: right;\n",
       "    }\n",
       "</style>\n",
       "<table border=\"1\" class=\"dataframe\">\n",
       "  <thead>\n",
       "    <tr style=\"text-align: right;\">\n",
       "      <th></th>\n",
       "      <th>restaurantName</th>\n",
       "      <th>city</th>\n",
       "      <th>priceRange</th>\n",
       "    </tr>\n",
       "  </thead>\n",
       "  <tbody>\n",
       "    <tr>\n",
       "      <th>0</th>\n",
       "      <td>Il Giardino del Gusto</td>\n",
       "      <td>Ventimiglia</td>\n",
       "      <td>€€€</td>\n",
       "    </tr>\n",
       "    <tr>\n",
       "      <th>1</th>\n",
       "      <td>Anticofurlo</td>\n",
       "      <td>Acqualagna</td>\n",
       "      <td>€€</td>\n",
       "    </tr>\n",
       "    <tr>\n",
       "      <th>2</th>\n",
       "      <td>Fracia</td>\n",
       "      <td>Teglio</td>\n",
       "      <td>€</td>\n",
       "    </tr>\n",
       "    <tr>\n",
       "      <th>3</th>\n",
       "      <td>Mangiare Bere Uomo Donna</td>\n",
       "      <td>Suzzara</td>\n",
       "      <td>€</td>\n",
       "    </tr>\n",
       "    <tr>\n",
       "      <th>4</th>\n",
       "      <td>Amo Bistrot</td>\n",
       "      <td>Verona</td>\n",
       "      <td>€€</td>\n",
       "    </tr>\n",
       "    <tr>\n",
       "      <th>...</th>\n",
       "      <td>...</td>\n",
       "      <td>...</td>\n",
       "      <td>...</td>\n",
       "    </tr>\n",
       "    <tr>\n",
       "      <th>1977</th>\n",
       "      <td>uovodiseppia Milano</td>\n",
       "      <td>Milan</td>\n",
       "      <td>€€€</td>\n",
       "    </tr>\n",
       "    <tr>\n",
       "      <th>1978</th>\n",
       "      <td>Anto e Robi</td>\n",
       "      <td>Robbio</td>\n",
       "      <td>€€</td>\n",
       "    </tr>\n",
       "    <tr>\n",
       "      <th>1979</th>\n",
       "      <td>Caffè La Crepa</td>\n",
       "      <td>Isola Dovarese</td>\n",
       "      <td>€€</td>\n",
       "    </tr>\n",
       "    <tr>\n",
       "      <th>1980</th>\n",
       "      <td>Il Doretto</td>\n",
       "      <td>Cecina</td>\n",
       "      <td>€€</td>\n",
       "    </tr>\n",
       "    <tr>\n",
       "      <th>1981</th>\n",
       "      <td>Osteria le Logge</td>\n",
       "      <td>Sienna</td>\n",
       "      <td>€€</td>\n",
       "    </tr>\n",
       "  </tbody>\n",
       "</table>\n",
       "<p>1982 rows × 3 columns</p>\n",
       "</div>"
      ]
     },
     "execution_count": 62,
     "metadata": {},
     "output_type": "execute_result"
    }
   ],
   "execution_count": 62
  },
  {
   "metadata": {
    "ExecuteTime": {
     "end_time": "2024-11-14T21:13:41.135274Z",
     "start_time": "2024-11-14T21:13:41.033313Z"
    }
   },
   "cell_type": "code",
   "source": [
    "\n",
    "merged_restaurant_city = pd.merge(data_restaurants, cities_region, on=\"city\", how=\"left\")\n",
    "merged_restaurant_city = merged_restaurant_city.dropna()\n"
   ],
   "id": "ceed025ce1bacae8",
   "outputs": [],
   "execution_count": 39
  },
  {
   "metadata": {},
   "cell_type": "markdown",
   "source": "### ***Encoding Price Ranges***\n",
   "id": "14fbdbceba29d0b8"
  },
  {
   "metadata": {
    "ExecuteTime": {
     "end_time": "2024-11-14T21:35:16.553051Z",
     "start_time": "2024-11-14T21:35:16.251481Z"
    }
   },
   "cell_type": "code",
   "source": [
    "# Group by city to count the number of restaurants and display price ranges\n",
    "#I used price ranges because some cities have different restaurants with different priceRange so i create new column to update it\n",
    "restaurant_count_by_city = merged_restaurant_city.groupby(\"city\").agg(\n",
    "    restaurant_count=('restaurantName', 'count'),\n",
    "    price_ranges=('price_range', 'first'),\n",
    "    latitude=('latitude', 'first'),\n",
    "    longitude=('longitude', 'first')\n",
    ").reset_index()\n",
    "\n",
    "# Sort by descending number of restaurants\n",
    "restaurant_count_by_city = restaurant_count_by_city.sort_values(by='restaurant_count', ascending=False).reset_index(\n",
    "    drop=True)\n",
    "\n",
    "restaurant_count_by_city\n"
   ],
   "id": "c3a5f334f88a3a82",
   "outputs": [
    {
     "data": {
      "text/plain": [
       "                          city  restaurant_count price_ranges  latitude  \\\n",
       "0                        Milan                87       €-€€€€    45.469   \n",
       "1                         Rome                62       €-€€€€    41.897   \n",
       "2                     Florence                32       €-€€€€    43.770   \n",
       "3                        Turin                32       €-€€€€    45.070   \n",
       "4                       Naples                27       €-€€€€    40.852   \n",
       "...                        ...               ...          ...       ...   \n",
       "1175  sestiere Cannaregio 3628                 1           €€    45.444   \n",
       "1176    sestiere Castello 3303                 1         €€€€    45.437   \n",
       "1177    sestiere Castello 3499                 1          €€€    45.437   \n",
       "1178    sestiere Castello 3886                 1          €€€    45.437   \n",
       "1179    sestiere Castello 3968                 1          €€€    45.437   \n",
       "\n",
       "      longitude  \n",
       "0         9.182  \n",
       "1        12.482  \n",
       "2        11.258  \n",
       "3         7.687  \n",
       "4        14.268  \n",
       "...         ...  \n",
       "1175     12.335  \n",
       "1176     12.341  \n",
       "1177     12.341  \n",
       "1178     12.341  \n",
       "1179     12.341  \n",
       "\n",
       "[1180 rows x 5 columns]"
      ],
      "text/html": [
       "<div>\n",
       "<style scoped>\n",
       "    .dataframe tbody tr th:only-of-type {\n",
       "        vertical-align: middle;\n",
       "    }\n",
       "\n",
       "    .dataframe tbody tr th {\n",
       "        vertical-align: top;\n",
       "    }\n",
       "\n",
       "    .dataframe thead th {\n",
       "        text-align: right;\n",
       "    }\n",
       "</style>\n",
       "<table border=\"1\" class=\"dataframe\">\n",
       "  <thead>\n",
       "    <tr style=\"text-align: right;\">\n",
       "      <th></th>\n",
       "      <th>city</th>\n",
       "      <th>restaurant_count</th>\n",
       "      <th>price_ranges</th>\n",
       "      <th>latitude</th>\n",
       "      <th>longitude</th>\n",
       "    </tr>\n",
       "  </thead>\n",
       "  <tbody>\n",
       "    <tr>\n",
       "      <th>0</th>\n",
       "      <td>Milan</td>\n",
       "      <td>87</td>\n",
       "      <td>€-€€€€</td>\n",
       "      <td>45.469</td>\n",
       "      <td>9.182</td>\n",
       "    </tr>\n",
       "    <tr>\n",
       "      <th>1</th>\n",
       "      <td>Rome</td>\n",
       "      <td>62</td>\n",
       "      <td>€-€€€€</td>\n",
       "      <td>41.897</td>\n",
       "      <td>12.482</td>\n",
       "    </tr>\n",
       "    <tr>\n",
       "      <th>2</th>\n",
       "      <td>Florence</td>\n",
       "      <td>32</td>\n",
       "      <td>€-€€€€</td>\n",
       "      <td>43.770</td>\n",
       "      <td>11.258</td>\n",
       "    </tr>\n",
       "    <tr>\n",
       "      <th>3</th>\n",
       "      <td>Turin</td>\n",
       "      <td>32</td>\n",
       "      <td>€-€€€€</td>\n",
       "      <td>45.070</td>\n",
       "      <td>7.687</td>\n",
       "    </tr>\n",
       "    <tr>\n",
       "      <th>4</th>\n",
       "      <td>Naples</td>\n",
       "      <td>27</td>\n",
       "      <td>€-€€€€</td>\n",
       "      <td>40.852</td>\n",
       "      <td>14.268</td>\n",
       "    </tr>\n",
       "    <tr>\n",
       "      <th>...</th>\n",
       "      <td>...</td>\n",
       "      <td>...</td>\n",
       "      <td>...</td>\n",
       "      <td>...</td>\n",
       "      <td>...</td>\n",
       "    </tr>\n",
       "    <tr>\n",
       "      <th>1175</th>\n",
       "      <td>sestiere Cannaregio 3628</td>\n",
       "      <td>1</td>\n",
       "      <td>€€</td>\n",
       "      <td>45.444</td>\n",
       "      <td>12.335</td>\n",
       "    </tr>\n",
       "    <tr>\n",
       "      <th>1176</th>\n",
       "      <td>sestiere Castello 3303</td>\n",
       "      <td>1</td>\n",
       "      <td>€€€€</td>\n",
       "      <td>45.437</td>\n",
       "      <td>12.341</td>\n",
       "    </tr>\n",
       "    <tr>\n",
       "      <th>1177</th>\n",
       "      <td>sestiere Castello 3499</td>\n",
       "      <td>1</td>\n",
       "      <td>€€€</td>\n",
       "      <td>45.437</td>\n",
       "      <td>12.341</td>\n",
       "    </tr>\n",
       "    <tr>\n",
       "      <th>1178</th>\n",
       "      <td>sestiere Castello 3886</td>\n",
       "      <td>1</td>\n",
       "      <td>€€€</td>\n",
       "      <td>45.437</td>\n",
       "      <td>12.341</td>\n",
       "    </tr>\n",
       "    <tr>\n",
       "      <th>1179</th>\n",
       "      <td>sestiere Castello 3968</td>\n",
       "      <td>1</td>\n",
       "      <td>€€€</td>\n",
       "      <td>45.437</td>\n",
       "      <td>12.341</td>\n",
       "    </tr>\n",
       "  </tbody>\n",
       "</table>\n",
       "<p>1180 rows × 5 columns</p>\n",
       "</div>"
      ]
     },
     "execution_count": 64,
     "metadata": {},
     "output_type": "execute_result"
    }
   ],
   "execution_count": 64
  },
  {
   "metadata": {},
   "cell_type": "markdown",
   "source": "",
   "id": "6b068f681fdc0c81"
  },
  {
   "metadata": {},
   "cell_type": "markdown",
   "source": "### ***Map Setup***\n",
   "id": "fa73ad3380dfcd1a"
  },
  {
   "metadata": {
    "ExecuteTime": {
     "end_time": "2024-11-14T21:38:18.092113Z",
     "start_time": "2024-11-14T21:38:17.910027Z"
    }
   },
   "cell_type": "code",
   "source": [
    "# I multiplied 50 for better visualization \n",
    "restaurant_count_by_city['adjusted_restaurant_count'] = restaurant_count_by_city['restaurant_count'] * 50\n",
    "# Create Map color is price range size - count restaurant by city\n",
    "fig = px.scatter_mapbox(\n",
    "    restaurant_count_by_city,\n",
    "    lat=\"latitude\",\n",
    "    lon=\"longitude\",\n",
    "    size=\"adjusted_restaurant_count\",\n",
    "    color=\"price_ranges\",\n",
    "    hover_name=\"city\",\n",
    "    hover_data={\"restaurant_count\": True, \"price_ranges\": True},\n",
    "    title=\"Distribution of restaurants by city and their price ranges\",\n",
    "    size_max=100,\n",
    "    zoom=5,\n",
    "    height=600\n",
    ")\n",
    "\n",
    "fig.update_layout(\n",
    "    mapbox_style=\"open-street-map\",\n",
    "    margin={\"r\": 0, \"t\": 50, \"l\": 0, \"b\": 0}\n",
    ")\n",
    "\n",
    "fig.show()\n"
   ],
   "id": "153a4b94e16070d3",
   "outputs": [
    {
     "data": {
      "application/vnd.plotly.v1+json": {
       "data": [
        {
         "customdata": [
          [
           87,
           "€-€€€€"
          ],
          [
           62,
           "€-€€€€"
          ],
          [
           32,
           "€-€€€€"
          ],
          [
           32,
           "€-€€€€"
          ],
          [
           27,
           "€-€€€€"
          ],
          [
           19,
           "€-€€€€"
          ],
          [
           18,
           "€-€€€€"
          ],
          [
           9,
           "€-€€€€"
          ],
          [
           7,
           "€-€€€€"
          ],
          [
           7,
           "€-€€€€"
          ],
          [
           7,
           "€-€€€€"
          ],
          [
           7,
           "€-€€€€"
          ],
          [
           3,
           "€-€€€€"
          ]
         ],
         "hovertemplate": "<b>%{hovertext}</b><br><br>price_ranges=%{customdata[1]}<br>adjusted_restaurant_count=%{marker.size}<br>latitude=%{lat}<br>longitude=%{lon}<br>restaurant_count=%{customdata[0]}<extra></extra>",
         "hovertext": [
          "Milan",
          "Rome",
          "Florence",
          "Turin",
          "Naples",
          "Verona",
          "Bologna",
          "Palermo",
          "Modena",
          "Lucca",
          "Parma",
          "Catania",
          "Montalcino"
         ],
         "lat": [
          45.468503,
          41.8967068,
          43.7699685,
          45.0703155,
          40.8517983,
          45.4383659,
          44.494887,
          38.1156864,
          44.647128,
          43.8430391,
          44.8014788,
          37.5078836,
          43.0551134
         ],
         "legendgroup": "€-€€€€",
         "lon": [
          9.1824027,
          12.4822025,
          11.2576706,
          7.6868552,
          14.26812,
          10.9917136,
          11.3426163,
          13.3614635,
          10.9252269,
          10.5156532,
          10.3279911,
          15.0830032,
          11.4891562
         ],
         "marker": {
          "color": "#636efa",
          "size": [
           4350,
           3100,
           1600,
           1600,
           1350,
           950,
           900,
           450,
           350,
           350,
           350,
           350,
           150
          ],
          "sizemode": "area",
          "sizeref": 0.435
         },
         "mode": "markers",
         "name": "€-€€€€",
         "showlegend": true,
         "subplot": "mapbox",
         "type": "scattermapbox"
        },
        {
         "customdata": [
          [
           16,
           "€€-€€€€"
          ],
          [
           8,
           "€€-€€€€"
          ],
          [
           7,
           "€€-€€€€"
          ],
          [
           7,
           "€€-€€€€"
          ],
          [
           7,
           "€€-€€€€"
          ],
          [
           6,
           "€€-€€€€"
          ],
          [
           6,
           "€€-€€€€"
          ],
          [
           6,
           "€€-€€€€"
          ],
          [
           5,
           "€€-€€€€"
          ],
          [
           5,
           "€€-€€€€"
          ],
          [
           5,
           "€€-€€€€"
          ],
          [
           5,
           "€€-€€€€"
          ],
          [
           5,
           "€€-€€€€"
          ],
          [
           5,
           "€€-€€€€"
          ],
          [
           4,
           "€€-€€€€"
          ],
          [
           4,
           "€€-€€€€"
          ],
          [
           4,
           "€€-€€€€"
          ],
          [
           4,
           "€€-€€€€"
          ],
          [
           4,
           "€€-€€€€"
          ],
          [
           4,
           "€€-€€€€"
          ],
          [
           4,
           "€€-€€€€"
          ],
          [
           4,
           "€€-€€€€"
          ],
          [
           4,
           "€€-€€€€"
          ],
          [
           3,
           "€€-€€€€"
          ],
          [
           3,
           "€€-€€€€"
          ],
          [
           3,
           "€€-€€€€"
          ],
          [
           3,
           "€€-€€€€"
          ],
          [
           3,
           "€€-€€€€"
          ],
          [
           3,
           "€€-€€€€"
          ],
          [
           3,
           "€€-€€€€"
          ],
          [
           2,
           "€€-€€€€"
          ],
          [
           2,
           "€€-€€€€"
          ],
          [
           2,
           "€€-€€€€"
          ],
          [
           2,
           "€€-€€€€"
          ],
          [
           2,
           "€€-€€€€"
          ],
          [
           2,
           "€€-€€€€"
          ],
          [
           2,
           "€€-€€€€"
          ],
          [
           2,
           "€€-€€€€"
          ],
          [
           2,
           "€€-€€€€"
          ],
          [
           2,
           "€€-€€€€"
          ],
          [
           2,
           "€€-€€€€"
          ],
          [
           2,
           "€€-€€€€"
          ],
          [
           2,
           "€€-€€€€"
          ],
          [
           2,
           "€€-€€€€"
          ],
          [
           2,
           "€€-€€€€"
          ]
         ],
         "hovertemplate": "<b>%{hovertext}</b><br><br>price_ranges=%{customdata[1]}<br>adjusted_restaurant_count=%{marker.size}<br>latitude=%{lat}<br>longitude=%{lon}<br>restaurant_count=%{customdata[0]}<extra></extra>",
         "hovertext": [
          "Genoa",
          "Positano",
          "Viareggio",
          "Cortina d'Ampezzo",
          "Corvara in Badia",
          "Taormina",
          "Sorrento",
          "Bergamo",
          "Ostuni",
          "Aosta",
          "Monforte d'Alba",
          "Salerno",
          "Paestum",
          "Matera",
          "Trieste",
          "Perugia",
          "Selva di Val Gardena",
          "Noto",
          "Asiago",
          "Modica",
          "Arezzo",
          "Cefalu",
          "Brixen",
          "San Gimignano",
          "Ragusa",
          "Senigallia",
          "Anacapri",
          "Sarentino",
          "Colle di Val d'Elsa",
          "Algund",
          "Vico Equense",
          "Vicenza",
          "Villa d'Almè",
          "Sant'Agata sui Due Golfi",
          "Pinzolo",
          "Polesine Parmense",
          "Noli",
          "Castiglione della Pescaia",
          "Gardone Riviera",
          "Guarene",
          "Furore",
          "Fagnano Olona",
          "Desenzano del Garda",
          "Dolegna del Collio",
          "Asti"
         ],
         "lat": [
          44.4071448,
          40.6294824,
          43.8657155,
          46.5378431,
          46.5475716,
          37.8545459,
          40.6263969,
          45.6941966,
          40.7296828,
          45.7350508,
          44.5829213,
          40.6813313,
          40.4269855,
          40.66636010000001,
          45.65083420000001,
          43.1107168,
          46.55596509999999,
          36.8924433,
          45.8755119,
          36.8589716,
          43.4633082,
          38.0349976,
          46.7104236,
          43.4672085,
          36.9239306,
          43.7197926,
          40.5520861,
          46.6427009,
          43.4199853,
          46.68302,
          40.6624141,
          45.5461815,
          45.7479935,
          40.6056513,
          46.1597717,
          45.0200275,
          44.20685870000001,
          42.7636762,
          45.623397,
          44.7375672,
          40.6185726,
          45.6684257,
          45.46982389999999,
          46.0314019,
          44.900765
         ],
         "legendgroup": "€€-€€€€",
         "lon": [
          8.934738099999999,
          14.4823462,
          10.2500486,
          12.1358821,
          11.8754005,
          15.2889438,
          14.3764167,
          9.6707462,
          17.5771782,
          7.3130948,
          7.967941,
          14.7743583,
          15.0050404,
          16.6044454,
          13.7674486,
          12.3908279,
          11.7558589,
          15.0651945,
          11.5107135,
          14.7608405,
          11.8796215,
          14.021222,
          11.6524696,
          11.0434187,
          14.7198951,
          13.2152224,
          14.2177508,
          11.3572951,
          11.1271708,
          11.1229498,
          14.4264646,
          11.5413779,
          9.6150902,
          14.3740169,
          10.7651024,
          10.0880438,
          8.4148879,
          10.8753047,
          10.5636497,
          8.0335805,
          14.5509614,
          8.866774,
          10.536538,
          13.4793245,
          8.206434999999999
         ],
         "marker": {
          "color": "#EF553B",
          "size": [
           800,
           400,
           350,
           350,
           350,
           300,
           300,
           300,
           250,
           250,
           250,
           250,
           250,
           250,
           200,
           200,
           200,
           200,
           200,
           200,
           200,
           200,
           200,
           150,
           150,
           150,
           150,
           150,
           150,
           150,
           100,
           100,
           100,
           100,
           100,
           100,
           100,
           100,
           100,
           100,
           100,
           100,
           100,
           100,
           100
          ],
          "sizemode": "area",
          "sizeref": 0.435
         },
         "mode": "markers",
         "name": "€€-€€€€",
         "showlegend": true,
         "subplot": "mapbox",
         "type": "scattermapbox"
        },
        {
         "customdata": [
          [
           11,
           "€€-€€€"
          ],
          [
           7,
           "€€-€€€"
          ],
          [
           6,
           "€€-€€€"
          ],
          [
           5,
           "€€-€€€"
          ],
          [
           5,
           "€€-€€€"
          ],
          [
           5,
           "€€-€€€"
          ],
          [
           4,
           "€€-€€€"
          ],
          [
           4,
           "€€-€€€"
          ],
          [
           4,
           "€€-€€€"
          ],
          [
           4,
           "€€-€€€"
          ],
          [
           4,
           "€€-€€€"
          ],
          [
           3,
           "€€-€€€"
          ],
          [
           3,
           "€€-€€€"
          ],
          [
           3,
           "€€-€€€"
          ],
          [
           3,
           "€€-€€€"
          ],
          [
           3,
           "€€-€€€"
          ],
          [
           3,
           "€€-€€€"
          ],
          [
           3,
           "€€-€€€"
          ],
          [
           3,
           "€€-€€€"
          ],
          [
           3,
           "€€-€€€"
          ],
          [
           3,
           "€€-€€€"
          ],
          [
           3,
           "€€-€€€"
          ],
          [
           3,
           "€€-€€€"
          ],
          [
           3,
           "€€-€€€"
          ],
          [
           3,
           "€€-€€€"
          ],
          [
           3,
           "€€-€€€"
          ],
          [
           2,
           "€€-€€€"
          ],
          [
           2,
           "€€-€€€"
          ],
          [
           2,
           "€€-€€€"
          ],
          [
           2,
           "€€-€€€"
          ],
          [
           2,
           "€€-€€€"
          ],
          [
           2,
           "€€-€€€"
          ],
          [
           2,
           "€€-€€€"
          ],
          [
           2,
           "€€-€€€"
          ],
          [
           2,
           "€€-€€€"
          ],
          [
           2,
           "€€-€€€"
          ],
          [
           2,
           "€€-€€€"
          ],
          [
           2,
           "€€-€€€"
          ],
          [
           2,
           "€€-€€€"
          ],
          [
           2,
           "€€-€€€"
          ],
          [
           2,
           "€€-€€€"
          ],
          [
           2,
           "€€-€€€"
          ],
          [
           2,
           "€€-€€€"
          ],
          [
           2,
           "€€-€€€"
          ],
          [
           2,
           "€€-€€€"
          ],
          [
           2,
           "€€-€€€"
          ],
          [
           2,
           "€€-€€€"
          ],
          [
           2,
           "€€-€€€"
          ],
          [
           2,
           "€€-€€€"
          ],
          [
           2,
           "€€-€€€"
          ],
          [
           2,
           "€€-€€€"
          ],
          [
           2,
           "€€-€€€"
          ],
          [
           2,
           "€€-€€€"
          ],
          [
           2,
           "€€-€€€"
          ],
          [
           2,
           "€€-€€€"
          ],
          [
           2,
           "€€-€€€"
          ],
          [
           2,
           "€€-€€€"
          ],
          [
           2,
           "€€-€€€"
          ],
          [
           2,
           "€€-€€€"
          ],
          [
           2,
           "€€-€€€"
          ],
          [
           2,
           "€€-€€€"
          ],
          [
           2,
           "€€-€€€"
          ],
          [
           2,
           "€€-€€€"
          ],
          [
           2,
           "€€-€€€"
          ],
          [
           2,
           "€€-€€€"
          ],
          [
           2,
           "€€-€€€"
          ],
          [
           2,
           "€€-€€€"
          ],
          [
           2,
           "€€-€€€"
          ],
          [
           2,
           "€€-€€€"
          ],
          [
           2,
           "€€-€€€"
          ],
          [
           2,
           "€€-€€€"
          ]
         ],
         "hovertemplate": "<b>%{hovertext}</b><br><br>price_ranges=%{customdata[1]}<br>adjusted_restaurant_count=%{marker.size}<br>latitude=%{lat}<br>longitude=%{lon}<br>restaurant_count=%{customdata[0]}<extra></extra>",
         "hovertext": [
          "Brescia",
          "Treviso",
          "Cesenatico",
          "Padua",
          "Trento",
          "Bolzano",
          "Trani",
          "Stresa",
          "Sienna",
          "Pompei",
          "Cogne",
          "Riva del Garda",
          "Savona",
          "Tortona",
          "San Michele",
          "Olbia",
          "Nola",
          "Milano Marittima",
          "Alghero",
          "Fiumicino",
          "Castiglione delle Stiviere",
          "Livigno",
          "Chiavari",
          "Novara",
          "Montepulciano",
          "Pesaro",
          "Bardolino",
          "Volterra",
          "Vercelli",
          "Seregno",
          "Spinetta Marengo",
          "Borgomanero",
          "Albenga",
          "Vigano",
          "Terracina",
          "Venaria Reale",
          "Barbaresco",
          "Treviglio",
          "Biella",
          "Udine",
          "San Benedetto del Tronto",
          "San Casciano dei Bagni",
          "Ancona",
          "Pinerolo",
          "Pordenone",
          "Carrara",
          "Monfumo",
          "Monterosso al Mare",
          "Milazzo",
          "Canazei",
          "Piacenza",
          "Pollone",
          "Pettenasco",
          "Marzamemi",
          "Castellina in Chianti",
          "Moltrasio",
          "Maranello",
          "La Spezia",
          "Lampedusa",
          "Cavi di Lavagna",
          "Lucera",
          "Gallarate",
          "Forio",
          "Gavi",
          "Civitanova Marche",
          "Civitella Casanova",
          "Fiorano Modenese",
          "Follina",
          "Dolcedo",
          "Barletta",
          "Domodossola"
         ],
         "lat": [
          45.5415526,
          45.6669338,
          44.1994541,
          45.4105029,
          46.0677451,
          46.4949259,
          41.2765531,
          45.8882205,
          43.3184741,
          40.7496576,
          45.60831719999999,
          45.8893165,
          44.3034046,
          44.8952122,
          45.4464474,
          40.9236401,
          40.9280097,
          44.2804496,
          40.5582971,
          41.7735409,
          45.3883944,
          46.5381881,
          44.3166526,
          45.4467749,
          43.0984902,
          43.9111365,
          45.5484667,
          43.40425520000001,
          45.3207342,
          45.6500736,
          44.88248249999999,
          45.6988623,
          44.0490873,
          45.7253542,
          41.2903024,
          45.1301887,
          44.7253961,
          45.5211894,
          45.56288420000001,
          46.0652851,
          42.9430346,
          42.8678287,
          43.6071395,
          44.8845906,
          45.9626508,
          44.069655,
          45.8281101,
          44.1451854,
          38.2209947,
          46.47666599999999,
          45.0526415,
          45.5818392,
          45.8164795,
          36.7420487,
          43.4714811,
          45.86284130000001,
          44.5263024,
          44.1024504,
          35.5086218,
          44.2923026,
          41.5087874,
          45.6623632,
          40.7361255,
          44.6882163,
          43.3071211,
          42.3640553,
          44.53845339999999,
          45.9531663,
          43.9068619,
          41.3196635,
          46.1147418
         ],
         "legendgroup": "€€-€€€",
         "lon": [
          10.2118019,
          12.2430608,
          12.4011529,
          11.8782071,
          11.1214636,
          11.3402543,
          16.4198864,
          8.5257951,
          11.3305812,
          14.5053119,
          7.356122800000001,
          10.8431111,
          8.4743315,
          8.8633326,
          12.3468539,
          9.4964224,
          14.5301683,
          12.3492511,
          8.319106999999999,
          12.2397117,
          10.4819239,
          10.1374918,
          9.3199788,
          8.6168696,
          11.7873736,
          12.9114045,
          10.7202364,
          10.8550011,
          8.4180379,
          9.2086004,
          8.682054899999999,
          8.4622925,
          8.215266699999999,
          9.3272075,
          13.2488501,
          7.631197599999999,
          8.080743499999999,
          9.592688,
          8.0583397,
          13.2373414,
          13.8838136,
          11.8775215,
          13.5101741,
          7.330667599999999,
          12.6551504,
          10.0824161,
          11.9224607,
          9.6463794,
          15.2415039,
          11.7705828,
          9.6936883,
          8.0027783,
          8.4086676,
          15.1175207,
          11.2854783,
          9.0983073,
          10.8666834,
          9.8240826,
          12.59292,
          9.3751106,
          15.3340833,
          8.7921269,
          13.8651344,
          8.805599899999999,
          13.7282419,
          13.886627,
          10.8339023,
          12.118172,
          7.953037800000001,
          16.2838207,
          8.290948799999999
         ],
         "marker": {
          "color": "#00cc96",
          "size": [
           550,
           350,
           300,
           250,
           250,
           250,
           200,
           200,
           200,
           200,
           200,
           150,
           150,
           150,
           150,
           150,
           150,
           150,
           150,
           150,
           150,
           150,
           150,
           150,
           150,
           150,
           100,
           100,
           100,
           100,
           100,
           100,
           100,
           100,
           100,
           100,
           100,
           100,
           100,
           100,
           100,
           100,
           100,
           100,
           100,
           100,
           100,
           100,
           100,
           100,
           100,
           100,
           100,
           100,
           100,
           100,
           100,
           100,
           100,
           100,
           100,
           100,
           100,
           100,
           100,
           100,
           100,
           100,
           100,
           100,
           100
          ],
          "sizemode": "area",
          "sizeref": 0.435
         },
         "mode": "markers",
         "name": "€€-€€€",
         "showlegend": true,
         "subplot": "mapbox",
         "type": "scattermapbox"
        },
        {
         "customdata": [
          [
           10,
           "€-€€€"
          ],
          [
           7,
           "€-€€€"
          ],
          [
           7,
           "€-€€€"
          ],
          [
           5,
           "€-€€€"
          ],
          [
           5,
           "€-€€€"
          ],
          [
           4,
           "€-€€€"
          ],
          [
           3,
           "€-€€€"
          ],
          [
           2,
           "€-€€€"
          ],
          [
           2,
           "€-€€€"
          ],
          [
           2,
           "€-€€€"
          ],
          [
           2,
           "€-€€€"
          ],
          [
           2,
           "€-€€€"
          ],
          [
           2,
           "€-€€€"
          ],
          [
           2,
           "€-€€€"
          ],
          [
           2,
           "€-€€€"
          ],
          [
           2,
           "€-€€€"
          ]
         ],
         "hovertemplate": "<b>%{hovertext}</b><br><br>price_ranges=%{customdata[1]}<br>adjusted_restaurant_count=%{marker.size}<br>latitude=%{lat}<br>longitude=%{lon}<br>restaurant_count=%{customdata[0]}<extra></extra>",
         "hovertext": [
          "Cagliari",
          "Rimini",
          "Alba",
          "Pescara",
          "Ferrara",
          "La Morra",
          "Stradella",
          "Agrigento",
          "Terrasini",
          "Sasso Marconi",
          "Sauris",
          "Origgio",
          "Montrigiasco",
          "Moggiona",
          "Ariano Irpino",
          "Faenza"
         ],
         "lat": [
          39.2237323,
          44.0565776,
          44.7009526,
          42.4617624,
          44.83925,
          44.63897619999999,
          45.0756677,
          37.3088381,
          38.15137,
          44.3987165,
          46.4664469,
          45.5983986,
          45.7720843,
          43.7834467,
          41.1558174,
          44.2923321
         ],
         "legendgroup": "€-€€€",
         "lon": [
          9.1217194,
          12.5713325,
          8.0353488,
          14.2160321,
          11.6175537,
          7.9338239,
          9.307424,
          13.5857818,
          13.0829978,
          11.2480613,
          12.7080806,
          9.0149613,
          8.5105298,
          11.7918909,
          15.0905343,
          11.8667765
         ],
         "marker": {
          "color": "#ab63fa",
          "size": [
           500,
           350,
           350,
           250,
           250,
           200,
           150,
           100,
           100,
           100,
           100,
           100,
           100,
           100,
           100,
           100
          ],
          "sizemode": "area",
          "sizeref": 0.435
         },
         "mode": "markers",
         "name": "€-€€€",
         "showlegend": true,
         "subplot": "mapbox",
         "type": "scattermapbox"
        },
        {
         "customdata": [
          [
           8,
           "€€€-€€€€"
          ],
          [
           5,
           "€€€-€€€€"
          ],
          [
           4,
           "€€€-€€€€"
          ],
          [
           4,
           "€€€-€€€€"
          ],
          [
           4,
           "€€€-€€€€"
          ],
          [
           4,
           "€€€-€€€€"
          ],
          [
           4,
           "€€€-€€€€"
          ],
          [
           4,
           "€€€-€€€€"
          ],
          [
           3,
           "€€€-€€€€"
          ],
          [
           3,
           "€€€-€€€€"
          ],
          [
           3,
           "€€€-€€€€"
          ],
          [
           3,
           "€€€-€€€€"
          ],
          [
           3,
           "€€€-€€€€"
          ],
          [
           2,
           "€€€-€€€€"
          ],
          [
           2,
           "€€€-€€€€"
          ],
          [
           2,
           "€€€-€€€€"
          ],
          [
           2,
           "€€€-€€€€"
          ],
          [
           2,
           "€€€-€€€€"
          ],
          [
           2,
           "€€€-€€€€"
          ],
          [
           2,
           "€€€-€€€€"
          ],
          [
           2,
           "€€€-€€€€"
          ],
          [
           2,
           "€€€-€€€€"
          ],
          [
           2,
           "€€€-€€€€"
          ],
          [
           2,
           "€€€-€€€€"
          ],
          [
           2,
           "€€€-€€€€"
          ],
          [
           2,
           "€€€-€€€€"
          ],
          [
           2,
           "€€€-€€€€"
          ]
         ],
         "hovertemplate": "<b>%{hovertext}</b><br><br>price_ranges=%{customdata[1]}<br>adjusted_restaurant_count=%{marker.size}<br>latitude=%{lat}<br>longitude=%{lon}<br>restaurant_count=%{customdata[0]}<extra></extra>",
         "hovertext": [
          "Venice",
          "Amalfi",
          "Ventimiglia",
          "Sirmione",
          "Madonna di Campiglio",
          "Lecce",
          "Como",
          "Capri",
          "Prato",
          "Toblach",
          "Cernobbio",
          "Merano",
          "Castelnuovo Berardenga",
          "Sappada",
          "Serralunga d'Alba",
          "Carovigno",
          "Ortisei",
          "Olgiate Olona",
          "Arco",
          "Bagheria",
          "Porto San Giorgio",
          "Manduria",
          "Licata",
          "Lamezia Terme",
          "Linguaglossa",
          "Fasano del Garda",
          "Alassio"
         ],
         "lat": [
          45.440379,
          40.6338303,
          43.7912366,
          45.4650403,
          46.2302584,
          40.3515255,
          45.8063817,
          40.5532009,
          43.8777049,
          46.7355741,
          45.8403418,
          46.6711489,
          43.3444193,
          46.5660476,
          44.6095401,
          40.7022514,
          46.5753618,
          45.63278649999999,
          45.9180235,
          38.0789178,
          43.1801957,
          40.3979856,
          37.1016735,
          38.974656,
          37.842689,
          45.6236683,
          44.0037826
         ],
         "legendgroup": "€€€-€€€€",
         "lon": [
          12.3159547,
          14.6027661,
          7.6075864,
          10.6067412,
          10.826401,
          18.174966,
          9.0851867,
          14.222154,
          11.102228,
          12.2212221,
          9.075353,
          11.1525785,
          11.4988075,
          12.6859531,
          8.000267599999999,
          17.6616293,
          11.6702281,
          8.884968200000001,
          10.8860199,
          13.512365,
          13.7931002,
          17.6378072,
          13.937602,
          16.3183451,
          15.1418919,
          10.5716056,
          8.1653627
         ],
         "marker": {
          "color": "#FFA15A",
          "size": [
           400,
           250,
           200,
           200,
           200,
           200,
           200,
           200,
           150,
           150,
           150,
           150,
           150,
           100,
           100,
           100,
           100,
           100,
           100,
           100,
           100,
           100,
           100,
           100,
           100,
           100,
           100
          ],
          "sizemode": "area",
          "sizeref": 0.435
         },
         "mode": "markers",
         "name": "€€€-€€€€",
         "showlegend": true,
         "subplot": "mapbox",
         "type": "scattermapbox"
        },
        {
         "customdata": [
          [
           5,
           "€-€€"
          ],
          [
           4,
           "€-€€"
          ],
          [
           4,
           "€-€€"
          ],
          [
           3,
           "€-€€"
          ],
          [
           3,
           "€-€€"
          ],
          [
           2,
           "€-€€"
          ],
          [
           2,
           "€-€€"
          ],
          [
           2,
           "€-€€"
          ],
          [
           2,
           "€-€€"
          ],
          [
           2,
           "€-€€"
          ],
          [
           2,
           "€-€€"
          ],
          [
           2,
           "€-€€"
          ],
          [
           2,
           "€-€€"
          ],
          [
           2,
           "€-€€"
          ],
          [
           2,
           "€-€€"
          ],
          [
           2,
           "€-€€"
          ],
          [
           2,
           "€-€€"
          ],
          [
           2,
           "€-€€"
          ],
          [
           2,
           "€-€€"
          ]
         ],
         "hovertemplate": "<b>%{hovertext}</b><br><br>price_ranges=%{customdata[1]}<br>adjusted_restaurant_count=%{marker.size}<br>latitude=%{lat}<br>longitude=%{lon}<br>restaurant_count=%{customdata[0]}<extra></extra>",
         "hovertext": [
          "Cuneo",
          "Fano",
          "Cortona",
          "Campobasso",
          "Bra",
          "Santarcangelo di Romagna",
          "Bobbio",
          "Ponte dell'Olio",
          "Salsomaggiore Terme",
          "San Donato in Poggio",
          "Palazzolo sull'Oglio",
          "Orvieto",
          "Poggibonsi",
          "Marostica",
          "Isera",
          "Giulianova Lido",
          "Cetara",
          "Cusago",
          "Coloreto"
         ],
         "lat": [
          44.3844766,
          43.8424875,
          43.2750249,
          41.5602674,
          44.69230530000001,
          44.0637152,
          44.7699503,
          44.8706221,
          44.8162208,
          43.5360544,
          45.5958996,
          42.7185068,
          43.4728358,
          45.7445106,
          45.8852977,
          42.7512036,
          40.6477459,
          45.4486215,
          44.7692466
         ],
         "legendgroup": "€-€€",
         "lon": [
          7.5426711,
          13.0136891,
          11.9854545,
          14.6617334,
          7.855086000000001,
          12.4525304,
          9.3860853,
          9.643241,
          9.9786257,
          11.2379852,
          9.8860697,
          12.1107446,
          11.1467374,
          11.6556969,
          11.0091965,
          13.9651353,
          14.700764,
          9.0371899,
          10.3765002
         ],
         "marker": {
          "color": "#19d3f3",
          "size": [
           250,
           200,
           200,
           150,
           150,
           100,
           100,
           100,
           100,
           100,
           100,
           100,
           100,
           100,
           100,
           100,
           100,
           100,
           100
          ],
          "sizemode": "area",
          "sizeref": 0.435
         },
         "mode": "markers",
         "name": "€-€€",
         "showlegend": true,
         "subplot": "mapbox",
         "type": "scattermapbox"
        },
        {
         "customdata": [
          [
           4,
           "€€€€"
          ],
          [
           2,
           "€€€€"
          ],
          [
           2,
           "€€€€"
          ],
          [
           2,
           "€€€€"
          ],
          [
           2,
           "€€€€"
          ],
          [
           2,
           "€€€€"
          ],
          [
           2,
           "€€€€"
          ],
          [
           2,
           "€€€€"
          ],
          [
           2,
           "€€€€"
          ],
          [
           2,
           "€€€€"
          ],
          [
           1,
           "€€€€"
          ],
          [
           1,
           "€€€€"
          ],
          [
           1,
           "€€€€"
          ],
          [
           1,
           "€€€€"
          ],
          [
           1,
           "€€€€"
          ],
          [
           1,
           "€€€€"
          ],
          [
           1,
           "€€€€"
          ],
          [
           1,
           "€€€€"
          ],
          [
           1,
           "€€€€"
          ],
          [
           1,
           "€€€€"
          ],
          [
           1,
           "€€€€"
          ],
          [
           1,
           "€€€€"
          ],
          [
           1,
           "€€€€"
          ],
          [
           1,
           "€€€€"
          ],
          [
           1,
           "€€€€"
          ],
          [
           1,
           "€€€€"
          ],
          [
           1,
           "€€€€"
          ],
          [
           1,
           "€€€€"
          ],
          [
           1,
           "€€€€"
          ],
          [
           1,
           "€€€€"
          ],
          [
           1,
           "€€€€"
          ],
          [
           1,
           "€€€€"
          ],
          [
           1,
           "€€€€"
          ],
          [
           1,
           "€€€€"
          ],
          [
           1,
           "€€€€"
          ],
          [
           1,
           "€€€€"
          ],
          [
           1,
           "€€€€"
          ],
          [
           1,
           "€€€€"
          ],
          [
           1,
           "€€€€"
          ],
          [
           1,
           "€€€€"
          ],
          [
           1,
           "€€€€"
          ],
          [
           1,
           "€€€€"
          ],
          [
           1,
           "€€€€"
          ],
          [
           1,
           "€€€€"
          ],
          [
           1,
           "€€€€"
          ],
          [
           1,
           "€€€€"
          ],
          [
           1,
           "€€€€"
          ],
          [
           1,
           "€€€€"
          ],
          [
           1,
           "€€€€"
          ],
          [
           1,
           "€€€€"
          ],
          [
           1,
           "€€€€"
          ],
          [
           1,
           "€€€€"
          ],
          [
           1,
           "€€€€"
          ],
          [
           1,
           "€€€€"
          ],
          [
           1,
           "€€€€"
          ],
          [
           1,
           "€€€€"
          ],
          [
           1,
           "€€€€"
          ],
          [
           1,
           "€€€€"
          ],
          [
           1,
           "€€€€"
          ],
          [
           1,
           "€€€€"
          ],
          [
           1,
           "€€€€"
          ],
          [
           1,
           "€€€€"
          ],
          [
           1,
           "€€€€"
          ],
          [
           1,
           "€€€€"
          ],
          [
           1,
           "€€€€"
          ],
          [
           1,
           "€€€€"
          ],
          [
           1,
           "€€€€"
          ],
          [
           1,
           "€€€€"
          ],
          [
           1,
           "€€€€"
          ],
          [
           1,
           "€€€€"
          ],
          [
           1,
           "€€€€"
          ],
          [
           1,
           "€€€€"
          ],
          [
           1,
           "€€€€"
          ],
          [
           1,
           "€€€€"
          ],
          [
           1,
           "€€€€"
          ],
          [
           1,
           "€€€€"
          ],
          [
           1,
           "€€€€"
          ],
          [
           1,
           "€€€€"
          ],
          [
           1,
           "€€€€"
          ],
          [
           1,
           "€€€€"
          ],
          [
           1,
           "€€€€"
          ],
          [
           1,
           "€€€€"
          ],
          [
           1,
           "€€€€"
          ],
          [
           1,
           "€€€€"
          ],
          [
           1,
           "€€€€"
          ],
          [
           1,
           "€€€€"
          ],
          [
           1,
           "€€€€"
          ],
          [
           1,
           "€€€€"
          ],
          [
           1,
           "€€€€"
          ],
          [
           1,
           "€€€€"
          ],
          [
           1,
           "€€€€"
          ],
          [
           1,
           "€€€€"
          ],
          [
           1,
           "€€€€"
          ],
          [
           1,
           "€€€€"
          ],
          [
           1,
           "€€€€"
          ],
          [
           1,
           "€€€€"
          ],
          [
           1,
           "€€€€"
          ],
          [
           1,
           "€€€€"
          ],
          [
           1,
           "€€€€"
          ],
          [
           1,
           "€€€€"
          ],
          [
           1,
           "€€€€"
          ],
          [
           1,
           "€€€€"
          ],
          [
           1,
           "€€€€"
          ],
          [
           1,
           "€€€€"
          ],
          [
           1,
           "€€€€"
          ],
          [
           1,
           "€€€€"
          ],
          [
           1,
           "€€€€"
          ],
          [
           1,
           "€€€€"
          ],
          [
           1,
           "€€€€"
          ],
          [
           1,
           "€€€€"
          ],
          [
           1,
           "€€€€"
          ],
          [
           1,
           "€€€€"
          ],
          [
           1,
           "€€€€"
          ],
          [
           1,
           "€€€€"
          ],
          [
           1,
           "€€€€"
          ],
          [
           1,
           "€€€€"
          ],
          [
           1,
           "€€€€"
          ],
          [
           1,
           "€€€€"
          ],
          [
           1,
           "€€€€"
          ],
          [
           1,
           "€€€€"
          ],
          [
           1,
           "€€€€"
          ]
         ],
         "hovertemplate": "<b>%{hovertext}</b><br><br>price_ranges=%{customdata[1]}<br>adjusted_restaurant_count=%{marker.size}<br>latitude=%{lat}<br>longitude=%{lon}<br>restaurant_count=%{customdata[0]}<extra></extra>",
         "hovertext": [
          "Forte dei Marmi",
          "loc. San Pietro all'Olmo",
          "Telese",
          "Baia Sardinia",
          "Portofino",
          "Ravello",
          "Orta San Giulio",
          "Isola Vulcano",
          "Marina del Cantone",
          "Gargnano",
          "località Vallese",
          "località Piedicolle",
          "località San Tomio",
          "Conca dei Marini",
          "Baschi",
          "Corrubbio",
          "Costermano",
          "Cioccaro",
          "Conversano",
          "Chiusdino",
          "Ghirlanda",
          "Gragnano",
          "Gaiole in Chianti",
          "Godia",
          "Cerreto Guidi",
          "Cervere",
          "Imola",
          "Ischia",
          "Laveno",
          "Lido di Jesolo",
          "Labico",
          "Lacco Ameno",
          "Limone sul Garda",
          "Lonigo",
          "Malcesine",
          "Malfa",
          "Cavalese",
          "Cavernago",
          "Mantello",
          "Lughetto",
          "Marlia",
          "Marzocca",
          "Mazzorbo",
          "Castelfranco Veneto",
          "Castellammare di Stabia",
          "Archi",
          "Montemerano",
          "Morgex",
          "Casole d'Elsa",
          "Oltressenda Alta",
          "Noceto",
          "Norcia",
          "Nova Levante",
          "Oggiono",
          "Paraggi",
          "Passignano",
          "Capolona",
          "Porto Ercole",
          "Porto Rotondo",
          "Praiano",
          "Pralboino",
          "Promenade du Port",
          "Brenzone sul Garda",
          "Pula",
          "Ravina",
          "Romano d'Ezzelino",
          "Rubbianino",
          "Runate",
          "SS 145 Sorrentina km 14",
          "Sala Bolognese",
          "Altissimo",
          "San Giovanni in Fiore",
          "SS 146",
          "Saint Martin in Passeier",
          "San Martino",
          "San Pantaleo",
          "San Paolo d'Argon",
          "San Remo",
          "Brunico",
          "Brusaporto",
          "Brusciano",
          "Sant' Agnello",
          "Santa Cristina d'Aspromonte",
          "Sellano",
          "Santo Stefano Belbo",
          "Saronno",
          "Savelletri",
          "Soprabolzano",
          "Soriso",
          "Borgoricco",
          "Bellagio",
          "Tavarnelle Val di Pesa",
          "Ticciano",
          "Strongoli",
          "Barbarano Vicentino",
          "Torno",
          "Trevinano",
          "Tirol",
          "Blevio",
          "sestiere San Marco",
          "sestiere San Marco 1131",
          "sestiere San Polo  2202/a",
          "sestiere San Polo 1364",
          "sestiere San Polo 2908",
          "sestiere Santa Croce 1961",
          "sestiere Santa Croce 231",
          "località Sarmeola",
          "località Tretto",
          "loc. Praialonga",
          "angolo piazza Risorgimento 4",
          "loc. Montilgallo",
          "loc. Pietrapiana",
          "località Belvedere Fornillo",
          "località Brufa",
          "località Capo Miseno",
          "località Costorio",
          "località Lu Fraili di Sotto",
          "Acuto",
          "sestiere Castello 4196",
          "20 - Colla Micheri",
          "sestiere Castello 3303"
         ],
         "lat": [
          43.9580563,
          45.4868487,
          41.2163745,
          41.1402366,
          44.3031559,
          40.6515802,
          45.7965387,
          38.39461319999999,
          40.5834258,
          45.6888313,
          45.3280562,
          42.8953358,
          45.28834459999999,
          40.6163236,
          42.6729095,
          45.4874039,
          45.5857475,
          45.015325,
          40.9675463,
          43.154292,
          43.0563678,
          40.688303,
          43.4674997,
          46.1013119,
          43.7597972,
          44.6361892,
          44.3513048,
          40.7270164,
          45.9014038,
          45.5063264,
          41.7863895,
          40.7502875,
          45.8077253,
          45.3882122,
          45.7640092,
          38.5785105,
          46.2912839,
          45.6248356,
          46.1513837,
          45.3829166,
          43.8980494,
          43.6763504,
          45.4857951,
          45.6717817,
          40.6981057,
          42.08892489999999,
          42.6219504,
          45.7577901,
          43.34013239999999,
          45.915139,
          44.80932139999999,
          42.791923,
          46.4307732,
          45.787223,
          44.3120448,
          43.18743750000001,
          43.5653032,
          42.3966573,
          41.0307052,
          40.6117319,
          45.2671462,
          41.1330898,
          45.7090716,
          39.0121891,
          44.418441,
          45.7962443,
          44.6507409,
          45.1710879,
          40.6753769,
          44.616422,
          45.6147014,
          39.2567915,
          43.00195,
          46.7797542,
          46.2617655,
          41.0460696,
          45.6868668,
          43.81596709999999,
          46.7965374,
          45.67082610000001,
          40.9209903,
          40.62964400000001,
          38.25385170000001,
          42.88846909999999,
          44.7085574,
          45.6264294,
          40.8754764,
          46.5303883,
          45.7414368,
          45.5328125,
          45.9772675,
          43.5533291,
          40.6456052,
          39.2644583,
          45.409921,
          45.85739299999999,
          42.8229948,
          46.6908353,
          45.83595469999999,
          45.4341499,
          45.4341499,
          45.437565,
          45.437565,
          45.437565,
          45.437721,
          45.437721,
          45.4220727,
          45.7597913,
          38.9341864,
          45.4674868,
          44.07427149999999,
          43.6968415,
          43.4104405,
          43.0588811,
          40.7846747,
          45.6187919,
          40.8186884,
          41.7924629,
          45.4370514,
          43.9689927,
          45.4370514
         ],
         "legendgroup": "€€€€",
         "lon": [
          10.1674477,
          9.0134762,
          14.5269627,
          9.4762976,
          9.2097879,
          14.6140606,
          8.416948699999999,
          14.970634,
          14.3559655,
          10.6624366,
          11.0817438,
          12.4033148,
          11.2733297,
          14.5753912,
          12.2156243,
          10.904904,
          10.7402055,
          8.2770744,
          17.1170741,
          11.086234,
          10.901957,
          14.5226346,
          11.4342716,
          13.2648289,
          10.8801995,
          7.789558800000001,
          11.7129264,
          13.9028656,
          8.6257066,
          12.6457389,
          12.8857037,
          13.8903541,
          10.7880304,
          11.387965,
          10.810057,
          14.8363378,
          11.4603712,
          9.7626006,
          9.4857737,
          12.1294366,
          10.5572381,
          13.2890429,
          12.4073382,
          11.9283021,
          14.4880402,
          14.3813449,
          11.4889934,
          7.0365108,
          11.0445526,
          9.9455336,
          10.178779,
          13.0947797,
          11.5420168,
          9.3463661,
          9.2101907,
          12.1344807,
          11.8591239,
          11.201569,
          9.5465468,
          14.5335099,
          10.2183549,
          9.538134500000002,
          10.7677926,
          9.0011008,
          12.2034957,
          11.758273,
          10.5255995,
          10.3582403,
          14.4382464,
          11.2563212,
          11.2508273,
          16.6973661,
          11.96561,
          11.2258268,
          11.8005275,
          9.4679621,
          9.8028231,
          7.7760567,
          11.9381326,
          9.7616092,
          14.4243606,
          14.3951136,
          15.9703351,
          12.9262936,
          8.230360500000002,
          9.0348132,
          17.4069437,
          11.4074916,
          8.410474899999999,
          11.9684973,
          9.2625375,
          11.2183781,
          14.4537704,
          17.0548566,
          11.5395817,
          9.1158766,
          11.8734976,
          11.1538739,
          9.1010484,
          12.3320092,
          12.3320092,
          12.3298437,
          12.3298437,
          12.3298437,
          12.3175829,
          12.3175829,
          11.8106367,
          11.3362001,
          16.9934184,
          9.210078,
          12.3544415,
          11.5297785,
          11.16032,
          12.4733021,
          14.0863392,
          10.2149802,
          9.6715521,
          13.1727324,
          12.3414217,
          8.1553651,
          12.3414217
         ],
         "marker": {
          "color": "#FF6692",
          "size": [
           200,
           100,
           100,
           100,
           100,
           100,
           100,
           100,
           100,
           100,
           50,
           50,
           50,
           50,
           50,
           50,
           50,
           50,
           50,
           50,
           50,
           50,
           50,
           50,
           50,
           50,
           50,
           50,
           50,
           50,
           50,
           50,
           50,
           50,
           50,
           50,
           50,
           50,
           50,
           50,
           50,
           50,
           50,
           50,
           50,
           50,
           50,
           50,
           50,
           50,
           50,
           50,
           50,
           50,
           50,
           50,
           50,
           50,
           50,
           50,
           50,
           50,
           50,
           50,
           50,
           50,
           50,
           50,
           50,
           50,
           50,
           50,
           50,
           50,
           50,
           50,
           50,
           50,
           50,
           50,
           50,
           50,
           50,
           50,
           50,
           50,
           50,
           50,
           50,
           50,
           50,
           50,
           50,
           50,
           50,
           50,
           50,
           50,
           50,
           50,
           50,
           50,
           50,
           50,
           50,
           50,
           50,
           50,
           50,
           50,
           50,
           50,
           50,
           50,
           50,
           50,
           50,
           50,
           50,
           50,
           50
          ],
          "sizemode": "area",
          "sizeref": 0.435
         },
         "mode": "markers",
         "name": "€€€€",
         "showlegend": true,
         "subplot": "mapbox",
         "type": "scattermapbox"
        },
        {
         "customdata": [
          [
           3,
           "€€"
          ],
          [
           3,
           "€€"
          ],
          [
           3,
           "€€"
          ],
          [
           2,
           "€€"
          ],
          [
           2,
           "€€"
          ],
          [
           2,
           "€€"
          ],
          [
           2,
           "€€"
          ],
          [
           2,
           "€€"
          ],
          [
           2,
           "€€"
          ],
          [
           2,
           "€€"
          ],
          [
           2,
           "€€"
          ],
          [
           2,
           "€€"
          ],
          [
           2,
           "€€"
          ],
          [
           2,
           "€€"
          ],
          [
           2,
           "€€"
          ],
          [
           2,
           "€€"
          ],
          [
           2,
           "€€"
          ],
          [
           2,
           "€€"
          ],
          [
           2,
           "€€"
          ],
          [
           2,
           "€€"
          ],
          [
           2,
           "€€"
          ],
          [
           2,
           "€€"
          ],
          [
           2,
           "€€"
          ],
          [
           2,
           "€€"
          ],
          [
           2,
           "€€"
          ],
          [
           2,
           "€€"
          ],
          [
           2,
           "€€"
          ],
          [
           2,
           "€€"
          ],
          [
           2,
           "€€"
          ],
          [
           2,
           "€€"
          ],
          [
           2,
           "€€"
          ],
          [
           2,
           "€€"
          ],
          [
           2,
           "€€"
          ],
          [
           2,
           "€€"
          ],
          [
           2,
           "€€"
          ],
          [
           2,
           "€€"
          ],
          [
           2,
           "€€"
          ],
          [
           2,
           "€€"
          ],
          [
           2,
           "€€"
          ],
          [
           2,
           "€€"
          ],
          [
           2,
           "€€"
          ],
          [
           2,
           "€€"
          ],
          [
           2,
           "€€"
          ],
          [
           2,
           "€€"
          ],
          [
           1,
           "€€"
          ],
          [
           1,
           "€€"
          ],
          [
           1,
           "€€"
          ],
          [
           1,
           "€€"
          ],
          [
           1,
           "€€"
          ],
          [
           1,
           "€€"
          ],
          [
           1,
           "€€"
          ],
          [
           1,
           "€€"
          ],
          [
           1,
           "€€"
          ],
          [
           1,
           "€€"
          ],
          [
           1,
           "€€"
          ],
          [
           1,
           "€€"
          ],
          [
           1,
           "€€"
          ],
          [
           1,
           "€€"
          ],
          [
           1,
           "€€"
          ],
          [
           1,
           "€€"
          ],
          [
           1,
           "€€"
          ],
          [
           1,
           "€€"
          ],
          [
           1,
           "€€"
          ],
          [
           1,
           "€€"
          ],
          [
           1,
           "€€"
          ],
          [
           1,
           "€€"
          ],
          [
           1,
           "€€"
          ],
          [
           1,
           "€€"
          ],
          [
           1,
           "€€"
          ],
          [
           1,
           "€€"
          ],
          [
           1,
           "€€"
          ],
          [
           1,
           "€€"
          ],
          [
           1,
           "€€"
          ],
          [
           1,
           "€€"
          ],
          [
           1,
           "€€"
          ],
          [
           1,
           "€€"
          ],
          [
           1,
           "€€"
          ],
          [
           1,
           "€€"
          ],
          [
           1,
           "€€"
          ],
          [
           1,
           "€€"
          ],
          [
           1,
           "€€"
          ],
          [
           1,
           "€€"
          ],
          [
           1,
           "€€"
          ],
          [
           1,
           "€€"
          ],
          [
           1,
           "€€"
          ],
          [
           1,
           "€€"
          ],
          [
           1,
           "€€"
          ],
          [
           1,
           "€€"
          ],
          [
           1,
           "€€"
          ],
          [
           1,
           "€€"
          ],
          [
           1,
           "€€"
          ],
          [
           1,
           "€€"
          ],
          [
           1,
           "€€"
          ],
          [
           1,
           "€€"
          ],
          [
           1,
           "€€"
          ],
          [
           1,
           "€€"
          ],
          [
           1,
           "€€"
          ],
          [
           1,
           "€€"
          ],
          [
           1,
           "€€"
          ],
          [
           1,
           "€€"
          ],
          [
           1,
           "€€"
          ],
          [
           1,
           "€€"
          ],
          [
           1,
           "€€"
          ],
          [
           1,
           "€€"
          ],
          [
           1,
           "€€"
          ],
          [
           1,
           "€€"
          ],
          [
           1,
           "€€"
          ],
          [
           1,
           "€€"
          ],
          [
           1,
           "€€"
          ],
          [
           1,
           "€€"
          ],
          [
           1,
           "€€"
          ],
          [
           1,
           "€€"
          ],
          [
           1,
           "€€"
          ],
          [
           1,
           "€€"
          ],
          [
           1,
           "€€"
          ],
          [
           1,
           "€€"
          ],
          [
           1,
           "€€"
          ],
          [
           1,
           "€€"
          ],
          [
           1,
           "€€"
          ],
          [
           1,
           "€€"
          ],
          [
           1,
           "€€"
          ],
          [
           1,
           "€€"
          ],
          [
           1,
           "€€"
          ],
          [
           1,
           "€€"
          ],
          [
           1,
           "€€"
          ],
          [
           1,
           "€€"
          ],
          [
           1,
           "€€"
          ],
          [
           1,
           "€€"
          ],
          [
           1,
           "€€"
          ],
          [
           1,
           "€€"
          ],
          [
           1,
           "€€"
          ],
          [
           1,
           "€€"
          ],
          [
           1,
           "€€"
          ],
          [
           1,
           "€€"
          ],
          [
           1,
           "€€"
          ],
          [
           1,
           "€€"
          ],
          [
           1,
           "€€"
          ],
          [
           1,
           "€€"
          ],
          [
           1,
           "€€"
          ],
          [
           1,
           "€€"
          ],
          [
           1,
           "€€"
          ],
          [
           1,
           "€€"
          ],
          [
           1,
           "€€"
          ],
          [
           1,
           "€€"
          ],
          [
           1,
           "€€"
          ],
          [
           1,
           "€€"
          ],
          [
           1,
           "€€"
          ],
          [
           1,
           "€€"
          ],
          [
           1,
           "€€"
          ],
          [
           1,
           "€€"
          ],
          [
           1,
           "€€"
          ],
          [
           1,
           "€€"
          ],
          [
           1,
           "€€"
          ],
          [
           1,
           "€€"
          ],
          [
           1,
           "€€"
          ],
          [
           1,
           "€€"
          ],
          [
           1,
           "€€"
          ],
          [
           1,
           "€€"
          ],
          [
           1,
           "€€"
          ],
          [
           1,
           "€€"
          ],
          [
           1,
           "€€"
          ],
          [
           1,
           "€€"
          ],
          [
           1,
           "€€"
          ],
          [
           1,
           "€€"
          ],
          [
           1,
           "€€"
          ],
          [
           1,
           "€€"
          ],
          [
           1,
           "€€"
          ],
          [
           1,
           "€€"
          ],
          [
           1,
           "€€"
          ],
          [
           1,
           "€€"
          ],
          [
           1,
           "€€"
          ],
          [
           1,
           "€€"
          ],
          [
           1,
           "€€"
          ],
          [
           1,
           "€€"
          ],
          [
           1,
           "€€"
          ],
          [
           1,
           "€€"
          ],
          [
           1,
           "€€"
          ],
          [
           1,
           "€€"
          ],
          [
           1,
           "€€"
          ],
          [
           1,
           "€€"
          ],
          [
           1,
           "€€"
          ],
          [
           1,
           "€€"
          ],
          [
           1,
           "€€"
          ],
          [
           1,
           "€€"
          ],
          [
           1,
           "€€"
          ],
          [
           1,
           "€€"
          ],
          [
           1,
           "€€"
          ],
          [
           1,
           "€€"
          ],
          [
           1,
           "€€"
          ],
          [
           1,
           "€€"
          ],
          [
           1,
           "€€"
          ],
          [
           1,
           "€€"
          ],
          [
           1,
           "€€"
          ],
          [
           1,
           "€€"
          ],
          [
           1,
           "€€"
          ],
          [
           1,
           "€€"
          ],
          [
           1,
           "€€"
          ],
          [
           1,
           "€€"
          ],
          [
           1,
           "€€"
          ],
          [
           1,
           "€€"
          ],
          [
           1,
           "€€"
          ],
          [
           1,
           "€€"
          ],
          [
           1,
           "€€"
          ],
          [
           1,
           "€€"
          ],
          [
           1,
           "€€"
          ],
          [
           1,
           "€€"
          ],
          [
           1,
           "€€"
          ],
          [
           1,
           "€€"
          ],
          [
           1,
           "€€"
          ],
          [
           1,
           "€€"
          ],
          [
           1,
           "€€"
          ],
          [
           1,
           "€€"
          ],
          [
           1,
           "€€"
          ],
          [
           1,
           "€€"
          ],
          [
           1,
           "€€"
          ],
          [
           1,
           "€€"
          ],
          [
           1,
           "€€"
          ],
          [
           1,
           "€€"
          ],
          [
           1,
           "€€"
          ],
          [
           1,
           "€€"
          ],
          [
           1,
           "€€"
          ],
          [
           1,
           "€€"
          ],
          [
           1,
           "€€"
          ],
          [
           1,
           "€€"
          ],
          [
           1,
           "€€"
          ],
          [
           1,
           "€€"
          ],
          [
           1,
           "€€"
          ],
          [
           1,
           "€€"
          ],
          [
           1,
           "€€"
          ],
          [
           1,
           "€€"
          ],
          [
           1,
           "€€"
          ],
          [
           1,
           "€€"
          ],
          [
           1,
           "€€"
          ],
          [
           1,
           "€€"
          ],
          [
           1,
           "€€"
          ],
          [
           1,
           "€€"
          ],
          [
           1,
           "€€"
          ],
          [
           1,
           "€€"
          ],
          [
           1,
           "€€"
          ],
          [
           1,
           "€€"
          ],
          [
           1,
           "€€"
          ],
          [
           1,
           "€€"
          ],
          [
           1,
           "€€"
          ],
          [
           1,
           "€€"
          ],
          [
           1,
           "€€"
          ],
          [
           1,
           "€€"
          ],
          [
           1,
           "€€"
          ],
          [
           1,
           "€€"
          ],
          [
           1,
           "€€"
          ],
          [
           1,
           "€€"
          ],
          [
           1,
           "€€"
          ],
          [
           1,
           "€€"
          ],
          [
           1,
           "€€"
          ],
          [
           1,
           "€€"
          ],
          [
           1,
           "€€"
          ],
          [
           1,
           "€€"
          ],
          [
           1,
           "€€"
          ],
          [
           1,
           "€€"
          ],
          [
           1,
           "€€"
          ],
          [
           1,
           "€€"
          ],
          [
           1,
           "€€"
          ],
          [
           1,
           "€€"
          ],
          [
           1,
           "€€"
          ],
          [
           1,
           "€€"
          ],
          [
           1,
           "€€"
          ],
          [
           1,
           "€€"
          ],
          [
           1,
           "€€"
          ],
          [
           1,
           "€€"
          ],
          [
           1,
           "€€"
          ],
          [
           1,
           "€€"
          ],
          [
           1,
           "€€"
          ],
          [
           1,
           "€€"
          ],
          [
           1,
           "€€"
          ],
          [
           1,
           "€€"
          ],
          [
           1,
           "€€"
          ],
          [
           1,
           "€€"
          ],
          [
           1,
           "€€"
          ],
          [
           1,
           "€€"
          ],
          [
           1,
           "€€"
          ],
          [
           1,
           "€€"
          ],
          [
           1,
           "€€"
          ],
          [
           1,
           "€€"
          ],
          [
           1,
           "€€"
          ],
          [
           1,
           "€€"
          ],
          [
           1,
           "€€"
          ],
          [
           1,
           "€€"
          ],
          [
           1,
           "€€"
          ],
          [
           1,
           "€€"
          ],
          [
           1,
           "€€"
          ],
          [
           1,
           "€€"
          ],
          [
           1,
           "€€"
          ],
          [
           1,
           "€€"
          ],
          [
           1,
           "€€"
          ],
          [
           1,
           "€€"
          ],
          [
           1,
           "€€"
          ],
          [
           1,
           "€€"
          ],
          [
           1,
           "€€"
          ],
          [
           1,
           "€€"
          ],
          [
           1,
           "€€"
          ],
          [
           1,
           "€€"
          ],
          [
           1,
           "€€"
          ],
          [
           1,
           "€€"
          ],
          [
           1,
           "€€"
          ],
          [
           1,
           "€€"
          ],
          [
           1,
           "€€"
          ],
          [
           1,
           "€€"
          ],
          [
           1,
           "€€"
          ],
          [
           1,
           "€€"
          ],
          [
           1,
           "€€"
          ],
          [
           1,
           "€€"
          ],
          [
           1,
           "€€"
          ],
          [
           1,
           "€€"
          ],
          [
           1,
           "€€"
          ],
          [
           1,
           "€€"
          ],
          [
           1,
           "€€"
          ],
          [
           1,
           "€€"
          ],
          [
           1,
           "€€"
          ],
          [
           1,
           "€€"
          ],
          [
           1,
           "€€"
          ],
          [
           1,
           "€€"
          ],
          [
           1,
           "€€"
          ],
          [
           1,
           "€€"
          ],
          [
           1,
           "€€"
          ],
          [
           1,
           "€€"
          ],
          [
           1,
           "€€"
          ],
          [
           1,
           "€€"
          ],
          [
           1,
           "€€"
          ],
          [
           1,
           "€€"
          ],
          [
           1,
           "€€"
          ],
          [
           1,
           "€€"
          ],
          [
           1,
           "€€"
          ],
          [
           1,
           "€€"
          ],
          [
           1,
           "€€"
          ],
          [
           1,
           "€€"
          ],
          [
           1,
           "€€"
          ],
          [
           1,
           "€€"
          ],
          [
           1,
           "€€"
          ],
          [
           1,
           "€€"
          ],
          [
           1,
           "€€"
          ],
          [
           1,
           "€€"
          ],
          [
           1,
           "€€"
          ],
          [
           1,
           "€€"
          ],
          [
           1,
           "€€"
          ],
          [
           1,
           "€€"
          ],
          [
           1,
           "€€"
          ],
          [
           1,
           "€€"
          ],
          [
           1,
           "€€"
          ],
          [
           1,
           "€€"
          ],
          [
           1,
           "€€"
          ],
          [
           1,
           "€€"
          ],
          [
           1,
           "€€"
          ],
          [
           1,
           "€€"
          ],
          [
           1,
           "€€"
          ],
          [
           1,
           "€€"
          ],
          [
           1,
           "€€"
          ],
          [
           1,
           "€€"
          ],
          [
           1,
           "€€"
          ],
          [
           1,
           "€€"
          ],
          [
           1,
           "€€"
          ],
          [
           1,
           "€€"
          ],
          [
           1,
           "€€"
          ],
          [
           1,
           "€€"
          ],
          [
           1,
           "€€"
          ],
          [
           1,
           "€€"
          ],
          [
           1,
           "€€"
          ],
          [
           1,
           "€€"
          ],
          [
           1,
           "€€"
          ],
          [
           1,
           "€€"
          ],
          [
           1,
           "€€"
          ],
          [
           1,
           "€€"
          ],
          [
           1,
           "€€"
          ],
          [
           1,
           "€€"
          ],
          [
           1,
           "€€"
          ],
          [
           1,
           "€€"
          ],
          [
           1,
           "€€"
          ],
          [
           1,
           "€€"
          ],
          [
           1,
           "€€"
          ],
          [
           1,
           "€€"
          ],
          [
           1,
           "€€"
          ],
          [
           1,
           "€€"
          ],
          [
           1,
           "€€"
          ],
          [
           1,
           "€€"
          ],
          [
           1,
           "€€"
          ],
          [
           1,
           "€€"
          ],
          [
           1,
           "€€"
          ],
          [
           1,
           "€€"
          ],
          [
           1,
           "€€"
          ],
          [
           1,
           "€€"
          ],
          [
           1,
           "€€"
          ],
          [
           1,
           "€€"
          ],
          [
           1,
           "€€"
          ],
          [
           1,
           "€€"
          ],
          [
           1,
           "€€"
          ],
          [
           1,
           "€€"
          ],
          [
           1,
           "€€"
          ],
          [
           1,
           "€€"
          ],
          [
           1,
           "€€"
          ],
          [
           1,
           "€€"
          ],
          [
           1,
           "€€"
          ],
          [
           1,
           "€€"
          ],
          [
           1,
           "€€"
          ],
          [
           1,
           "€€"
          ],
          [
           1,
           "€€"
          ],
          [
           1,
           "€€"
          ],
          [
           1,
           "€€"
          ],
          [
           1,
           "€€"
          ],
          [
           1,
           "€€"
          ],
          [
           1,
           "€€"
          ],
          [
           1,
           "€€"
          ],
          [
           1,
           "€€"
          ],
          [
           1,
           "€€"
          ],
          [
           1,
           "€€"
          ],
          [
           1,
           "€€"
          ],
          [
           1,
           "€€"
          ],
          [
           1,
           "€€"
          ],
          [
           1,
           "€€"
          ],
          [
           1,
           "€€"
          ],
          [
           1,
           "€€"
          ],
          [
           1,
           "€€"
          ],
          [
           1,
           "€€"
          ],
          [
           1,
           "€€"
          ],
          [
           1,
           "€€"
          ],
          [
           1,
           "€€"
          ],
          [
           1,
           "€€"
          ],
          [
           1,
           "€€"
          ],
          [
           1,
           "€€"
          ],
          [
           1,
           "€€"
          ],
          [
           1,
           "€€"
          ],
          [
           1,
           "€€"
          ],
          [
           1,
           "€€"
          ],
          [
           1,
           "€€"
          ],
          [
           1,
           "€€"
          ],
          [
           1,
           "€€"
          ],
          [
           1,
           "€€"
          ],
          [
           1,
           "€€"
          ],
          [
           1,
           "€€"
          ],
          [
           1,
           "€€"
          ],
          [
           1,
           "€€"
          ],
          [
           1,
           "€€"
          ],
          [
           1,
           "€€"
          ],
          [
           1,
           "€€"
          ],
          [
           1,
           "€€"
          ],
          [
           1,
           "€€"
          ],
          [
           1,
           "€€"
          ],
          [
           1,
           "€€"
          ],
          [
           1,
           "€€"
          ],
          [
           1,
           "€€"
          ],
          [
           1,
           "€€"
          ],
          [
           1,
           "€€"
          ],
          [
           1,
           "€€"
          ],
          [
           1,
           "€€"
          ],
          [
           1,
           "€€"
          ],
          [
           1,
           "€€"
          ],
          [
           1,
           "€€"
          ],
          [
           1,
           "€€"
          ],
          [
           1,
           "€€"
          ],
          [
           1,
           "€€"
          ],
          [
           1,
           "€€"
          ],
          [
           1,
           "€€"
          ],
          [
           1,
           "€€"
          ],
          [
           1,
           "€€"
          ],
          [
           1,
           "€€"
          ],
          [
           1,
           "€€"
          ],
          [
           1,
           "€€"
          ],
          [
           1,
           "€€"
          ],
          [
           1,
           "€€"
          ],
          [
           1,
           "€€"
          ],
          [
           1,
           "€€"
          ],
          [
           1,
           "€€"
          ],
          [
           1,
           "€€"
          ],
          [
           1,
           "€€"
          ],
          [
           1,
           "€€"
          ],
          [
           1,
           "€€"
          ],
          [
           1,
           "€€"
          ],
          [
           1,
           "€€"
          ],
          [
           1,
           "€€"
          ],
          [
           1,
           "€€"
          ],
          [
           1,
           "€€"
          ],
          [
           1,
           "€€"
          ],
          [
           1,
           "€€"
          ],
          [
           1,
           "€€"
          ]
         ],
         "hovertemplate": "<b>%{hovertext}</b><br><br>price_ranges=%{customdata[1]}<br>adjusted_restaurant_count=%{marker.size}<br>latitude=%{lat}<br>longitude=%{lon}<br>restaurant_count=%{customdata[0]}<extra></extra>",
         "hovertext": [
          "Ravenna",
          "Moena",
          "Grosseto",
          "Vieste",
          "Spilimbergo",
          "Bordighera",
          "loc. Perno",
          "Vodo di Cadore",
          "Termoli",
          "Teramo",
          "Torbole",
          "Spoleto",
          "Tivoli",
          "Rho",
          "Rivergaro",
          "Recco",
          "San Miniato",
          "Salò",
          "San Polo di Piave",
          "San Quirico d'Orcia",
          "Pantelleria",
          "Passignano sul Trasimeno",
          "Casale Monferrato",
          "Carpi",
          "Carloforte",
          "Oliena",
          "Monopoli",
          "Canelli",
          "Buttrio",
          "Pietra Ligure",
          "Mergozzo",
          "Cavour",
          "Cava de' Tirreni",
          "Madonna di Senales",
          "Marciana Marina",
          "Manfredonia",
          "Levanto",
          "Lipari",
          "Mantua",
          "Chieri",
          "Feltre",
          "Frascati",
          "Forlì",
          "Fondi",
          "Acqualagna",
          "Adrara San Martino",
          "Agnone",
          "Adria",
          "sulla SP 34",
          "sestiere Dorsoduro 3778",
          "Abano Terme",
          "località Viadana",
          "località Peseggia di Scorzè",
          "località Piano",
          "località Pontagna di Temù",
          "località Prà delle Nasse",
          "località San Giorgio al Tagliamento",
          "località San Nicolò",
          "Colognola ai Colli",
          "Contigliano",
          "Contrada Camerale di Tossiccia",
          "Barzago",
          "Asola",
          "Asolo",
          "Atrani",
          "Augusta",
          "Aversa",
          "Bacoli",
          "Badalucco",
          "Coriano Veronese",
          "Corte de' Cortesi",
          "Cortina Vecchia",
          "Crandola Valsassina",
          "Cremolino",
          "Cremona",
          "Crevalcore",
          "Clusone",
          "Col San Martino",
          "Fabbrico",
          "Fagagna",
          "Fara Filiorum Petri",
          "Crispiano",
          "Crotone",
          "Céres",
          "Delebio",
          "Deruta",
          "Dogliani",
          "Dossobuono",
          "Corciano",
          "Città della Pieve",
          "Cividale del Friuli",
          "Civitavecchia",
          "Finale Ligure",
          "Foggia",
          "Foiana",
          "Follonica",
          "Dosson",
          "Drena",
          "Eboli",
          "Esine",
          "Frisanco",
          "Fidenza",
          "Fiera di Primiero",
          "Finale Emilia",
          "Chies d'Alpago",
          "Chiesa in Valmalenco",
          "Chieti",
          "Cicognolo",
          "Galeata",
          "Galliate",
          "Galluzzo",
          "Garbagnate Milanese",
          "Giarre",
          "Fontanafredda",
          "Forno di Zoldo",
          "Fossò",
          "Framura",
          "Cervia",
          "Cetona",
          "Cherasco",
          "Chiaramonte Gulfi",
          "Grottaferrata",
          "Grumello del Monte",
          "Gualdo Cattaneo",
          "Isola Sant'Antonio",
          "Glorenza",
          "Celle Ligure",
          "Cercemaggiore",
          "Lapio",
          "Lavariano",
          "Illasi",
          "Isola Dovarese",
          "Lerici",
          "Lesa",
          "Lesina",
          "Levico Terme",
          "Lido di Savio",
          "L'Aquila",
          "Cecina",
          "Castelbuono",
          "Castelfranco Emilia",
          "Limito",
          "Limone Piemonte",
          "Loano",
          "Longiano",
          "Loro Ciuffenna",
          "Lucarelli",
          "Maglie",
          "Malnate",
          "Manciano",
          "Mandello del Lario",
          "Lignano Sabbiadoro",
          "Castrocaro Terme",
          "Cavaglià",
          "Cavatore",
          "Manerba del Garda",
          "Marano Lagunare",
          "Marano di Valpolicella",
          "Maratea",
          "Mariano Comense",
          "Marina di Arbus",
          "Macchie",
          "Macerata",
          "Magliano Alfieri",
          "Magliano Sabina",
          "Mestre",
          "Miane",
          "Marina di Casal Velino",
          "Marina di Cecina",
          "Marina di Massa",
          "Marina di Pulsano",
          "Marina di San Vito",
          "Marotta",
          "Castelnovo di Sotto",
          "Castelvetro di Modena",
          "Castiglione Falletto",
          "Casalgrande",
          "Mondovì",
          "Monfalcone",
          "Mercenasco",
          "Mese",
          "Montegridolfo",
          "Montegrosso",
          "Mira",
          "Moirago",
          "Monastier di Treviso",
          "Castellammare del Golfo",
          "Castelletto di Brenzone",
          "Castelletto sopra Ticino",
          "Castelmezzano",
          "Bagnara Calabra",
          "Bagni 70",
          "Aprica",
          "Apricena",
          "Arabba",
          "Arborea",
          "Ardenza",
          "Montefalco",
          "Monterotondo",
          "Montescudaio",
          "Monticelli Brusati",
          "Monticelli d'Ongina",
          "Montone",
          "Monselice",
          "Montallegro",
          "Castel Mella",
          "Castel Toblino",
          "Caprino Veronese",
          "Morimondo",
          "Mornago",
          "Morrano Nuovo",
          "Mortegliano",
          "Montemarcello",
          "Montopoli in Val d'Arno",
          "Montù Beccaria",
          "Morciano di Romagna",
          "Moretta",
          "Castagnito d'Alba",
          "Castagnole Piemonte",
          "Orbassano",
          "Orbetello",
          "Ne",
          "Negrar",
          "Nerviano",
          "Nettuno",
          "Nibbiaia",
          "Canale d'Agordo",
          "Osio Sotto",
          "Ossana",
          "Otranto",
          "Oviglio",
          "Noventa",
          "Offanengo",
          "Offida",
          "Olevano Romano",
          "Olivola",
          "Palmi",
          "Panicale",
          "Panzano",
          "Paradiso di Pocenia",
          "Cardano",
          "Carona",
          "Carsoli",
          "Cartosio",
          "Pergine Valsugana",
          "Perignano",
          "Pescocostanzo",
          "Palaia",
          "Palazzo San Gervasio",
          "Palazzolo Acreide",
          "Capriate San Gervasio",
          "Pfalzen",
          "Pianiga",
          "Piazza Armerina",
          "Pieve Ligure",
          "Pieve di Cento",
          "Pieve di Coriano",
          "Pineto",
          "Pastrengo",
          "Pedraces",
          "Pizzighettone",
          "Pizzo",
          "Podenzano",
          "Poggiridenti",
          "Pollenzo",
          "Pomezia",
          "Candia Canavese",
          "Capannori",
          "Capolago",
          "Capoterra",
          "Caprarola",
          "Ponte",
          "Popoli",
          "Porcia",
          "Piombino",
          "Pisa",
          "Pisciotta",
          "Pitigliano",
          "Rapolano Terme",
          "Portoscuso",
          "Postal",
          "Pozzolo Formigaro",
          "Campagnola Cremasca",
          "Brentonico",
          "Brez",
          "Quarona",
          "Quartiere di Portomaggiore",
          "Quarto d'Altino",
          "Quero",
          "Rablà",
          "Racale",
          "Reggio Calabria",
          "Reggio Emilia",
          "Rende",
          "Revere",
          "Revigliasco",
          "Revine",
          "Caiolo",
          "Cala Gonone",
          "Calamandrana",
          "Caldogno",
          "Calestano",
          "Caltanissetta",
          "Caltignaga",
          "Riomaggiore",
          "Riva di Solto",
          "Rivalta Trebbia",
          "Rivanazzano Terme",
          "Rivarolo Canavese",
          "Rivoli",
          "Robbio",
          "Roccaraso",
          "Rocella Jonica",
          "Ravalle",
          "Raveo",
          "Roseto degli Abruzzi",
          "Ruffano",
          "SS 120 km 187",
          "Rieti",
          "Ascoli Piceno",
          "Altare",
          "Altomonte",
          "Andria",
          "Annone Veneto",
          "Anterivo",
          "San Bartolomeo al Mare",
          "San Bonifacio",
          "San Genesio Atesino",
          "San Giorgio del Sannio",
          "San Giovanni al Natisone",
          "San Giovanni in Persiceto",
          "Saint Lorenzen",
          "Saint-Christophe",
          "San Marzano Oliveto",
          "San Marzano di San Giuseppe",
          "San Pellegrino",
          "San Casciano in Val di Pesa",
          "San Desiderio",
          "San Donà di Piave",
          "Brusson",
          "Busca",
          "Bodio Lomnago",
          "Bolzone",
          "Borgio Verezzi",
          "Borgo Vercelli",
          "San Vito lo Capo",
          "Sandrigo",
          "Sanluri",
          "San Leone",
          "Santa Vittoria d'Alba",
          "San Severino Marche",
          "San Severo",
          "San Vigilio",
          "San Vigilio di Marebbe",
          "Brione",
          "Savigno",
          "Savogna d'Isonzo",
          "Sant'Antonio Abate",
          "Santa Maria Maggiore",
          "Santa Maria del Monte",
          "Santa Maria della Versa",
          "Santa Maria di Sala",
          "Santa Marina Salina",
          "Santa Reparata",
          "Santa Teresa Gallura",
          "Selva Malvezzi",
          "Senago",
          "Serravalle Langhe",
          "Sesto San Giovanni",
          "Sarche di Madruzzo",
          "Sarre",
          "Sassari",
          "Bellinzago Lombardo",
          "Besenzone",
          "Bettolle",
          "Soragna",
          "Sorico",
          "Sorni",
          "Sciacca",
          "Sclafani Bagni",
          "Scorrano",
          "Suna",
          "Suvereto",
          "Sestri Ponente",
          "Settequerce",
          "Sirolo",
          "Sizzano",
          "Somma Lombardo",
          "Boves",
          "Tarquinia",
          "Tavagnacco",
          "Tavernerio",
          "Termeno sulla Strada del Vino",
          "Terni",
          "Spirano",
          "Sulmona",
          "Barco",
          "Toceno",
          "Todi",
          "Torano Nuovo",
          "Torbiato",
          "Torrechiara",
          "Taranto",
          "Treia",
          "Trequanda",
          "Bibbiena",
          "Bientina",
          "Bigolino",
          "Troia",
          "Umbertide",
          "Urbino",
          "Vairano Patenora",
          "Valledoria",
          "Torriana",
          "Toscolano-Maderno",
          "Trebaseleghe",
          "Vicopisano",
          "Vallo della Lucania",
          "Valmontone",
          "Vandoies di Sopra",
          "Varallo",
          "Varenna",
          "Vedole",
          "Vello",
          "Velo Veronese",
          "Trezzano sul Naviglio",
          "Anzola dell'Emilia",
          "Appiano Gentile",
          "Appignano",
          "sestiere San Marco 4346/a",
          "stazione a monte della funivia Col Margherita",
          "Vittorio Veneto",
          "Voghera",
          "Verbania",
          "Vetrego",
          "bivio per Volpara",
          "borgo Mercato",
          "contrada San Vincenzo",
          "fraz. Molino Isella",
          "frazione Castel Ratti",
          "frazione Cressogno",
          "frazione San Carlo",
          "frazione San Rocco",
          "frazione Tret",
          "lago di Velo d'Astico",
          "Vignola",
          "località Sirmiano Sopra",
          "località Struppa",
          "località Tiboldi",
          "località Torre del Colle",
          "loc. Pinzago",
          "loc. Ponte di Serravalle",
          "loc. Aci Trezza",
          "loc. Casabianca",
          "loc. Chiugiana",
          "loc. Montagna in Valtellina",
          "loc. Mottinello Nuovo",
          "Barcuzzi",
          "loc. Sesto di Moriano",
          "località Abbadia Isola",
          "località Barbuzzera",
          "località Borgo Grappa",
          "località Bornio",
          "località Capuccina",
          "località Col de Soldai",
          "località Colombaio Tozzi",
          "località Durna in Selva",
          "località Fibbianello",
          "località Ficogrande",
          "località Guallina",
          "località Maggianico",
          "località Marcemigo",
          "località Mazzano",
          "Albairate",
          "Albarè di Costermano",
          "Aldino",
          "Alserio",
          "Crema",
          "Alessandria",
          "400 - regione Li Lioni",
          "sestiere Cannaregio 3628"
         ],
         "lat": [
          44.418441,
          46.37669469999999,
          42.7635468,
          41.8818815,
          46.1113242,
          43.7796022,
          44.6149715,
          46.4194331,
          41.99908569999999,
          42.6611431,
          45.8778429,
          42.7404881,
          41.9597095,
          45.5326439,
          44.9114969,
          44.36246939999999,
          43.6829641,
          45.60839199999999,
          45.7900863,
          43.0580637,
          36.832037,
          43.18743750000001,
          45.1349543,
          44.7839179,
          39.14473419999999,
          40.2763402,
          40.9525166,
          44.7195561,
          46.0153937,
          44.1486909,
          45.9617595,
          44.7906407,
          40.7037848,
          46.7220027,
          42.8042842,
          41.6299852,
          44.16956649999999,
          38.4936623,
          45.1563425,
          45.013725,
          46.0208375,
          41.808434,
          44.222008,
          41.3557514,
          43.6194948,
          45.6995837,
          41.8086342,
          45.0555487,
          42.2261894,
          45.4360836,
          45.3621359,
          45.3709613,
          45.5624106,
          41.9214358,
          46.25254210000001,
          46.2626183,
          45.782409,
          45.0521767,
          45.4343959,
          42.4121165,
          42.5574491,
          45.7554463,
          45.2209079,
          45.7990387,
          40.6357929,
          37.2500684,
          40.9731044,
          40.7991137,
          43.915924,
          45.4383659,
          45.2731438,
          44.388165,
          46.0225702,
          44.6366114,
          45.1333135,
          44.7200288,
          45.8898699,
          45.8943047,
          44.8710591,
          46.1131324,
          42.2473222,
          40.6055583,
          39.0807848,
          45.3137209,
          46.1375506,
          42.98205979999999,
          44.5320498,
          45.3936669,
          43.1289408,
          42.9536249,
          46.095896,
          42.09231219999999,
          44.1741579,
          41.4623132,
          46.58803899999999,
          42.9247231,
          45.6365281,
          45.970053,
          40.6153626,
          45.9256174,
          46.2124898,
          44.8649666,
          46.1757686,
          44.8322384,
          46.1654756,
          46.2688908,
          42.3479367,
          45.1641598,
          43.9981346,
          45.4785452,
          43.7384547,
          45.5760975,
          37.72698510000001,
          45.9723042,
          46.3459419,
          45.3856474,
          44.2034483,
          44.2611298,
          42.966838,
          44.6476518,
          37.0317966,
          41.7890829,
          45.63599370000001,
          42.9107653,
          45.0289334,
          46.6706,
          44.3425442,
          41.4614668,
          40.9802943,
          45.956012,
          45.4679787,
          45.1754752,
          44.0755506,
          45.8241629,
          41.8627993,
          46.0116173,
          44.30440180000001,
          42.350697,
          43.3085272,
          37.9321128,
          44.5951228,
          45.4829255,
          44.2018084,
          44.1261565,
          44.07443780000001,
          43.5881794,
          43.5182335,
          40.117872,
          45.797152,
          42.5882458,
          45.91785609999999,
          45.6684111,
          44.1721801,
          45.40598610000001,
          44.6308515,
          45.5605283,
          45.7650819,
          45.5566179,
          39.998521,
          45.6983276,
          39.5999341,
          43.0563562,
          43.2984479,
          44.7672044,
          42.3615602,
          45.4934881,
          45.9417728,
          40.1766499,
          43.3008257,
          44.0093274,
          40.3494142,
          42.3054266,
          43.767771,
          44.8113655,
          44.50436089999999,
          44.6235984,
          44.5881108,
          44.3956154,
          45.8092662,
          45.3560665,
          46.30513510000001,
          43.8586105,
          44.8199368,
          45.4335561,
          45.3695439,
          45.650244,
          38.0264765,
          45.6865805,
          45.71474329999999,
          40.5291498,
          38.28644329999999,
          44.0014964,
          46.1540031,
          41.7851686,
          46.497167,
          39.77342489999999,
          43.51703060000001,
          42.8876844,
          42.055049,
          43.3260399,
          45.632119,
          45.0890929,
          43.3623899,
          45.23910290000001,
          37.3912043,
          45.49606499999999,
          46.0547349,
          45.60636050000001,
          45.3531811,
          45.7468047,
          42.7741956,
          45.944766,
          44.0459155,
          43.6765113,
          45.03790130000001,
          43.9138102,
          44.7629928,
          44.7541143,
          44.8989176,
          45.0057864,
          42.4405251,
          44.3549765,
          45.5306247,
          45.5535754,
          41.4573,
          43.464402,
          46.3591233,
          45.6202861,
          46.3070135,
          40.1441077,
          44.8607313,
          45.6611821,
          45.3794292,
          42.9366796,
          41.8598557,
          45.03636520000001,
          38.3575832,
          43.02920020000001,
          43.5442654,
          45.8686295,
          46.49327,
          46.021592,
          42.0989771,
          44.5919376,
          46.06387489999999,
          43.6033492,
          41.8902076,
          43.6054381,
          40.93083439999999,
          37.0616499,
          45.6224621,
          46.8115477,
          45.45609200000001,
          37.3856182,
          44.3742364,
          44.7149051,
          45.03344250000001,
          42.6090025,
          45.4922202,
          46.6158218,
          45.1856033,
          38.7336489,
          44.957373,
          46.173549,
          44.6867594,
          41.6693249,
          45.3280918,
          43.8460411,
          45.7938064,
          39.178883,
          42.3236181,
          41.2152521,
          42.1714095,
          45.9603256,
          42.9255951,
          43.72283849999999,
          40.1089413,
          42.6342756,
          43.28686,
          39.2054578,
          46.6097341,
          44.7944001,
          45.39795669999999,
          45.81853,
          46.4310502,
          45.7616709,
          44.69798110000001,
          45.5808253,
          45.9207295,
          46.6714499,
          39.9585702,
          38.1109851,
          44.70309659999999,
          39.3317741,
          45.0502684,
          45.0200685,
          46.0000242,
          46.15076579999999,
          40.2803536,
          44.7367404,
          45.6107171,
          44.6008708,
          37.4900647,
          45.5185405,
          44.1001801,
          45.7748523,
          44.9523688,
          44.9273117,
          45.3319546,
          45.07046080000001,
          45.289212,
          41.8471801,
          38.3219681,
          44.9271284,
          46.4338946,
          42.6785194,
          39.9830498,
          37.8151306,
          42.4045985,
          42.8541038,
          44.33611699999999,
          39.69848169999999,
          41.226687,
          45.7940571,
          46.2774891,
          43.9219078,
          45.4005247,
          46.5348643,
          41.0627934,
          45.9726985,
          44.641109,
          46.7830469,
          45.7458883,
          44.7532769,
          40.4507202,
          45.83728989999999,
          43.65834359999999,
          44.4191419,
          45.63029820000001,
          45.7581315,
          44.5161936,
          45.7891621,
          45.3336576,
          44.1597284,
          45.3578227,
          38.1759419,
          45.6593077,
          39.5629542,
          37.263345,
          44.6988366,
          43.2299335,
          41.6849729,
          46.7021384,
          46.7021384,
          45.6385842,
          44.3934295,
          45.9027001,
          40.7218566,
          46.13388,
          45.8593103,
          44.9870717,
          45.5047057,
          38.55921379999999,
          41.2269243,
          41.242217,
          44.5559231,
          45.57638679999999,
          44.55823780000001,
          45.5287282,
          46.0471114,
          45.7175427,
          40.7258034,
          45.5387677,
          44.9872701,
          43.2070528,
          44.9286446,
          46.17228180000001,
          46.1744063,
          37.50867530000001,
          37.8216018,
          40.0932757,
          45.9309209,
          43.0766484,
          44.4276588,
          46.51140470000001,
          43.5181981,
          45.5754365,
          45.682787,
          44.32986529999999,
          42.2506227,
          46.1274647,
          45.8005487,
          46.3409456,
          42.5604522,
          45.5818324,
          42.0512604,
          44.68554049999999,
          46.1443449,
          42.7810961,
          42.8239751,
          45.6115068,
          44.6592789,
          40.4622052,
          43.311256,
          43.1878257,
          43.6968572,
          43.7095473,
          45.86949020000001,
          41.36359119999999,
          43.3064268,
          43.726375,
          41.3359912,
          40.9287593,
          43.9850466,
          45.6368065,
          45.5915693,
          43.6831995,
          40.2305213,
          41.7746888,
          46.8146891,
          45.8144736,
          46.0099989,
          44.9231889,
          45.7543604,
          45.6066679,
          45.422923,
          44.5461641,
          45.7348094,
          43.3632547,
          45.4341499,
          46.3775463,
          45.9874333,
          44.9917543,
          45.9282422,
          45.4562091,
          44.9538444,
          44.34800630000001,
          43.0987731,
          45.26518170000001,
          44.722881,
          46.0245621,
          44.0921416,
          44.7570433,
          46.4787124,
          45.79192279999999,
          44.4780791,
          46.53657490000001,
          44.4504253,
          44.516449,
          42.944679,
          46.7075176,
          43.8954884,
          37.5615555,
          45.9356337,
          43.1063919,
          46.1785803,
          45.688963,
          45.4886517,
          43.9176177,
          43.3879013,
          45.3821338,
          41.3914293,
          45.9463133,
          43.4777091,
          46.2563324,
          44.7395655,
          46.7684446,
          42.7026579,
          38.8062483,
          45.2511,
          45.8259029,
          45.5187163,
          45.5188925,
          45.4221851,
          45.5713111,
          46.3675258,
          45.78085189999999,
          45.3643538,
          44.9072727,
          40.8066536,
          45.4437795
         ],
         "legendgroup": "€€",
         "lon": [
          12.2034957,
          11.6599965,
          11.1123865,
          16.1733917,
          12.8983218,
          7.670155899999998,
          7.9778168,
          12.2472596,
          14.9903791,
          13.6986639,
          10.8908849,
          12.7378003,
          12.8021341,
          9.0396439,
          9.5978795,
          9.144402,
          10.8551196,
          10.5104769,
          12.3946532,
          11.6070233,
          11.9439104,
          12.1344807,
          8.4506398,
          10.8797139,
          8.3037269,
          9.4020886,
          17.2985559,
          8.2862882,
          13.3326718,
          8.282829,
          8.4446011,
          7.3752557,
          14.7039581,
          10.860739,
          10.1996038,
          15.9173139,
          9.6137063,
          14.9272044,
          10.7914387,
          7.8231364,
          11.8999361,
          12.6761326,
          12.0408666,
          13.4292739,
          12.6733324,
          9.946338,
          14.3740682,
          12.0560381,
          12.9409854,
          12.3250791,
          11.7902354,
          10.3410346,
          12.1853525,
          15.8363687,
          10.4867733,
          11.7956963,
          12.976383,
          9.6081844,
          11.186705,
          12.7692088,
          13.6418791,
          9.316491,
          10.4159001,
          11.9138781,
          14.6086202,
          15.2216971,
          14.2078473,
          14.077327,
          7.847741699999999,
          10.9917136,
          10.007155,
          12.0362766,
          9.3788887,
          8.5864807,
          10.0227044,
          11.148594,
          9.9450674,
          12.0857142,
          10.8061757,
          13.0844749,
          14.1842514,
          17.2288771,
          17.127163,
          7.388651399999999,
          9.4585359,
          12.4165537,
          7.9498122,
          10.9142396,
          12.2859766,
          12.0054047,
          13.4274865,
          11.7955319,
          8.3537927,
          15.5447402,
          11.1465025,
          10.7642278,
          12.2552843,
          10.9465026,
          15.0584028,
          10.2493838,
          12.7264489,
          10.0618418,
          11.8283805,
          11.2912432,
          12.392961,
          9.8497105,
          14.1636412,
          10.1958503,
          11.9115145,
          8.693381,
          11.223636,
          9.0803186,
          15.1842151,
          12.5705578,
          12.1764254,
          12.0484134,
          9.5558774,
          12.3453001,
          11.9025644,
          7.858188199999999,
          14.7023276,
          12.6697243,
          9.8719947,
          12.5559234,
          8.8498883,
          10.5529306,
          8.5450705,
          14.7241568,
          14.9487361,
          13.2249137,
          11.1801905,
          10.312156,
          9.9169799,
          8.5602412,
          15.3531516,
          11.301007,
          12.343524,
          13.399934,
          10.51886,
          14.0887139,
          11.0523261,
          9.334504,
          7.5767373,
          8.2558714,
          12.3269211,
          11.627179,
          11.3115548,
          18.298862,
          8.882736099999999,
          11.5193711,
          9.3202344,
          13.103971,
          11.9479483,
          8.0941323,
          8.4525717,
          10.5606814,
          13.1676148,
          10.9161206,
          15.7183263,
          9.1770665,
          8.4717177,
          12.0757964,
          13.4556559,
          8.068823799999999,
          12.481095,
          12.2463181,
          12.0899497,
          15.1221837,
          10.4965683,
          10.1007261,
          17.3750685,
          14.4500488,
          13.1389184,
          10.5635548,
          10.9440345,
          7.9777493,
          10.737496,
          7.818649,
          13.5320705,
          7.882217399999999,
          9.3811536,
          12.6873245,
          8.2359592,
          12.1232026,
          9.1369174,
          12.433211,
          12.8811764,
          10.7495339,
          8.645234799999999,
          16.0451076,
          15.8025652,
          12.6644756,
          10.1526188,
          15.4445937,
          11.8737721,
          8.582382599999999,
          10.3207421,
          12.6507788,
          12.6203361,
          10.6264577,
          10.089057,
          9.9302728,
          12.3273912,
          11.74971,
          13.3505187,
          10.1442241,
          10.9672917,
          10.7950804,
          8.9555618,
          8.7538318,
          12.1370912,
          13.1724037,
          9.9653701,
          10.7382568,
          9.3132676,
          12.6453613,
          7.536947499999999,
          8.0318951,
          7.5655191,
          7.535366199999999,
          11.2144226,
          9.3904975,
          10.9383326,
          8.9708086,
          12.6608412,
          10.4165693,
          11.914404,
          9.584221,
          10.737311,
          18.4912117,
          8.4853028,
          12.5293824,
          9.7423659,
          13.6930175,
          13.0315677,
          8.3678329,
          15.843886,
          12.1000937,
          11.3154538,
          13.1455843,
          11.3925923,
          9.7855186,
          13.0861505,
          8.4200096,
          11.2422017,
          10.5872857,
          14.0656002,
          10.7755176,
          15.9805135,
          14.9044716,
          9.5274678,
          11.8832233,
          12.0304603,
          14.3705567,
          9.085244800000002,
          11.3040337,
          11.1069858,
          14.0666058,
          10.7997042,
          11.8936569,
          9.7913306,
          16.1612313,
          9.6815706,
          9.9293083,
          7.896057300000001,
          12.5023356,
          7.8872502,
          10.5737909,
          8.8075273,
          8.970955499999999,
          12.2430942,
          14.698992,
          13.8321941,
          12.6136783,
          10.5259535,
          10.4017581,
          15.2337292,
          11.6704739,
          11.6043844,
          8.3797975,
          11.1923601,
          8.784021,
          9.6692639,
          10.9532032,
          11.1070072,
          8.2685657,
          11.8060441,
          12.3707315,
          11.9307558,
          11.0624031,
          18.0941716,
          15.6478516,
          10.6346153,
          16.1844986,
          11.1305372,
          7.733853099999998,
          12.256792,
          9.818557,
          9.6271755,
          8.336407600000001,
          11.5009902,
          10.1214827,
          14.0631576,
          8.589729499999999,
          9.7376008,
          10.039862,
          9.5865829,
          9.0143248,
          7.7231111,
          7.5198702,
          8.5938211,
          14.0796648,
          16.405068,
          11.5127316,
          12.8722761,
          14.0135877,
          18.2489384,
          14.4956135,
          12.8567824,
          13.5688164,
          8.3411589,
          16.1289488,
          16.2980507,
          12.6849045,
          11.3667552,
          8.1032481,
          11.2785197,
          11.3298975,
          14.8534628,
          13.3980221,
          11.1844712,
          11.9023314,
          7.3585955,
          8.295999,
          17.5079239,
          9.6637016,
          11.1884084,
          9.0059861,
          12.5660375,
          7.729476200000001,
          7.478056199999998,
          8.7498898,
          9.6614593,
          8.3074754,
          8.466491,
          12.7335733,
          11.6029498,
          8.8997689,
          13.5870802,
          7.932175999999998,
          13.1801076,
          15.3791848,
          11.9317771,
          11.9317771,
          10.1497624,
          11.0756697,
          13.5722171,
          14.5430176,
          8.4594798,
          8.7931809,
          9.3005587,
          12.0345597,
          14.8715681,
          9.1691413,
          9.1892168,
          11.6286717,
          9.1261241,
          8.0596215,
          9.23721,
          10.9523964,
          7.257393200000001,
          8.5557334,
          9.447911500000002,
          9.9539888,
          11.802235,
          10.121868,
          9.3801788,
          11.1236373,
          13.0782746,
          13.8545871,
          18.3003345,
          8.540309299999999,
          10.6783748,
          8.8528164,
          11.2661069,
          13.6207004,
          8.435911299999999,
          8.7104888,
          7.552238,
          11.7557586,
          13.2109516,
          9.1507576,
          11.2394697,
          12.6470618,
          9.6705488,
          13.9277644,
          10.4909104,
          8.4665913,
          12.4066357,
          13.7766081,
          9.9849948,
          10.2807553,
          17.2689165,
          13.3124511,
          11.6676629,
          11.8163253,
          10.6196393,
          12.0103109,
          15.3134682,
          12.32869,
          12.6362563,
          14.126901,
          8.8251787,
          12.3856155,
          10.6051948,
          12.0512021,
          10.5756037,
          15.2652465,
          12.9212582,
          11.743396,
          8.254354,
          9.2838167,
          10.3585282,
          10.0823995,
          11.0960184,
          9.0623983,
          11.1928377,
          8.9848281,
          13.3467442,
          12.3320092,
          11.8019993,
          12.2999259,
          9.011851,
          8.5553058,
          12.1023834,
          9.2972049,
          7.507006199999999,
          10.5390444,
          8.925360399999999,
          8.9495998,
          9.0727525,
          12.1928021,
          7.946662,
          11.1380654,
          11.3504528,
          11.0079796,
          11.1919387,
          9.0101299,
          8.4034469,
          12.5762788,
          11.6390488,
          10.8218679,
          15.1574868,
          12.8712564,
          12.308078,
          9.8990267,
          11.8046659,
          10.4917437,
          10.526329,
          11.1941241,
          9.5248076,
          12.9475056,
          10.1992526,
          11.0243478,
          11.810331,
          7.9049443,
          12.1793707,
          11.5306016,
          15.2386796,
          8.791277299999999,
          9.419594,
          11.1596389,
          10.3547624,
          8.9356177,
          10.7569526,
          11.3540176,
          9.199703,
          9.682427,
          8.6116796,
          8.4305886,
          12.334896
         ],
         "marker": {
          "color": "#B6E880",
          "size": [
           150,
           150,
           150,
           100,
           100,
           100,
           100,
           100,
           100,
           100,
           100,
           100,
           100,
           100,
           100,
           100,
           100,
           100,
           100,
           100,
           100,
           100,
           100,
           100,
           100,
           100,
           100,
           100,
           100,
           100,
           100,
           100,
           100,
           100,
           100,
           100,
           100,
           100,
           100,
           100,
           100,
           100,
           100,
           100,
           50,
           50,
           50,
           50,
           50,
           50,
           50,
           50,
           50,
           50,
           50,
           50,
           50,
           50,
           50,
           50,
           50,
           50,
           50,
           50,
           50,
           50,
           50,
           50,
           50,
           50,
           50,
           50,
           50,
           50,
           50,
           50,
           50,
           50,
           50,
           50,
           50,
           50,
           50,
           50,
           50,
           50,
           50,
           50,
           50,
           50,
           50,
           50,
           50,
           50,
           50,
           50,
           50,
           50,
           50,
           50,
           50,
           50,
           50,
           50,
           50,
           50,
           50,
           50,
           50,
           50,
           50,
           50,
           50,
           50,
           50,
           50,
           50,
           50,
           50,
           50,
           50,
           50,
           50,
           50,
           50,
           50,
           50,
           50,
           50,
           50,
           50,
           50,
           50,
           50,
           50,
           50,
           50,
           50,
           50,
           50,
           50,
           50,
           50,
           50,
           50,
           50,
           50,
           50,
           50,
           50,
           50,
           50,
           50,
           50,
           50,
           50,
           50,
           50,
           50,
           50,
           50,
           50,
           50,
           50,
           50,
           50,
           50,
           50,
           50,
           50,
           50,
           50,
           50,
           50,
           50,
           50,
           50,
           50,
           50,
           50,
           50,
           50,
           50,
           50,
           50,
           50,
           50,
           50,
           50,
           50,
           50,
           50,
           50,
           50,
           50,
           50,
           50,
           50,
           50,
           50,
           50,
           50,
           50,
           50,
           50,
           50,
           50,
           50,
           50,
           50,
           50,
           50,
           50,
           50,
           50,
           50,
           50,
           50,
           50,
           50,
           50,
           50,
           50,
           50,
           50,
           50,
           50,
           50,
           50,
           50,
           50,
           50,
           50,
           50,
           50,
           50,
           50,
           50,
           50,
           50,
           50,
           50,
           50,
           50,
           50,
           50,
           50,
           50,
           50,
           50,
           50,
           50,
           50,
           50,
           50,
           50,
           50,
           50,
           50,
           50,
           50,
           50,
           50,
           50,
           50,
           50,
           50,
           50,
           50,
           50,
           50,
           50,
           50,
           50,
           50,
           50,
           50,
           50,
           50,
           50,
           50,
           50,
           50,
           50,
           50,
           50,
           50,
           50,
           50,
           50,
           50,
           50,
           50,
           50,
           50,
           50,
           50,
           50,
           50,
           50,
           50,
           50,
           50,
           50,
           50,
           50,
           50,
           50,
           50,
           50,
           50,
           50,
           50,
           50,
           50,
           50,
           50,
           50,
           50,
           50,
           50,
           50,
           50,
           50,
           50,
           50,
           50,
           50,
           50,
           50,
           50,
           50,
           50,
           50,
           50,
           50,
           50,
           50,
           50,
           50,
           50,
           50,
           50,
           50,
           50,
           50,
           50,
           50,
           50,
           50,
           50,
           50,
           50,
           50,
           50,
           50,
           50,
           50,
           50,
           50,
           50,
           50,
           50,
           50,
           50,
           50,
           50,
           50,
           50,
           50,
           50,
           50,
           50,
           50,
           50,
           50,
           50,
           50,
           50,
           50,
           50,
           50,
           50,
           50,
           50,
           50,
           50,
           50,
           50,
           50,
           50,
           50,
           50,
           50,
           50,
           50,
           50,
           50,
           50,
           50,
           50,
           50,
           50,
           50,
           50,
           50,
           50,
           50,
           50,
           50,
           50,
           50,
           50,
           50,
           50,
           50,
           50,
           50,
           50,
           50,
           50,
           50,
           50,
           50,
           50,
           50,
           50,
           50,
           50,
           50,
           50,
           50,
           50,
           50,
           50,
           50,
           50,
           50,
           50,
           50,
           50,
           50,
           50,
           50,
           50,
           50,
           50,
           50,
           50,
           50,
           50,
           50,
           50,
           50,
           50,
           50,
           50,
           50,
           50,
           50,
           50,
           50,
           50,
           50,
           50,
           50,
           50,
           50,
           50,
           50,
           50,
           50,
           50,
           50,
           50,
           50,
           50,
           50,
           50,
           50,
           50
          ],
          "sizemode": "area",
          "sizeref": 0.435
         },
         "mode": "markers",
         "name": "€€",
         "showlegend": true,
         "subplot": "mapbox",
         "type": "scattermapbox"
        },
        {
         "customdata": [
          [
           3,
           "€€€"
          ],
          [
           3,
           "€€€"
          ],
          [
           3,
           "€€€"
          ],
          [
           3,
           "€€€"
          ],
          [
           2,
           "€€€"
          ],
          [
           2,
           "€€€"
          ],
          [
           2,
           "€€€"
          ],
          [
           2,
           "€€€"
          ],
          [
           2,
           "€€€"
          ],
          [
           2,
           "€€€"
          ],
          [
           2,
           "€€€"
          ],
          [
           2,
           "€€€"
          ],
          [
           2,
           "€€€"
          ],
          [
           2,
           "€€€"
          ],
          [
           2,
           "€€€"
          ],
          [
           2,
           "€€€"
          ],
          [
           2,
           "€€€"
          ],
          [
           2,
           "€€€"
          ],
          [
           2,
           "€€€"
          ],
          [
           2,
           "€€€"
          ],
          [
           2,
           "€€€"
          ],
          [
           2,
           "€€€"
          ],
          [
           2,
           "€€€"
          ],
          [
           2,
           "€€€"
          ],
          [
           1,
           "€€€"
          ],
          [
           1,
           "€€€"
          ],
          [
           1,
           "€€€"
          ],
          [
           1,
           "€€€"
          ],
          [
           1,
           "€€€"
          ],
          [
           1,
           "€€€"
          ],
          [
           1,
           "€€€"
          ],
          [
           1,
           "€€€"
          ],
          [
           1,
           "€€€"
          ],
          [
           1,
           "€€€"
          ],
          [
           1,
           "€€€"
          ],
          [
           1,
           "€€€"
          ],
          [
           1,
           "€€€"
          ],
          [
           1,
           "€€€"
          ],
          [
           1,
           "€€€"
          ],
          [
           1,
           "€€€"
          ],
          [
           1,
           "€€€"
          ],
          [
           1,
           "€€€"
          ],
          [
           1,
           "€€€"
          ],
          [
           1,
           "€€€"
          ],
          [
           1,
           "€€€"
          ],
          [
           1,
           "€€€"
          ],
          [
           1,
           "€€€"
          ],
          [
           1,
           "€€€"
          ],
          [
           1,
           "€€€"
          ],
          [
           1,
           "€€€"
          ],
          [
           1,
           "€€€"
          ],
          [
           1,
           "€€€"
          ],
          [
           1,
           "€€€"
          ],
          [
           1,
           "€€€"
          ],
          [
           1,
           "€€€"
          ],
          [
           1,
           "€€€"
          ],
          [
           1,
           "€€€"
          ],
          [
           1,
           "€€€"
          ],
          [
           1,
           "€€€"
          ],
          [
           1,
           "€€€"
          ],
          [
           1,
           "€€€"
          ],
          [
           1,
           "€€€"
          ],
          [
           1,
           "€€€"
          ],
          [
           1,
           "€€€"
          ],
          [
           1,
           "€€€"
          ],
          [
           1,
           "€€€"
          ],
          [
           1,
           "€€€"
          ],
          [
           1,
           "€€€"
          ],
          [
           1,
           "€€€"
          ],
          [
           1,
           "€€€"
          ],
          [
           1,
           "€€€"
          ],
          [
           1,
           "€€€"
          ],
          [
           1,
           "€€€"
          ],
          [
           1,
           "€€€"
          ],
          [
           1,
           "€€€"
          ],
          [
           1,
           "€€€"
          ],
          [
           1,
           "€€€"
          ],
          [
           1,
           "€€€"
          ],
          [
           1,
           "€€€"
          ],
          [
           1,
           "€€€"
          ],
          [
           1,
           "€€€"
          ],
          [
           1,
           "€€€"
          ],
          [
           1,
           "€€€"
          ],
          [
           1,
           "€€€"
          ],
          [
           1,
           "€€€"
          ],
          [
           1,
           "€€€"
          ],
          [
           1,
           "€€€"
          ],
          [
           1,
           "€€€"
          ],
          [
           1,
           "€€€"
          ],
          [
           1,
           "€€€"
          ],
          [
           1,
           "€€€"
          ],
          [
           1,
           "€€€"
          ],
          [
           1,
           "€€€"
          ],
          [
           1,
           "€€€"
          ],
          [
           1,
           "€€€"
          ],
          [
           1,
           "€€€"
          ],
          [
           1,
           "€€€"
          ],
          [
           1,
           "€€€"
          ],
          [
           1,
           "€€€"
          ],
          [
           1,
           "€€€"
          ],
          [
           1,
           "€€€"
          ],
          [
           1,
           "€€€"
          ],
          [
           1,
           "€€€"
          ],
          [
           1,
           "€€€"
          ],
          [
           1,
           "€€€"
          ],
          [
           1,
           "€€€"
          ],
          [
           1,
           "€€€"
          ],
          [
           1,
           "€€€"
          ],
          [
           1,
           "€€€"
          ],
          [
           1,
           "€€€"
          ],
          [
           1,
           "€€€"
          ],
          [
           1,
           "€€€"
          ],
          [
           1,
           "€€€"
          ],
          [
           1,
           "€€€"
          ],
          [
           1,
           "€€€"
          ],
          [
           1,
           "€€€"
          ],
          [
           1,
           "€€€"
          ],
          [
           1,
           "€€€"
          ],
          [
           1,
           "€€€"
          ],
          [
           1,
           "€€€"
          ],
          [
           1,
           "€€€"
          ],
          [
           1,
           "€€€"
          ],
          [
           1,
           "€€€"
          ],
          [
           1,
           "€€€"
          ],
          [
           1,
           "€€€"
          ],
          [
           1,
           "€€€"
          ],
          [
           1,
           "€€€"
          ],
          [
           1,
           "€€€"
          ],
          [
           1,
           "€€€"
          ],
          [
           1,
           "€€€"
          ],
          [
           1,
           "€€€"
          ],
          [
           1,
           "€€€"
          ],
          [
           1,
           "€€€"
          ],
          [
           1,
           "€€€"
          ],
          [
           1,
           "€€€"
          ],
          [
           1,
           "€€€"
          ],
          [
           1,
           "€€€"
          ],
          [
           1,
           "€€€"
          ],
          [
           1,
           "€€€"
          ],
          [
           1,
           "€€€"
          ],
          [
           1,
           "€€€"
          ],
          [
           1,
           "€€€"
          ],
          [
           1,
           "€€€"
          ],
          [
           1,
           "€€€"
          ],
          [
           1,
           "€€€"
          ],
          [
           1,
           "€€€"
          ],
          [
           1,
           "€€€"
          ],
          [
           1,
           "€€€"
          ],
          [
           1,
           "€€€"
          ],
          [
           1,
           "€€€"
          ],
          [
           1,
           "€€€"
          ],
          [
           1,
           "€€€"
          ],
          [
           1,
           "€€€"
          ],
          [
           1,
           "€€€"
          ],
          [
           1,
           "€€€"
          ],
          [
           1,
           "€€€"
          ],
          [
           1,
           "€€€"
          ],
          [
           1,
           "€€€"
          ],
          [
           1,
           "€€€"
          ],
          [
           1,
           "€€€"
          ],
          [
           1,
           "€€€"
          ],
          [
           1,
           "€€€"
          ],
          [
           1,
           "€€€"
          ],
          [
           1,
           "€€€"
          ],
          [
           1,
           "€€€"
          ],
          [
           1,
           "€€€"
          ],
          [
           1,
           "€€€"
          ],
          [
           1,
           "€€€"
          ],
          [
           1,
           "€€€"
          ],
          [
           1,
           "€€€"
          ],
          [
           1,
           "€€€"
          ],
          [
           1,
           "€€€"
          ],
          [
           1,
           "€€€"
          ],
          [
           1,
           "€€€"
          ],
          [
           1,
           "€€€"
          ],
          [
           1,
           "€€€"
          ],
          [
           1,
           "€€€"
          ],
          [
           1,
           "€€€"
          ],
          [
           1,
           "€€€"
          ],
          [
           1,
           "€€€"
          ],
          [
           1,
           "€€€"
          ],
          [
           1,
           "€€€"
          ],
          [
           1,
           "€€€"
          ],
          [
           1,
           "€€€"
          ],
          [
           1,
           "€€€"
          ],
          [
           1,
           "€€€"
          ],
          [
           1,
           "€€€"
          ],
          [
           1,
           "€€€"
          ],
          [
           1,
           "€€€"
          ],
          [
           1,
           "€€€"
          ],
          [
           1,
           "€€€"
          ],
          [
           1,
           "€€€"
          ],
          [
           1,
           "€€€"
          ],
          [
           1,
           "€€€"
          ],
          [
           1,
           "€€€"
          ],
          [
           1,
           "€€€"
          ],
          [
           1,
           "€€€"
          ],
          [
           1,
           "€€€"
          ],
          [
           1,
           "€€€"
          ],
          [
           1,
           "€€€"
          ],
          [
           1,
           "€€€"
          ],
          [
           1,
           "€€€"
          ],
          [
           1,
           "€€€"
          ],
          [
           1,
           "€€€"
          ],
          [
           1,
           "€€€"
          ],
          [
           1,
           "€€€"
          ],
          [
           1,
           "€€€"
          ],
          [
           1,
           "€€€"
          ],
          [
           1,
           "€€€"
          ],
          [
           1,
           "€€€"
          ],
          [
           1,
           "€€€"
          ],
          [
           1,
           "€€€"
          ],
          [
           1,
           "€€€"
          ],
          [
           1,
           "€€€"
          ],
          [
           1,
           "€€€"
          ],
          [
           1,
           "€€€"
          ],
          [
           1,
           "€€€"
          ],
          [
           1,
           "€€€"
          ],
          [
           1,
           "€€€"
          ],
          [
           1,
           "€€€"
          ],
          [
           1,
           "€€€"
          ],
          [
           1,
           "€€€"
          ],
          [
           1,
           "€€€"
          ],
          [
           1,
           "€€€"
          ],
          [
           1,
           "€€€"
          ],
          [
           1,
           "€€€"
          ],
          [
           1,
           "€€€"
          ],
          [
           1,
           "€€€"
          ],
          [
           1,
           "€€€"
          ],
          [
           1,
           "€€€"
          ],
          [
           1,
           "€€€"
          ],
          [
           1,
           "€€€"
          ],
          [
           1,
           "€€€"
          ],
          [
           1,
           "€€€"
          ],
          [
           1,
           "€€€"
          ],
          [
           1,
           "€€€"
          ],
          [
           1,
           "€€€"
          ],
          [
           1,
           "€€€"
          ],
          [
           1,
           "€€€"
          ],
          [
           1,
           "€€€"
          ],
          [
           1,
           "€€€"
          ],
          [
           1,
           "€€€"
          ],
          [
           1,
           "€€€"
          ],
          [
           1,
           "€€€"
          ],
          [
           1,
           "€€€"
          ],
          [
           1,
           "€€€"
          ],
          [
           1,
           "€€€"
          ],
          [
           1,
           "€€€"
          ],
          [
           1,
           "€€€"
          ],
          [
           1,
           "€€€"
          ],
          [
           1,
           "€€€"
          ],
          [
           1,
           "€€€"
          ],
          [
           1,
           "€€€"
          ],
          [
           1,
           "€€€"
          ],
          [
           1,
           "€€€"
          ],
          [
           1,
           "€€€"
          ],
          [
           1,
           "€€€"
          ],
          [
           1,
           "€€€"
          ],
          [
           1,
           "€€€"
          ],
          [
           1,
           "€€€"
          ],
          [
           1,
           "€€€"
          ],
          [
           1,
           "€€€"
          ],
          [
           1,
           "€€€"
          ],
          [
           1,
           "€€€"
          ],
          [
           1,
           "€€€"
          ],
          [
           1,
           "€€€"
          ],
          [
           1,
           "€€€"
          ],
          [
           1,
           "€€€"
          ],
          [
           1,
           "€€€"
          ],
          [
           1,
           "€€€"
          ],
          [
           1,
           "€€€"
          ],
          [
           1,
           "€€€"
          ],
          [
           1,
           "€€€"
          ],
          [
           1,
           "€€€"
          ],
          [
           1,
           "€€€"
          ],
          [
           1,
           "€€€"
          ],
          [
           1,
           "€€€"
          ],
          [
           1,
           "€€€"
          ],
          [
           1,
           "€€€"
          ],
          [
           1,
           "€€€"
          ],
          [
           1,
           "€€€"
          ],
          [
           1,
           "€€€"
          ]
         ],
         "hovertemplate": "<b>%{hovertext}</b><br><br>price_ranges=%{customdata[1]}<br>adjusted_restaurant_count=%{marker.size}<br>latitude=%{lat}<br>longitude=%{lon}<br>restaurant_count=%{customdata[0]}<extra></extra>",
         "hovertext": [
          "Sestri Levante",
          "Courmayeur",
          "Ortigia",
          "Monza",
          "Bassano del Grappa",
          "Borgonovo Val Tidone",
          "Varese",
          "Ponza",
          "Breuil Cervinia",
          "Rubiera",
          "San Felice del Benaco",
          "Polignano a Mare",
          "Porto Cervo",
          "Numana",
          "Padenghe sul Garda",
          "Bagno di Romagna",
          "Pietrasanta",
          "Marina di Pietrasanta",
          "Massa Lubrense",
          "Cerretto Langhe",
          "Gattinara",
          "Gabicce Monte",
          "Assisi",
          "località Villa a Sesta",
          "località Vighizzolo",
          "località Santa Lucia di Tarù",
          "località Villa Maiella",
          "località Valle Sauglio",
          "località Valle",
          "località Montinelle",
          "località Plois alt. 870",
          "località Ponte di Ferro",
          "località Porticino",
          "località Rio San Martino",
          "località San Gaudenzio",
          "Cologne",
          "Baronissi",
          "Avezzano",
          "Cormons",
          "Clusane d'Iseo",
          "Codigoro",
          "Colle",
          "Collebeato",
          "Fasano",
          "Civitella del Lago",
          "Empoli",
          "Erbusco",
          "Este",
          "Gaeta",
          "Fiesole",
          "Finalborgo",
          "Chioggia",
          "Cima",
          "Genazzano",
          "Formello",
          "Fornace",
          "Fosdinovo",
          "Greve in Chianti",
          "Grezzana",
          "Grinzane Cavour",
          "Grottammare",
          "Gudon",
          "Isola d'Asti",
          "Isola dei Pescatori",
          "Issengo",
          "Jesolo",
          "Giulianova",
          "Civitella del Tronto",
          "Cermes",
          "Laigueglia",
          "Lainate",
          "Lallio",
          "Lancenigo",
          "Lavagna",
          "Gussago",
          "Induno Olona",
          "Iseo",
          "Le Ferriere",
          "Legnano",
          "Levizzano Rangone",
          "Lezzeno",
          "Lido di Camaiore",
          "Ladispoli",
          "Lomazzo",
          "Loreto",
          "Maiori",
          "Cavaion Veronese",
          "Cavallino",
          "Marina Di Campo",
          "Madesimo",
          "Marina di Bibbona",
          "Marina di Gioiosa Ionica",
          "Marina di Grosseto",
          "Marina di Pisa",
          "Marina di Ragusa",
          "Marlengo",
          "Marne",
          "Casanova di Terricciola",
          "Massa",
          "Menfi",
          "Messina",
          "Minervino di Lecce",
          "Molini",
          "Monte Sant'Angelo",
          "Montecarlo",
          "Ariccia",
          "Montemonaco",
          "Montepagano",
          "Moniga del Garda",
          "Montaldo Scarampi",
          "Castel San Pietro Terme",
          "Castel di Sangro",
          "Castelbianco",
          "Montemagno",
          "Montoro",
          "Montà",
          "Caserta",
          "Cassinetta di Lugagnano",
          "Casteggio",
          "Castel Gandolfo",
          "Castel Giorgio",
          "Oneglia",
          "Noci",
          "Ovada",
          "Noventa Padovana",
          "Oderzo",
          "Caravaggio",
          "Carpaneto Piacentino",
          "Canale",
          "Pegli",
          "Pella",
          "Pellio Intelvi",
          "Pennabilli",
          "Peschici",
          "Peschiera Borromeo",
          "Peschiera del Garda",
          "Pagazzano",
          "Palau",
          "Pallanza",
          "Busto Arsizio",
          "Pizzo Calabro",
          "Cannaregio",
          "Capodacqua",
          "Puegnago sul Garda",
          "Pontassieve",
          "Ponte San Pietro",
          "Ponte di Rialto",
          "Pontelongo",
          "Pontinia",
          "Piobesi d'Alba",
          "Ranco",
          "Rapallo",
          "Porto San Paolo",
          "Portonovo",
          "Pozza di Fassa",
          "Pozzolengo",
          "Priocca",
          "Pudiano",
          "Puos d'Alpago",
          "Putignano",
          "Quarto",
          "Quistello",
          "Caluso",
          "Calvisano",
          "Robbiate",
          "Ravarino",
          "Recanati",
          "Rodengo Saiano",
          "Rognano",
          "Roncade",
          "Rovato",
          "Ruda",
          "Riola Sardo",
          "Salgareda",
          "Arma di Taggia",
          "Arzignano",
          "Alzano Lombardo",
          "Ambivere",
          "San Fermo della Battaglia",
          "San Giuliano Milanese",
          "Saint-Vincent",
          "San Maurizio Canavese",
          "San Mauro a Mare",
          "San Piero in Bagno",
          "San Polo d'Enza",
          "San Cassiano",
          "Burano",
          "Borgo Prino",
          "San Vito Chietino",
          "San Zeno di Montagna",
          "San Giustino Valdarno",
          "San Quirino",
          "San Salvo Marina",
          "San Vincenzo",
          "Briaglia",
          "Brufa",
          "Sant'Omobono Terme",
          "Santa Maria di Castellabate",
          "Seggiano",
          "Sassetta",
          "Saturnia",
          "Somma Vesuviana",
          "Sorisole",
          "Scala",
          "Borgonato",
          "Brennero",
          "Termini Imerese",
          "Spoltore",
          "Squille",
          "Barate",
          "Torre del Greco",
          "Torre di Palme",
          "Torregrotta",
          "Treiso",
          "Trescore Balneario",
          "Tigliole",
          "Tisens",
          "Boccadasse",
          "Bagnolo",
          "Tropea",
          "Ugento",
          "Val Liona",
          "Vallesaccarda",
          "Torrita di Siena",
          "Trapani",
          "Valmadrera",
          "Varena",
          "Varigotti",
          "Vasto",
          "Afragola",
          "sestiere San Polo 1911",
          "sestiere di Castello 5911",
          "Villa Zarri",
          "Villa di Chiavenna",
          "Villandro",
          "Villar Dora",
          "Vinci",
          "Vipiteno",
          "Zafferana Etnea",
          "Vernante",
          "Viagrande",
          "Vibo Valentia Marina",
          "angolo via Tadino",
          "fraz. Scalvino",
          "Vigevano",
          "località Sorte",
          "località Spisone",
          "loc. Sant'Eustachio",
          "loc. Sarmeola",
          "angolo via Fiumara 2",
          "loc. Liscia di Vacca",
          "Bari",
          "sestiere Castello 4509",
          "sestiere Castello 5527",
          "sestiere Dorsoduro 19",
          "via del Costino",
          "località Santo Janni",
          "loc. Seiano",
          "loc. Tre Stelle",
          "località Balignano",
          "località Carruba di Riposto",
          "località Casonetto",
          "località Farra",
          "località Mola",
          "località Vadaione",
          "Albavilla",
          "Alberobello",
          "Albiate",
          "Albignasego",
          "sestiere Castello 4171",
          "Almenno San Bartolomeo",
          "Almè",
          "sestiere Dorsoduro 366",
          "Badia",
          "strada per Dueville",
          "strada per Passo Tre Croci",
          "località Villa di Salò",
          "molo Sant'Antonio",
          "sestiere  Castello 5801",
          "sestiere Castello 3499",
          "sestiere Castello 3886",
          "sestiere Castello 3968"
         ],
         "lat": [
          44.2726936,
          45.7908431,
          37.06089780000001,
          45.5845001,
          45.7640971,
          45.0142494,
          45.8182892,
          40.9108657,
          45.93443380000001,
          44.65441819999999,
          45.5848191,
          40.9950486,
          41.1315336,
          43.5118923,
          45.505939,
          43.8365227,
          43.9596992,
          43.9308567,
          40.6108903,
          44.5758547,
          45.6171586,
          43.96402570000001,
          43.070631,
          43.3842614,
          45.1423874,
          41.9934526,
          42.2018233,
          44.98815399999999,
          44.525391,
          45.55197,
          46.1735669,
          40.8860921,
          44.3031559,
          45.5920792,
          44.7802139,
          45.5817764,
          40.7461886,
          42.0278194,
          45.9558594,
          45.66220450000001,
          44.8315701,
          46.1660761,
          45.58396399999999,
          40.8355304,
          42.7118251,
          43.7178972,
          45.5994272,
          45.2290261,
          41.2106842,
          43.8067912,
          44.1743048,
          45.2190746,
          46.0244631,
          41.8289225,
          42.0821378,
          46.1186941,
          44.1354054,
          43.5830644,
          45.5202806,
          44.6535671,
          42.98559110000001,
          46.64807039999999,
          44.8275313,
          45.90134279999999,
          46.8157552,
          45.5330152,
          42.7512036,
          42.7734026,
          46.633965,
          43.9783918,
          45.5742367,
          45.664807,
          45.7268358,
          44.30947829999999,
          45.58706160000001,
          45.8480256,
          45.6597509,
          41.5150772,
          45.5968635,
          44.4832496,
          45.9450777,
          43.9057635,
          41.9489659,
          45.6984171,
          43.43857209999999,
          40.64812879999999,
          45.5401399,
          40.3110134,
          42.7440262,
          46.4366567,
          43.2451024,
          38.3027016,
          42.7151275,
          43.6723848,
          36.7834487,
          46.6575256,
          45.6251914,
          43.5450616,
          44.035489,
          37.6041498,
          38.1937342,
          40.0910419,
          44.5848938,
          41.7064781,
          43.8517242,
          41.7211357,
          42.8987208,
          42.6786964,
          45.5287015,
          44.8287735,
          44.3996241,
          41.7839542,
          44.1131077,
          44.9821797,
          40.8208486,
          44.812661,
          41.0720635,
          45.42299060000001,
          45.0160324,
          41.7497932,
          42.7079274,
          43.893036,
          40.793902,
          44.6383461,
          45.415988,
          45.783863,
          45.4948597,
          44.91369290000001,
          46.0423009,
          44.4285278,
          45.8016644,
          45.9790828,
          43.8181464,
          41.9460407,
          45.43581529999999,
          45.43964829999999,
          45.5323742,
          41.1823779,
          45.9258794,
          45.6117563,
          38.733664,
          45.4439966,
          43.0295176,
          45.5662258,
          43.7746712,
          45.6961024,
          45.4379842,
          45.2427951,
          41.4085828,
          44.7343998,
          45.7975384,
          44.3506064,
          40.8754267,
          43.5611908,
          46.4301799,
          45.4035444,
          44.7854067,
          45.3992063,
          46.1398438,
          40.85450489999999,
          40.8785023,
          45.0091382,
          45.30230299999999,
          45.3481227,
          45.690938,
          44.7231792,
          43.4022701,
          45.598223,
          45.2885374,
          45.6286325,
          45.5684333,
          45.8381438,
          39.9952066,
          45.7041528,
          43.8381487,
          45.5217777,
          45.7295289,
          45.72036900000001,
          45.80742730000001,
          45.3934658,
          45.7517108,
          45.2178256,
          44.1636308,
          43.8573039,
          44.6258719,
          46.5700687,
          45.4853906,
          44.143342,
          42.2963538,
          45.631088,
          43.55212359999999,
          46.0326362,
          42.0720025,
          43.0987916,
          44.3956916,
          43.0588811,
          45.813234,
          40.2959722,
          42.9286195,
          43.1289962,
          42.66323269999999,
          40.8728178,
          45.74459909999999,
          40.6555052,
          45.62078169999999,
          47.0006594,
          37.9841066,
          42.4550072,
          41.1550579,
          45.3841474,
          40.7893347,
          43.1411051,
          38.1972894,
          44.6891592,
          45.6954532,
          44.88677089999999,
          46.5638934,
          44.3916153,
          44.7597441,
          38.67697760000001,
          39.9271464,
          45.3984295,
          41.06350279999999,
          43.16902899999999,
          38.0174282,
          45.84679060000001,
          46.0099989,
          44.1822017,
          42.1045656,
          40.9198122,
          45.437565,
          45.4370514,
          44.5601257,
          46.3308645,
          46.6313653,
          45.1180804,
          43.7843087,
          46.89633930000001,
          37.6917721,
          44.2431695,
          37.60940009999999,
          38.7137473,
          45.4797193,
          45.928985,
          45.3218787,
          46.3741807,
          37.8610417,
          40.7689829,
          45.4220727,
          37.8795711,
          41.1357649,
          41.1171432,
          45.4370514,
          45.4370514,
          45.4359735,
          45.303842,
          41.5493956,
          40.6567813,
          44.705087,
          44.0868408,
          37.6899009,
          45.8111873,
          45.8141836,
          42.7610055,
          46.1522741,
          45.80219899999999,
          40.7864993,
          45.6554057,
          45.3467535,
          45.4370514,
          45.7409119,
          45.7397649,
          45.4338782,
          46.6092482,
          45.6397301,
          46.5577778,
          45.60839199999999,
          41.1282945,
          45.4370514,
          45.4370514,
          45.4370514,
          45.4370514
         ],
         "legendgroup": "€€€",
         "lon": [
          9.4094511,
          6.970942099999999,
          15.2940941,
          9.2744485,
          11.7346898,
          9.4469947,
          8.8252083,
          12.9579459,
          7.631025500000001,
          10.7810367,
          10.5482067,
          17.2195682,
          9.535745,
          13.6214094,
          10.507172,
          11.9600316,
          10.2285242,
          10.205464,
          14.3449936,
          8.094476,
          8.370914299999999,
          12.7762121,
          12.6196732,
          11.4785416,
          10.2242395,
          12.6589431,
          13.917118,
          7.757984,
          7.8994284,
          10.5611339,
          12.3592705,
          14.3944678,
          9.2097879,
          12.1120362,
          9.0168854,
          9.9433086,
          14.7704857,
          13.424805,
          13.4677301,
          10.0000327,
          12.1099556,
          12.8086984,
          10.2136365,
          17.362025,
          12.2819192,
          10.9479081,
          9.9683247,
          11.6566254,
          13.5704358,
          11.2925703,
          8.3294959,
          12.2786505,
          9.0904825,
          12.9727418,
          12.4029884,
          11.2074143,
          10.0209056,
          11.3186815,
          11.016734,
          7.9923422,
          13.868349,
          11.6015134,
          8.1773519,
          8.519848999999999,
          11.8618346,
          12.6435355,
          13.9651353,
          13.6702802,
          11.1448335,
          8.1579376,
          9.027338,
          9.6294455,
          12.2525205,
          9.3444757,
          10.1535501,
          8.8393719,
          10.0495676,
          12.7564369,
          8.9181507,
          10.91083,
          9.1833911,
          10.2271503,
          12.0783697,
          9.0364492,
          13.6160653,
          14.6410022,
          10.7748784,
          18.2013692,
          10.2341099,
          9.3580523,
          10.5331028,
          16.3342643,
          10.9848064,
          10.2754365,
          14.5520266,
          11.1403926,
          9.5566047,
          10.6861892,
          10.1395361,
          12.9670864,
          15.5542088,
          18.4203263,
          8.868198699999999,
          15.9598003,
          10.6672067,
          12.6729714,
          13.3306875,
          13.9895925,
          10.538322,
          8.2574066,
          11.5897276,
          14.1080974,
          8.074649899999999,
          8.323332599999999,
          14.7597151,
          7.9607942,
          14.3312991,
          8.9066244,
          9.1285657,
          12.6485192,
          11.9793865,
          8.045430999999999,
          17.1258599,
          8.6434128,
          11.9537873,
          12.4937309,
          9.642188400000002,
          9.7881556,
          11.2291021,
          8.8114707,
          8.385754,
          9.0562343,
          12.2672601,
          16.0138095,
          9.3034934,
          10.686844,
          9.6716291,
          9.3810541,
          8.549917899999999,
          8.8516777,
          16.1612356,
          12.3285677,
          12.6514059,
          10.5100694,
          11.440514,
          9.5866229,
          12.335898,
          12.0236356,
          13.0441817,
          7.977478799999999,
          8.5711515,
          9.2308589,
          9.6290238,
          13.599937,
          11.685807,
          10.6294277,
          8.0625449,
          10.0101717,
          12.3607903,
          17.1204066,
          14.1453594,
          10.9801,
          7.889567700000001,
          10.3458609,
          9.439929500000002,
          11.1018432,
          13.5538894,
          10.1047463,
          9.0893734,
          12.3747983,
          9.9998065,
          13.402031,
          8.539572999999999,
          12.4926852,
          7.8531153,
          11.3355291,
          9.7242509,
          9.5490187,
          9.0507903,
          9.2856249,
          7.6415008,
          7.634217799999999,
          12.445223,
          11.9790343,
          10.4221736,
          11.9360615,
          12.4166562,
          11.0441303,
          14.4436075,
          10.7233906,
          11.7048733,
          12.6762483,
          14.7652204,
          10.5390583,
          7.876116400000001,
          12.4733021,
          9.5337187,
          14.9519715,
          11.5605053,
          10.6436026,
          11.5042774,
          14.4377087,
          9.6624268,
          14.6088095,
          10.0179131,
          11.5035958,
          13.6959242,
          14.1366599,
          14.4333938,
          9.0391468,
          14.3674804,
          13.8086641,
          15.350892,
          8.0869439,
          9.8404003,
          8.0752823,
          11.1695683,
          8.9762948,
          7.3135724,
          15.8973788,
          18.1612983,
          11.4607369,
          15.2519341,
          11.7755401,
          12.5364464,
          9.3613299,
          9.2838167,
          8.4024378,
          14.7059197,
          14.3073019,
          12.3298437,
          12.3414217,
          11.3542557,
          9.4815043,
          11.5393615,
          7.386395899999999,
          10.9245061,
          11.4321473,
          15.1041151,
          7.5341881,
          15.0963515,
          16.1198699,
          9.2082364,
          9.6676661,
          8.8466726,
          11.6480041,
          15.2959233,
          14.6963188,
          11.8106367,
          15.3038792,
          9.5152077,
          16.8718715,
          12.3414217,
          12.3414217,
          12.32395,
          9.5199244,
          13.8469874,
          14.4221151,
          8.0809632,
          12.3409225,
          15.1905769,
          11.9091867,
          11.8707156,
          10.385936,
          10.7678838,
          9.1880128,
          17.2408813,
          9.2486562,
          11.8677677,
          12.3414217,
          9.580963,
          9.6124951,
          12.323257,
          11.8946187,
          11.5513323,
          12.2036111,
          10.5104769,
          16.8741547,
          12.3414217,
          12.3414217,
          12.3414217,
          12.3414217
         ],
         "marker": {
          "color": "#FF97FF",
          "size": [
           150,
           150,
           150,
           150,
           100,
           100,
           100,
           100,
           100,
           100,
           100,
           100,
           100,
           100,
           100,
           100,
           100,
           100,
           100,
           100,
           100,
           100,
           100,
           100,
           50,
           50,
           50,
           50,
           50,
           50,
           50,
           50,
           50,
           50,
           50,
           50,
           50,
           50,
           50,
           50,
           50,
           50,
           50,
           50,
           50,
           50,
           50,
           50,
           50,
           50,
           50,
           50,
           50,
           50,
           50,
           50,
           50,
           50,
           50,
           50,
           50,
           50,
           50,
           50,
           50,
           50,
           50,
           50,
           50,
           50,
           50,
           50,
           50,
           50,
           50,
           50,
           50,
           50,
           50,
           50,
           50,
           50,
           50,
           50,
           50,
           50,
           50,
           50,
           50,
           50,
           50,
           50,
           50,
           50,
           50,
           50,
           50,
           50,
           50,
           50,
           50,
           50,
           50,
           50,
           50,
           50,
           50,
           50,
           50,
           50,
           50,
           50,
           50,
           50,
           50,
           50,
           50,
           50,
           50,
           50,
           50,
           50,
           50,
           50,
           50,
           50,
           50,
           50,
           50,
           50,
           50,
           50,
           50,
           50,
           50,
           50,
           50,
           50,
           50,
           50,
           50,
           50,
           50,
           50,
           50,
           50,
           50,
           50,
           50,
           50,
           50,
           50,
           50,
           50,
           50,
           50,
           50,
           50,
           50,
           50,
           50,
           50,
           50,
           50,
           50,
           50,
           50,
           50,
           50,
           50,
           50,
           50,
           50,
           50,
           50,
           50,
           50,
           50,
           50,
           50,
           50,
           50,
           50,
           50,
           50,
           50,
           50,
           50,
           50,
           50,
           50,
           50,
           50,
           50,
           50,
           50,
           50,
           50,
           50,
           50,
           50,
           50,
           50,
           50,
           50,
           50,
           50,
           50,
           50,
           50,
           50,
           50,
           50,
           50,
           50,
           50,
           50,
           50,
           50,
           50,
           50,
           50,
           50,
           50,
           50,
           50,
           50,
           50,
           50,
           50,
           50,
           50,
           50,
           50,
           50,
           50,
           50,
           50,
           50,
           50,
           50,
           50,
           50,
           50,
           50,
           50,
           50,
           50,
           50,
           50,
           50,
           50,
           50,
           50,
           50,
           50,
           50,
           50,
           50,
           50,
           50,
           50,
           50,
           50,
           50,
           50,
           50,
           50,
           50,
           50,
           50,
           50,
           50,
           50,
           50,
           50,
           50,
           50,
           50,
           50,
           50,
           50
          ],
          "sizemode": "area",
          "sizeref": 0.435
         },
         "mode": "markers",
         "name": "€€€",
         "showlegend": true,
         "subplot": "mapbox",
         "type": "scattermapbox"
        },
        {
         "customdata": [
          [
           1,
           "€"
          ],
          [
           1,
           "€"
          ],
          [
           1,
           "€"
          ],
          [
           1,
           "€"
          ],
          [
           1,
           "€"
          ],
          [
           1,
           "€"
          ],
          [
           1,
           "€"
          ],
          [
           1,
           "€"
          ],
          [
           1,
           "€"
          ],
          [
           1,
           "€"
          ],
          [
           1,
           "€"
          ],
          [
           1,
           "€"
          ],
          [
           1,
           "€"
          ],
          [
           1,
           "€"
          ],
          [
           1,
           "€"
          ],
          [
           1,
           "€"
          ],
          [
           1,
           "€"
          ],
          [
           1,
           "€"
          ],
          [
           1,
           "€"
          ],
          [
           1,
           "€"
          ],
          [
           1,
           "€"
          ],
          [
           1,
           "€"
          ],
          [
           1,
           "€"
          ],
          [
           1,
           "€"
          ],
          [
           1,
           "€"
          ],
          [
           1,
           "€"
          ],
          [
           1,
           "€"
          ],
          [
           1,
           "€"
          ],
          [
           1,
           "€"
          ],
          [
           1,
           "€"
          ],
          [
           1,
           "€"
          ],
          [
           1,
           "€"
          ],
          [
           1,
           "€"
          ],
          [
           1,
           "€"
          ],
          [
           1,
           "€"
          ],
          [
           1,
           "€"
          ],
          [
           1,
           "€"
          ],
          [
           1,
           "€"
          ],
          [
           1,
           "€"
          ],
          [
           1,
           "€"
          ],
          [
           1,
           "€"
          ],
          [
           1,
           "€"
          ],
          [
           1,
           "€"
          ],
          [
           1,
           "€"
          ],
          [
           1,
           "€"
          ],
          [
           1,
           "€"
          ],
          [
           1,
           "€"
          ],
          [
           1,
           "€"
          ],
          [
           1,
           "€"
          ],
          [
           1,
           "€"
          ],
          [
           1,
           "€"
          ],
          [
           1,
           "€"
          ],
          [
           1,
           "€"
          ],
          [
           1,
           "€"
          ],
          [
           1,
           "€"
          ],
          [
           1,
           "€"
          ],
          [
           1,
           "€"
          ],
          [
           1,
           "€"
          ],
          [
           1,
           "€"
          ],
          [
           1,
           "€"
          ],
          [
           1,
           "€"
          ],
          [
           1,
           "€"
          ],
          [
           1,
           "€"
          ],
          [
           1,
           "€"
          ],
          [
           1,
           "€"
          ],
          [
           1,
           "€"
          ],
          [
           1,
           "€"
          ],
          [
           1,
           "€"
          ],
          [
           1,
           "€"
          ],
          [
           1,
           "€"
          ],
          [
           1,
           "€"
          ],
          [
           1,
           "€"
          ],
          [
           1,
           "€"
          ],
          [
           1,
           "€"
          ],
          [
           1,
           "€"
          ],
          [
           1,
           "€"
          ],
          [
           1,
           "€"
          ],
          [
           1,
           "€"
          ],
          [
           1,
           "€"
          ],
          [
           1,
           "€"
          ],
          [
           1,
           "€"
          ],
          [
           1,
           "€"
          ],
          [
           1,
           "€"
          ],
          [
           1,
           "€"
          ],
          [
           1,
           "€"
          ],
          [
           1,
           "€"
          ],
          [
           1,
           "€"
          ],
          [
           1,
           "€"
          ],
          [
           1,
           "€"
          ],
          [
           1,
           "€"
          ],
          [
           1,
           "€"
          ],
          [
           1,
           "€"
          ],
          [
           1,
           "€"
          ],
          [
           1,
           "€"
          ],
          [
           1,
           "€"
          ],
          [
           1,
           "€"
          ],
          [
           1,
           "€"
          ],
          [
           1,
           "€"
          ],
          [
           1,
           "€"
          ],
          [
           1,
           "€"
          ],
          [
           1,
           "€"
          ],
          [
           1,
           "€"
          ],
          [
           1,
           "€"
          ],
          [
           1,
           "€"
          ],
          [
           1,
           "€"
          ]
         ],
         "hovertemplate": "<b>%{hovertext}</b><br><br>price_ranges=%{customdata[1]}<br>adjusted_restaurant_count=%{marker.size}<br>latitude=%{lat}<br>longitude=%{lon}<br>restaurant_count=%{customdata[0]}<extra></extra>",
         "hovertext": [
          "Altamura",
          "località Montenero d'Orcia",
          "località San Leucio",
          "Fagnano",
          "Cuorgnè",
          "Cutigliano",
          "Diolo",
          "Chiusi",
          "Gaione",
          "Fossombrone",
          "Grazie",
          "Gaibana",
          "Kiens",
          "Cerignola",
          "Lama Mocogno",
          "Imperia",
          "Ceglie Messapica",
          "Loc. Mongardino Grotta",
          "Lavello",
          "Cavazzo Carnico",
          "Manoppello Scalo",
          "Mariano del Friuli",
          "Castiglione del Lago",
          "Masio",
          "Minervino Murge",
          "Mirano",
          "Castelnovo di Baganzola",
          "Montebenichi",
          "Arcugnano",
          "Argelato",
          "Montefiorino",
          "Monteu Roero",
          "Montichiari",
          "Montoggio",
          "Monsummano Terme",
          "Caramanico Terme",
          "Mosciano Sant'Angelo",
          "Mutignano",
          "Montemarciano",
          "Cassino",
          "Nizza Monferrato",
          "Nocera Superiore",
          "Novafeltria",
          "Ospedaletto d'Alpinolo",
          "Pacentro",
          "Carnello",
          "Carrù",
          "Casaglia",
          "Capriata d'Orba",
          "Cagli",
          "Piadena",
          "Pieve San Giacomo",
          "Pigna",
          "Cannara",
          "Rastignano",
          "Campogalliano",
          "Recorfano",
          "Rivisondoli",
          "Roletto",
          "Rotonda",
          "Anghiari",
          "San Giorgio della Richinvelda",
          "San Giorgio di Valpolicella",
          "SS 303 verso Rocchetta Sant'Antonio",
          "Sala Baganza",
          "San Nicola Manfredi",
          "San Pancrazio",
          "Sansepolcro",
          "Brindisi",
          "Sant'Anna",
          "Santa Maria Annunziata",
          "Sernaglia della Battaglia",
          "Sarturano",
          "Belluno",
          "Bianzone",
          "Suzzara",
          "Soiano del Lago",
          "Bracca",
          "Baveno",
          "Teglio",
          "Terranova di Pollino",
          "Soverato",
          "Baldichieri d'Asti",
          "Barbian",
          "Torre del Lago Puccini",
          "Trecchina",
          "Bagnolo in Piano",
          "Valdieri",
          "Traversella",
          "Varzi",
          "Tricesimo",
          "Vicomero di Torrile",
          "Venosa",
          "Viceno",
          "contrada Raviola",
          "Villa San Giovanni",
          "ang. via Piemonte 23",
          "loc. Pietra dei Correnti",
          "località Canezza di Pergine",
          "località Entrà",
          "località Malgolo",
          "località Marina di Pisciotta",
          "località Marzaglia",
          "Acri",
          "Badia di Dulzago"
         ],
         "lat": [
          40.8242586,
          42.9447565,
          41.074783,
          45.41759829999999,
          45.3912639,
          44.1014499,
          44.9621754,
          43.0155536,
          44.75911190000001,
          43.6896904,
          45.15448079999999,
          44.7527698,
          46.80620380000001,
          41.2656157,
          44.30725289999999,
          43.8897316,
          40.64432740000001,
          44.4176182,
          41.0460439,
          46.3684573,
          42.3080965,
          45.9176487,
          43.12645759999999,
          44.8695921,
          41.0859578,
          45.4911263,
          44.8579255,
          43.4043594,
          45.5006119,
          44.6419781,
          44.3570268,
          44.7810382,
          45.4148475,
          44.5141233,
          43.8691886,
          42.1579107,
          42.7482054,
          42.5893197,
          43.6396585,
          41.4918944,
          44.7756816,
          40.7395766,
          43.8949192,
          40.9393842,
          42.0514326,
          41.6871218,
          44.4794728,
          43.3506455,
          44.7283871,
          43.545959,
          45.1303051,
          45.1274162,
          43.9322494,
          42.9961524,
          44.4431313,
          44.6917129,
          45.1038944,
          41.8726422,
          44.9252536,
          39.9533176,
          43.5401125,
          46.04644870000001,
          45.534736,
          41.0870413,
          44.7157867,
          41.0720214,
          46.5861665,
          43.5725642,
          40.6327732,
          43.9747017,
          43.7320948,
          45.87270669999999,
          44.97423920000001,
          46.14163749999999,
          46.1871717,
          44.9914101,
          45.5302081,
          45.8241257,
          45.9100105,
          46.1722263,
          39.9792772,
          38.687333,
          44.9054459,
          46.6038108,
          43.8325305,
          40.0261551,
          44.76225520000001,
          44.2774016,
          45.5091672,
          44.82344699999999,
          46.1618566,
          44.886014,
          40.9607672,
          46.232795,
          40.8661237,
          38.2123062,
          45.3669829,
          44.5185323,
          46.0782739,
          44.831685,
          46.37995249999999,
          40.1050409,
          44.6505349,
          39.4891857,
          45.5491664
         ],
         "legendgroup": "€",
         "lon": [
          16.5525957,
          11.4737969,
          14.7574903,
          8.995924,
          7.6501927,
          10.7543315,
          10.1485229,
          11.9462371,
          10.292223,
          12.8109979,
          10.6951221,
          11.6551241,
          11.835862,
          15.8936429,
          10.7318611,
          8.0393482,
          17.517997,
          11.211119,
          15.7941154,
          13.0398883,
          14.0616191,
          13.4578222,
          12.047941,
          8.4081349,
          16.0773508,
          12.116217,
          10.3076288,
          11.5451099,
          11.535509,
          11.3489105,
          10.6220558,
          7.932541100000001,
          10.3927713,
          9.0445493,
          10.8145646,
          14.0017517,
          13.8882869,
          14.0380303,
          13.3095003,
          13.831909,
          8.3603966,
          14.6715754,
          12.2887765,
          14.7431023,
          13.993041,
          13.6064008,
          7.8769661,
          10.6629774,
          8.690317799999999,
          12.6503845,
          10.3667139,
          10.1866905,
          7.6643853,
          12.5850652,
          11.3584229,
          10.844234,
          10.3444281,
          14.0675106,
          7.3309749,
          16.0379505,
          12.0521271,
          12.8690665,
          10.8496125,
          15.4875044,
          10.2317329,
          14.8242878,
          11.0866126,
          12.1381166,
          17.9418724,
          10.2731578,
          11.3056435,
          12.131844,
          9.5085653,
          12.2148261,
          10.1082278,
          10.7451252,
          10.5105586,
          9.7079122,
          8.5052456,
          10.0669709,
          16.2958275,
          16.5500558,
          8.0907067,
          11.5205337,
          10.2754836,
          15.7776982,
          10.6734975,
          7.396672799999998,
          7.750406000000001,
          9.1978786,
          13.2107094,
          10.3248066,
          15.815423,
          8.307133199999999,
          14.7728334,
          15.6371722,
          7.615304,
          9.1517058,
          11.2769764,
          11.1875066,
          11.0914385,
          15.2288388,
          10.8041451,
          16.3826297,
          8.612909799999999
         ],
         "marker": {
          "color": "#FECB52",
          "size": [
           50,
           50,
           50,
           50,
           50,
           50,
           50,
           50,
           50,
           50,
           50,
           50,
           50,
           50,
           50,
           50,
           50,
           50,
           50,
           50,
           50,
           50,
           50,
           50,
           50,
           50,
           50,
           50,
           50,
           50,
           50,
           50,
           50,
           50,
           50,
           50,
           50,
           50,
           50,
           50,
           50,
           50,
           50,
           50,
           50,
           50,
           50,
           50,
           50,
           50,
           50,
           50,
           50,
           50,
           50,
           50,
           50,
           50,
           50,
           50,
           50,
           50,
           50,
           50,
           50,
           50,
           50,
           50,
           50,
           50,
           50,
           50,
           50,
           50,
           50,
           50,
           50,
           50,
           50,
           50,
           50,
           50,
           50,
           50,
           50,
           50,
           50,
           50,
           50,
           50,
           50,
           50,
           50,
           50,
           50,
           50,
           50,
           50,
           50,
           50,
           50,
           50,
           50,
           50,
           50
          ],
          "sizemode": "area",
          "sizeref": 0.435
         },
         "mode": "markers",
         "name": "€",
         "showlegend": true,
         "subplot": "mapbox",
         "type": "scattermapbox"
        }
       ],
       "layout": {
        "template": {
         "data": {
          "histogram2dcontour": [
           {
            "type": "histogram2dcontour",
            "colorbar": {
             "outlinewidth": 0,
             "ticks": ""
            },
            "colorscale": [
             [
              0.0,
              "#0d0887"
             ],
             [
              0.1111111111111111,
              "#46039f"
             ],
             [
              0.2222222222222222,
              "#7201a8"
             ],
             [
              0.3333333333333333,
              "#9c179e"
             ],
             [
              0.4444444444444444,
              "#bd3786"
             ],
             [
              0.5555555555555556,
              "#d8576b"
             ],
             [
              0.6666666666666666,
              "#ed7953"
             ],
             [
              0.7777777777777778,
              "#fb9f3a"
             ],
             [
              0.8888888888888888,
              "#fdca26"
             ],
             [
              1.0,
              "#f0f921"
             ]
            ]
           }
          ],
          "choropleth": [
           {
            "type": "choropleth",
            "colorbar": {
             "outlinewidth": 0,
             "ticks": ""
            }
           }
          ],
          "histogram2d": [
           {
            "type": "histogram2d",
            "colorbar": {
             "outlinewidth": 0,
             "ticks": ""
            },
            "colorscale": [
             [
              0.0,
              "#0d0887"
             ],
             [
              0.1111111111111111,
              "#46039f"
             ],
             [
              0.2222222222222222,
              "#7201a8"
             ],
             [
              0.3333333333333333,
              "#9c179e"
             ],
             [
              0.4444444444444444,
              "#bd3786"
             ],
             [
              0.5555555555555556,
              "#d8576b"
             ],
             [
              0.6666666666666666,
              "#ed7953"
             ],
             [
              0.7777777777777778,
              "#fb9f3a"
             ],
             [
              0.8888888888888888,
              "#fdca26"
             ],
             [
              1.0,
              "#f0f921"
             ]
            ]
           }
          ],
          "heatmap": [
           {
            "type": "heatmap",
            "colorbar": {
             "outlinewidth": 0,
             "ticks": ""
            },
            "colorscale": [
             [
              0.0,
              "#0d0887"
             ],
             [
              0.1111111111111111,
              "#46039f"
             ],
             [
              0.2222222222222222,
              "#7201a8"
             ],
             [
              0.3333333333333333,
              "#9c179e"
             ],
             [
              0.4444444444444444,
              "#bd3786"
             ],
             [
              0.5555555555555556,
              "#d8576b"
             ],
             [
              0.6666666666666666,
              "#ed7953"
             ],
             [
              0.7777777777777778,
              "#fb9f3a"
             ],
             [
              0.8888888888888888,
              "#fdca26"
             ],
             [
              1.0,
              "#f0f921"
             ]
            ]
           }
          ],
          "heatmapgl": [
           {
            "type": "heatmapgl",
            "colorbar": {
             "outlinewidth": 0,
             "ticks": ""
            },
            "colorscale": [
             [
              0.0,
              "#0d0887"
             ],
             [
              0.1111111111111111,
              "#46039f"
             ],
             [
              0.2222222222222222,
              "#7201a8"
             ],
             [
              0.3333333333333333,
              "#9c179e"
             ],
             [
              0.4444444444444444,
              "#bd3786"
             ],
             [
              0.5555555555555556,
              "#d8576b"
             ],
             [
              0.6666666666666666,
              "#ed7953"
             ],
             [
              0.7777777777777778,
              "#fb9f3a"
             ],
             [
              0.8888888888888888,
              "#fdca26"
             ],
             [
              1.0,
              "#f0f921"
             ]
            ]
           }
          ],
          "contourcarpet": [
           {
            "type": "contourcarpet",
            "colorbar": {
             "outlinewidth": 0,
             "ticks": ""
            }
           }
          ],
          "contour": [
           {
            "type": "contour",
            "colorbar": {
             "outlinewidth": 0,
             "ticks": ""
            },
            "colorscale": [
             [
              0.0,
              "#0d0887"
             ],
             [
              0.1111111111111111,
              "#46039f"
             ],
             [
              0.2222222222222222,
              "#7201a8"
             ],
             [
              0.3333333333333333,
              "#9c179e"
             ],
             [
              0.4444444444444444,
              "#bd3786"
             ],
             [
              0.5555555555555556,
              "#d8576b"
             ],
             [
              0.6666666666666666,
              "#ed7953"
             ],
             [
              0.7777777777777778,
              "#fb9f3a"
             ],
             [
              0.8888888888888888,
              "#fdca26"
             ],
             [
              1.0,
              "#f0f921"
             ]
            ]
           }
          ],
          "surface": [
           {
            "type": "surface",
            "colorbar": {
             "outlinewidth": 0,
             "ticks": ""
            },
            "colorscale": [
             [
              0.0,
              "#0d0887"
             ],
             [
              0.1111111111111111,
              "#46039f"
             ],
             [
              0.2222222222222222,
              "#7201a8"
             ],
             [
              0.3333333333333333,
              "#9c179e"
             ],
             [
              0.4444444444444444,
              "#bd3786"
             ],
             [
              0.5555555555555556,
              "#d8576b"
             ],
             [
              0.6666666666666666,
              "#ed7953"
             ],
             [
              0.7777777777777778,
              "#fb9f3a"
             ],
             [
              0.8888888888888888,
              "#fdca26"
             ],
             [
              1.0,
              "#f0f921"
             ]
            ]
           }
          ],
          "mesh3d": [
           {
            "type": "mesh3d",
            "colorbar": {
             "outlinewidth": 0,
             "ticks": ""
            }
           }
          ],
          "scatter": [
           {
            "fillpattern": {
             "fillmode": "overlay",
             "size": 10,
             "solidity": 0.2
            },
            "type": "scatter"
           }
          ],
          "parcoords": [
           {
            "type": "parcoords",
            "line": {
             "colorbar": {
              "outlinewidth": 0,
              "ticks": ""
             }
            }
           }
          ],
          "scatterpolargl": [
           {
            "type": "scatterpolargl",
            "marker": {
             "colorbar": {
              "outlinewidth": 0,
              "ticks": ""
             }
            }
           }
          ],
          "bar": [
           {
            "error_x": {
             "color": "#2a3f5f"
            },
            "error_y": {
             "color": "#2a3f5f"
            },
            "marker": {
             "line": {
              "color": "#E5ECF6",
              "width": 0.5
             },
             "pattern": {
              "fillmode": "overlay",
              "size": 10,
              "solidity": 0.2
             }
            },
            "type": "bar"
           }
          ],
          "scattergeo": [
           {
            "type": "scattergeo",
            "marker": {
             "colorbar": {
              "outlinewidth": 0,
              "ticks": ""
             }
            }
           }
          ],
          "scatterpolar": [
           {
            "type": "scatterpolar",
            "marker": {
             "colorbar": {
              "outlinewidth": 0,
              "ticks": ""
             }
            }
           }
          ],
          "histogram": [
           {
            "marker": {
             "pattern": {
              "fillmode": "overlay",
              "size": 10,
              "solidity": 0.2
             }
            },
            "type": "histogram"
           }
          ],
          "scattergl": [
           {
            "type": "scattergl",
            "marker": {
             "colorbar": {
              "outlinewidth": 0,
              "ticks": ""
             }
            }
           }
          ],
          "scatter3d": [
           {
            "type": "scatter3d",
            "line": {
             "colorbar": {
              "outlinewidth": 0,
              "ticks": ""
             }
            },
            "marker": {
             "colorbar": {
              "outlinewidth": 0,
              "ticks": ""
             }
            }
           }
          ],
          "scattermapbox": [
           {
            "type": "scattermapbox",
            "marker": {
             "colorbar": {
              "outlinewidth": 0,
              "ticks": ""
             }
            }
           }
          ],
          "scatterternary": [
           {
            "type": "scatterternary",
            "marker": {
             "colorbar": {
              "outlinewidth": 0,
              "ticks": ""
             }
            }
           }
          ],
          "scattercarpet": [
           {
            "type": "scattercarpet",
            "marker": {
             "colorbar": {
              "outlinewidth": 0,
              "ticks": ""
             }
            }
           }
          ],
          "carpet": [
           {
            "aaxis": {
             "endlinecolor": "#2a3f5f",
             "gridcolor": "white",
             "linecolor": "white",
             "minorgridcolor": "white",
             "startlinecolor": "#2a3f5f"
            },
            "baxis": {
             "endlinecolor": "#2a3f5f",
             "gridcolor": "white",
             "linecolor": "white",
             "minorgridcolor": "white",
             "startlinecolor": "#2a3f5f"
            },
            "type": "carpet"
           }
          ],
          "table": [
           {
            "cells": {
             "fill": {
              "color": "#EBF0F8"
             },
             "line": {
              "color": "white"
             }
            },
            "header": {
             "fill": {
              "color": "#C8D4E3"
             },
             "line": {
              "color": "white"
             }
            },
            "type": "table"
           }
          ],
          "barpolar": [
           {
            "marker": {
             "line": {
              "color": "#E5ECF6",
              "width": 0.5
             },
             "pattern": {
              "fillmode": "overlay",
              "size": 10,
              "solidity": 0.2
             }
            },
            "type": "barpolar"
           }
          ],
          "pie": [
           {
            "automargin": true,
            "type": "pie"
           }
          ]
         },
         "layout": {
          "autotypenumbers": "strict",
          "colorway": [
           "#636efa",
           "#EF553B",
           "#00cc96",
           "#ab63fa",
           "#FFA15A",
           "#19d3f3",
           "#FF6692",
           "#B6E880",
           "#FF97FF",
           "#FECB52"
          ],
          "font": {
           "color": "#2a3f5f"
          },
          "hovermode": "closest",
          "hoverlabel": {
           "align": "left"
          },
          "paper_bgcolor": "white",
          "plot_bgcolor": "#E5ECF6",
          "polar": {
           "bgcolor": "#E5ECF6",
           "angularaxis": {
            "gridcolor": "white",
            "linecolor": "white",
            "ticks": ""
           },
           "radialaxis": {
            "gridcolor": "white",
            "linecolor": "white",
            "ticks": ""
           }
          },
          "ternary": {
           "bgcolor": "#E5ECF6",
           "aaxis": {
            "gridcolor": "white",
            "linecolor": "white",
            "ticks": ""
           },
           "baxis": {
            "gridcolor": "white",
            "linecolor": "white",
            "ticks": ""
           },
           "caxis": {
            "gridcolor": "white",
            "linecolor": "white",
            "ticks": ""
           }
          },
          "coloraxis": {
           "colorbar": {
            "outlinewidth": 0,
            "ticks": ""
           }
          },
          "colorscale": {
           "sequential": [
            [
             0.0,
             "#0d0887"
            ],
            [
             0.1111111111111111,
             "#46039f"
            ],
            [
             0.2222222222222222,
             "#7201a8"
            ],
            [
             0.3333333333333333,
             "#9c179e"
            ],
            [
             0.4444444444444444,
             "#bd3786"
            ],
            [
             0.5555555555555556,
             "#d8576b"
            ],
            [
             0.6666666666666666,
             "#ed7953"
            ],
            [
             0.7777777777777778,
             "#fb9f3a"
            ],
            [
             0.8888888888888888,
             "#fdca26"
            ],
            [
             1.0,
             "#f0f921"
            ]
           ],
           "sequentialminus": [
            [
             0.0,
             "#0d0887"
            ],
            [
             0.1111111111111111,
             "#46039f"
            ],
            [
             0.2222222222222222,
             "#7201a8"
            ],
            [
             0.3333333333333333,
             "#9c179e"
            ],
            [
             0.4444444444444444,
             "#bd3786"
            ],
            [
             0.5555555555555556,
             "#d8576b"
            ],
            [
             0.6666666666666666,
             "#ed7953"
            ],
            [
             0.7777777777777778,
             "#fb9f3a"
            ],
            [
             0.8888888888888888,
             "#fdca26"
            ],
            [
             1.0,
             "#f0f921"
            ]
           ],
           "diverging": [
            [
             0,
             "#8e0152"
            ],
            [
             0.1,
             "#c51b7d"
            ],
            [
             0.2,
             "#de77ae"
            ],
            [
             0.3,
             "#f1b6da"
            ],
            [
             0.4,
             "#fde0ef"
            ],
            [
             0.5,
             "#f7f7f7"
            ],
            [
             0.6,
             "#e6f5d0"
            ],
            [
             0.7,
             "#b8e186"
            ],
            [
             0.8,
             "#7fbc41"
            ],
            [
             0.9,
             "#4d9221"
            ],
            [
             1,
             "#276419"
            ]
           ]
          },
          "xaxis": {
           "gridcolor": "white",
           "linecolor": "white",
           "ticks": "",
           "title": {
            "standoff": 15
           },
           "zerolinecolor": "white",
           "automargin": true,
           "zerolinewidth": 2
          },
          "yaxis": {
           "gridcolor": "white",
           "linecolor": "white",
           "ticks": "",
           "title": {
            "standoff": 15
           },
           "zerolinecolor": "white",
           "automargin": true,
           "zerolinewidth": 2
          },
          "scene": {
           "xaxis": {
            "backgroundcolor": "#E5ECF6",
            "gridcolor": "white",
            "linecolor": "white",
            "showbackground": true,
            "ticks": "",
            "zerolinecolor": "white",
            "gridwidth": 2
           },
           "yaxis": {
            "backgroundcolor": "#E5ECF6",
            "gridcolor": "white",
            "linecolor": "white",
            "showbackground": true,
            "ticks": "",
            "zerolinecolor": "white",
            "gridwidth": 2
           },
           "zaxis": {
            "backgroundcolor": "#E5ECF6",
            "gridcolor": "white",
            "linecolor": "white",
            "showbackground": true,
            "ticks": "",
            "zerolinecolor": "white",
            "gridwidth": 2
           }
          },
          "shapedefaults": {
           "line": {
            "color": "#2a3f5f"
           }
          },
          "annotationdefaults": {
           "arrowcolor": "#2a3f5f",
           "arrowhead": 0,
           "arrowwidth": 1
          },
          "geo": {
           "bgcolor": "white",
           "landcolor": "#E5ECF6",
           "subunitcolor": "white",
           "showland": true,
           "showlakes": true,
           "lakecolor": "white"
          },
          "title": {
           "x": 0.05
          },
          "mapbox": {
           "style": "light"
          }
         }
        },
        "mapbox": {
         "domain": {
          "x": [
           0.0,
           1.0
          ],
          "y": [
           0.0,
           1.0
          ]
         },
         "center": {
          "lat": 43.87317329720339,
          "lon": 11.438397754745763
         },
         "zoom": 5,
         "style": "open-street-map"
        },
        "legend": {
         "title": {
          "text": "price_ranges"
         },
         "tracegroupgap": 0,
         "itemsizing": "constant"
        },
        "title": {
         "text": "Distribution of restaurants by city and their price ranges"
        },
        "height": 600,
        "margin": {
         "r": 0,
         "t": 50,
         "l": 0,
         "b": 0
        }
       },
       "config": {
        "plotlyServerURL": "https://plot.ly"
       }
      },
      "text/html": [
       "<div>                            <div id=\"a8bbe217-ee3a-4970-b454-f490a67f0bec\" class=\"plotly-graph-div\" style=\"height:600px; width:100%;\"></div>            <script type=\"text/javascript\">                require([\"plotly\"], function(Plotly) {                    window.PLOTLYENV=window.PLOTLYENV || {};                                    if (document.getElementById(\"a8bbe217-ee3a-4970-b454-f490a67f0bec\")) {                    Plotly.newPlot(                        \"a8bbe217-ee3a-4970-b454-f490a67f0bec\",                        [{\"customdata\":[[87,\"\\u20ac-\\u20ac\\u20ac\\u20ac\\u20ac\"],[62,\"\\u20ac-\\u20ac\\u20ac\\u20ac\\u20ac\"],[32,\"\\u20ac-\\u20ac\\u20ac\\u20ac\\u20ac\"],[32,\"\\u20ac-\\u20ac\\u20ac\\u20ac\\u20ac\"],[27,\"\\u20ac-\\u20ac\\u20ac\\u20ac\\u20ac\"],[19,\"\\u20ac-\\u20ac\\u20ac\\u20ac\\u20ac\"],[18,\"\\u20ac-\\u20ac\\u20ac\\u20ac\\u20ac\"],[9,\"\\u20ac-\\u20ac\\u20ac\\u20ac\\u20ac\"],[7,\"\\u20ac-\\u20ac\\u20ac\\u20ac\\u20ac\"],[7,\"\\u20ac-\\u20ac\\u20ac\\u20ac\\u20ac\"],[7,\"\\u20ac-\\u20ac\\u20ac\\u20ac\\u20ac\"],[7,\"\\u20ac-\\u20ac\\u20ac\\u20ac\\u20ac\"],[3,\"\\u20ac-\\u20ac\\u20ac\\u20ac\\u20ac\"]],\"hovertemplate\":\"\\u003cb\\u003e%{hovertext}\\u003c\\u002fb\\u003e\\u003cbr\\u003e\\u003cbr\\u003eprice_ranges=%{customdata[1]}\\u003cbr\\u003eadjusted_restaurant_count=%{marker.size}\\u003cbr\\u003elatitude=%{lat}\\u003cbr\\u003elongitude=%{lon}\\u003cbr\\u003erestaurant_count=%{customdata[0]}\\u003cextra\\u003e\\u003c\\u002fextra\\u003e\",\"hovertext\":[\"Milan\",\"Rome\",\"Florence\",\"Turin\",\"Naples\",\"Verona\",\"Bologna\",\"Palermo\",\"Modena\",\"Lucca\",\"Parma\",\"Catania\",\"Montalcino\"],\"lat\":[45.468503,41.8967068,43.7699685,45.0703155,40.8517983,45.4383659,44.494887,38.1156864,44.647128,43.8430391,44.8014788,37.5078836,43.0551134],\"legendgroup\":\"\\u20ac-\\u20ac\\u20ac\\u20ac\\u20ac\",\"lon\":[9.1824027,12.4822025,11.2576706,7.6868552,14.26812,10.9917136,11.3426163,13.3614635,10.9252269,10.5156532,10.3279911,15.0830032,11.4891562],\"marker\":{\"color\":\"#636efa\",\"size\":[4350,3100,1600,1600,1350,950,900,450,350,350,350,350,150],\"sizemode\":\"area\",\"sizeref\":0.435},\"mode\":\"markers\",\"name\":\"\\u20ac-\\u20ac\\u20ac\\u20ac\\u20ac\",\"showlegend\":true,\"subplot\":\"mapbox\",\"type\":\"scattermapbox\"},{\"customdata\":[[16,\"\\u20ac\\u20ac-\\u20ac\\u20ac\\u20ac\\u20ac\"],[8,\"\\u20ac\\u20ac-\\u20ac\\u20ac\\u20ac\\u20ac\"],[7,\"\\u20ac\\u20ac-\\u20ac\\u20ac\\u20ac\\u20ac\"],[7,\"\\u20ac\\u20ac-\\u20ac\\u20ac\\u20ac\\u20ac\"],[7,\"\\u20ac\\u20ac-\\u20ac\\u20ac\\u20ac\\u20ac\"],[6,\"\\u20ac\\u20ac-\\u20ac\\u20ac\\u20ac\\u20ac\"],[6,\"\\u20ac\\u20ac-\\u20ac\\u20ac\\u20ac\\u20ac\"],[6,\"\\u20ac\\u20ac-\\u20ac\\u20ac\\u20ac\\u20ac\"],[5,\"\\u20ac\\u20ac-\\u20ac\\u20ac\\u20ac\\u20ac\"],[5,\"\\u20ac\\u20ac-\\u20ac\\u20ac\\u20ac\\u20ac\"],[5,\"\\u20ac\\u20ac-\\u20ac\\u20ac\\u20ac\\u20ac\"],[5,\"\\u20ac\\u20ac-\\u20ac\\u20ac\\u20ac\\u20ac\"],[5,\"\\u20ac\\u20ac-\\u20ac\\u20ac\\u20ac\\u20ac\"],[5,\"\\u20ac\\u20ac-\\u20ac\\u20ac\\u20ac\\u20ac\"],[4,\"\\u20ac\\u20ac-\\u20ac\\u20ac\\u20ac\\u20ac\"],[4,\"\\u20ac\\u20ac-\\u20ac\\u20ac\\u20ac\\u20ac\"],[4,\"\\u20ac\\u20ac-\\u20ac\\u20ac\\u20ac\\u20ac\"],[4,\"\\u20ac\\u20ac-\\u20ac\\u20ac\\u20ac\\u20ac\"],[4,\"\\u20ac\\u20ac-\\u20ac\\u20ac\\u20ac\\u20ac\"],[4,\"\\u20ac\\u20ac-\\u20ac\\u20ac\\u20ac\\u20ac\"],[4,\"\\u20ac\\u20ac-\\u20ac\\u20ac\\u20ac\\u20ac\"],[4,\"\\u20ac\\u20ac-\\u20ac\\u20ac\\u20ac\\u20ac\"],[4,\"\\u20ac\\u20ac-\\u20ac\\u20ac\\u20ac\\u20ac\"],[3,\"\\u20ac\\u20ac-\\u20ac\\u20ac\\u20ac\\u20ac\"],[3,\"\\u20ac\\u20ac-\\u20ac\\u20ac\\u20ac\\u20ac\"],[3,\"\\u20ac\\u20ac-\\u20ac\\u20ac\\u20ac\\u20ac\"],[3,\"\\u20ac\\u20ac-\\u20ac\\u20ac\\u20ac\\u20ac\"],[3,\"\\u20ac\\u20ac-\\u20ac\\u20ac\\u20ac\\u20ac\"],[3,\"\\u20ac\\u20ac-\\u20ac\\u20ac\\u20ac\\u20ac\"],[3,\"\\u20ac\\u20ac-\\u20ac\\u20ac\\u20ac\\u20ac\"],[2,\"\\u20ac\\u20ac-\\u20ac\\u20ac\\u20ac\\u20ac\"],[2,\"\\u20ac\\u20ac-\\u20ac\\u20ac\\u20ac\\u20ac\"],[2,\"\\u20ac\\u20ac-\\u20ac\\u20ac\\u20ac\\u20ac\"],[2,\"\\u20ac\\u20ac-\\u20ac\\u20ac\\u20ac\\u20ac\"],[2,\"\\u20ac\\u20ac-\\u20ac\\u20ac\\u20ac\\u20ac\"],[2,\"\\u20ac\\u20ac-\\u20ac\\u20ac\\u20ac\\u20ac\"],[2,\"\\u20ac\\u20ac-\\u20ac\\u20ac\\u20ac\\u20ac\"],[2,\"\\u20ac\\u20ac-\\u20ac\\u20ac\\u20ac\\u20ac\"],[2,\"\\u20ac\\u20ac-\\u20ac\\u20ac\\u20ac\\u20ac\"],[2,\"\\u20ac\\u20ac-\\u20ac\\u20ac\\u20ac\\u20ac\"],[2,\"\\u20ac\\u20ac-\\u20ac\\u20ac\\u20ac\\u20ac\"],[2,\"\\u20ac\\u20ac-\\u20ac\\u20ac\\u20ac\\u20ac\"],[2,\"\\u20ac\\u20ac-\\u20ac\\u20ac\\u20ac\\u20ac\"],[2,\"\\u20ac\\u20ac-\\u20ac\\u20ac\\u20ac\\u20ac\"],[2,\"\\u20ac\\u20ac-\\u20ac\\u20ac\\u20ac\\u20ac\"]],\"hovertemplate\":\"\\u003cb\\u003e%{hovertext}\\u003c\\u002fb\\u003e\\u003cbr\\u003e\\u003cbr\\u003eprice_ranges=%{customdata[1]}\\u003cbr\\u003eadjusted_restaurant_count=%{marker.size}\\u003cbr\\u003elatitude=%{lat}\\u003cbr\\u003elongitude=%{lon}\\u003cbr\\u003erestaurant_count=%{customdata[0]}\\u003cextra\\u003e\\u003c\\u002fextra\\u003e\",\"hovertext\":[\"Genoa\",\"Positano\",\"Viareggio\",\"Cortina d'Ampezzo\",\"Corvara in Badia\",\"Taormina\",\"Sorrento\",\"Bergamo\",\"Ostuni\",\"Aosta\",\"Monforte d'Alba\",\"Salerno\",\"Paestum\",\"Matera\",\"Trieste\",\"Perugia\",\"Selva di Val Gardena\",\"Noto\",\"Asiago\",\"Modica\",\"Arezzo\",\"Cefalu\",\"Brixen\",\"San Gimignano\",\"Ragusa\",\"Senigallia\",\"Anacapri\",\"Sarentino\",\"Colle di Val d'Elsa\",\"Algund\",\"Vico Equense\",\"Vicenza\",\"Villa d'Alm\\u00e8\",\"Sant'Agata sui Due Golfi\",\"Pinzolo\",\"Polesine Parmense\",\"Noli\",\"Castiglione della Pescaia\",\"Gardone Riviera\",\"Guarene\",\"Furore\",\"Fagnano Olona\",\"Desenzano del Garda\",\"Dolegna del Collio\",\"Asti\"],\"lat\":[44.4071448,40.6294824,43.8657155,46.5378431,46.5475716,37.8545459,40.6263969,45.6941966,40.7296828,45.7350508,44.5829213,40.6813313,40.4269855,40.66636010000001,45.65083420000001,43.1107168,46.55596509999999,36.8924433,45.8755119,36.8589716,43.4633082,38.0349976,46.7104236,43.4672085,36.9239306,43.7197926,40.5520861,46.6427009,43.4199853,46.68302,40.6624141,45.5461815,45.7479935,40.6056513,46.1597717,45.0200275,44.20685870000001,42.7636762,45.623397,44.7375672,40.6185726,45.6684257,45.46982389999999,46.0314019,44.900765],\"legendgroup\":\"\\u20ac\\u20ac-\\u20ac\\u20ac\\u20ac\\u20ac\",\"lon\":[8.934738099999999,14.4823462,10.2500486,12.1358821,11.8754005,15.2889438,14.3764167,9.6707462,17.5771782,7.3130948,7.967941,14.7743583,15.0050404,16.6044454,13.7674486,12.3908279,11.7558589,15.0651945,11.5107135,14.7608405,11.8796215,14.021222,11.6524696,11.0434187,14.7198951,13.2152224,14.2177508,11.3572951,11.1271708,11.1229498,14.4264646,11.5413779,9.6150902,14.3740169,10.7651024,10.0880438,8.4148879,10.8753047,10.5636497,8.0335805,14.5509614,8.866774,10.536538,13.4793245,8.206434999999999],\"marker\":{\"color\":\"#EF553B\",\"size\":[800,400,350,350,350,300,300,300,250,250,250,250,250,250,200,200,200,200,200,200,200,200,200,150,150,150,150,150,150,150,100,100,100,100,100,100,100,100,100,100,100,100,100,100,100],\"sizemode\":\"area\",\"sizeref\":0.435},\"mode\":\"markers\",\"name\":\"\\u20ac\\u20ac-\\u20ac\\u20ac\\u20ac\\u20ac\",\"showlegend\":true,\"subplot\":\"mapbox\",\"type\":\"scattermapbox\"},{\"customdata\":[[11,\"\\u20ac\\u20ac-\\u20ac\\u20ac\\u20ac\"],[7,\"\\u20ac\\u20ac-\\u20ac\\u20ac\\u20ac\"],[6,\"\\u20ac\\u20ac-\\u20ac\\u20ac\\u20ac\"],[5,\"\\u20ac\\u20ac-\\u20ac\\u20ac\\u20ac\"],[5,\"\\u20ac\\u20ac-\\u20ac\\u20ac\\u20ac\"],[5,\"\\u20ac\\u20ac-\\u20ac\\u20ac\\u20ac\"],[4,\"\\u20ac\\u20ac-\\u20ac\\u20ac\\u20ac\"],[4,\"\\u20ac\\u20ac-\\u20ac\\u20ac\\u20ac\"],[4,\"\\u20ac\\u20ac-\\u20ac\\u20ac\\u20ac\"],[4,\"\\u20ac\\u20ac-\\u20ac\\u20ac\\u20ac\"],[4,\"\\u20ac\\u20ac-\\u20ac\\u20ac\\u20ac\"],[3,\"\\u20ac\\u20ac-\\u20ac\\u20ac\\u20ac\"],[3,\"\\u20ac\\u20ac-\\u20ac\\u20ac\\u20ac\"],[3,\"\\u20ac\\u20ac-\\u20ac\\u20ac\\u20ac\"],[3,\"\\u20ac\\u20ac-\\u20ac\\u20ac\\u20ac\"],[3,\"\\u20ac\\u20ac-\\u20ac\\u20ac\\u20ac\"],[3,\"\\u20ac\\u20ac-\\u20ac\\u20ac\\u20ac\"],[3,\"\\u20ac\\u20ac-\\u20ac\\u20ac\\u20ac\"],[3,\"\\u20ac\\u20ac-\\u20ac\\u20ac\\u20ac\"],[3,\"\\u20ac\\u20ac-\\u20ac\\u20ac\\u20ac\"],[3,\"\\u20ac\\u20ac-\\u20ac\\u20ac\\u20ac\"],[3,\"\\u20ac\\u20ac-\\u20ac\\u20ac\\u20ac\"],[3,\"\\u20ac\\u20ac-\\u20ac\\u20ac\\u20ac\"],[3,\"\\u20ac\\u20ac-\\u20ac\\u20ac\\u20ac\"],[3,\"\\u20ac\\u20ac-\\u20ac\\u20ac\\u20ac\"],[3,\"\\u20ac\\u20ac-\\u20ac\\u20ac\\u20ac\"],[2,\"\\u20ac\\u20ac-\\u20ac\\u20ac\\u20ac\"],[2,\"\\u20ac\\u20ac-\\u20ac\\u20ac\\u20ac\"],[2,\"\\u20ac\\u20ac-\\u20ac\\u20ac\\u20ac\"],[2,\"\\u20ac\\u20ac-\\u20ac\\u20ac\\u20ac\"],[2,\"\\u20ac\\u20ac-\\u20ac\\u20ac\\u20ac\"],[2,\"\\u20ac\\u20ac-\\u20ac\\u20ac\\u20ac\"],[2,\"\\u20ac\\u20ac-\\u20ac\\u20ac\\u20ac\"],[2,\"\\u20ac\\u20ac-\\u20ac\\u20ac\\u20ac\"],[2,\"\\u20ac\\u20ac-\\u20ac\\u20ac\\u20ac\"],[2,\"\\u20ac\\u20ac-\\u20ac\\u20ac\\u20ac\"],[2,\"\\u20ac\\u20ac-\\u20ac\\u20ac\\u20ac\"],[2,\"\\u20ac\\u20ac-\\u20ac\\u20ac\\u20ac\"],[2,\"\\u20ac\\u20ac-\\u20ac\\u20ac\\u20ac\"],[2,\"\\u20ac\\u20ac-\\u20ac\\u20ac\\u20ac\"],[2,\"\\u20ac\\u20ac-\\u20ac\\u20ac\\u20ac\"],[2,\"\\u20ac\\u20ac-\\u20ac\\u20ac\\u20ac\"],[2,\"\\u20ac\\u20ac-\\u20ac\\u20ac\\u20ac\"],[2,\"\\u20ac\\u20ac-\\u20ac\\u20ac\\u20ac\"],[2,\"\\u20ac\\u20ac-\\u20ac\\u20ac\\u20ac\"],[2,\"\\u20ac\\u20ac-\\u20ac\\u20ac\\u20ac\"],[2,\"\\u20ac\\u20ac-\\u20ac\\u20ac\\u20ac\"],[2,\"\\u20ac\\u20ac-\\u20ac\\u20ac\\u20ac\"],[2,\"\\u20ac\\u20ac-\\u20ac\\u20ac\\u20ac\"],[2,\"\\u20ac\\u20ac-\\u20ac\\u20ac\\u20ac\"],[2,\"\\u20ac\\u20ac-\\u20ac\\u20ac\\u20ac\"],[2,\"\\u20ac\\u20ac-\\u20ac\\u20ac\\u20ac\"],[2,\"\\u20ac\\u20ac-\\u20ac\\u20ac\\u20ac\"],[2,\"\\u20ac\\u20ac-\\u20ac\\u20ac\\u20ac\"],[2,\"\\u20ac\\u20ac-\\u20ac\\u20ac\\u20ac\"],[2,\"\\u20ac\\u20ac-\\u20ac\\u20ac\\u20ac\"],[2,\"\\u20ac\\u20ac-\\u20ac\\u20ac\\u20ac\"],[2,\"\\u20ac\\u20ac-\\u20ac\\u20ac\\u20ac\"],[2,\"\\u20ac\\u20ac-\\u20ac\\u20ac\\u20ac\"],[2,\"\\u20ac\\u20ac-\\u20ac\\u20ac\\u20ac\"],[2,\"\\u20ac\\u20ac-\\u20ac\\u20ac\\u20ac\"],[2,\"\\u20ac\\u20ac-\\u20ac\\u20ac\\u20ac\"],[2,\"\\u20ac\\u20ac-\\u20ac\\u20ac\\u20ac\"],[2,\"\\u20ac\\u20ac-\\u20ac\\u20ac\\u20ac\"],[2,\"\\u20ac\\u20ac-\\u20ac\\u20ac\\u20ac\"],[2,\"\\u20ac\\u20ac-\\u20ac\\u20ac\\u20ac\"],[2,\"\\u20ac\\u20ac-\\u20ac\\u20ac\\u20ac\"],[2,\"\\u20ac\\u20ac-\\u20ac\\u20ac\\u20ac\"],[2,\"\\u20ac\\u20ac-\\u20ac\\u20ac\\u20ac\"],[2,\"\\u20ac\\u20ac-\\u20ac\\u20ac\\u20ac\"],[2,\"\\u20ac\\u20ac-\\u20ac\\u20ac\\u20ac\"]],\"hovertemplate\":\"\\u003cb\\u003e%{hovertext}\\u003c\\u002fb\\u003e\\u003cbr\\u003e\\u003cbr\\u003eprice_ranges=%{customdata[1]}\\u003cbr\\u003eadjusted_restaurant_count=%{marker.size}\\u003cbr\\u003elatitude=%{lat}\\u003cbr\\u003elongitude=%{lon}\\u003cbr\\u003erestaurant_count=%{customdata[0]}\\u003cextra\\u003e\\u003c\\u002fextra\\u003e\",\"hovertext\":[\"Brescia\",\"Treviso\",\"Cesenatico\",\"Padua\",\"Trento\",\"Bolzano\",\"Trani\",\"Stresa\",\"Sienna\",\"Pompei\",\"Cogne\",\"Riva del Garda\",\"Savona\",\"Tortona\",\"San Michele\",\"Olbia\",\"Nola\",\"Milano Marittima\",\"Alghero\",\"Fiumicino\",\"Castiglione delle Stiviere\",\"Livigno\",\"Chiavari\",\"Novara\",\"Montepulciano\",\"Pesaro\",\"Bardolino\",\"Volterra\",\"Vercelli\",\"Seregno\",\"Spinetta Marengo\",\"Borgomanero\",\"Albenga\",\"Vigano\",\"Terracina\",\"Venaria Reale\",\"Barbaresco\",\"Treviglio\",\"Biella\",\"Udine\",\"San Benedetto del Tronto\",\"San Casciano dei Bagni\",\"Ancona\",\"Pinerolo\",\"Pordenone\",\"Carrara\",\"Monfumo\",\"Monterosso al Mare\",\"Milazzo\",\"Canazei\",\"Piacenza\",\"Pollone\",\"Pettenasco\",\"Marzamemi\",\"Castellina in Chianti\",\"Moltrasio\",\"Maranello\",\"La Spezia\",\"Lampedusa\",\"Cavi di Lavagna\",\"Lucera\",\"Gallarate\",\"Forio\",\"Gavi\",\"Civitanova Marche\",\"Civitella Casanova\",\"Fiorano Modenese\",\"Follina\",\"Dolcedo\",\"Barletta\",\"Domodossola\"],\"lat\":[45.5415526,45.6669338,44.1994541,45.4105029,46.0677451,46.4949259,41.2765531,45.8882205,43.3184741,40.7496576,45.60831719999999,45.8893165,44.3034046,44.8952122,45.4464474,40.9236401,40.9280097,44.2804496,40.5582971,41.7735409,45.3883944,46.5381881,44.3166526,45.4467749,43.0984902,43.9111365,45.5484667,43.40425520000001,45.3207342,45.6500736,44.88248249999999,45.6988623,44.0490873,45.7253542,41.2903024,45.1301887,44.7253961,45.5211894,45.56288420000001,46.0652851,42.9430346,42.8678287,43.6071395,44.8845906,45.9626508,44.069655,45.8281101,44.1451854,38.2209947,46.47666599999999,45.0526415,45.5818392,45.8164795,36.7420487,43.4714811,45.86284130000001,44.5263024,44.1024504,35.5086218,44.2923026,41.5087874,45.6623632,40.7361255,44.6882163,43.3071211,42.3640553,44.53845339999999,45.9531663,43.9068619,41.3196635,46.1147418],\"legendgroup\":\"\\u20ac\\u20ac-\\u20ac\\u20ac\\u20ac\",\"lon\":[10.2118019,12.2430608,12.4011529,11.8782071,11.1214636,11.3402543,16.4198864,8.5257951,11.3305812,14.5053119,7.356122800000001,10.8431111,8.4743315,8.8633326,12.3468539,9.4964224,14.5301683,12.3492511,8.319106999999999,12.2397117,10.4819239,10.1374918,9.3199788,8.6168696,11.7873736,12.9114045,10.7202364,10.8550011,8.4180379,9.2086004,8.682054899999999,8.4622925,8.215266699999999,9.3272075,13.2488501,7.631197599999999,8.080743499999999,9.592688,8.0583397,13.2373414,13.8838136,11.8775215,13.5101741,7.330667599999999,12.6551504,10.0824161,11.9224607,9.6463794,15.2415039,11.7705828,9.6936883,8.0027783,8.4086676,15.1175207,11.2854783,9.0983073,10.8666834,9.8240826,12.59292,9.3751106,15.3340833,8.7921269,13.8651344,8.805599899999999,13.7282419,13.886627,10.8339023,12.118172,7.953037800000001,16.2838207,8.290948799999999],\"marker\":{\"color\":\"#00cc96\",\"size\":[550,350,300,250,250,250,200,200,200,200,200,150,150,150,150,150,150,150,150,150,150,150,150,150,150,150,100,100,100,100,100,100,100,100,100,100,100,100,100,100,100,100,100,100,100,100,100,100,100,100,100,100,100,100,100,100,100,100,100,100,100,100,100,100,100,100,100,100,100,100,100],\"sizemode\":\"area\",\"sizeref\":0.435},\"mode\":\"markers\",\"name\":\"\\u20ac\\u20ac-\\u20ac\\u20ac\\u20ac\",\"showlegend\":true,\"subplot\":\"mapbox\",\"type\":\"scattermapbox\"},{\"customdata\":[[10,\"\\u20ac-\\u20ac\\u20ac\\u20ac\"],[7,\"\\u20ac-\\u20ac\\u20ac\\u20ac\"],[7,\"\\u20ac-\\u20ac\\u20ac\\u20ac\"],[5,\"\\u20ac-\\u20ac\\u20ac\\u20ac\"],[5,\"\\u20ac-\\u20ac\\u20ac\\u20ac\"],[4,\"\\u20ac-\\u20ac\\u20ac\\u20ac\"],[3,\"\\u20ac-\\u20ac\\u20ac\\u20ac\"],[2,\"\\u20ac-\\u20ac\\u20ac\\u20ac\"],[2,\"\\u20ac-\\u20ac\\u20ac\\u20ac\"],[2,\"\\u20ac-\\u20ac\\u20ac\\u20ac\"],[2,\"\\u20ac-\\u20ac\\u20ac\\u20ac\"],[2,\"\\u20ac-\\u20ac\\u20ac\\u20ac\"],[2,\"\\u20ac-\\u20ac\\u20ac\\u20ac\"],[2,\"\\u20ac-\\u20ac\\u20ac\\u20ac\"],[2,\"\\u20ac-\\u20ac\\u20ac\\u20ac\"],[2,\"\\u20ac-\\u20ac\\u20ac\\u20ac\"]],\"hovertemplate\":\"\\u003cb\\u003e%{hovertext}\\u003c\\u002fb\\u003e\\u003cbr\\u003e\\u003cbr\\u003eprice_ranges=%{customdata[1]}\\u003cbr\\u003eadjusted_restaurant_count=%{marker.size}\\u003cbr\\u003elatitude=%{lat}\\u003cbr\\u003elongitude=%{lon}\\u003cbr\\u003erestaurant_count=%{customdata[0]}\\u003cextra\\u003e\\u003c\\u002fextra\\u003e\",\"hovertext\":[\"Cagliari\",\"Rimini\",\"Alba\",\"Pescara\",\"Ferrara\",\"La Morra\",\"Stradella\",\"Agrigento\",\"Terrasini\",\"Sasso Marconi\",\"Sauris\",\"Origgio\",\"Montrigiasco\",\"Moggiona\",\"Ariano Irpino\",\"Faenza\"],\"lat\":[39.2237323,44.0565776,44.7009526,42.4617624,44.83925,44.63897619999999,45.0756677,37.3088381,38.15137,44.3987165,46.4664469,45.5983986,45.7720843,43.7834467,41.1558174,44.2923321],\"legendgroup\":\"\\u20ac-\\u20ac\\u20ac\\u20ac\",\"lon\":[9.1217194,12.5713325,8.0353488,14.2160321,11.6175537,7.9338239,9.307424,13.5857818,13.0829978,11.2480613,12.7080806,9.0149613,8.5105298,11.7918909,15.0905343,11.8667765],\"marker\":{\"color\":\"#ab63fa\",\"size\":[500,350,350,250,250,200,150,100,100,100,100,100,100,100,100,100],\"sizemode\":\"area\",\"sizeref\":0.435},\"mode\":\"markers\",\"name\":\"\\u20ac-\\u20ac\\u20ac\\u20ac\",\"showlegend\":true,\"subplot\":\"mapbox\",\"type\":\"scattermapbox\"},{\"customdata\":[[8,\"\\u20ac\\u20ac\\u20ac-\\u20ac\\u20ac\\u20ac\\u20ac\"],[5,\"\\u20ac\\u20ac\\u20ac-\\u20ac\\u20ac\\u20ac\\u20ac\"],[4,\"\\u20ac\\u20ac\\u20ac-\\u20ac\\u20ac\\u20ac\\u20ac\"],[4,\"\\u20ac\\u20ac\\u20ac-\\u20ac\\u20ac\\u20ac\\u20ac\"],[4,\"\\u20ac\\u20ac\\u20ac-\\u20ac\\u20ac\\u20ac\\u20ac\"],[4,\"\\u20ac\\u20ac\\u20ac-\\u20ac\\u20ac\\u20ac\\u20ac\"],[4,\"\\u20ac\\u20ac\\u20ac-\\u20ac\\u20ac\\u20ac\\u20ac\"],[4,\"\\u20ac\\u20ac\\u20ac-\\u20ac\\u20ac\\u20ac\\u20ac\"],[3,\"\\u20ac\\u20ac\\u20ac-\\u20ac\\u20ac\\u20ac\\u20ac\"],[3,\"\\u20ac\\u20ac\\u20ac-\\u20ac\\u20ac\\u20ac\\u20ac\"],[3,\"\\u20ac\\u20ac\\u20ac-\\u20ac\\u20ac\\u20ac\\u20ac\"],[3,\"\\u20ac\\u20ac\\u20ac-\\u20ac\\u20ac\\u20ac\\u20ac\"],[3,\"\\u20ac\\u20ac\\u20ac-\\u20ac\\u20ac\\u20ac\\u20ac\"],[2,\"\\u20ac\\u20ac\\u20ac-\\u20ac\\u20ac\\u20ac\\u20ac\"],[2,\"\\u20ac\\u20ac\\u20ac-\\u20ac\\u20ac\\u20ac\\u20ac\"],[2,\"\\u20ac\\u20ac\\u20ac-\\u20ac\\u20ac\\u20ac\\u20ac\"],[2,\"\\u20ac\\u20ac\\u20ac-\\u20ac\\u20ac\\u20ac\\u20ac\"],[2,\"\\u20ac\\u20ac\\u20ac-\\u20ac\\u20ac\\u20ac\\u20ac\"],[2,\"\\u20ac\\u20ac\\u20ac-\\u20ac\\u20ac\\u20ac\\u20ac\"],[2,\"\\u20ac\\u20ac\\u20ac-\\u20ac\\u20ac\\u20ac\\u20ac\"],[2,\"\\u20ac\\u20ac\\u20ac-\\u20ac\\u20ac\\u20ac\\u20ac\"],[2,\"\\u20ac\\u20ac\\u20ac-\\u20ac\\u20ac\\u20ac\\u20ac\"],[2,\"\\u20ac\\u20ac\\u20ac-\\u20ac\\u20ac\\u20ac\\u20ac\"],[2,\"\\u20ac\\u20ac\\u20ac-\\u20ac\\u20ac\\u20ac\\u20ac\"],[2,\"\\u20ac\\u20ac\\u20ac-\\u20ac\\u20ac\\u20ac\\u20ac\"],[2,\"\\u20ac\\u20ac\\u20ac-\\u20ac\\u20ac\\u20ac\\u20ac\"],[2,\"\\u20ac\\u20ac\\u20ac-\\u20ac\\u20ac\\u20ac\\u20ac\"]],\"hovertemplate\":\"\\u003cb\\u003e%{hovertext}\\u003c\\u002fb\\u003e\\u003cbr\\u003e\\u003cbr\\u003eprice_ranges=%{customdata[1]}\\u003cbr\\u003eadjusted_restaurant_count=%{marker.size}\\u003cbr\\u003elatitude=%{lat}\\u003cbr\\u003elongitude=%{lon}\\u003cbr\\u003erestaurant_count=%{customdata[0]}\\u003cextra\\u003e\\u003c\\u002fextra\\u003e\",\"hovertext\":[\"Venice\",\"Amalfi\",\"Ventimiglia\",\"Sirmione\",\"Madonna di Campiglio\",\"Lecce\",\"Como\",\"Capri\",\"Prato\",\"Toblach\",\"Cernobbio\",\"Merano\",\"Castelnuovo Berardenga\",\"Sappada\",\"Serralunga d'Alba\",\"Carovigno\",\"Ortisei\",\"Olgiate Olona\",\"Arco\",\"Bagheria\",\"Porto San Giorgio\",\"Manduria\",\"Licata\",\"Lamezia Terme\",\"Linguaglossa\",\"Fasano del Garda\",\"Alassio\"],\"lat\":[45.440379,40.6338303,43.7912366,45.4650403,46.2302584,40.3515255,45.8063817,40.5532009,43.8777049,46.7355741,45.8403418,46.6711489,43.3444193,46.5660476,44.6095401,40.7022514,46.5753618,45.63278649999999,45.9180235,38.0789178,43.1801957,40.3979856,37.1016735,38.974656,37.842689,45.6236683,44.0037826],\"legendgroup\":\"\\u20ac\\u20ac\\u20ac-\\u20ac\\u20ac\\u20ac\\u20ac\",\"lon\":[12.3159547,14.6027661,7.6075864,10.6067412,10.826401,18.174966,9.0851867,14.222154,11.102228,12.2212221,9.075353,11.1525785,11.4988075,12.6859531,8.000267599999999,17.6616293,11.6702281,8.884968200000001,10.8860199,13.512365,13.7931002,17.6378072,13.937602,16.3183451,15.1418919,10.5716056,8.1653627],\"marker\":{\"color\":\"#FFA15A\",\"size\":[400,250,200,200,200,200,200,200,150,150,150,150,150,100,100,100,100,100,100,100,100,100,100,100,100,100,100],\"sizemode\":\"area\",\"sizeref\":0.435},\"mode\":\"markers\",\"name\":\"\\u20ac\\u20ac\\u20ac-\\u20ac\\u20ac\\u20ac\\u20ac\",\"showlegend\":true,\"subplot\":\"mapbox\",\"type\":\"scattermapbox\"},{\"customdata\":[[5,\"\\u20ac-\\u20ac\\u20ac\"],[4,\"\\u20ac-\\u20ac\\u20ac\"],[4,\"\\u20ac-\\u20ac\\u20ac\"],[3,\"\\u20ac-\\u20ac\\u20ac\"],[3,\"\\u20ac-\\u20ac\\u20ac\"],[2,\"\\u20ac-\\u20ac\\u20ac\"],[2,\"\\u20ac-\\u20ac\\u20ac\"],[2,\"\\u20ac-\\u20ac\\u20ac\"],[2,\"\\u20ac-\\u20ac\\u20ac\"],[2,\"\\u20ac-\\u20ac\\u20ac\"],[2,\"\\u20ac-\\u20ac\\u20ac\"],[2,\"\\u20ac-\\u20ac\\u20ac\"],[2,\"\\u20ac-\\u20ac\\u20ac\"],[2,\"\\u20ac-\\u20ac\\u20ac\"],[2,\"\\u20ac-\\u20ac\\u20ac\"],[2,\"\\u20ac-\\u20ac\\u20ac\"],[2,\"\\u20ac-\\u20ac\\u20ac\"],[2,\"\\u20ac-\\u20ac\\u20ac\"],[2,\"\\u20ac-\\u20ac\\u20ac\"]],\"hovertemplate\":\"\\u003cb\\u003e%{hovertext}\\u003c\\u002fb\\u003e\\u003cbr\\u003e\\u003cbr\\u003eprice_ranges=%{customdata[1]}\\u003cbr\\u003eadjusted_restaurant_count=%{marker.size}\\u003cbr\\u003elatitude=%{lat}\\u003cbr\\u003elongitude=%{lon}\\u003cbr\\u003erestaurant_count=%{customdata[0]}\\u003cextra\\u003e\\u003c\\u002fextra\\u003e\",\"hovertext\":[\"Cuneo\",\"Fano\",\"Cortona\",\"Campobasso\",\"Bra\",\"Santarcangelo di Romagna\",\"Bobbio\",\"Ponte dell'Olio\",\"Salsomaggiore Terme\",\"San Donato in Poggio\",\"Palazzolo sull'Oglio\",\"Orvieto\",\"Poggibonsi\",\"Marostica\",\"Isera\",\"Giulianova Lido\",\"Cetara\",\"Cusago\",\"Coloreto\"],\"lat\":[44.3844766,43.8424875,43.2750249,41.5602674,44.69230530000001,44.0637152,44.7699503,44.8706221,44.8162208,43.5360544,45.5958996,42.7185068,43.4728358,45.7445106,45.8852977,42.7512036,40.6477459,45.4486215,44.7692466],\"legendgroup\":\"\\u20ac-\\u20ac\\u20ac\",\"lon\":[7.5426711,13.0136891,11.9854545,14.6617334,7.855086000000001,12.4525304,9.3860853,9.643241,9.9786257,11.2379852,9.8860697,12.1107446,11.1467374,11.6556969,11.0091965,13.9651353,14.700764,9.0371899,10.3765002],\"marker\":{\"color\":\"#19d3f3\",\"size\":[250,200,200,150,150,100,100,100,100,100,100,100,100,100,100,100,100,100,100],\"sizemode\":\"area\",\"sizeref\":0.435},\"mode\":\"markers\",\"name\":\"\\u20ac-\\u20ac\\u20ac\",\"showlegend\":true,\"subplot\":\"mapbox\",\"type\":\"scattermapbox\"},{\"customdata\":[[4,\"\\u20ac\\u20ac\\u20ac\\u20ac\"],[2,\"\\u20ac\\u20ac\\u20ac\\u20ac\"],[2,\"\\u20ac\\u20ac\\u20ac\\u20ac\"],[2,\"\\u20ac\\u20ac\\u20ac\\u20ac\"],[2,\"\\u20ac\\u20ac\\u20ac\\u20ac\"],[2,\"\\u20ac\\u20ac\\u20ac\\u20ac\"],[2,\"\\u20ac\\u20ac\\u20ac\\u20ac\"],[2,\"\\u20ac\\u20ac\\u20ac\\u20ac\"],[2,\"\\u20ac\\u20ac\\u20ac\\u20ac\"],[2,\"\\u20ac\\u20ac\\u20ac\\u20ac\"],[1,\"\\u20ac\\u20ac\\u20ac\\u20ac\"],[1,\"\\u20ac\\u20ac\\u20ac\\u20ac\"],[1,\"\\u20ac\\u20ac\\u20ac\\u20ac\"],[1,\"\\u20ac\\u20ac\\u20ac\\u20ac\"],[1,\"\\u20ac\\u20ac\\u20ac\\u20ac\"],[1,\"\\u20ac\\u20ac\\u20ac\\u20ac\"],[1,\"\\u20ac\\u20ac\\u20ac\\u20ac\"],[1,\"\\u20ac\\u20ac\\u20ac\\u20ac\"],[1,\"\\u20ac\\u20ac\\u20ac\\u20ac\"],[1,\"\\u20ac\\u20ac\\u20ac\\u20ac\"],[1,\"\\u20ac\\u20ac\\u20ac\\u20ac\"],[1,\"\\u20ac\\u20ac\\u20ac\\u20ac\"],[1,\"\\u20ac\\u20ac\\u20ac\\u20ac\"],[1,\"\\u20ac\\u20ac\\u20ac\\u20ac\"],[1,\"\\u20ac\\u20ac\\u20ac\\u20ac\"],[1,\"\\u20ac\\u20ac\\u20ac\\u20ac\"],[1,\"\\u20ac\\u20ac\\u20ac\\u20ac\"],[1,\"\\u20ac\\u20ac\\u20ac\\u20ac\"],[1,\"\\u20ac\\u20ac\\u20ac\\u20ac\"],[1,\"\\u20ac\\u20ac\\u20ac\\u20ac\"],[1,\"\\u20ac\\u20ac\\u20ac\\u20ac\"],[1,\"\\u20ac\\u20ac\\u20ac\\u20ac\"],[1,\"\\u20ac\\u20ac\\u20ac\\u20ac\"],[1,\"\\u20ac\\u20ac\\u20ac\\u20ac\"],[1,\"\\u20ac\\u20ac\\u20ac\\u20ac\"],[1,\"\\u20ac\\u20ac\\u20ac\\u20ac\"],[1,\"\\u20ac\\u20ac\\u20ac\\u20ac\"],[1,\"\\u20ac\\u20ac\\u20ac\\u20ac\"],[1,\"\\u20ac\\u20ac\\u20ac\\u20ac\"],[1,\"\\u20ac\\u20ac\\u20ac\\u20ac\"],[1,\"\\u20ac\\u20ac\\u20ac\\u20ac\"],[1,\"\\u20ac\\u20ac\\u20ac\\u20ac\"],[1,\"\\u20ac\\u20ac\\u20ac\\u20ac\"],[1,\"\\u20ac\\u20ac\\u20ac\\u20ac\"],[1,\"\\u20ac\\u20ac\\u20ac\\u20ac\"],[1,\"\\u20ac\\u20ac\\u20ac\\u20ac\"],[1,\"\\u20ac\\u20ac\\u20ac\\u20ac\"],[1,\"\\u20ac\\u20ac\\u20ac\\u20ac\"],[1,\"\\u20ac\\u20ac\\u20ac\\u20ac\"],[1,\"\\u20ac\\u20ac\\u20ac\\u20ac\"],[1,\"\\u20ac\\u20ac\\u20ac\\u20ac\"],[1,\"\\u20ac\\u20ac\\u20ac\\u20ac\"],[1,\"\\u20ac\\u20ac\\u20ac\\u20ac\"],[1,\"\\u20ac\\u20ac\\u20ac\\u20ac\"],[1,\"\\u20ac\\u20ac\\u20ac\\u20ac\"],[1,\"\\u20ac\\u20ac\\u20ac\\u20ac\"],[1,\"\\u20ac\\u20ac\\u20ac\\u20ac\"],[1,\"\\u20ac\\u20ac\\u20ac\\u20ac\"],[1,\"\\u20ac\\u20ac\\u20ac\\u20ac\"],[1,\"\\u20ac\\u20ac\\u20ac\\u20ac\"],[1,\"\\u20ac\\u20ac\\u20ac\\u20ac\"],[1,\"\\u20ac\\u20ac\\u20ac\\u20ac\"],[1,\"\\u20ac\\u20ac\\u20ac\\u20ac\"],[1,\"\\u20ac\\u20ac\\u20ac\\u20ac\"],[1,\"\\u20ac\\u20ac\\u20ac\\u20ac\"],[1,\"\\u20ac\\u20ac\\u20ac\\u20ac\"],[1,\"\\u20ac\\u20ac\\u20ac\\u20ac\"],[1,\"\\u20ac\\u20ac\\u20ac\\u20ac\"],[1,\"\\u20ac\\u20ac\\u20ac\\u20ac\"],[1,\"\\u20ac\\u20ac\\u20ac\\u20ac\"],[1,\"\\u20ac\\u20ac\\u20ac\\u20ac\"],[1,\"\\u20ac\\u20ac\\u20ac\\u20ac\"],[1,\"\\u20ac\\u20ac\\u20ac\\u20ac\"],[1,\"\\u20ac\\u20ac\\u20ac\\u20ac\"],[1,\"\\u20ac\\u20ac\\u20ac\\u20ac\"],[1,\"\\u20ac\\u20ac\\u20ac\\u20ac\"],[1,\"\\u20ac\\u20ac\\u20ac\\u20ac\"],[1,\"\\u20ac\\u20ac\\u20ac\\u20ac\"],[1,\"\\u20ac\\u20ac\\u20ac\\u20ac\"],[1,\"\\u20ac\\u20ac\\u20ac\\u20ac\"],[1,\"\\u20ac\\u20ac\\u20ac\\u20ac\"],[1,\"\\u20ac\\u20ac\\u20ac\\u20ac\"],[1,\"\\u20ac\\u20ac\\u20ac\\u20ac\"],[1,\"\\u20ac\\u20ac\\u20ac\\u20ac\"],[1,\"\\u20ac\\u20ac\\u20ac\\u20ac\"],[1,\"\\u20ac\\u20ac\\u20ac\\u20ac\"],[1,\"\\u20ac\\u20ac\\u20ac\\u20ac\"],[1,\"\\u20ac\\u20ac\\u20ac\\u20ac\"],[1,\"\\u20ac\\u20ac\\u20ac\\u20ac\"],[1,\"\\u20ac\\u20ac\\u20ac\\u20ac\"],[1,\"\\u20ac\\u20ac\\u20ac\\u20ac\"],[1,\"\\u20ac\\u20ac\\u20ac\\u20ac\"],[1,\"\\u20ac\\u20ac\\u20ac\\u20ac\"],[1,\"\\u20ac\\u20ac\\u20ac\\u20ac\"],[1,\"\\u20ac\\u20ac\\u20ac\\u20ac\"],[1,\"\\u20ac\\u20ac\\u20ac\\u20ac\"],[1,\"\\u20ac\\u20ac\\u20ac\\u20ac\"],[1,\"\\u20ac\\u20ac\\u20ac\\u20ac\"],[1,\"\\u20ac\\u20ac\\u20ac\\u20ac\"],[1,\"\\u20ac\\u20ac\\u20ac\\u20ac\"],[1,\"\\u20ac\\u20ac\\u20ac\\u20ac\"],[1,\"\\u20ac\\u20ac\\u20ac\\u20ac\"],[1,\"\\u20ac\\u20ac\\u20ac\\u20ac\"],[1,\"\\u20ac\\u20ac\\u20ac\\u20ac\"],[1,\"\\u20ac\\u20ac\\u20ac\\u20ac\"],[1,\"\\u20ac\\u20ac\\u20ac\\u20ac\"],[1,\"\\u20ac\\u20ac\\u20ac\\u20ac\"],[1,\"\\u20ac\\u20ac\\u20ac\\u20ac\"],[1,\"\\u20ac\\u20ac\\u20ac\\u20ac\"],[1,\"\\u20ac\\u20ac\\u20ac\\u20ac\"],[1,\"\\u20ac\\u20ac\\u20ac\\u20ac\"],[1,\"\\u20ac\\u20ac\\u20ac\\u20ac\"],[1,\"\\u20ac\\u20ac\\u20ac\\u20ac\"],[1,\"\\u20ac\\u20ac\\u20ac\\u20ac\"],[1,\"\\u20ac\\u20ac\\u20ac\\u20ac\"],[1,\"\\u20ac\\u20ac\\u20ac\\u20ac\"],[1,\"\\u20ac\\u20ac\\u20ac\\u20ac\"],[1,\"\\u20ac\\u20ac\\u20ac\\u20ac\"],[1,\"\\u20ac\\u20ac\\u20ac\\u20ac\"],[1,\"\\u20ac\\u20ac\\u20ac\\u20ac\"],[1,\"\\u20ac\\u20ac\\u20ac\\u20ac\"]],\"hovertemplate\":\"\\u003cb\\u003e%{hovertext}\\u003c\\u002fb\\u003e\\u003cbr\\u003e\\u003cbr\\u003eprice_ranges=%{customdata[1]}\\u003cbr\\u003eadjusted_restaurant_count=%{marker.size}\\u003cbr\\u003elatitude=%{lat}\\u003cbr\\u003elongitude=%{lon}\\u003cbr\\u003erestaurant_count=%{customdata[0]}\\u003cextra\\u003e\\u003c\\u002fextra\\u003e\",\"hovertext\":[\"Forte dei Marmi\",\"loc. San Pietro all'Olmo\",\"Telese\",\"Baia Sardinia\",\"Portofino\",\"Ravello\",\"Orta San Giulio\",\"Isola Vulcano\",\"Marina del Cantone\",\"Gargnano\",\"localit\\u00e0 Vallese\",\"localit\\u00e0 Piedicolle\",\"localit\\u00e0 San Tomio\",\"Conca dei Marini\",\"Baschi\",\"Corrubbio\",\"Costermano\",\"Cioccaro\",\"Conversano\",\"Chiusdino\",\"Ghirlanda\",\"Gragnano\",\"Gaiole in Chianti\",\"Godia\",\"Cerreto Guidi\",\"Cervere\",\"Imola\",\"Ischia\",\"Laveno\",\"Lido di Jesolo\",\"Labico\",\"Lacco Ameno\",\"Limone sul Garda\",\"Lonigo\",\"Malcesine\",\"Malfa\",\"Cavalese\",\"Cavernago\",\"Mantello\",\"Lughetto\",\"Marlia\",\"Marzocca\",\"Mazzorbo\",\"Castelfranco Veneto\",\"Castellammare di Stabia\",\"Archi\",\"Montemerano\",\"Morgex\",\"Casole d'Elsa\",\"Oltressenda Alta\",\"Noceto\",\"Norcia\",\"Nova Levante\",\"Oggiono\",\"Paraggi\",\"Passignano\",\"Capolona\",\"Porto Ercole\",\"Porto Rotondo\",\"Praiano\",\"Pralboino\",\"Promenade du Port\",\"Brenzone sul Garda\",\"Pula\",\"Ravina\",\"Romano d'Ezzelino\",\"Rubbianino\",\"Runate\",\"SS 145 Sorrentina km 14\",\"Sala Bolognese\",\"Altissimo\",\"San Giovanni in Fiore\",\"SS 146\",\"Saint Martin in Passeier\",\"San Martino\",\"San Pantaleo\",\"San Paolo d'Argon\",\"San Remo\",\"Brunico\",\"Brusaporto\",\"Brusciano\",\"Sant' Agnello\",\"Santa Cristina d'Aspromonte\",\"Sellano\",\"Santo Stefano Belbo\",\"Saronno\",\"Savelletri\",\"Soprabolzano\",\"Soriso\",\"Borgoricco\",\"Bellagio\",\"Tavarnelle Val di Pesa\",\"Ticciano\",\"Strongoli\",\"Barbarano Vicentino\",\"Torno\",\"Trevinano\",\"Tirol\",\"Blevio\",\"sestiere San Marco\",\"sestiere San Marco 1131\",\"sestiere San Polo  2202\\u002fa\",\"sestiere San Polo 1364\",\"sestiere San Polo 2908\",\"sestiere Santa Croce 1961\",\"sestiere Santa Croce 231\",\"localit\\u00e0 Sarmeola\",\"localit\\u00e0 Tretto\",\"loc. Praialonga\",\"angolo piazza Risorgimento 4\",\"loc. Montilgallo\",\"loc. Pietrapiana\",\"localit\\u00e0 Belvedere Fornillo\",\"localit\\u00e0 Brufa\",\"localit\\u00e0 Capo Miseno\",\"localit\\u00e0 Costorio\",\"localit\\u00e0 Lu Fraili di Sotto\",\"Acuto\",\"sestiere Castello 4196\",\"20 - Colla Micheri\",\"sestiere Castello 3303\"],\"lat\":[43.9580563,45.4868487,41.2163745,41.1402366,44.3031559,40.6515802,45.7965387,38.39461319999999,40.5834258,45.6888313,45.3280562,42.8953358,45.28834459999999,40.6163236,42.6729095,45.4874039,45.5857475,45.015325,40.9675463,43.154292,43.0563678,40.688303,43.4674997,46.1013119,43.7597972,44.6361892,44.3513048,40.7270164,45.9014038,45.5063264,41.7863895,40.7502875,45.8077253,45.3882122,45.7640092,38.5785105,46.2912839,45.6248356,46.1513837,45.3829166,43.8980494,43.6763504,45.4857951,45.6717817,40.6981057,42.08892489999999,42.6219504,45.7577901,43.34013239999999,45.915139,44.80932139999999,42.791923,46.4307732,45.787223,44.3120448,43.18743750000001,43.5653032,42.3966573,41.0307052,40.6117319,45.2671462,41.1330898,45.7090716,39.0121891,44.418441,45.7962443,44.6507409,45.1710879,40.6753769,44.616422,45.6147014,39.2567915,43.00195,46.7797542,46.2617655,41.0460696,45.6868668,43.81596709999999,46.7965374,45.67082610000001,40.9209903,40.62964400000001,38.25385170000001,42.88846909999999,44.7085574,45.6264294,40.8754764,46.5303883,45.7414368,45.5328125,45.9772675,43.5533291,40.6456052,39.2644583,45.409921,45.85739299999999,42.8229948,46.6908353,45.83595469999999,45.4341499,45.4341499,45.437565,45.437565,45.437565,45.437721,45.437721,45.4220727,45.7597913,38.9341864,45.4674868,44.07427149999999,43.6968415,43.4104405,43.0588811,40.7846747,45.6187919,40.8186884,41.7924629,45.4370514,43.9689927,45.4370514],\"legendgroup\":\"\\u20ac\\u20ac\\u20ac\\u20ac\",\"lon\":[10.1674477,9.0134762,14.5269627,9.4762976,9.2097879,14.6140606,8.416948699999999,14.970634,14.3559655,10.6624366,11.0817438,12.4033148,11.2733297,14.5753912,12.2156243,10.904904,10.7402055,8.2770744,17.1170741,11.086234,10.901957,14.5226346,11.4342716,13.2648289,10.8801995,7.789558800000001,11.7129264,13.9028656,8.6257066,12.6457389,12.8857037,13.8903541,10.7880304,11.387965,10.810057,14.8363378,11.4603712,9.7626006,9.4857737,12.1294366,10.5572381,13.2890429,12.4073382,11.9283021,14.4880402,14.3813449,11.4889934,7.0365108,11.0445526,9.9455336,10.178779,13.0947797,11.5420168,9.3463661,9.2101907,12.1344807,11.8591239,11.201569,9.5465468,14.5335099,10.2183549,9.538134500000002,10.7677926,9.0011008,12.2034957,11.758273,10.5255995,10.3582403,14.4382464,11.2563212,11.2508273,16.6973661,11.96561,11.2258268,11.8005275,9.4679621,9.8028231,7.7760567,11.9381326,9.7616092,14.4243606,14.3951136,15.9703351,12.9262936,8.230360500000002,9.0348132,17.4069437,11.4074916,8.410474899999999,11.9684973,9.2625375,11.2183781,14.4537704,17.0548566,11.5395817,9.1158766,11.8734976,11.1538739,9.1010484,12.3320092,12.3320092,12.3298437,12.3298437,12.3298437,12.3175829,12.3175829,11.8106367,11.3362001,16.9934184,9.210078,12.3544415,11.5297785,11.16032,12.4733021,14.0863392,10.2149802,9.6715521,13.1727324,12.3414217,8.1553651,12.3414217],\"marker\":{\"color\":\"#FF6692\",\"size\":[200,100,100,100,100,100,100,100,100,100,50,50,50,50,50,50,50,50,50,50,50,50,50,50,50,50,50,50,50,50,50,50,50,50,50,50,50,50,50,50,50,50,50,50,50,50,50,50,50,50,50,50,50,50,50,50,50,50,50,50,50,50,50,50,50,50,50,50,50,50,50,50,50,50,50,50,50,50,50,50,50,50,50,50,50,50,50,50,50,50,50,50,50,50,50,50,50,50,50,50,50,50,50,50,50,50,50,50,50,50,50,50,50,50,50,50,50,50,50,50,50],\"sizemode\":\"area\",\"sizeref\":0.435},\"mode\":\"markers\",\"name\":\"\\u20ac\\u20ac\\u20ac\\u20ac\",\"showlegend\":true,\"subplot\":\"mapbox\",\"type\":\"scattermapbox\"},{\"customdata\":[[3,\"\\u20ac\\u20ac\"],[3,\"\\u20ac\\u20ac\"],[3,\"\\u20ac\\u20ac\"],[2,\"\\u20ac\\u20ac\"],[2,\"\\u20ac\\u20ac\"],[2,\"\\u20ac\\u20ac\"],[2,\"\\u20ac\\u20ac\"],[2,\"\\u20ac\\u20ac\"],[2,\"\\u20ac\\u20ac\"],[2,\"\\u20ac\\u20ac\"],[2,\"\\u20ac\\u20ac\"],[2,\"\\u20ac\\u20ac\"],[2,\"\\u20ac\\u20ac\"],[2,\"\\u20ac\\u20ac\"],[2,\"\\u20ac\\u20ac\"],[2,\"\\u20ac\\u20ac\"],[2,\"\\u20ac\\u20ac\"],[2,\"\\u20ac\\u20ac\"],[2,\"\\u20ac\\u20ac\"],[2,\"\\u20ac\\u20ac\"],[2,\"\\u20ac\\u20ac\"],[2,\"\\u20ac\\u20ac\"],[2,\"\\u20ac\\u20ac\"],[2,\"\\u20ac\\u20ac\"],[2,\"\\u20ac\\u20ac\"],[2,\"\\u20ac\\u20ac\"],[2,\"\\u20ac\\u20ac\"],[2,\"\\u20ac\\u20ac\"],[2,\"\\u20ac\\u20ac\"],[2,\"\\u20ac\\u20ac\"],[2,\"\\u20ac\\u20ac\"],[2,\"\\u20ac\\u20ac\"],[2,\"\\u20ac\\u20ac\"],[2,\"\\u20ac\\u20ac\"],[2,\"\\u20ac\\u20ac\"],[2,\"\\u20ac\\u20ac\"],[2,\"\\u20ac\\u20ac\"],[2,\"\\u20ac\\u20ac\"],[2,\"\\u20ac\\u20ac\"],[2,\"\\u20ac\\u20ac\"],[2,\"\\u20ac\\u20ac\"],[2,\"\\u20ac\\u20ac\"],[2,\"\\u20ac\\u20ac\"],[2,\"\\u20ac\\u20ac\"],[1,\"\\u20ac\\u20ac\"],[1,\"\\u20ac\\u20ac\"],[1,\"\\u20ac\\u20ac\"],[1,\"\\u20ac\\u20ac\"],[1,\"\\u20ac\\u20ac\"],[1,\"\\u20ac\\u20ac\"],[1,\"\\u20ac\\u20ac\"],[1,\"\\u20ac\\u20ac\"],[1,\"\\u20ac\\u20ac\"],[1,\"\\u20ac\\u20ac\"],[1,\"\\u20ac\\u20ac\"],[1,\"\\u20ac\\u20ac\"],[1,\"\\u20ac\\u20ac\"],[1,\"\\u20ac\\u20ac\"],[1,\"\\u20ac\\u20ac\"],[1,\"\\u20ac\\u20ac\"],[1,\"\\u20ac\\u20ac\"],[1,\"\\u20ac\\u20ac\"],[1,\"\\u20ac\\u20ac\"],[1,\"\\u20ac\\u20ac\"],[1,\"\\u20ac\\u20ac\"],[1,\"\\u20ac\\u20ac\"],[1,\"\\u20ac\\u20ac\"],[1,\"\\u20ac\\u20ac\"],[1,\"\\u20ac\\u20ac\"],[1,\"\\u20ac\\u20ac\"],[1,\"\\u20ac\\u20ac\"],[1,\"\\u20ac\\u20ac\"],[1,\"\\u20ac\\u20ac\"],[1,\"\\u20ac\\u20ac\"],[1,\"\\u20ac\\u20ac\"],[1,\"\\u20ac\\u20ac\"],[1,\"\\u20ac\\u20ac\"],[1,\"\\u20ac\\u20ac\"],[1,\"\\u20ac\\u20ac\"],[1,\"\\u20ac\\u20ac\"],[1,\"\\u20ac\\u20ac\"],[1,\"\\u20ac\\u20ac\"],[1,\"\\u20ac\\u20ac\"],[1,\"\\u20ac\\u20ac\"],[1,\"\\u20ac\\u20ac\"],[1,\"\\u20ac\\u20ac\"],[1,\"\\u20ac\\u20ac\"],[1,\"\\u20ac\\u20ac\"],[1,\"\\u20ac\\u20ac\"],[1,\"\\u20ac\\u20ac\"],[1,\"\\u20ac\\u20ac\"],[1,\"\\u20ac\\u20ac\"],[1,\"\\u20ac\\u20ac\"],[1,\"\\u20ac\\u20ac\"],[1,\"\\u20ac\\u20ac\"],[1,\"\\u20ac\\u20ac\"],[1,\"\\u20ac\\u20ac\"],[1,\"\\u20ac\\u20ac\"],[1,\"\\u20ac\\u20ac\"],[1,\"\\u20ac\\u20ac\"],[1,\"\\u20ac\\u20ac\"],[1,\"\\u20ac\\u20ac\"],[1,\"\\u20ac\\u20ac\"],[1,\"\\u20ac\\u20ac\"],[1,\"\\u20ac\\u20ac\"],[1,\"\\u20ac\\u20ac\"],[1,\"\\u20ac\\u20ac\"],[1,\"\\u20ac\\u20ac\"],[1,\"\\u20ac\\u20ac\"],[1,\"\\u20ac\\u20ac\"],[1,\"\\u20ac\\u20ac\"],[1,\"\\u20ac\\u20ac\"],[1,\"\\u20ac\\u20ac\"],[1,\"\\u20ac\\u20ac\"],[1,\"\\u20ac\\u20ac\"],[1,\"\\u20ac\\u20ac\"],[1,\"\\u20ac\\u20ac\"],[1,\"\\u20ac\\u20ac\"],[1,\"\\u20ac\\u20ac\"],[1,\"\\u20ac\\u20ac\"],[1,\"\\u20ac\\u20ac\"],[1,\"\\u20ac\\u20ac\"],[1,\"\\u20ac\\u20ac\"],[1,\"\\u20ac\\u20ac\"],[1,\"\\u20ac\\u20ac\"],[1,\"\\u20ac\\u20ac\"],[1,\"\\u20ac\\u20ac\"],[1,\"\\u20ac\\u20ac\"],[1,\"\\u20ac\\u20ac\"],[1,\"\\u20ac\\u20ac\"],[1,\"\\u20ac\\u20ac\"],[1,\"\\u20ac\\u20ac\"],[1,\"\\u20ac\\u20ac\"],[1,\"\\u20ac\\u20ac\"],[1,\"\\u20ac\\u20ac\"],[1,\"\\u20ac\\u20ac\"],[1,\"\\u20ac\\u20ac\"],[1,\"\\u20ac\\u20ac\"],[1,\"\\u20ac\\u20ac\"],[1,\"\\u20ac\\u20ac\"],[1,\"\\u20ac\\u20ac\"],[1,\"\\u20ac\\u20ac\"],[1,\"\\u20ac\\u20ac\"],[1,\"\\u20ac\\u20ac\"],[1,\"\\u20ac\\u20ac\"],[1,\"\\u20ac\\u20ac\"],[1,\"\\u20ac\\u20ac\"],[1,\"\\u20ac\\u20ac\"],[1,\"\\u20ac\\u20ac\"],[1,\"\\u20ac\\u20ac\"],[1,\"\\u20ac\\u20ac\"],[1,\"\\u20ac\\u20ac\"],[1,\"\\u20ac\\u20ac\"],[1,\"\\u20ac\\u20ac\"],[1,\"\\u20ac\\u20ac\"],[1,\"\\u20ac\\u20ac\"],[1,\"\\u20ac\\u20ac\"],[1,\"\\u20ac\\u20ac\"],[1,\"\\u20ac\\u20ac\"],[1,\"\\u20ac\\u20ac\"],[1,\"\\u20ac\\u20ac\"],[1,\"\\u20ac\\u20ac\"],[1,\"\\u20ac\\u20ac\"],[1,\"\\u20ac\\u20ac\"],[1,\"\\u20ac\\u20ac\"],[1,\"\\u20ac\\u20ac\"],[1,\"\\u20ac\\u20ac\"],[1,\"\\u20ac\\u20ac\"],[1,\"\\u20ac\\u20ac\"],[1,\"\\u20ac\\u20ac\"],[1,\"\\u20ac\\u20ac\"],[1,\"\\u20ac\\u20ac\"],[1,\"\\u20ac\\u20ac\"],[1,\"\\u20ac\\u20ac\"],[1,\"\\u20ac\\u20ac\"],[1,\"\\u20ac\\u20ac\"],[1,\"\\u20ac\\u20ac\"],[1,\"\\u20ac\\u20ac\"],[1,\"\\u20ac\\u20ac\"],[1,\"\\u20ac\\u20ac\"],[1,\"\\u20ac\\u20ac\"],[1,\"\\u20ac\\u20ac\"],[1,\"\\u20ac\\u20ac\"],[1,\"\\u20ac\\u20ac\"],[1,\"\\u20ac\\u20ac\"],[1,\"\\u20ac\\u20ac\"],[1,\"\\u20ac\\u20ac\"],[1,\"\\u20ac\\u20ac\"],[1,\"\\u20ac\\u20ac\"],[1,\"\\u20ac\\u20ac\"],[1,\"\\u20ac\\u20ac\"],[1,\"\\u20ac\\u20ac\"],[1,\"\\u20ac\\u20ac\"],[1,\"\\u20ac\\u20ac\"],[1,\"\\u20ac\\u20ac\"],[1,\"\\u20ac\\u20ac\"],[1,\"\\u20ac\\u20ac\"],[1,\"\\u20ac\\u20ac\"],[1,\"\\u20ac\\u20ac\"],[1,\"\\u20ac\\u20ac\"],[1,\"\\u20ac\\u20ac\"],[1,\"\\u20ac\\u20ac\"],[1,\"\\u20ac\\u20ac\"],[1,\"\\u20ac\\u20ac\"],[1,\"\\u20ac\\u20ac\"],[1,\"\\u20ac\\u20ac\"],[1,\"\\u20ac\\u20ac\"],[1,\"\\u20ac\\u20ac\"],[1,\"\\u20ac\\u20ac\"],[1,\"\\u20ac\\u20ac\"],[1,\"\\u20ac\\u20ac\"],[1,\"\\u20ac\\u20ac\"],[1,\"\\u20ac\\u20ac\"],[1,\"\\u20ac\\u20ac\"],[1,\"\\u20ac\\u20ac\"],[1,\"\\u20ac\\u20ac\"],[1,\"\\u20ac\\u20ac\"],[1,\"\\u20ac\\u20ac\"],[1,\"\\u20ac\\u20ac\"],[1,\"\\u20ac\\u20ac\"],[1,\"\\u20ac\\u20ac\"],[1,\"\\u20ac\\u20ac\"],[1,\"\\u20ac\\u20ac\"],[1,\"\\u20ac\\u20ac\"],[1,\"\\u20ac\\u20ac\"],[1,\"\\u20ac\\u20ac\"],[1,\"\\u20ac\\u20ac\"],[1,\"\\u20ac\\u20ac\"],[1,\"\\u20ac\\u20ac\"],[1,\"\\u20ac\\u20ac\"],[1,\"\\u20ac\\u20ac\"],[1,\"\\u20ac\\u20ac\"],[1,\"\\u20ac\\u20ac\"],[1,\"\\u20ac\\u20ac\"],[1,\"\\u20ac\\u20ac\"],[1,\"\\u20ac\\u20ac\"],[1,\"\\u20ac\\u20ac\"],[1,\"\\u20ac\\u20ac\"],[1,\"\\u20ac\\u20ac\"],[1,\"\\u20ac\\u20ac\"],[1,\"\\u20ac\\u20ac\"],[1,\"\\u20ac\\u20ac\"],[1,\"\\u20ac\\u20ac\"],[1,\"\\u20ac\\u20ac\"],[1,\"\\u20ac\\u20ac\"],[1,\"\\u20ac\\u20ac\"],[1,\"\\u20ac\\u20ac\"],[1,\"\\u20ac\\u20ac\"],[1,\"\\u20ac\\u20ac\"],[1,\"\\u20ac\\u20ac\"],[1,\"\\u20ac\\u20ac\"],[1,\"\\u20ac\\u20ac\"],[1,\"\\u20ac\\u20ac\"],[1,\"\\u20ac\\u20ac\"],[1,\"\\u20ac\\u20ac\"],[1,\"\\u20ac\\u20ac\"],[1,\"\\u20ac\\u20ac\"],[1,\"\\u20ac\\u20ac\"],[1,\"\\u20ac\\u20ac\"],[1,\"\\u20ac\\u20ac\"],[1,\"\\u20ac\\u20ac\"],[1,\"\\u20ac\\u20ac\"],[1,\"\\u20ac\\u20ac\"],[1,\"\\u20ac\\u20ac\"],[1,\"\\u20ac\\u20ac\"],[1,\"\\u20ac\\u20ac\"],[1,\"\\u20ac\\u20ac\"],[1,\"\\u20ac\\u20ac\"],[1,\"\\u20ac\\u20ac\"],[1,\"\\u20ac\\u20ac\"],[1,\"\\u20ac\\u20ac\"],[1,\"\\u20ac\\u20ac\"],[1,\"\\u20ac\\u20ac\"],[1,\"\\u20ac\\u20ac\"],[1,\"\\u20ac\\u20ac\"],[1,\"\\u20ac\\u20ac\"],[1,\"\\u20ac\\u20ac\"],[1,\"\\u20ac\\u20ac\"],[1,\"\\u20ac\\u20ac\"],[1,\"\\u20ac\\u20ac\"],[1,\"\\u20ac\\u20ac\"],[1,\"\\u20ac\\u20ac\"],[1,\"\\u20ac\\u20ac\"],[1,\"\\u20ac\\u20ac\"],[1,\"\\u20ac\\u20ac\"],[1,\"\\u20ac\\u20ac\"],[1,\"\\u20ac\\u20ac\"],[1,\"\\u20ac\\u20ac\"],[1,\"\\u20ac\\u20ac\"],[1,\"\\u20ac\\u20ac\"],[1,\"\\u20ac\\u20ac\"],[1,\"\\u20ac\\u20ac\"],[1,\"\\u20ac\\u20ac\"],[1,\"\\u20ac\\u20ac\"],[1,\"\\u20ac\\u20ac\"],[1,\"\\u20ac\\u20ac\"],[1,\"\\u20ac\\u20ac\"],[1,\"\\u20ac\\u20ac\"],[1,\"\\u20ac\\u20ac\"],[1,\"\\u20ac\\u20ac\"],[1,\"\\u20ac\\u20ac\"],[1,\"\\u20ac\\u20ac\"],[1,\"\\u20ac\\u20ac\"],[1,\"\\u20ac\\u20ac\"],[1,\"\\u20ac\\u20ac\"],[1,\"\\u20ac\\u20ac\"],[1,\"\\u20ac\\u20ac\"],[1,\"\\u20ac\\u20ac\"],[1,\"\\u20ac\\u20ac\"],[1,\"\\u20ac\\u20ac\"],[1,\"\\u20ac\\u20ac\"],[1,\"\\u20ac\\u20ac\"],[1,\"\\u20ac\\u20ac\"],[1,\"\\u20ac\\u20ac\"],[1,\"\\u20ac\\u20ac\"],[1,\"\\u20ac\\u20ac\"],[1,\"\\u20ac\\u20ac\"],[1,\"\\u20ac\\u20ac\"],[1,\"\\u20ac\\u20ac\"],[1,\"\\u20ac\\u20ac\"],[1,\"\\u20ac\\u20ac\"],[1,\"\\u20ac\\u20ac\"],[1,\"\\u20ac\\u20ac\"],[1,\"\\u20ac\\u20ac\"],[1,\"\\u20ac\\u20ac\"],[1,\"\\u20ac\\u20ac\"],[1,\"\\u20ac\\u20ac\"],[1,\"\\u20ac\\u20ac\"],[1,\"\\u20ac\\u20ac\"],[1,\"\\u20ac\\u20ac\"],[1,\"\\u20ac\\u20ac\"],[1,\"\\u20ac\\u20ac\"],[1,\"\\u20ac\\u20ac\"],[1,\"\\u20ac\\u20ac\"],[1,\"\\u20ac\\u20ac\"],[1,\"\\u20ac\\u20ac\"],[1,\"\\u20ac\\u20ac\"],[1,\"\\u20ac\\u20ac\"],[1,\"\\u20ac\\u20ac\"],[1,\"\\u20ac\\u20ac\"],[1,\"\\u20ac\\u20ac\"],[1,\"\\u20ac\\u20ac\"],[1,\"\\u20ac\\u20ac\"],[1,\"\\u20ac\\u20ac\"],[1,\"\\u20ac\\u20ac\"],[1,\"\\u20ac\\u20ac\"],[1,\"\\u20ac\\u20ac\"],[1,\"\\u20ac\\u20ac\"],[1,\"\\u20ac\\u20ac\"],[1,\"\\u20ac\\u20ac\"],[1,\"\\u20ac\\u20ac\"],[1,\"\\u20ac\\u20ac\"],[1,\"\\u20ac\\u20ac\"],[1,\"\\u20ac\\u20ac\"],[1,\"\\u20ac\\u20ac\"],[1,\"\\u20ac\\u20ac\"],[1,\"\\u20ac\\u20ac\"],[1,\"\\u20ac\\u20ac\"],[1,\"\\u20ac\\u20ac\"],[1,\"\\u20ac\\u20ac\"],[1,\"\\u20ac\\u20ac\"],[1,\"\\u20ac\\u20ac\"],[1,\"\\u20ac\\u20ac\"],[1,\"\\u20ac\\u20ac\"],[1,\"\\u20ac\\u20ac\"],[1,\"\\u20ac\\u20ac\"],[1,\"\\u20ac\\u20ac\"],[1,\"\\u20ac\\u20ac\"],[1,\"\\u20ac\\u20ac\"],[1,\"\\u20ac\\u20ac\"],[1,\"\\u20ac\\u20ac\"],[1,\"\\u20ac\\u20ac\"],[1,\"\\u20ac\\u20ac\"],[1,\"\\u20ac\\u20ac\"],[1,\"\\u20ac\\u20ac\"],[1,\"\\u20ac\\u20ac\"],[1,\"\\u20ac\\u20ac\"],[1,\"\\u20ac\\u20ac\"],[1,\"\\u20ac\\u20ac\"],[1,\"\\u20ac\\u20ac\"],[1,\"\\u20ac\\u20ac\"],[1,\"\\u20ac\\u20ac\"],[1,\"\\u20ac\\u20ac\"],[1,\"\\u20ac\\u20ac\"],[1,\"\\u20ac\\u20ac\"],[1,\"\\u20ac\\u20ac\"],[1,\"\\u20ac\\u20ac\"],[1,\"\\u20ac\\u20ac\"],[1,\"\\u20ac\\u20ac\"],[1,\"\\u20ac\\u20ac\"],[1,\"\\u20ac\\u20ac\"],[1,\"\\u20ac\\u20ac\"],[1,\"\\u20ac\\u20ac\"],[1,\"\\u20ac\\u20ac\"],[1,\"\\u20ac\\u20ac\"],[1,\"\\u20ac\\u20ac\"],[1,\"\\u20ac\\u20ac\"],[1,\"\\u20ac\\u20ac\"],[1,\"\\u20ac\\u20ac\"],[1,\"\\u20ac\\u20ac\"],[1,\"\\u20ac\\u20ac\"],[1,\"\\u20ac\\u20ac\"],[1,\"\\u20ac\\u20ac\"],[1,\"\\u20ac\\u20ac\"],[1,\"\\u20ac\\u20ac\"],[1,\"\\u20ac\\u20ac\"],[1,\"\\u20ac\\u20ac\"],[1,\"\\u20ac\\u20ac\"],[1,\"\\u20ac\\u20ac\"],[1,\"\\u20ac\\u20ac\"],[1,\"\\u20ac\\u20ac\"],[1,\"\\u20ac\\u20ac\"],[1,\"\\u20ac\\u20ac\"],[1,\"\\u20ac\\u20ac\"],[1,\"\\u20ac\\u20ac\"],[1,\"\\u20ac\\u20ac\"],[1,\"\\u20ac\\u20ac\"],[1,\"\\u20ac\\u20ac\"],[1,\"\\u20ac\\u20ac\"],[1,\"\\u20ac\\u20ac\"],[1,\"\\u20ac\\u20ac\"],[1,\"\\u20ac\\u20ac\"],[1,\"\\u20ac\\u20ac\"],[1,\"\\u20ac\\u20ac\"],[1,\"\\u20ac\\u20ac\"],[1,\"\\u20ac\\u20ac\"],[1,\"\\u20ac\\u20ac\"],[1,\"\\u20ac\\u20ac\"],[1,\"\\u20ac\\u20ac\"],[1,\"\\u20ac\\u20ac\"],[1,\"\\u20ac\\u20ac\"],[1,\"\\u20ac\\u20ac\"],[1,\"\\u20ac\\u20ac\"],[1,\"\\u20ac\\u20ac\"],[1,\"\\u20ac\\u20ac\"],[1,\"\\u20ac\\u20ac\"],[1,\"\\u20ac\\u20ac\"],[1,\"\\u20ac\\u20ac\"],[1,\"\\u20ac\\u20ac\"],[1,\"\\u20ac\\u20ac\"],[1,\"\\u20ac\\u20ac\"],[1,\"\\u20ac\\u20ac\"],[1,\"\\u20ac\\u20ac\"],[1,\"\\u20ac\\u20ac\"],[1,\"\\u20ac\\u20ac\"],[1,\"\\u20ac\\u20ac\"],[1,\"\\u20ac\\u20ac\"],[1,\"\\u20ac\\u20ac\"],[1,\"\\u20ac\\u20ac\"],[1,\"\\u20ac\\u20ac\"],[1,\"\\u20ac\\u20ac\"],[1,\"\\u20ac\\u20ac\"],[1,\"\\u20ac\\u20ac\"],[1,\"\\u20ac\\u20ac\"],[1,\"\\u20ac\\u20ac\"],[1,\"\\u20ac\\u20ac\"],[1,\"\\u20ac\\u20ac\"],[1,\"\\u20ac\\u20ac\"],[1,\"\\u20ac\\u20ac\"],[1,\"\\u20ac\\u20ac\"],[1,\"\\u20ac\\u20ac\"],[1,\"\\u20ac\\u20ac\"],[1,\"\\u20ac\\u20ac\"],[1,\"\\u20ac\\u20ac\"],[1,\"\\u20ac\\u20ac\"],[1,\"\\u20ac\\u20ac\"],[1,\"\\u20ac\\u20ac\"],[1,\"\\u20ac\\u20ac\"],[1,\"\\u20ac\\u20ac\"],[1,\"\\u20ac\\u20ac\"],[1,\"\\u20ac\\u20ac\"],[1,\"\\u20ac\\u20ac\"],[1,\"\\u20ac\\u20ac\"],[1,\"\\u20ac\\u20ac\"],[1,\"\\u20ac\\u20ac\"],[1,\"\\u20ac\\u20ac\"],[1,\"\\u20ac\\u20ac\"],[1,\"\\u20ac\\u20ac\"],[1,\"\\u20ac\\u20ac\"],[1,\"\\u20ac\\u20ac\"],[1,\"\\u20ac\\u20ac\"]],\"hovertemplate\":\"\\u003cb\\u003e%{hovertext}\\u003c\\u002fb\\u003e\\u003cbr\\u003e\\u003cbr\\u003eprice_ranges=%{customdata[1]}\\u003cbr\\u003eadjusted_restaurant_count=%{marker.size}\\u003cbr\\u003elatitude=%{lat}\\u003cbr\\u003elongitude=%{lon}\\u003cbr\\u003erestaurant_count=%{customdata[0]}\\u003cextra\\u003e\\u003c\\u002fextra\\u003e\",\"hovertext\":[\"Ravenna\",\"Moena\",\"Grosseto\",\"Vieste\",\"Spilimbergo\",\"Bordighera\",\"loc. Perno\",\"Vodo di Cadore\",\"Termoli\",\"Teramo\",\"Torbole\",\"Spoleto\",\"Tivoli\",\"Rho\",\"Rivergaro\",\"Recco\",\"San Miniato\",\"Sal\\u00f2\",\"San Polo di Piave\",\"San Quirico d'Orcia\",\"Pantelleria\",\"Passignano sul Trasimeno\",\"Casale Monferrato\",\"Carpi\",\"Carloforte\",\"Oliena\",\"Monopoli\",\"Canelli\",\"Buttrio\",\"Pietra Ligure\",\"Mergozzo\",\"Cavour\",\"Cava de' Tirreni\",\"Madonna di Senales\",\"Marciana Marina\",\"Manfredonia\",\"Levanto\",\"Lipari\",\"Mantua\",\"Chieri\",\"Feltre\",\"Frascati\",\"Forl\\u00ec\",\"Fondi\",\"Acqualagna\",\"Adrara San Martino\",\"Agnone\",\"Adria\",\"sulla SP 34\",\"sestiere Dorsoduro 3778\",\"Abano Terme\",\"localit\\u00e0 Viadana\",\"localit\\u00e0 Peseggia di Scorz\\u00e8\",\"localit\\u00e0 Piano\",\"localit\\u00e0 Pontagna di Tem\\u00f9\",\"localit\\u00e0 Pr\\u00e0 delle Nasse\",\"localit\\u00e0 San Giorgio al Tagliamento\",\"localit\\u00e0 San Nicol\\u00f2\",\"Colognola ai Colli\",\"Contigliano\",\"Contrada Camerale di Tossiccia\",\"Barzago\",\"Asola\",\"Asolo\",\"Atrani\",\"Augusta\",\"Aversa\",\"Bacoli\",\"Badalucco\",\"Coriano Veronese\",\"Corte de' Cortesi\",\"Cortina Vecchia\",\"Crandola Valsassina\",\"Cremolino\",\"Cremona\",\"Crevalcore\",\"Clusone\",\"Col San Martino\",\"Fabbrico\",\"Fagagna\",\"Fara Filiorum Petri\",\"Crispiano\",\"Crotone\",\"C\\u00e9res\",\"Delebio\",\"Deruta\",\"Dogliani\",\"Dossobuono\",\"Corciano\",\"Citt\\u00e0 della Pieve\",\"Cividale del Friuli\",\"Civitavecchia\",\"Finale Ligure\",\"Foggia\",\"Foiana\",\"Follonica\",\"Dosson\",\"Drena\",\"Eboli\",\"Esine\",\"Frisanco\",\"Fidenza\",\"Fiera di Primiero\",\"Finale Emilia\",\"Chies d'Alpago\",\"Chiesa in Valmalenco\",\"Chieti\",\"Cicognolo\",\"Galeata\",\"Galliate\",\"Galluzzo\",\"Garbagnate Milanese\",\"Giarre\",\"Fontanafredda\",\"Forno di Zoldo\",\"Foss\\u00f2\",\"Framura\",\"Cervia\",\"Cetona\",\"Cherasco\",\"Chiaramonte Gulfi\",\"Grottaferrata\",\"Grumello del Monte\",\"Gualdo Cattaneo\",\"Isola Sant'Antonio\",\"Glorenza\",\"Celle Ligure\",\"Cercemaggiore\",\"Lapio\",\"Lavariano\",\"Illasi\",\"Isola Dovarese\",\"Lerici\",\"Lesa\",\"Lesina\",\"Levico Terme\",\"Lido di Savio\",\"L'Aquila\",\"Cecina\",\"Castelbuono\",\"Castelfranco Emilia\",\"Limito\",\"Limone Piemonte\",\"Loano\",\"Longiano\",\"Loro Ciuffenna\",\"Lucarelli\",\"Maglie\",\"Malnate\",\"Manciano\",\"Mandello del Lario\",\"Lignano Sabbiadoro\",\"Castrocaro Terme\",\"Cavagli\\u00e0\",\"Cavatore\",\"Manerba del Garda\",\"Marano Lagunare\",\"Marano di Valpolicella\",\"Maratea\",\"Mariano Comense\",\"Marina di Arbus\",\"Macchie\",\"Macerata\",\"Magliano Alfieri\",\"Magliano Sabina\",\"Mestre\",\"Miane\",\"Marina di Casal Velino\",\"Marina di Cecina\",\"Marina di Massa\",\"Marina di Pulsano\",\"Marina di San Vito\",\"Marotta\",\"Castelnovo di Sotto\",\"Castelvetro di Modena\",\"Castiglione Falletto\",\"Casalgrande\",\"Mondov\\u00ec\",\"Monfalcone\",\"Mercenasco\",\"Mese\",\"Montegridolfo\",\"Montegrosso\",\"Mira\",\"Moirago\",\"Monastier di Treviso\",\"Castellammare del Golfo\",\"Castelletto di Brenzone\",\"Castelletto sopra Ticino\",\"Castelmezzano\",\"Bagnara Calabra\",\"Bagni 70\",\"Aprica\",\"Apricena\",\"Arabba\",\"Arborea\",\"Ardenza\",\"Montefalco\",\"Monterotondo\",\"Montescudaio\",\"Monticelli Brusati\",\"Monticelli d'Ongina\",\"Montone\",\"Monselice\",\"Montallegro\",\"Castel Mella\",\"Castel Toblino\",\"Caprino Veronese\",\"Morimondo\",\"Mornago\",\"Morrano Nuovo\",\"Mortegliano\",\"Montemarcello\",\"Montopoli in Val d'Arno\",\"Mont\\u00f9 Beccaria\",\"Morciano di Romagna\",\"Moretta\",\"Castagnito d'Alba\",\"Castagnole Piemonte\",\"Orbassano\",\"Orbetello\",\"Ne\",\"Negrar\",\"Nerviano\",\"Nettuno\",\"Nibbiaia\",\"Canale d'Agordo\",\"Osio Sotto\",\"Ossana\",\"Otranto\",\"Oviglio\",\"Noventa\",\"Offanengo\",\"Offida\",\"Olevano Romano\",\"Olivola\",\"Palmi\",\"Panicale\",\"Panzano\",\"Paradiso di Pocenia\",\"Cardano\",\"Carona\",\"Carsoli\",\"Cartosio\",\"Pergine Valsugana\",\"Perignano\",\"Pescocostanzo\",\"Palaia\",\"Palazzo San Gervasio\",\"Palazzolo Acreide\",\"Capriate San Gervasio\",\"Pfalzen\",\"Pianiga\",\"Piazza Armerina\",\"Pieve Ligure\",\"Pieve di Cento\",\"Pieve di Coriano\",\"Pineto\",\"Pastrengo\",\"Pedraces\",\"Pizzighettone\",\"Pizzo\",\"Podenzano\",\"Poggiridenti\",\"Pollenzo\",\"Pomezia\",\"Candia Canavese\",\"Capannori\",\"Capolago\",\"Capoterra\",\"Caprarola\",\"Ponte\",\"Popoli\",\"Porcia\",\"Piombino\",\"Pisa\",\"Pisciotta\",\"Pitigliano\",\"Rapolano Terme\",\"Portoscuso\",\"Postal\",\"Pozzolo Formigaro\",\"Campagnola Cremasca\",\"Brentonico\",\"Brez\",\"Quarona\",\"Quartiere di Portomaggiore\",\"Quarto d'Altino\",\"Quero\",\"Rabl\\u00e0\",\"Racale\",\"Reggio Calabria\",\"Reggio Emilia\",\"Rende\",\"Revere\",\"Revigliasco\",\"Revine\",\"Caiolo\",\"Cala Gonone\",\"Calamandrana\",\"Caldogno\",\"Calestano\",\"Caltanissetta\",\"Caltignaga\",\"Riomaggiore\",\"Riva di Solto\",\"Rivalta Trebbia\",\"Rivanazzano Terme\",\"Rivarolo Canavese\",\"Rivoli\",\"Robbio\",\"Roccaraso\",\"Rocella Jonica\",\"Ravalle\",\"Raveo\",\"Roseto degli Abruzzi\",\"Ruffano\",\"SS 120 km 187\",\"Rieti\",\"Ascoli Piceno\",\"Altare\",\"Altomonte\",\"Andria\",\"Annone Veneto\",\"Anterivo\",\"San Bartolomeo al Mare\",\"San Bonifacio\",\"San Genesio Atesino\",\"San Giorgio del Sannio\",\"San Giovanni al Natisone\",\"San Giovanni in Persiceto\",\"Saint Lorenzen\",\"Saint-Christophe\",\"San Marzano Oliveto\",\"San Marzano di San Giuseppe\",\"San Pellegrino\",\"San Casciano in Val di Pesa\",\"San Desiderio\",\"San Don\\u00e0 di Piave\",\"Brusson\",\"Busca\",\"Bodio Lomnago\",\"Bolzone\",\"Borgio Verezzi\",\"Borgo Vercelli\",\"San Vito lo Capo\",\"Sandrigo\",\"Sanluri\",\"San Leone\",\"Santa Vittoria d'Alba\",\"San Severino Marche\",\"San Severo\",\"San Vigilio\",\"San Vigilio di Marebbe\",\"Brione\",\"Savigno\",\"Savogna d'Isonzo\",\"Sant'Antonio Abate\",\"Santa Maria Maggiore\",\"Santa Maria del Monte\",\"Santa Maria della Versa\",\"Santa Maria di Sala\",\"Santa Marina Salina\",\"Santa Reparata\",\"Santa Teresa Gallura\",\"Selva Malvezzi\",\"Senago\",\"Serravalle Langhe\",\"Sesto San Giovanni\",\"Sarche di Madruzzo\",\"Sarre\",\"Sassari\",\"Bellinzago Lombardo\",\"Besenzone\",\"Bettolle\",\"Soragna\",\"Sorico\",\"Sorni\",\"Sciacca\",\"Sclafani Bagni\",\"Scorrano\",\"Suna\",\"Suvereto\",\"Sestri Ponente\",\"Settequerce\",\"Sirolo\",\"Sizzano\",\"Somma Lombardo\",\"Boves\",\"Tarquinia\",\"Tavagnacco\",\"Tavernerio\",\"Termeno sulla Strada del Vino\",\"Terni\",\"Spirano\",\"Sulmona\",\"Barco\",\"Toceno\",\"Todi\",\"Torano Nuovo\",\"Torbiato\",\"Torrechiara\",\"Taranto\",\"Treia\",\"Trequanda\",\"Bibbiena\",\"Bientina\",\"Bigolino\",\"Troia\",\"Umbertide\",\"Urbino\",\"Vairano Patenora\",\"Valledoria\",\"Torriana\",\"Toscolano-Maderno\",\"Trebaseleghe\",\"Vicopisano\",\"Vallo della Lucania\",\"Valmontone\",\"Vandoies di Sopra\",\"Varallo\",\"Varenna\",\"Vedole\",\"Vello\",\"Velo Veronese\",\"Trezzano sul Naviglio\",\"Anzola dell'Emilia\",\"Appiano Gentile\",\"Appignano\",\"sestiere San Marco 4346\\u002fa\",\"stazione a monte della funivia Col Margherita\",\"Vittorio Veneto\",\"Voghera\",\"Verbania\",\"Vetrego\",\"bivio per Volpara\",\"borgo Mercato\",\"contrada San Vincenzo\",\"fraz. Molino Isella\",\"frazione Castel Ratti\",\"frazione Cressogno\",\"frazione San Carlo\",\"frazione San Rocco\",\"frazione Tret\",\"lago di Velo d'Astico\",\"Vignola\",\"localit\\u00e0 Sirmiano Sopra\",\"localit\\u00e0 Struppa\",\"localit\\u00e0 Tiboldi\",\"localit\\u00e0 Torre del Colle\",\"loc. Pinzago\",\"loc. Ponte di Serravalle\",\"loc. Aci Trezza\",\"loc. Casabianca\",\"loc. Chiugiana\",\"loc. Montagna in Valtellina\",\"loc. Mottinello Nuovo\",\"Barcuzzi\",\"loc. Sesto di Moriano\",\"localit\\u00e0 Abbadia Isola\",\"localit\\u00e0 Barbuzzera\",\"localit\\u00e0 Borgo Grappa\",\"localit\\u00e0 Bornio\",\"localit\\u00e0 Capuccina\",\"localit\\u00e0 Col de Soldai\",\"localit\\u00e0 Colombaio Tozzi\",\"localit\\u00e0 Durna in Selva\",\"localit\\u00e0 Fibbianello\",\"localit\\u00e0 Ficogrande\",\"localit\\u00e0 Guallina\",\"localit\\u00e0 Maggianico\",\"localit\\u00e0 Marcemigo\",\"localit\\u00e0 Mazzano\",\"Albairate\",\"Albar\\u00e8 di Costermano\",\"Aldino\",\"Alserio\",\"Crema\",\"Alessandria\",\"400 - regione Li Lioni\",\"sestiere Cannaregio 3628\"],\"lat\":[44.418441,46.37669469999999,42.7635468,41.8818815,46.1113242,43.7796022,44.6149715,46.4194331,41.99908569999999,42.6611431,45.8778429,42.7404881,41.9597095,45.5326439,44.9114969,44.36246939999999,43.6829641,45.60839199999999,45.7900863,43.0580637,36.832037,43.18743750000001,45.1349543,44.7839179,39.14473419999999,40.2763402,40.9525166,44.7195561,46.0153937,44.1486909,45.9617595,44.7906407,40.7037848,46.7220027,42.8042842,41.6299852,44.16956649999999,38.4936623,45.1563425,45.013725,46.0208375,41.808434,44.222008,41.3557514,43.6194948,45.6995837,41.8086342,45.0555487,42.2261894,45.4360836,45.3621359,45.3709613,45.5624106,41.9214358,46.25254210000001,46.2626183,45.782409,45.0521767,45.4343959,42.4121165,42.5574491,45.7554463,45.2209079,45.7990387,40.6357929,37.2500684,40.9731044,40.7991137,43.915924,45.4383659,45.2731438,44.388165,46.0225702,44.6366114,45.1333135,44.7200288,45.8898699,45.8943047,44.8710591,46.1131324,42.2473222,40.6055583,39.0807848,45.3137209,46.1375506,42.98205979999999,44.5320498,45.3936669,43.1289408,42.9536249,46.095896,42.09231219999999,44.1741579,41.4623132,46.58803899999999,42.9247231,45.6365281,45.970053,40.6153626,45.9256174,46.2124898,44.8649666,46.1757686,44.8322384,46.1654756,46.2688908,42.3479367,45.1641598,43.9981346,45.4785452,43.7384547,45.5760975,37.72698510000001,45.9723042,46.3459419,45.3856474,44.2034483,44.2611298,42.966838,44.6476518,37.0317966,41.7890829,45.63599370000001,42.9107653,45.0289334,46.6706,44.3425442,41.4614668,40.9802943,45.956012,45.4679787,45.1754752,44.0755506,45.8241629,41.8627993,46.0116173,44.30440180000001,42.350697,43.3085272,37.9321128,44.5951228,45.4829255,44.2018084,44.1261565,44.07443780000001,43.5881794,43.5182335,40.117872,45.797152,42.5882458,45.91785609999999,45.6684111,44.1721801,45.40598610000001,44.6308515,45.5605283,45.7650819,45.5566179,39.998521,45.6983276,39.5999341,43.0563562,43.2984479,44.7672044,42.3615602,45.4934881,45.9417728,40.1766499,43.3008257,44.0093274,40.3494142,42.3054266,43.767771,44.8113655,44.50436089999999,44.6235984,44.5881108,44.3956154,45.8092662,45.3560665,46.30513510000001,43.8586105,44.8199368,45.4335561,45.3695439,45.650244,38.0264765,45.6865805,45.71474329999999,40.5291498,38.28644329999999,44.0014964,46.1540031,41.7851686,46.497167,39.77342489999999,43.51703060000001,42.8876844,42.055049,43.3260399,45.632119,45.0890929,43.3623899,45.23910290000001,37.3912043,45.49606499999999,46.0547349,45.60636050000001,45.3531811,45.7468047,42.7741956,45.944766,44.0459155,43.6765113,45.03790130000001,43.9138102,44.7629928,44.7541143,44.8989176,45.0057864,42.4405251,44.3549765,45.5306247,45.5535754,41.4573,43.464402,46.3591233,45.6202861,46.3070135,40.1441077,44.8607313,45.6611821,45.3794292,42.9366796,41.8598557,45.03636520000001,38.3575832,43.02920020000001,43.5442654,45.8686295,46.49327,46.021592,42.0989771,44.5919376,46.06387489999999,43.6033492,41.8902076,43.6054381,40.93083439999999,37.0616499,45.6224621,46.8115477,45.45609200000001,37.3856182,44.3742364,44.7149051,45.03344250000001,42.6090025,45.4922202,46.6158218,45.1856033,38.7336489,44.957373,46.173549,44.6867594,41.6693249,45.3280918,43.8460411,45.7938064,39.178883,42.3236181,41.2152521,42.1714095,45.9603256,42.9255951,43.72283849999999,40.1089413,42.6342756,43.28686,39.2054578,46.6097341,44.7944001,45.39795669999999,45.81853,46.4310502,45.7616709,44.69798110000001,45.5808253,45.9207295,46.6714499,39.9585702,38.1109851,44.70309659999999,39.3317741,45.0502684,45.0200685,46.0000242,46.15076579999999,40.2803536,44.7367404,45.6107171,44.6008708,37.4900647,45.5185405,44.1001801,45.7748523,44.9523688,44.9273117,45.3319546,45.07046080000001,45.289212,41.8471801,38.3219681,44.9271284,46.4338946,42.6785194,39.9830498,37.8151306,42.4045985,42.8541038,44.33611699999999,39.69848169999999,41.226687,45.7940571,46.2774891,43.9219078,45.4005247,46.5348643,41.0627934,45.9726985,44.641109,46.7830469,45.7458883,44.7532769,40.4507202,45.83728989999999,43.65834359999999,44.4191419,45.63029820000001,45.7581315,44.5161936,45.7891621,45.3336576,44.1597284,45.3578227,38.1759419,45.6593077,39.5629542,37.263345,44.6988366,43.2299335,41.6849729,46.7021384,46.7021384,45.6385842,44.3934295,45.9027001,40.7218566,46.13388,45.8593103,44.9870717,45.5047057,38.55921379999999,41.2269243,41.242217,44.5559231,45.57638679999999,44.55823780000001,45.5287282,46.0471114,45.7175427,40.7258034,45.5387677,44.9872701,43.2070528,44.9286446,46.17228180000001,46.1744063,37.50867530000001,37.8216018,40.0932757,45.9309209,43.0766484,44.4276588,46.51140470000001,43.5181981,45.5754365,45.682787,44.32986529999999,42.2506227,46.1274647,45.8005487,46.3409456,42.5604522,45.5818324,42.0512604,44.68554049999999,46.1443449,42.7810961,42.8239751,45.6115068,44.6592789,40.4622052,43.311256,43.1878257,43.6968572,43.7095473,45.86949020000001,41.36359119999999,43.3064268,43.726375,41.3359912,40.9287593,43.9850466,45.6368065,45.5915693,43.6831995,40.2305213,41.7746888,46.8146891,45.8144736,46.0099989,44.9231889,45.7543604,45.6066679,45.422923,44.5461641,45.7348094,43.3632547,45.4341499,46.3775463,45.9874333,44.9917543,45.9282422,45.4562091,44.9538444,44.34800630000001,43.0987731,45.26518170000001,44.722881,46.0245621,44.0921416,44.7570433,46.4787124,45.79192279999999,44.4780791,46.53657490000001,44.4504253,44.516449,42.944679,46.7075176,43.8954884,37.5615555,45.9356337,43.1063919,46.1785803,45.688963,45.4886517,43.9176177,43.3879013,45.3821338,41.3914293,45.9463133,43.4777091,46.2563324,44.7395655,46.7684446,42.7026579,38.8062483,45.2511,45.8259029,45.5187163,45.5188925,45.4221851,45.5713111,46.3675258,45.78085189999999,45.3643538,44.9072727,40.8066536,45.4437795],\"legendgroup\":\"\\u20ac\\u20ac\",\"lon\":[12.2034957,11.6599965,11.1123865,16.1733917,12.8983218,7.670155899999998,7.9778168,12.2472596,14.9903791,13.6986639,10.8908849,12.7378003,12.8021341,9.0396439,9.5978795,9.144402,10.8551196,10.5104769,12.3946532,11.6070233,11.9439104,12.1344807,8.4506398,10.8797139,8.3037269,9.4020886,17.2985559,8.2862882,13.3326718,8.282829,8.4446011,7.3752557,14.7039581,10.860739,10.1996038,15.9173139,9.6137063,14.9272044,10.7914387,7.8231364,11.8999361,12.6761326,12.0408666,13.4292739,12.6733324,9.946338,14.3740682,12.0560381,12.9409854,12.3250791,11.7902354,10.3410346,12.1853525,15.8363687,10.4867733,11.7956963,12.976383,9.6081844,11.186705,12.7692088,13.6418791,9.316491,10.4159001,11.9138781,14.6086202,15.2216971,14.2078473,14.077327,7.847741699999999,10.9917136,10.007155,12.0362766,9.3788887,8.5864807,10.0227044,11.148594,9.9450674,12.0857142,10.8061757,13.0844749,14.1842514,17.2288771,17.127163,7.388651399999999,9.4585359,12.4165537,7.9498122,10.9142396,12.2859766,12.0054047,13.4274865,11.7955319,8.3537927,15.5447402,11.1465025,10.7642278,12.2552843,10.9465026,15.0584028,10.2493838,12.7264489,10.0618418,11.8283805,11.2912432,12.392961,9.8497105,14.1636412,10.1958503,11.9115145,8.693381,11.223636,9.0803186,15.1842151,12.5705578,12.1764254,12.0484134,9.5558774,12.3453001,11.9025644,7.858188199999999,14.7023276,12.6697243,9.8719947,12.5559234,8.8498883,10.5529306,8.5450705,14.7241568,14.9487361,13.2249137,11.1801905,10.312156,9.9169799,8.5602412,15.3531516,11.301007,12.343524,13.399934,10.51886,14.0887139,11.0523261,9.334504,7.5767373,8.2558714,12.3269211,11.627179,11.3115548,18.298862,8.882736099999999,11.5193711,9.3202344,13.103971,11.9479483,8.0941323,8.4525717,10.5606814,13.1676148,10.9161206,15.7183263,9.1770665,8.4717177,12.0757964,13.4556559,8.068823799999999,12.481095,12.2463181,12.0899497,15.1221837,10.4965683,10.1007261,17.3750685,14.4500488,13.1389184,10.5635548,10.9440345,7.9777493,10.737496,7.818649,13.5320705,7.882217399999999,9.3811536,12.6873245,8.2359592,12.1232026,9.1369174,12.433211,12.8811764,10.7495339,8.645234799999999,16.0451076,15.8025652,12.6644756,10.1526188,15.4445937,11.8737721,8.582382599999999,10.3207421,12.6507788,12.6203361,10.6264577,10.089057,9.9302728,12.3273912,11.74971,13.3505187,10.1442241,10.9672917,10.7950804,8.9555618,8.7538318,12.1370912,13.1724037,9.9653701,10.7382568,9.3132676,12.6453613,7.536947499999999,8.0318951,7.5655191,7.535366199999999,11.2144226,9.3904975,10.9383326,8.9708086,12.6608412,10.4165693,11.914404,9.584221,10.737311,18.4912117,8.4853028,12.5293824,9.7423659,13.6930175,13.0315677,8.3678329,15.843886,12.1000937,11.3154538,13.1455843,11.3925923,9.7855186,13.0861505,8.4200096,11.2422017,10.5872857,14.0656002,10.7755176,15.9805135,14.9044716,9.5274678,11.8832233,12.0304603,14.3705567,9.085244800000002,11.3040337,11.1069858,14.0666058,10.7997042,11.8936569,9.7913306,16.1612313,9.6815706,9.9293083,7.896057300000001,12.5023356,7.8872502,10.5737909,8.8075273,8.970955499999999,12.2430942,14.698992,13.8321941,12.6136783,10.5259535,10.4017581,15.2337292,11.6704739,11.6043844,8.3797975,11.1923601,8.784021,9.6692639,10.9532032,11.1070072,8.2685657,11.8060441,12.3707315,11.9307558,11.0624031,18.0941716,15.6478516,10.6346153,16.1844986,11.1305372,7.733853099999998,12.256792,9.818557,9.6271755,8.336407600000001,11.5009902,10.1214827,14.0631576,8.589729499999999,9.7376008,10.039862,9.5865829,9.0143248,7.7231111,7.5198702,8.5938211,14.0796648,16.405068,11.5127316,12.8722761,14.0135877,18.2489384,14.4956135,12.8567824,13.5688164,8.3411589,16.1289488,16.2980507,12.6849045,11.3667552,8.1032481,11.2785197,11.3298975,14.8534628,13.3980221,11.1844712,11.9023314,7.3585955,8.295999,17.5079239,9.6637016,11.1884084,9.0059861,12.5660375,7.729476200000001,7.478056199999998,8.7498898,9.6614593,8.3074754,8.466491,12.7335733,11.6029498,8.8997689,13.5870802,7.932175999999998,13.1801076,15.3791848,11.9317771,11.9317771,10.1497624,11.0756697,13.5722171,14.5430176,8.4594798,8.7931809,9.3005587,12.0345597,14.8715681,9.1691413,9.1892168,11.6286717,9.1261241,8.0596215,9.23721,10.9523964,7.257393200000001,8.5557334,9.447911500000002,9.9539888,11.802235,10.121868,9.3801788,11.1236373,13.0782746,13.8545871,18.3003345,8.540309299999999,10.6783748,8.8528164,11.2661069,13.6207004,8.435911299999999,8.7104888,7.552238,11.7557586,13.2109516,9.1507576,11.2394697,12.6470618,9.6705488,13.9277644,10.4909104,8.4665913,12.4066357,13.7766081,9.9849948,10.2807553,17.2689165,13.3124511,11.6676629,11.8163253,10.6196393,12.0103109,15.3134682,12.32869,12.6362563,14.126901,8.8251787,12.3856155,10.6051948,12.0512021,10.5756037,15.2652465,12.9212582,11.743396,8.254354,9.2838167,10.3585282,10.0823995,11.0960184,9.0623983,11.1928377,8.9848281,13.3467442,12.3320092,11.8019993,12.2999259,9.011851,8.5553058,12.1023834,9.2972049,7.507006199999999,10.5390444,8.925360399999999,8.9495998,9.0727525,12.1928021,7.946662,11.1380654,11.3504528,11.0079796,11.1919387,9.0101299,8.4034469,12.5762788,11.6390488,10.8218679,15.1574868,12.8712564,12.308078,9.8990267,11.8046659,10.4917437,10.526329,11.1941241,9.5248076,12.9475056,10.1992526,11.0243478,11.810331,7.9049443,12.1793707,11.5306016,15.2386796,8.791277299999999,9.419594,11.1596389,10.3547624,8.9356177,10.7569526,11.3540176,9.199703,9.682427,8.6116796,8.4305886,12.334896],\"marker\":{\"color\":\"#B6E880\",\"size\":[150,150,150,100,100,100,100,100,100,100,100,100,100,100,100,100,100,100,100,100,100,100,100,100,100,100,100,100,100,100,100,100,100,100,100,100,100,100,100,100,100,100,100,100,50,50,50,50,50,50,50,50,50,50,50,50,50,50,50,50,50,50,50,50,50,50,50,50,50,50,50,50,50,50,50,50,50,50,50,50,50,50,50,50,50,50,50,50,50,50,50,50,50,50,50,50,50,50,50,50,50,50,50,50,50,50,50,50,50,50,50,50,50,50,50,50,50,50,50,50,50,50,50,50,50,50,50,50,50,50,50,50,50,50,50,50,50,50,50,50,50,50,50,50,50,50,50,50,50,50,50,50,50,50,50,50,50,50,50,50,50,50,50,50,50,50,50,50,50,50,50,50,50,50,50,50,50,50,50,50,50,50,50,50,50,50,50,50,50,50,50,50,50,50,50,50,50,50,50,50,50,50,50,50,50,50,50,50,50,50,50,50,50,50,50,50,50,50,50,50,50,50,50,50,50,50,50,50,50,50,50,50,50,50,50,50,50,50,50,50,50,50,50,50,50,50,50,50,50,50,50,50,50,50,50,50,50,50,50,50,50,50,50,50,50,50,50,50,50,50,50,50,50,50,50,50,50,50,50,50,50,50,50,50,50,50,50,50,50,50,50,50,50,50,50,50,50,50,50,50,50,50,50,50,50,50,50,50,50,50,50,50,50,50,50,50,50,50,50,50,50,50,50,50,50,50,50,50,50,50,50,50,50,50,50,50,50,50,50,50,50,50,50,50,50,50,50,50,50,50,50,50,50,50,50,50,50,50,50,50,50,50,50,50,50,50,50,50,50,50,50,50,50,50,50,50,50,50,50,50,50,50,50,50,50,50,50,50,50,50,50,50,50,50,50,50,50,50,50,50,50,50,50,50,50,50,50,50,50,50,50,50,50,50,50,50,50,50,50,50,50,50,50,50,50,50,50,50,50,50,50,50,50,50,50,50,50,50,50,50,50,50,50,50,50,50,50,50,50,50,50,50,50,50,50,50,50,50,50,50,50,50,50,50,50,50,50,50,50,50,50,50,50,50,50,50,50,50,50,50,50],\"sizemode\":\"area\",\"sizeref\":0.435},\"mode\":\"markers\",\"name\":\"\\u20ac\\u20ac\",\"showlegend\":true,\"subplot\":\"mapbox\",\"type\":\"scattermapbox\"},{\"customdata\":[[3,\"\\u20ac\\u20ac\\u20ac\"],[3,\"\\u20ac\\u20ac\\u20ac\"],[3,\"\\u20ac\\u20ac\\u20ac\"],[3,\"\\u20ac\\u20ac\\u20ac\"],[2,\"\\u20ac\\u20ac\\u20ac\"],[2,\"\\u20ac\\u20ac\\u20ac\"],[2,\"\\u20ac\\u20ac\\u20ac\"],[2,\"\\u20ac\\u20ac\\u20ac\"],[2,\"\\u20ac\\u20ac\\u20ac\"],[2,\"\\u20ac\\u20ac\\u20ac\"],[2,\"\\u20ac\\u20ac\\u20ac\"],[2,\"\\u20ac\\u20ac\\u20ac\"],[2,\"\\u20ac\\u20ac\\u20ac\"],[2,\"\\u20ac\\u20ac\\u20ac\"],[2,\"\\u20ac\\u20ac\\u20ac\"],[2,\"\\u20ac\\u20ac\\u20ac\"],[2,\"\\u20ac\\u20ac\\u20ac\"],[2,\"\\u20ac\\u20ac\\u20ac\"],[2,\"\\u20ac\\u20ac\\u20ac\"],[2,\"\\u20ac\\u20ac\\u20ac\"],[2,\"\\u20ac\\u20ac\\u20ac\"],[2,\"\\u20ac\\u20ac\\u20ac\"],[2,\"\\u20ac\\u20ac\\u20ac\"],[2,\"\\u20ac\\u20ac\\u20ac\"],[1,\"\\u20ac\\u20ac\\u20ac\"],[1,\"\\u20ac\\u20ac\\u20ac\"],[1,\"\\u20ac\\u20ac\\u20ac\"],[1,\"\\u20ac\\u20ac\\u20ac\"],[1,\"\\u20ac\\u20ac\\u20ac\"],[1,\"\\u20ac\\u20ac\\u20ac\"],[1,\"\\u20ac\\u20ac\\u20ac\"],[1,\"\\u20ac\\u20ac\\u20ac\"],[1,\"\\u20ac\\u20ac\\u20ac\"],[1,\"\\u20ac\\u20ac\\u20ac\"],[1,\"\\u20ac\\u20ac\\u20ac\"],[1,\"\\u20ac\\u20ac\\u20ac\"],[1,\"\\u20ac\\u20ac\\u20ac\"],[1,\"\\u20ac\\u20ac\\u20ac\"],[1,\"\\u20ac\\u20ac\\u20ac\"],[1,\"\\u20ac\\u20ac\\u20ac\"],[1,\"\\u20ac\\u20ac\\u20ac\"],[1,\"\\u20ac\\u20ac\\u20ac\"],[1,\"\\u20ac\\u20ac\\u20ac\"],[1,\"\\u20ac\\u20ac\\u20ac\"],[1,\"\\u20ac\\u20ac\\u20ac\"],[1,\"\\u20ac\\u20ac\\u20ac\"],[1,\"\\u20ac\\u20ac\\u20ac\"],[1,\"\\u20ac\\u20ac\\u20ac\"],[1,\"\\u20ac\\u20ac\\u20ac\"],[1,\"\\u20ac\\u20ac\\u20ac\"],[1,\"\\u20ac\\u20ac\\u20ac\"],[1,\"\\u20ac\\u20ac\\u20ac\"],[1,\"\\u20ac\\u20ac\\u20ac\"],[1,\"\\u20ac\\u20ac\\u20ac\"],[1,\"\\u20ac\\u20ac\\u20ac\"],[1,\"\\u20ac\\u20ac\\u20ac\"],[1,\"\\u20ac\\u20ac\\u20ac\"],[1,\"\\u20ac\\u20ac\\u20ac\"],[1,\"\\u20ac\\u20ac\\u20ac\"],[1,\"\\u20ac\\u20ac\\u20ac\"],[1,\"\\u20ac\\u20ac\\u20ac\"],[1,\"\\u20ac\\u20ac\\u20ac\"],[1,\"\\u20ac\\u20ac\\u20ac\"],[1,\"\\u20ac\\u20ac\\u20ac\"],[1,\"\\u20ac\\u20ac\\u20ac\"],[1,\"\\u20ac\\u20ac\\u20ac\"],[1,\"\\u20ac\\u20ac\\u20ac\"],[1,\"\\u20ac\\u20ac\\u20ac\"],[1,\"\\u20ac\\u20ac\\u20ac\"],[1,\"\\u20ac\\u20ac\\u20ac\"],[1,\"\\u20ac\\u20ac\\u20ac\"],[1,\"\\u20ac\\u20ac\\u20ac\"],[1,\"\\u20ac\\u20ac\\u20ac\"],[1,\"\\u20ac\\u20ac\\u20ac\"],[1,\"\\u20ac\\u20ac\\u20ac\"],[1,\"\\u20ac\\u20ac\\u20ac\"],[1,\"\\u20ac\\u20ac\\u20ac\"],[1,\"\\u20ac\\u20ac\\u20ac\"],[1,\"\\u20ac\\u20ac\\u20ac\"],[1,\"\\u20ac\\u20ac\\u20ac\"],[1,\"\\u20ac\\u20ac\\u20ac\"],[1,\"\\u20ac\\u20ac\\u20ac\"],[1,\"\\u20ac\\u20ac\\u20ac\"],[1,\"\\u20ac\\u20ac\\u20ac\"],[1,\"\\u20ac\\u20ac\\u20ac\"],[1,\"\\u20ac\\u20ac\\u20ac\"],[1,\"\\u20ac\\u20ac\\u20ac\"],[1,\"\\u20ac\\u20ac\\u20ac\"],[1,\"\\u20ac\\u20ac\\u20ac\"],[1,\"\\u20ac\\u20ac\\u20ac\"],[1,\"\\u20ac\\u20ac\\u20ac\"],[1,\"\\u20ac\\u20ac\\u20ac\"],[1,\"\\u20ac\\u20ac\\u20ac\"],[1,\"\\u20ac\\u20ac\\u20ac\"],[1,\"\\u20ac\\u20ac\\u20ac\"],[1,\"\\u20ac\\u20ac\\u20ac\"],[1,\"\\u20ac\\u20ac\\u20ac\"],[1,\"\\u20ac\\u20ac\\u20ac\"],[1,\"\\u20ac\\u20ac\\u20ac\"],[1,\"\\u20ac\\u20ac\\u20ac\"],[1,\"\\u20ac\\u20ac\\u20ac\"],[1,\"\\u20ac\\u20ac\\u20ac\"],[1,\"\\u20ac\\u20ac\\u20ac\"],[1,\"\\u20ac\\u20ac\\u20ac\"],[1,\"\\u20ac\\u20ac\\u20ac\"],[1,\"\\u20ac\\u20ac\\u20ac\"],[1,\"\\u20ac\\u20ac\\u20ac\"],[1,\"\\u20ac\\u20ac\\u20ac\"],[1,\"\\u20ac\\u20ac\\u20ac\"],[1,\"\\u20ac\\u20ac\\u20ac\"],[1,\"\\u20ac\\u20ac\\u20ac\"],[1,\"\\u20ac\\u20ac\\u20ac\"],[1,\"\\u20ac\\u20ac\\u20ac\"],[1,\"\\u20ac\\u20ac\\u20ac\"],[1,\"\\u20ac\\u20ac\\u20ac\"],[1,\"\\u20ac\\u20ac\\u20ac\"],[1,\"\\u20ac\\u20ac\\u20ac\"],[1,\"\\u20ac\\u20ac\\u20ac\"],[1,\"\\u20ac\\u20ac\\u20ac\"],[1,\"\\u20ac\\u20ac\\u20ac\"],[1,\"\\u20ac\\u20ac\\u20ac\"],[1,\"\\u20ac\\u20ac\\u20ac\"],[1,\"\\u20ac\\u20ac\\u20ac\"],[1,\"\\u20ac\\u20ac\\u20ac\"],[1,\"\\u20ac\\u20ac\\u20ac\"],[1,\"\\u20ac\\u20ac\\u20ac\"],[1,\"\\u20ac\\u20ac\\u20ac\"],[1,\"\\u20ac\\u20ac\\u20ac\"],[1,\"\\u20ac\\u20ac\\u20ac\"],[1,\"\\u20ac\\u20ac\\u20ac\"],[1,\"\\u20ac\\u20ac\\u20ac\"],[1,\"\\u20ac\\u20ac\\u20ac\"],[1,\"\\u20ac\\u20ac\\u20ac\"],[1,\"\\u20ac\\u20ac\\u20ac\"],[1,\"\\u20ac\\u20ac\\u20ac\"],[1,\"\\u20ac\\u20ac\\u20ac\"],[1,\"\\u20ac\\u20ac\\u20ac\"],[1,\"\\u20ac\\u20ac\\u20ac\"],[1,\"\\u20ac\\u20ac\\u20ac\"],[1,\"\\u20ac\\u20ac\\u20ac\"],[1,\"\\u20ac\\u20ac\\u20ac\"],[1,\"\\u20ac\\u20ac\\u20ac\"],[1,\"\\u20ac\\u20ac\\u20ac\"],[1,\"\\u20ac\\u20ac\\u20ac\"],[1,\"\\u20ac\\u20ac\\u20ac\"],[1,\"\\u20ac\\u20ac\\u20ac\"],[1,\"\\u20ac\\u20ac\\u20ac\"],[1,\"\\u20ac\\u20ac\\u20ac\"],[1,\"\\u20ac\\u20ac\\u20ac\"],[1,\"\\u20ac\\u20ac\\u20ac\"],[1,\"\\u20ac\\u20ac\\u20ac\"],[1,\"\\u20ac\\u20ac\\u20ac\"],[1,\"\\u20ac\\u20ac\\u20ac\"],[1,\"\\u20ac\\u20ac\\u20ac\"],[1,\"\\u20ac\\u20ac\\u20ac\"],[1,\"\\u20ac\\u20ac\\u20ac\"],[1,\"\\u20ac\\u20ac\\u20ac\"],[1,\"\\u20ac\\u20ac\\u20ac\"],[1,\"\\u20ac\\u20ac\\u20ac\"],[1,\"\\u20ac\\u20ac\\u20ac\"],[1,\"\\u20ac\\u20ac\\u20ac\"],[1,\"\\u20ac\\u20ac\\u20ac\"],[1,\"\\u20ac\\u20ac\\u20ac\"],[1,\"\\u20ac\\u20ac\\u20ac\"],[1,\"\\u20ac\\u20ac\\u20ac\"],[1,\"\\u20ac\\u20ac\\u20ac\"],[1,\"\\u20ac\\u20ac\\u20ac\"],[1,\"\\u20ac\\u20ac\\u20ac\"],[1,\"\\u20ac\\u20ac\\u20ac\"],[1,\"\\u20ac\\u20ac\\u20ac\"],[1,\"\\u20ac\\u20ac\\u20ac\"],[1,\"\\u20ac\\u20ac\\u20ac\"],[1,\"\\u20ac\\u20ac\\u20ac\"],[1,\"\\u20ac\\u20ac\\u20ac\"],[1,\"\\u20ac\\u20ac\\u20ac\"],[1,\"\\u20ac\\u20ac\\u20ac\"],[1,\"\\u20ac\\u20ac\\u20ac\"],[1,\"\\u20ac\\u20ac\\u20ac\"],[1,\"\\u20ac\\u20ac\\u20ac\"],[1,\"\\u20ac\\u20ac\\u20ac\"],[1,\"\\u20ac\\u20ac\\u20ac\"],[1,\"\\u20ac\\u20ac\\u20ac\"],[1,\"\\u20ac\\u20ac\\u20ac\"],[1,\"\\u20ac\\u20ac\\u20ac\"],[1,\"\\u20ac\\u20ac\\u20ac\"],[1,\"\\u20ac\\u20ac\\u20ac\"],[1,\"\\u20ac\\u20ac\\u20ac\"],[1,\"\\u20ac\\u20ac\\u20ac\"],[1,\"\\u20ac\\u20ac\\u20ac\"],[1,\"\\u20ac\\u20ac\\u20ac\"],[1,\"\\u20ac\\u20ac\\u20ac\"],[1,\"\\u20ac\\u20ac\\u20ac\"],[1,\"\\u20ac\\u20ac\\u20ac\"],[1,\"\\u20ac\\u20ac\\u20ac\"],[1,\"\\u20ac\\u20ac\\u20ac\"],[1,\"\\u20ac\\u20ac\\u20ac\"],[1,\"\\u20ac\\u20ac\\u20ac\"],[1,\"\\u20ac\\u20ac\\u20ac\"],[1,\"\\u20ac\\u20ac\\u20ac\"],[1,\"\\u20ac\\u20ac\\u20ac\"],[1,\"\\u20ac\\u20ac\\u20ac\"],[1,\"\\u20ac\\u20ac\\u20ac\"],[1,\"\\u20ac\\u20ac\\u20ac\"],[1,\"\\u20ac\\u20ac\\u20ac\"],[1,\"\\u20ac\\u20ac\\u20ac\"],[1,\"\\u20ac\\u20ac\\u20ac\"],[1,\"\\u20ac\\u20ac\\u20ac\"],[1,\"\\u20ac\\u20ac\\u20ac\"],[1,\"\\u20ac\\u20ac\\u20ac\"],[1,\"\\u20ac\\u20ac\\u20ac\"],[1,\"\\u20ac\\u20ac\\u20ac\"],[1,\"\\u20ac\\u20ac\\u20ac\"],[1,\"\\u20ac\\u20ac\\u20ac\"],[1,\"\\u20ac\\u20ac\\u20ac\"],[1,\"\\u20ac\\u20ac\\u20ac\"],[1,\"\\u20ac\\u20ac\\u20ac\"],[1,\"\\u20ac\\u20ac\\u20ac\"],[1,\"\\u20ac\\u20ac\\u20ac\"],[1,\"\\u20ac\\u20ac\\u20ac\"],[1,\"\\u20ac\\u20ac\\u20ac\"],[1,\"\\u20ac\\u20ac\\u20ac\"],[1,\"\\u20ac\\u20ac\\u20ac\"],[1,\"\\u20ac\\u20ac\\u20ac\"],[1,\"\\u20ac\\u20ac\\u20ac\"],[1,\"\\u20ac\\u20ac\\u20ac\"],[1,\"\\u20ac\\u20ac\\u20ac\"],[1,\"\\u20ac\\u20ac\\u20ac\"],[1,\"\\u20ac\\u20ac\\u20ac\"],[1,\"\\u20ac\\u20ac\\u20ac\"],[1,\"\\u20ac\\u20ac\\u20ac\"],[1,\"\\u20ac\\u20ac\\u20ac\"],[1,\"\\u20ac\\u20ac\\u20ac\"],[1,\"\\u20ac\\u20ac\\u20ac\"],[1,\"\\u20ac\\u20ac\\u20ac\"],[1,\"\\u20ac\\u20ac\\u20ac\"],[1,\"\\u20ac\\u20ac\\u20ac\"],[1,\"\\u20ac\\u20ac\\u20ac\"],[1,\"\\u20ac\\u20ac\\u20ac\"],[1,\"\\u20ac\\u20ac\\u20ac\"],[1,\"\\u20ac\\u20ac\\u20ac\"],[1,\"\\u20ac\\u20ac\\u20ac\"],[1,\"\\u20ac\\u20ac\\u20ac\"],[1,\"\\u20ac\\u20ac\\u20ac\"],[1,\"\\u20ac\\u20ac\\u20ac\"],[1,\"\\u20ac\\u20ac\\u20ac\"],[1,\"\\u20ac\\u20ac\\u20ac\"],[1,\"\\u20ac\\u20ac\\u20ac\"],[1,\"\\u20ac\\u20ac\\u20ac\"],[1,\"\\u20ac\\u20ac\\u20ac\"],[1,\"\\u20ac\\u20ac\\u20ac\"],[1,\"\\u20ac\\u20ac\\u20ac\"],[1,\"\\u20ac\\u20ac\\u20ac\"],[1,\"\\u20ac\\u20ac\\u20ac\"],[1,\"\\u20ac\\u20ac\\u20ac\"],[1,\"\\u20ac\\u20ac\\u20ac\"],[1,\"\\u20ac\\u20ac\\u20ac\"],[1,\"\\u20ac\\u20ac\\u20ac\"],[1,\"\\u20ac\\u20ac\\u20ac\"],[1,\"\\u20ac\\u20ac\\u20ac\"],[1,\"\\u20ac\\u20ac\\u20ac\"],[1,\"\\u20ac\\u20ac\\u20ac\"],[1,\"\\u20ac\\u20ac\\u20ac\"],[1,\"\\u20ac\\u20ac\\u20ac\"],[1,\"\\u20ac\\u20ac\\u20ac\"],[1,\"\\u20ac\\u20ac\\u20ac\"],[1,\"\\u20ac\\u20ac\\u20ac\"],[1,\"\\u20ac\\u20ac\\u20ac\"],[1,\"\\u20ac\\u20ac\\u20ac\"],[1,\"\\u20ac\\u20ac\\u20ac\"],[1,\"\\u20ac\\u20ac\\u20ac\"],[1,\"\\u20ac\\u20ac\\u20ac\"],[1,\"\\u20ac\\u20ac\\u20ac\"],[1,\"\\u20ac\\u20ac\\u20ac\"],[1,\"\\u20ac\\u20ac\\u20ac\"],[1,\"\\u20ac\\u20ac\\u20ac\"],[1,\"\\u20ac\\u20ac\\u20ac\"],[1,\"\\u20ac\\u20ac\\u20ac\"],[1,\"\\u20ac\\u20ac\\u20ac\"],[1,\"\\u20ac\\u20ac\\u20ac\"],[1,\"\\u20ac\\u20ac\\u20ac\"],[1,\"\\u20ac\\u20ac\\u20ac\"],[1,\"\\u20ac\\u20ac\\u20ac\"]],\"hovertemplate\":\"\\u003cb\\u003e%{hovertext}\\u003c\\u002fb\\u003e\\u003cbr\\u003e\\u003cbr\\u003eprice_ranges=%{customdata[1]}\\u003cbr\\u003eadjusted_restaurant_count=%{marker.size}\\u003cbr\\u003elatitude=%{lat}\\u003cbr\\u003elongitude=%{lon}\\u003cbr\\u003erestaurant_count=%{customdata[0]}\\u003cextra\\u003e\\u003c\\u002fextra\\u003e\",\"hovertext\":[\"Sestri Levante\",\"Courmayeur\",\"Ortigia\",\"Monza\",\"Bassano del Grappa\",\"Borgonovo Val Tidone\",\"Varese\",\"Ponza\",\"Breuil Cervinia\",\"Rubiera\",\"San Felice del Benaco\",\"Polignano a Mare\",\"Porto Cervo\",\"Numana\",\"Padenghe sul Garda\",\"Bagno di Romagna\",\"Pietrasanta\",\"Marina di Pietrasanta\",\"Massa Lubrense\",\"Cerretto Langhe\",\"Gattinara\",\"Gabicce Monte\",\"Assisi\",\"localit\\u00e0 Villa a Sesta\",\"localit\\u00e0 Vighizzolo\",\"localit\\u00e0 Santa Lucia di Tar\\u00f9\",\"localit\\u00e0 Villa Maiella\",\"localit\\u00e0 Valle Sauglio\",\"localit\\u00e0 Valle\",\"localit\\u00e0 Montinelle\",\"localit\\u00e0 Plois alt. 870\",\"localit\\u00e0 Ponte di Ferro\",\"localit\\u00e0 Porticino\",\"localit\\u00e0 Rio San Martino\",\"localit\\u00e0 San Gaudenzio\",\"Cologne\",\"Baronissi\",\"Avezzano\",\"Cormons\",\"Clusane d'Iseo\",\"Codigoro\",\"Colle\",\"Collebeato\",\"Fasano\",\"Civitella del Lago\",\"Empoli\",\"Erbusco\",\"Este\",\"Gaeta\",\"Fiesole\",\"Finalborgo\",\"Chioggia\",\"Cima\",\"Genazzano\",\"Formello\",\"Fornace\",\"Fosdinovo\",\"Greve in Chianti\",\"Grezzana\",\"Grinzane Cavour\",\"Grottammare\",\"Gudon\",\"Isola d'Asti\",\"Isola dei Pescatori\",\"Issengo\",\"Jesolo\",\"Giulianova\",\"Civitella del Tronto\",\"Cermes\",\"Laigueglia\",\"Lainate\",\"Lallio\",\"Lancenigo\",\"Lavagna\",\"Gussago\",\"Induno Olona\",\"Iseo\",\"Le Ferriere\",\"Legnano\",\"Levizzano Rangone\",\"Lezzeno\",\"Lido di Camaiore\",\"Ladispoli\",\"Lomazzo\",\"Loreto\",\"Maiori\",\"Cavaion Veronese\",\"Cavallino\",\"Marina Di Campo\",\"Madesimo\",\"Marina di Bibbona\",\"Marina di Gioiosa Ionica\",\"Marina di Grosseto\",\"Marina di Pisa\",\"Marina di Ragusa\",\"Marlengo\",\"Marne\",\"Casanova di Terricciola\",\"Massa\",\"Menfi\",\"Messina\",\"Minervino di Lecce\",\"Molini\",\"Monte Sant'Angelo\",\"Montecarlo\",\"Ariccia\",\"Montemonaco\",\"Montepagano\",\"Moniga del Garda\",\"Montaldo Scarampi\",\"Castel San Pietro Terme\",\"Castel di Sangro\",\"Castelbianco\",\"Montemagno\",\"Montoro\",\"Mont\\u00e0\",\"Caserta\",\"Cassinetta di Lugagnano\",\"Casteggio\",\"Castel Gandolfo\",\"Castel Giorgio\",\"Oneglia\",\"Noci\",\"Ovada\",\"Noventa Padovana\",\"Oderzo\",\"Caravaggio\",\"Carpaneto Piacentino\",\"Canale\",\"Pegli\",\"Pella\",\"Pellio Intelvi\",\"Pennabilli\",\"Peschici\",\"Peschiera Borromeo\",\"Peschiera del Garda\",\"Pagazzano\",\"Palau\",\"Pallanza\",\"Busto Arsizio\",\"Pizzo Calabro\",\"Cannaregio\",\"Capodacqua\",\"Puegnago sul Garda\",\"Pontassieve\",\"Ponte San Pietro\",\"Ponte di Rialto\",\"Pontelongo\",\"Pontinia\",\"Piobesi d'Alba\",\"Ranco\",\"Rapallo\",\"Porto San Paolo\",\"Portonovo\",\"Pozza di Fassa\",\"Pozzolengo\",\"Priocca\",\"Pudiano\",\"Puos d'Alpago\",\"Putignano\",\"Quarto\",\"Quistello\",\"Caluso\",\"Calvisano\",\"Robbiate\",\"Ravarino\",\"Recanati\",\"Rodengo Saiano\",\"Rognano\",\"Roncade\",\"Rovato\",\"Ruda\",\"Riola Sardo\",\"Salgareda\",\"Arma di Taggia\",\"Arzignano\",\"Alzano Lombardo\",\"Ambivere\",\"San Fermo della Battaglia\",\"San Giuliano Milanese\",\"Saint-Vincent\",\"San Maurizio Canavese\",\"San Mauro a Mare\",\"San Piero in Bagno\",\"San Polo d'Enza\",\"San Cassiano\",\"Burano\",\"Borgo Prino\",\"San Vito Chietino\",\"San Zeno di Montagna\",\"San Giustino Valdarno\",\"San Quirino\",\"San Salvo Marina\",\"San Vincenzo\",\"Briaglia\",\"Brufa\",\"Sant'Omobono Terme\",\"Santa Maria di Castellabate\",\"Seggiano\",\"Sassetta\",\"Saturnia\",\"Somma Vesuviana\",\"Sorisole\",\"Scala\",\"Borgonato\",\"Brennero\",\"Termini Imerese\",\"Spoltore\",\"Squille\",\"Barate\",\"Torre del Greco\",\"Torre di Palme\",\"Torregrotta\",\"Treiso\",\"Trescore Balneario\",\"Tigliole\",\"Tisens\",\"Boccadasse\",\"Bagnolo\",\"Tropea\",\"Ugento\",\"Val Liona\",\"Vallesaccarda\",\"Torrita di Siena\",\"Trapani\",\"Valmadrera\",\"Varena\",\"Varigotti\",\"Vasto\",\"Afragola\",\"sestiere San Polo 1911\",\"sestiere di Castello 5911\",\"Villa Zarri\",\"Villa di Chiavenna\",\"Villandro\",\"Villar Dora\",\"Vinci\",\"Vipiteno\",\"Zafferana Etnea\",\"Vernante\",\"Viagrande\",\"Vibo Valentia Marina\",\"angolo via Tadino\",\"fraz. Scalvino\",\"Vigevano\",\"localit\\u00e0 Sorte\",\"localit\\u00e0 Spisone\",\"loc. Sant'Eustachio\",\"loc. Sarmeola\",\"angolo via Fiumara 2\",\"loc. Liscia di Vacca\",\"Bari\",\"sestiere Castello 4509\",\"sestiere Castello 5527\",\"sestiere Dorsoduro 19\",\"via del Costino\",\"localit\\u00e0 Santo Janni\",\"loc. Seiano\",\"loc. Tre Stelle\",\"localit\\u00e0 Balignano\",\"localit\\u00e0 Carruba di Riposto\",\"localit\\u00e0 Casonetto\",\"localit\\u00e0 Farra\",\"localit\\u00e0 Mola\",\"localit\\u00e0 Vadaione\",\"Albavilla\",\"Alberobello\",\"Albiate\",\"Albignasego\",\"sestiere Castello 4171\",\"Almenno San Bartolomeo\",\"Alm\\u00e8\",\"sestiere Dorsoduro 366\",\"Badia\",\"strada per Dueville\",\"strada per Passo Tre Croci\",\"localit\\u00e0 Villa di Sal\\u00f2\",\"molo Sant'Antonio\",\"sestiere  Castello 5801\",\"sestiere Castello 3499\",\"sestiere Castello 3886\",\"sestiere Castello 3968\"],\"lat\":[44.2726936,45.7908431,37.06089780000001,45.5845001,45.7640971,45.0142494,45.8182892,40.9108657,45.93443380000001,44.65441819999999,45.5848191,40.9950486,41.1315336,43.5118923,45.505939,43.8365227,43.9596992,43.9308567,40.6108903,44.5758547,45.6171586,43.96402570000001,43.070631,43.3842614,45.1423874,41.9934526,42.2018233,44.98815399999999,44.525391,45.55197,46.1735669,40.8860921,44.3031559,45.5920792,44.7802139,45.5817764,40.7461886,42.0278194,45.9558594,45.66220450000001,44.8315701,46.1660761,45.58396399999999,40.8355304,42.7118251,43.7178972,45.5994272,45.2290261,41.2106842,43.8067912,44.1743048,45.2190746,46.0244631,41.8289225,42.0821378,46.1186941,44.1354054,43.5830644,45.5202806,44.6535671,42.98559110000001,46.64807039999999,44.8275313,45.90134279999999,46.8157552,45.5330152,42.7512036,42.7734026,46.633965,43.9783918,45.5742367,45.664807,45.7268358,44.30947829999999,45.58706160000001,45.8480256,45.6597509,41.5150772,45.5968635,44.4832496,45.9450777,43.9057635,41.9489659,45.6984171,43.43857209999999,40.64812879999999,45.5401399,40.3110134,42.7440262,46.4366567,43.2451024,38.3027016,42.7151275,43.6723848,36.7834487,46.6575256,45.6251914,43.5450616,44.035489,37.6041498,38.1937342,40.0910419,44.5848938,41.7064781,43.8517242,41.7211357,42.8987208,42.6786964,45.5287015,44.8287735,44.3996241,41.7839542,44.1131077,44.9821797,40.8208486,44.812661,41.0720635,45.42299060000001,45.0160324,41.7497932,42.7079274,43.893036,40.793902,44.6383461,45.415988,45.783863,45.4948597,44.91369290000001,46.0423009,44.4285278,45.8016644,45.9790828,43.8181464,41.9460407,45.43581529999999,45.43964829999999,45.5323742,41.1823779,45.9258794,45.6117563,38.733664,45.4439966,43.0295176,45.5662258,43.7746712,45.6961024,45.4379842,45.2427951,41.4085828,44.7343998,45.7975384,44.3506064,40.8754267,43.5611908,46.4301799,45.4035444,44.7854067,45.3992063,46.1398438,40.85450489999999,40.8785023,45.0091382,45.30230299999999,45.3481227,45.690938,44.7231792,43.4022701,45.598223,45.2885374,45.6286325,45.5684333,45.8381438,39.9952066,45.7041528,43.8381487,45.5217777,45.7295289,45.72036900000001,45.80742730000001,45.3934658,45.7517108,45.2178256,44.1636308,43.8573039,44.6258719,46.5700687,45.4853906,44.143342,42.2963538,45.631088,43.55212359999999,46.0326362,42.0720025,43.0987916,44.3956916,43.0588811,45.813234,40.2959722,42.9286195,43.1289962,42.66323269999999,40.8728178,45.74459909999999,40.6555052,45.62078169999999,47.0006594,37.9841066,42.4550072,41.1550579,45.3841474,40.7893347,43.1411051,38.1972894,44.6891592,45.6954532,44.88677089999999,46.5638934,44.3916153,44.7597441,38.67697760000001,39.9271464,45.3984295,41.06350279999999,43.16902899999999,38.0174282,45.84679060000001,46.0099989,44.1822017,42.1045656,40.9198122,45.437565,45.4370514,44.5601257,46.3308645,46.6313653,45.1180804,43.7843087,46.89633930000001,37.6917721,44.2431695,37.60940009999999,38.7137473,45.4797193,45.928985,45.3218787,46.3741807,37.8610417,40.7689829,45.4220727,37.8795711,41.1357649,41.1171432,45.4370514,45.4370514,45.4359735,45.303842,41.5493956,40.6567813,44.705087,44.0868408,37.6899009,45.8111873,45.8141836,42.7610055,46.1522741,45.80219899999999,40.7864993,45.6554057,45.3467535,45.4370514,45.7409119,45.7397649,45.4338782,46.6092482,45.6397301,46.5577778,45.60839199999999,41.1282945,45.4370514,45.4370514,45.4370514,45.4370514],\"legendgroup\":\"\\u20ac\\u20ac\\u20ac\",\"lon\":[9.4094511,6.970942099999999,15.2940941,9.2744485,11.7346898,9.4469947,8.8252083,12.9579459,7.631025500000001,10.7810367,10.5482067,17.2195682,9.535745,13.6214094,10.507172,11.9600316,10.2285242,10.205464,14.3449936,8.094476,8.370914299999999,12.7762121,12.6196732,11.4785416,10.2242395,12.6589431,13.917118,7.757984,7.8994284,10.5611339,12.3592705,14.3944678,9.2097879,12.1120362,9.0168854,9.9433086,14.7704857,13.424805,13.4677301,10.0000327,12.1099556,12.8086984,10.2136365,17.362025,12.2819192,10.9479081,9.9683247,11.6566254,13.5704358,11.2925703,8.3294959,12.2786505,9.0904825,12.9727418,12.4029884,11.2074143,10.0209056,11.3186815,11.016734,7.9923422,13.868349,11.6015134,8.1773519,8.519848999999999,11.8618346,12.6435355,13.9651353,13.6702802,11.1448335,8.1579376,9.027338,9.6294455,12.2525205,9.3444757,10.1535501,8.8393719,10.0495676,12.7564369,8.9181507,10.91083,9.1833911,10.2271503,12.0783697,9.0364492,13.6160653,14.6410022,10.7748784,18.2013692,10.2341099,9.3580523,10.5331028,16.3342643,10.9848064,10.2754365,14.5520266,11.1403926,9.5566047,10.6861892,10.1395361,12.9670864,15.5542088,18.4203263,8.868198699999999,15.9598003,10.6672067,12.6729714,13.3306875,13.9895925,10.538322,8.2574066,11.5897276,14.1080974,8.074649899999999,8.323332599999999,14.7597151,7.9607942,14.3312991,8.9066244,9.1285657,12.6485192,11.9793865,8.045430999999999,17.1258599,8.6434128,11.9537873,12.4937309,9.642188400000002,9.7881556,11.2291021,8.8114707,8.385754,9.0562343,12.2672601,16.0138095,9.3034934,10.686844,9.6716291,9.3810541,8.549917899999999,8.8516777,16.1612356,12.3285677,12.6514059,10.5100694,11.440514,9.5866229,12.335898,12.0236356,13.0441817,7.977478799999999,8.5711515,9.2308589,9.6290238,13.599937,11.685807,10.6294277,8.0625449,10.0101717,12.3607903,17.1204066,14.1453594,10.9801,7.889567700000001,10.3458609,9.439929500000002,11.1018432,13.5538894,10.1047463,9.0893734,12.3747983,9.9998065,13.402031,8.539572999999999,12.4926852,7.8531153,11.3355291,9.7242509,9.5490187,9.0507903,9.2856249,7.6415008,7.634217799999999,12.445223,11.9790343,10.4221736,11.9360615,12.4166562,11.0441303,14.4436075,10.7233906,11.7048733,12.6762483,14.7652204,10.5390583,7.876116400000001,12.4733021,9.5337187,14.9519715,11.5605053,10.6436026,11.5042774,14.4377087,9.6624268,14.6088095,10.0179131,11.5035958,13.6959242,14.1366599,14.4333938,9.0391468,14.3674804,13.8086641,15.350892,8.0869439,9.8404003,8.0752823,11.1695683,8.9762948,7.3135724,15.8973788,18.1612983,11.4607369,15.2519341,11.7755401,12.5364464,9.3613299,9.2838167,8.4024378,14.7059197,14.3073019,12.3298437,12.3414217,11.3542557,9.4815043,11.5393615,7.386395899999999,10.9245061,11.4321473,15.1041151,7.5341881,15.0963515,16.1198699,9.2082364,9.6676661,8.8466726,11.6480041,15.2959233,14.6963188,11.8106367,15.3038792,9.5152077,16.8718715,12.3414217,12.3414217,12.32395,9.5199244,13.8469874,14.4221151,8.0809632,12.3409225,15.1905769,11.9091867,11.8707156,10.385936,10.7678838,9.1880128,17.2408813,9.2486562,11.8677677,12.3414217,9.580963,9.6124951,12.323257,11.8946187,11.5513323,12.2036111,10.5104769,16.8741547,12.3414217,12.3414217,12.3414217,12.3414217],\"marker\":{\"color\":\"#FF97FF\",\"size\":[150,150,150,150,100,100,100,100,100,100,100,100,100,100,100,100,100,100,100,100,100,100,100,100,50,50,50,50,50,50,50,50,50,50,50,50,50,50,50,50,50,50,50,50,50,50,50,50,50,50,50,50,50,50,50,50,50,50,50,50,50,50,50,50,50,50,50,50,50,50,50,50,50,50,50,50,50,50,50,50,50,50,50,50,50,50,50,50,50,50,50,50,50,50,50,50,50,50,50,50,50,50,50,50,50,50,50,50,50,50,50,50,50,50,50,50,50,50,50,50,50,50,50,50,50,50,50,50,50,50,50,50,50,50,50,50,50,50,50,50,50,50,50,50,50,50,50,50,50,50,50,50,50,50,50,50,50,50,50,50,50,50,50,50,50,50,50,50,50,50,50,50,50,50,50,50,50,50,50,50,50,50,50,50,50,50,50,50,50,50,50,50,50,50,50,50,50,50,50,50,50,50,50,50,50,50,50,50,50,50,50,50,50,50,50,50,50,50,50,50,50,50,50,50,50,50,50,50,50,50,50,50,50,50,50,50,50,50,50,50,50,50,50,50,50,50,50,50,50,50,50,50,50,50,50,50,50,50,50,50,50,50,50,50,50,50,50,50,50,50,50,50,50,50,50,50,50,50,50,50,50,50],\"sizemode\":\"area\",\"sizeref\":0.435},\"mode\":\"markers\",\"name\":\"\\u20ac\\u20ac\\u20ac\",\"showlegend\":true,\"subplot\":\"mapbox\",\"type\":\"scattermapbox\"},{\"customdata\":[[1,\"\\u20ac\"],[1,\"\\u20ac\"],[1,\"\\u20ac\"],[1,\"\\u20ac\"],[1,\"\\u20ac\"],[1,\"\\u20ac\"],[1,\"\\u20ac\"],[1,\"\\u20ac\"],[1,\"\\u20ac\"],[1,\"\\u20ac\"],[1,\"\\u20ac\"],[1,\"\\u20ac\"],[1,\"\\u20ac\"],[1,\"\\u20ac\"],[1,\"\\u20ac\"],[1,\"\\u20ac\"],[1,\"\\u20ac\"],[1,\"\\u20ac\"],[1,\"\\u20ac\"],[1,\"\\u20ac\"],[1,\"\\u20ac\"],[1,\"\\u20ac\"],[1,\"\\u20ac\"],[1,\"\\u20ac\"],[1,\"\\u20ac\"],[1,\"\\u20ac\"],[1,\"\\u20ac\"],[1,\"\\u20ac\"],[1,\"\\u20ac\"],[1,\"\\u20ac\"],[1,\"\\u20ac\"],[1,\"\\u20ac\"],[1,\"\\u20ac\"],[1,\"\\u20ac\"],[1,\"\\u20ac\"],[1,\"\\u20ac\"],[1,\"\\u20ac\"],[1,\"\\u20ac\"],[1,\"\\u20ac\"],[1,\"\\u20ac\"],[1,\"\\u20ac\"],[1,\"\\u20ac\"],[1,\"\\u20ac\"],[1,\"\\u20ac\"],[1,\"\\u20ac\"],[1,\"\\u20ac\"],[1,\"\\u20ac\"],[1,\"\\u20ac\"],[1,\"\\u20ac\"],[1,\"\\u20ac\"],[1,\"\\u20ac\"],[1,\"\\u20ac\"],[1,\"\\u20ac\"],[1,\"\\u20ac\"],[1,\"\\u20ac\"],[1,\"\\u20ac\"],[1,\"\\u20ac\"],[1,\"\\u20ac\"],[1,\"\\u20ac\"],[1,\"\\u20ac\"],[1,\"\\u20ac\"],[1,\"\\u20ac\"],[1,\"\\u20ac\"],[1,\"\\u20ac\"],[1,\"\\u20ac\"],[1,\"\\u20ac\"],[1,\"\\u20ac\"],[1,\"\\u20ac\"],[1,\"\\u20ac\"],[1,\"\\u20ac\"],[1,\"\\u20ac\"],[1,\"\\u20ac\"],[1,\"\\u20ac\"],[1,\"\\u20ac\"],[1,\"\\u20ac\"],[1,\"\\u20ac\"],[1,\"\\u20ac\"],[1,\"\\u20ac\"],[1,\"\\u20ac\"],[1,\"\\u20ac\"],[1,\"\\u20ac\"],[1,\"\\u20ac\"],[1,\"\\u20ac\"],[1,\"\\u20ac\"],[1,\"\\u20ac\"],[1,\"\\u20ac\"],[1,\"\\u20ac\"],[1,\"\\u20ac\"],[1,\"\\u20ac\"],[1,\"\\u20ac\"],[1,\"\\u20ac\"],[1,\"\\u20ac\"],[1,\"\\u20ac\"],[1,\"\\u20ac\"],[1,\"\\u20ac\"],[1,\"\\u20ac\"],[1,\"\\u20ac\"],[1,\"\\u20ac\"],[1,\"\\u20ac\"],[1,\"\\u20ac\"],[1,\"\\u20ac\"],[1,\"\\u20ac\"],[1,\"\\u20ac\"],[1,\"\\u20ac\"],[1,\"\\u20ac\"]],\"hovertemplate\":\"\\u003cb\\u003e%{hovertext}\\u003c\\u002fb\\u003e\\u003cbr\\u003e\\u003cbr\\u003eprice_ranges=%{customdata[1]}\\u003cbr\\u003eadjusted_restaurant_count=%{marker.size}\\u003cbr\\u003elatitude=%{lat}\\u003cbr\\u003elongitude=%{lon}\\u003cbr\\u003erestaurant_count=%{customdata[0]}\\u003cextra\\u003e\\u003c\\u002fextra\\u003e\",\"hovertext\":[\"Altamura\",\"localit\\u00e0 Montenero d'Orcia\",\"localit\\u00e0 San Leucio\",\"Fagnano\",\"Cuorgn\\u00e8\",\"Cutigliano\",\"Diolo\",\"Chiusi\",\"Gaione\",\"Fossombrone\",\"Grazie\",\"Gaibana\",\"Kiens\",\"Cerignola\",\"Lama Mocogno\",\"Imperia\",\"Ceglie Messapica\",\"Loc. Mongardino Grotta\",\"Lavello\",\"Cavazzo Carnico\",\"Manoppello Scalo\",\"Mariano del Friuli\",\"Castiglione del Lago\",\"Masio\",\"Minervino Murge\",\"Mirano\",\"Castelnovo di Baganzola\",\"Montebenichi\",\"Arcugnano\",\"Argelato\",\"Montefiorino\",\"Monteu Roero\",\"Montichiari\",\"Montoggio\",\"Monsummano Terme\",\"Caramanico Terme\",\"Mosciano Sant'Angelo\",\"Mutignano\",\"Montemarciano\",\"Cassino\",\"Nizza Monferrato\",\"Nocera Superiore\",\"Novafeltria\",\"Ospedaletto d'Alpinolo\",\"Pacentro\",\"Carnello\",\"Carr\\u00f9\",\"Casaglia\",\"Capriata d'Orba\",\"Cagli\",\"Piadena\",\"Pieve San Giacomo\",\"Pigna\",\"Cannara\",\"Rastignano\",\"Campogalliano\",\"Recorfano\",\"Rivisondoli\",\"Roletto\",\"Rotonda\",\"Anghiari\",\"San Giorgio della Richinvelda\",\"San Giorgio di Valpolicella\",\"SS 303 verso Rocchetta Sant'Antonio\",\"Sala Baganza\",\"San Nicola Manfredi\",\"San Pancrazio\",\"Sansepolcro\",\"Brindisi\",\"Sant'Anna\",\"Santa Maria Annunziata\",\"Sernaglia della Battaglia\",\"Sarturano\",\"Belluno\",\"Bianzone\",\"Suzzara\",\"Soiano del Lago\",\"Bracca\",\"Baveno\",\"Teglio\",\"Terranova di Pollino\",\"Soverato\",\"Baldichieri d'Asti\",\"Barbian\",\"Torre del Lago Puccini\",\"Trecchina\",\"Bagnolo in Piano\",\"Valdieri\",\"Traversella\",\"Varzi\",\"Tricesimo\",\"Vicomero di Torrile\",\"Venosa\",\"Viceno\",\"contrada Raviola\",\"Villa San Giovanni\",\"ang. via Piemonte 23\",\"loc. Pietra dei Correnti\",\"localit\\u00e0 Canezza di Pergine\",\"localit\\u00e0 Entr\\u00e0\",\"localit\\u00e0 Malgolo\",\"localit\\u00e0 Marina di Pisciotta\",\"localit\\u00e0 Marzaglia\",\"Acri\",\"Badia di Dulzago\"],\"lat\":[40.8242586,42.9447565,41.074783,45.41759829999999,45.3912639,44.1014499,44.9621754,43.0155536,44.75911190000001,43.6896904,45.15448079999999,44.7527698,46.80620380000001,41.2656157,44.30725289999999,43.8897316,40.64432740000001,44.4176182,41.0460439,46.3684573,42.3080965,45.9176487,43.12645759999999,44.8695921,41.0859578,45.4911263,44.8579255,43.4043594,45.5006119,44.6419781,44.3570268,44.7810382,45.4148475,44.5141233,43.8691886,42.1579107,42.7482054,42.5893197,43.6396585,41.4918944,44.7756816,40.7395766,43.8949192,40.9393842,42.0514326,41.6871218,44.4794728,43.3506455,44.7283871,43.545959,45.1303051,45.1274162,43.9322494,42.9961524,44.4431313,44.6917129,45.1038944,41.8726422,44.9252536,39.9533176,43.5401125,46.04644870000001,45.534736,41.0870413,44.7157867,41.0720214,46.5861665,43.5725642,40.6327732,43.9747017,43.7320948,45.87270669999999,44.97423920000001,46.14163749999999,46.1871717,44.9914101,45.5302081,45.8241257,45.9100105,46.1722263,39.9792772,38.687333,44.9054459,46.6038108,43.8325305,40.0261551,44.76225520000001,44.2774016,45.5091672,44.82344699999999,46.1618566,44.886014,40.9607672,46.232795,40.8661237,38.2123062,45.3669829,44.5185323,46.0782739,44.831685,46.37995249999999,40.1050409,44.6505349,39.4891857,45.5491664],\"legendgroup\":\"\\u20ac\",\"lon\":[16.5525957,11.4737969,14.7574903,8.995924,7.6501927,10.7543315,10.1485229,11.9462371,10.292223,12.8109979,10.6951221,11.6551241,11.835862,15.8936429,10.7318611,8.0393482,17.517997,11.211119,15.7941154,13.0398883,14.0616191,13.4578222,12.047941,8.4081349,16.0773508,12.116217,10.3076288,11.5451099,11.535509,11.3489105,10.6220558,7.932541100000001,10.3927713,9.0445493,10.8145646,14.0017517,13.8882869,14.0380303,13.3095003,13.831909,8.3603966,14.6715754,12.2887765,14.7431023,13.993041,13.6064008,7.8769661,10.6629774,8.690317799999999,12.6503845,10.3667139,10.1866905,7.6643853,12.5850652,11.3584229,10.844234,10.3444281,14.0675106,7.3309749,16.0379505,12.0521271,12.8690665,10.8496125,15.4875044,10.2317329,14.8242878,11.0866126,12.1381166,17.9418724,10.2731578,11.3056435,12.131844,9.5085653,12.2148261,10.1082278,10.7451252,10.5105586,9.7079122,8.5052456,10.0669709,16.2958275,16.5500558,8.0907067,11.5205337,10.2754836,15.7776982,10.6734975,7.396672799999998,7.750406000000001,9.1978786,13.2107094,10.3248066,15.815423,8.307133199999999,14.7728334,15.6371722,7.615304,9.1517058,11.2769764,11.1875066,11.0914385,15.2288388,10.8041451,16.3826297,8.612909799999999],\"marker\":{\"color\":\"#FECB52\",\"size\":[50,50,50,50,50,50,50,50,50,50,50,50,50,50,50,50,50,50,50,50,50,50,50,50,50,50,50,50,50,50,50,50,50,50,50,50,50,50,50,50,50,50,50,50,50,50,50,50,50,50,50,50,50,50,50,50,50,50,50,50,50,50,50,50,50,50,50,50,50,50,50,50,50,50,50,50,50,50,50,50,50,50,50,50,50,50,50,50,50,50,50,50,50,50,50,50,50,50,50,50,50,50,50,50,50],\"sizemode\":\"area\",\"sizeref\":0.435},\"mode\":\"markers\",\"name\":\"\\u20ac\",\"showlegend\":true,\"subplot\":\"mapbox\",\"type\":\"scattermapbox\"}],                        {\"template\":{\"data\":{\"histogram2dcontour\":[{\"type\":\"histogram2dcontour\",\"colorbar\":{\"outlinewidth\":0,\"ticks\":\"\"},\"colorscale\":[[0.0,\"#0d0887\"],[0.1111111111111111,\"#46039f\"],[0.2222222222222222,\"#7201a8\"],[0.3333333333333333,\"#9c179e\"],[0.4444444444444444,\"#bd3786\"],[0.5555555555555556,\"#d8576b\"],[0.6666666666666666,\"#ed7953\"],[0.7777777777777778,\"#fb9f3a\"],[0.8888888888888888,\"#fdca26\"],[1.0,\"#f0f921\"]]}],\"choropleth\":[{\"type\":\"choropleth\",\"colorbar\":{\"outlinewidth\":0,\"ticks\":\"\"}}],\"histogram2d\":[{\"type\":\"histogram2d\",\"colorbar\":{\"outlinewidth\":0,\"ticks\":\"\"},\"colorscale\":[[0.0,\"#0d0887\"],[0.1111111111111111,\"#46039f\"],[0.2222222222222222,\"#7201a8\"],[0.3333333333333333,\"#9c179e\"],[0.4444444444444444,\"#bd3786\"],[0.5555555555555556,\"#d8576b\"],[0.6666666666666666,\"#ed7953\"],[0.7777777777777778,\"#fb9f3a\"],[0.8888888888888888,\"#fdca26\"],[1.0,\"#f0f921\"]]}],\"heatmap\":[{\"type\":\"heatmap\",\"colorbar\":{\"outlinewidth\":0,\"ticks\":\"\"},\"colorscale\":[[0.0,\"#0d0887\"],[0.1111111111111111,\"#46039f\"],[0.2222222222222222,\"#7201a8\"],[0.3333333333333333,\"#9c179e\"],[0.4444444444444444,\"#bd3786\"],[0.5555555555555556,\"#d8576b\"],[0.6666666666666666,\"#ed7953\"],[0.7777777777777778,\"#fb9f3a\"],[0.8888888888888888,\"#fdca26\"],[1.0,\"#f0f921\"]]}],\"heatmapgl\":[{\"type\":\"heatmapgl\",\"colorbar\":{\"outlinewidth\":0,\"ticks\":\"\"},\"colorscale\":[[0.0,\"#0d0887\"],[0.1111111111111111,\"#46039f\"],[0.2222222222222222,\"#7201a8\"],[0.3333333333333333,\"#9c179e\"],[0.4444444444444444,\"#bd3786\"],[0.5555555555555556,\"#d8576b\"],[0.6666666666666666,\"#ed7953\"],[0.7777777777777778,\"#fb9f3a\"],[0.8888888888888888,\"#fdca26\"],[1.0,\"#f0f921\"]]}],\"contourcarpet\":[{\"type\":\"contourcarpet\",\"colorbar\":{\"outlinewidth\":0,\"ticks\":\"\"}}],\"contour\":[{\"type\":\"contour\",\"colorbar\":{\"outlinewidth\":0,\"ticks\":\"\"},\"colorscale\":[[0.0,\"#0d0887\"],[0.1111111111111111,\"#46039f\"],[0.2222222222222222,\"#7201a8\"],[0.3333333333333333,\"#9c179e\"],[0.4444444444444444,\"#bd3786\"],[0.5555555555555556,\"#d8576b\"],[0.6666666666666666,\"#ed7953\"],[0.7777777777777778,\"#fb9f3a\"],[0.8888888888888888,\"#fdca26\"],[1.0,\"#f0f921\"]]}],\"surface\":[{\"type\":\"surface\",\"colorbar\":{\"outlinewidth\":0,\"ticks\":\"\"},\"colorscale\":[[0.0,\"#0d0887\"],[0.1111111111111111,\"#46039f\"],[0.2222222222222222,\"#7201a8\"],[0.3333333333333333,\"#9c179e\"],[0.4444444444444444,\"#bd3786\"],[0.5555555555555556,\"#d8576b\"],[0.6666666666666666,\"#ed7953\"],[0.7777777777777778,\"#fb9f3a\"],[0.8888888888888888,\"#fdca26\"],[1.0,\"#f0f921\"]]}],\"mesh3d\":[{\"type\":\"mesh3d\",\"colorbar\":{\"outlinewidth\":0,\"ticks\":\"\"}}],\"scatter\":[{\"fillpattern\":{\"fillmode\":\"overlay\",\"size\":10,\"solidity\":0.2},\"type\":\"scatter\"}],\"parcoords\":[{\"type\":\"parcoords\",\"line\":{\"colorbar\":{\"outlinewidth\":0,\"ticks\":\"\"}}}],\"scatterpolargl\":[{\"type\":\"scatterpolargl\",\"marker\":{\"colorbar\":{\"outlinewidth\":0,\"ticks\":\"\"}}}],\"bar\":[{\"error_x\":{\"color\":\"#2a3f5f\"},\"error_y\":{\"color\":\"#2a3f5f\"},\"marker\":{\"line\":{\"color\":\"#E5ECF6\",\"width\":0.5},\"pattern\":{\"fillmode\":\"overlay\",\"size\":10,\"solidity\":0.2}},\"type\":\"bar\"}],\"scattergeo\":[{\"type\":\"scattergeo\",\"marker\":{\"colorbar\":{\"outlinewidth\":0,\"ticks\":\"\"}}}],\"scatterpolar\":[{\"type\":\"scatterpolar\",\"marker\":{\"colorbar\":{\"outlinewidth\":0,\"ticks\":\"\"}}}],\"histogram\":[{\"marker\":{\"pattern\":{\"fillmode\":\"overlay\",\"size\":10,\"solidity\":0.2}},\"type\":\"histogram\"}],\"scattergl\":[{\"type\":\"scattergl\",\"marker\":{\"colorbar\":{\"outlinewidth\":0,\"ticks\":\"\"}}}],\"scatter3d\":[{\"type\":\"scatter3d\",\"line\":{\"colorbar\":{\"outlinewidth\":0,\"ticks\":\"\"}},\"marker\":{\"colorbar\":{\"outlinewidth\":0,\"ticks\":\"\"}}}],\"scattermapbox\":[{\"type\":\"scattermapbox\",\"marker\":{\"colorbar\":{\"outlinewidth\":0,\"ticks\":\"\"}}}],\"scatterternary\":[{\"type\":\"scatterternary\",\"marker\":{\"colorbar\":{\"outlinewidth\":0,\"ticks\":\"\"}}}],\"scattercarpet\":[{\"type\":\"scattercarpet\",\"marker\":{\"colorbar\":{\"outlinewidth\":0,\"ticks\":\"\"}}}],\"carpet\":[{\"aaxis\":{\"endlinecolor\":\"#2a3f5f\",\"gridcolor\":\"white\",\"linecolor\":\"white\",\"minorgridcolor\":\"white\",\"startlinecolor\":\"#2a3f5f\"},\"baxis\":{\"endlinecolor\":\"#2a3f5f\",\"gridcolor\":\"white\",\"linecolor\":\"white\",\"minorgridcolor\":\"white\",\"startlinecolor\":\"#2a3f5f\"},\"type\":\"carpet\"}],\"table\":[{\"cells\":{\"fill\":{\"color\":\"#EBF0F8\"},\"line\":{\"color\":\"white\"}},\"header\":{\"fill\":{\"color\":\"#C8D4E3\"},\"line\":{\"color\":\"white\"}},\"type\":\"table\"}],\"barpolar\":[{\"marker\":{\"line\":{\"color\":\"#E5ECF6\",\"width\":0.5},\"pattern\":{\"fillmode\":\"overlay\",\"size\":10,\"solidity\":0.2}},\"type\":\"barpolar\"}],\"pie\":[{\"automargin\":true,\"type\":\"pie\"}]},\"layout\":{\"autotypenumbers\":\"strict\",\"colorway\":[\"#636efa\",\"#EF553B\",\"#00cc96\",\"#ab63fa\",\"#FFA15A\",\"#19d3f3\",\"#FF6692\",\"#B6E880\",\"#FF97FF\",\"#FECB52\"],\"font\":{\"color\":\"#2a3f5f\"},\"hovermode\":\"closest\",\"hoverlabel\":{\"align\":\"left\"},\"paper_bgcolor\":\"white\",\"plot_bgcolor\":\"#E5ECF6\",\"polar\":{\"bgcolor\":\"#E5ECF6\",\"angularaxis\":{\"gridcolor\":\"white\",\"linecolor\":\"white\",\"ticks\":\"\"},\"radialaxis\":{\"gridcolor\":\"white\",\"linecolor\":\"white\",\"ticks\":\"\"}},\"ternary\":{\"bgcolor\":\"#E5ECF6\",\"aaxis\":{\"gridcolor\":\"white\",\"linecolor\":\"white\",\"ticks\":\"\"},\"baxis\":{\"gridcolor\":\"white\",\"linecolor\":\"white\",\"ticks\":\"\"},\"caxis\":{\"gridcolor\":\"white\",\"linecolor\":\"white\",\"ticks\":\"\"}},\"coloraxis\":{\"colorbar\":{\"outlinewidth\":0,\"ticks\":\"\"}},\"colorscale\":{\"sequential\":[[0.0,\"#0d0887\"],[0.1111111111111111,\"#46039f\"],[0.2222222222222222,\"#7201a8\"],[0.3333333333333333,\"#9c179e\"],[0.4444444444444444,\"#bd3786\"],[0.5555555555555556,\"#d8576b\"],[0.6666666666666666,\"#ed7953\"],[0.7777777777777778,\"#fb9f3a\"],[0.8888888888888888,\"#fdca26\"],[1.0,\"#f0f921\"]],\"sequentialminus\":[[0.0,\"#0d0887\"],[0.1111111111111111,\"#46039f\"],[0.2222222222222222,\"#7201a8\"],[0.3333333333333333,\"#9c179e\"],[0.4444444444444444,\"#bd3786\"],[0.5555555555555556,\"#d8576b\"],[0.6666666666666666,\"#ed7953\"],[0.7777777777777778,\"#fb9f3a\"],[0.8888888888888888,\"#fdca26\"],[1.0,\"#f0f921\"]],\"diverging\":[[0,\"#8e0152\"],[0.1,\"#c51b7d\"],[0.2,\"#de77ae\"],[0.3,\"#f1b6da\"],[0.4,\"#fde0ef\"],[0.5,\"#f7f7f7\"],[0.6,\"#e6f5d0\"],[0.7,\"#b8e186\"],[0.8,\"#7fbc41\"],[0.9,\"#4d9221\"],[1,\"#276419\"]]},\"xaxis\":{\"gridcolor\":\"white\",\"linecolor\":\"white\",\"ticks\":\"\",\"title\":{\"standoff\":15},\"zerolinecolor\":\"white\",\"automargin\":true,\"zerolinewidth\":2},\"yaxis\":{\"gridcolor\":\"white\",\"linecolor\":\"white\",\"ticks\":\"\",\"title\":{\"standoff\":15},\"zerolinecolor\":\"white\",\"automargin\":true,\"zerolinewidth\":2},\"scene\":{\"xaxis\":{\"backgroundcolor\":\"#E5ECF6\",\"gridcolor\":\"white\",\"linecolor\":\"white\",\"showbackground\":true,\"ticks\":\"\",\"zerolinecolor\":\"white\",\"gridwidth\":2},\"yaxis\":{\"backgroundcolor\":\"#E5ECF6\",\"gridcolor\":\"white\",\"linecolor\":\"white\",\"showbackground\":true,\"ticks\":\"\",\"zerolinecolor\":\"white\",\"gridwidth\":2},\"zaxis\":{\"backgroundcolor\":\"#E5ECF6\",\"gridcolor\":\"white\",\"linecolor\":\"white\",\"showbackground\":true,\"ticks\":\"\",\"zerolinecolor\":\"white\",\"gridwidth\":2}},\"shapedefaults\":{\"line\":{\"color\":\"#2a3f5f\"}},\"annotationdefaults\":{\"arrowcolor\":\"#2a3f5f\",\"arrowhead\":0,\"arrowwidth\":1},\"geo\":{\"bgcolor\":\"white\",\"landcolor\":\"#E5ECF6\",\"subunitcolor\":\"white\",\"showland\":true,\"showlakes\":true,\"lakecolor\":\"white\"},\"title\":{\"x\":0.05},\"mapbox\":{\"style\":\"light\"}}},\"mapbox\":{\"domain\":{\"x\":[0.0,1.0],\"y\":[0.0,1.0]},\"center\":{\"lat\":43.87317329720339,\"lon\":11.438397754745763},\"zoom\":5,\"style\":\"open-street-map\"},\"legend\":{\"title\":{\"text\":\"price_ranges\"},\"tracegroupgap\":0,\"itemsizing\":\"constant\"},\"title\":{\"text\":\"Distribution of restaurants by city and their price ranges\"},\"height\":600,\"margin\":{\"r\":0,\"t\":50,\"l\":0,\"b\":0}},                        {\"responsive\": true}                    ).then(function(){\n",
       "                            \n",
       "var gd = document.getElementById('a8bbe217-ee3a-4970-b454-f490a67f0bec');\n",
       "var x = new MutationObserver(function (mutations, observer) {{\n",
       "        var display = window.getComputedStyle(gd).display;\n",
       "        if (!display || display === 'none') {{\n",
       "            console.log([gd, 'removed!']);\n",
       "            Plotly.purge(gd);\n",
       "            observer.disconnect();\n",
       "        }}\n",
       "}});\n",
       "\n",
       "// Listen for the removal of the full notebook cells\n",
       "var notebookContainer = gd.closest('#notebook-container');\n",
       "if (notebookContainer) {{\n",
       "    x.observe(notebookContainer, {childList: true});\n",
       "}}\n",
       "\n",
       "// Listen for the clearing of the current output cell\n",
       "var outputEl = gd.closest('.output');\n",
       "if (outputEl) {{\n",
       "    x.observe(outputEl, {childList: true});\n",
       "}}\n",
       "\n",
       "                        })                };                });            </script>        </div>"
      ]
     },
     "metadata": {},
     "output_type": "display_data"
    }
   ],
   "execution_count": 68
  },
  {
   "metadata": {},
   "cell_type": "markdown",
   "source": "### ***Plot Top-K Restaurants:***\n",
   "id": "2f9a74025132c9fc"
  },
  {
   "metadata": {},
   "cell_type": "code",
   "outputs": [],
   "execution_count": null,
   "source": "",
   "id": "c30021523e61f32c"
  }
 ],
 "metadata": {
  "kernelspec": {
   "display_name": "base",
   "language": "python",
   "name": "python3"
  },
  "language_info": {
   "codemirror_mode": {
    "name": "ipython",
    "version": 3
   },
   "file_extension": ".py",
   "mimetype": "text/x-python",
   "name": "python",
   "nbconvert_exporter": "python",
   "pygments_lexer": "ipython3",
   "version": "3.12.2"
  }
 },
 "nbformat": 4,
 "nbformat_minor": 5
}
