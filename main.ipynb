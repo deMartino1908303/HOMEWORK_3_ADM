{
 "cells": [
  {
   "cell_type": "code",
   "execution_count": null,
   "id": "initial_id",
   "metadata": {
    "collapsed": true
   },
   "outputs": [],
   "source": [
    "# setting up the workplace\n",
    "import pandas as pd\n",
    "\n",
    "from functions import description_cleaner, vocabulary_creator, reverse_index_creator\n",
    "\n",
    "from engine import non_ranked_engine\n",
    "\n",
    "restaurants_df = pd.read_csv(\"restaurants_i.tsv\", sep=\"\\t\", header = 0)"
   ]
  },
  {
   "cell_type": "markdown",
   "id": "e99a8d15",
   "metadata": {},
   "source": [
    "### ***Main preprocessing***"
   ]
  },
  {
   "cell_type": "code",
   "execution_count": null,
   "id": "516daa23",
   "metadata": {},
   "outputs": [],
   "source": [
    "# Extract the 'description' column from the DataFrame, which contains restaurant descriptions\n",
    "restournats_descriptions = restaurants_df.description\n",
    "\n",
    "# Clean and preprocess the restaurant descriptions using the custom description_cleaner function\n",
    "parsed_descriptions = description_cleaner(restournats_descriptions)\n",
    "\n",
    "# Create a vocabulary and convert descriptions into numerical IDs using the vocabulary_creator function\n",
    "# The function returns a list of IDs for each description, a vocabulary dictionary, and the total number of words\n",
    "ID_descritpion, vocabulary, tot_n_of_words = vocabulary_creator(parsed_descriptions)\n",
    "\n",
    "# Create a reverse index from the numerical IDs of words to document IDs using reverse_index_creator\n",
    "reverse_index = reverse_index_creator(ID_descritpion)\n",
    "\n",
    "# Save the vocabulary (word-to-ID mapping) to a CSV file for future use\n",
    "pd.Series(vocabulary).to_csv(\"vocabulary.csv\", index=True, encoding=\"utf-8\", header=False)\n"
   ]
  },
  {
   "cell_type": "markdown",
   "id": "458b2fbf",
   "metadata": {},
   "source": [
    "### ***Not ranked serch engine***"
   ]
  },
  {
   "cell_type": "code",
   "execution_count": null,
   "id": "dea40826",
   "metadata": {},
   "outputs": [
    {
     "name": "stdout",
     "output_type": "stream",
     "text": [
      "We found 41 matches!\n",
      "\n",
      "╭─────────────────────────┬───────────────────────────┬───────────────────────────┬───────────────────────────╮\n",
      "│ Restaurant Name         │ Address                   │ Description               │ Website                   │\n",
      "├─────────────────────────┼───────────────────────────┼───────────────────────────┼───────────────────────────┤\n",
      "│ Casin del Gamba         │ via Roccolo Pizzati 1     │ The journey to get here – │ https://www.casindelgamba │\n",
      "│                         │                           │ a winding road throug...  │ .it/                      │\n",
      "├─────────────────────────┼───────────────────────────┼───────────────────────────┼───────────────────────────┤\n",
      "│ San Giorgio             │ viale Brigate Bisagno 69r │ Situated in the city      │ https://www.ristorantesan │\n",
      "│                         │                           │ albeit not right in the   │ giorgiogenova.it/         │\n",
      "│                         │                           │ ce...                     │                           │\n",
      "├─────────────────────────┼───────────────────────────┼───────────────────────────┼───────────────────────────┤\n",
      "│ Saporium                │ località Palazzetto 110   │ Saporium is the new fine- │ http://www.saporium.com/i │\n",
      "│                         │                           │ dining restaurant at t... │ t/borgo-santo.pietro/     │\n",
      "├─────────────────────────┼───────────────────────────┼───────────────────────────┼───────────────────────────┤\n",
      "│ Le Vie del Borgo        │ via alla Piazza 6         │ Le Vie del Borgo is       │ https://www.leviedelborgo │\n",
      "│                         │                           │ situated in a restored    │ guesthouse.it/            │\n",
      "│                         │                           │ rust...                   │                           │\n",
      "├─────────────────────────┼───────────────────────────┼───────────────────────────┼───────────────────────────┤\n",
      "│ Osteria del Miglio 2.10 │ via Patrioti 2            │ Although the town may not │ nan                       │\n",
      "│                         │                           │ be of major importanc...  │                           │\n",
      "╰─────────────────────────┴───────────────────────────┴───────────────────────────┴───────────────────────────╯\n"
     ]
    }
   ],
   "source": [
    "# Initialize a flag (done) to control the while loop for searching\n",
    "done = False\n",
    "\n",
    "# Example query for testing the non-ranked search engine\n",
    "sample_input = \"modern seasonal cuisine\"\n",
    "\n",
    "# Loop for querying the search engine until the search is completed\n",
    "while (not done):\n",
    "    # Uncomment the next line to enable user input\n",
    "    # sample_input = input(\"what do you want to eat?\\n\")\n",
    "    \n",
    "    # Call the non_ranked_engine function with the input query, the restaurant DataFrame,\n",
    "    # the vocabulary, and the reverse index to find matching restaurants\n",
    "    done = non_ranked_engine(sample_input, restaurants_df, vocabulary, reverse_index)"
   ]
  },
  {
   "cell_type": "markdown",
   "id": "cc806b9e",
   "metadata": {},
   "source": [
    "### ***Computing TF-IDF***"
   ]
  },
  {
   "cell_type": "code",
   "execution_count": null,
   "id": "c912f6de",
   "metadata": {},
   "outputs": [],
   "source": []
  }
 ],
 "metadata": {
  "kernelspec": {
   "display_name": "base",
   "language": "python",
   "name": "python3"
  },
  "language_info": {
   "codemirror_mode": {
    "name": "ipython",
    "version": 3
   },
   "file_extension": ".py",
   "mimetype": "text/x-python",
   "name": "python",
   "nbconvert_exporter": "python",
   "pygments_lexer": "ipython3",
   "version": "3.12.2"
  }
 },
 "nbformat": 4,
 "nbformat_minor": 5
}
