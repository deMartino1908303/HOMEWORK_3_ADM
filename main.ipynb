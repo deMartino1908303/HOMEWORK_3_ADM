{
 "cells": [
  {
   "cell_type": "code",
   "execution_count": 3,
   "id": "initial_id",
   "metadata": {
    "collapsed": true
   },
   "outputs": [
    {
     "name": "stderr",
     "output_type": "stream",
     "text": [
      "[nltk_data] Downloading package stopwords to\n",
      "[nltk_data]     C:\\Users\\Xxqas\\AppData\\Roaming\\nltk_data...\n",
      "[nltk_data]   Package stopwords is already up-to-date!\n"
     ]
    }
   ],
   "source": [
    "import pandas as pd\n",
    "from bs4 import BeautifulSoup\n",
    "import re\n",
    "import nltk\n",
    "from nltk.stem import PorterStemmer\n",
    "from nltk.corpus import stopwords\n",
    "from functions import description_cleaner, vocabulary_creator, reverse_index_creator\n",
    "nltk.download('stopwords')\n",
    "\n",
    "restaurants_df = pd.read_csv(\"restaurants_i.tsv\", sep=\"\\t\", header = 0)"
   ]
  },
  {
   "cell_type": "code",
   "execution_count": 4,
   "id": "516daa23",
   "metadata": {},
   "outputs": [],
   "source": [
    "restournats_descriptions = restaurants_df.description[0:2]\n",
    "\n",
    "parsed_descriptions = description_cleaner(restournats_descriptions)\n",
    "\n",
    "ID_descritpion, vocab, tot_n_of_words = vocabulary_creator(parsed_descriptions)\n",
    "\n",
    "reverse_index = reverse_index_creator(ID_descritpion)\n",
    "\n",
    "pd.Series(vocab).to_csv(\"vocabulary.csv\", index=True, encoding=\"utf-8\", header= False)\n"
   ]
  },
  {
   "cell_type": "markdown",
   "id": "dea40826",
   "metadata": {},
   "source": [
    "\n",
    "\n",
    "\n"
   ]
  },
  {
   "cell_type": "code",
   "execution_count": null,
   "id": "b41fdd09",
   "metadata": {},
   "outputs": [],
   "source": []
  }
 ],
 "metadata": {
  "kernelspec": {
   "display_name": "base",
   "language": "python",
   "name": "python3"
  },
  "language_info": {
   "codemirror_mode": {
    "name": "ipython",
    "version": 3
   },
   "file_extension": ".py",
   "mimetype": "text/x-python",
   "name": "python",
   "nbconvert_exporter": "python",
   "pygments_lexer": "ipython3",
   "version": "3.12.2"
  }
 },
 "nbformat": 4,
 "nbformat_minor": 5
}
